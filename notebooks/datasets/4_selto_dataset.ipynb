{
 "cells": [
  {
   "cell_type": "code",
   "execution_count": null,
   "id": "fb6acabe-ae3a-43d5-ae46-dc99133df15d",
   "metadata": {},
   "outputs": [],
   "source": [
    "#default_exp datasets"
   ]
  },
  {
   "cell_type": "code",
   "execution_count": null,
   "id": "2306f3ee-fe86-4d9c-b451-825939327411",
   "metadata": {},
   "outputs": [],
   "source": [
    "#export\n",
    "import os\n",
    "import shutil\n",
    "import requests\n",
    "import tarfile\n",
    "import torch\n",
    "from dl4to.datasets import CSVDataset"
   ]
  },
  {
   "cell_type": "markdown",
   "id": "181ea485-5b17-4f01-b823-de1bbebeb318",
   "metadata": {},
   "source": [
    "# SELTO dataset"
   ]
  },
  {
   "cell_type": "code",
   "execution_count": null,
   "id": "ef3a44e7-28ef-4605-aca1-35f62a2114a8",
   "metadata": {},
   "outputs": [],
   "source": [
    "#export\n",
    "class SELTODataset(CSVDataset):\n",
    "    \"\"\"\n",
    "    A class for downloading, generating and importing the SELTO datasets [1].\n",
    "    \"\"\"\n",
    "    def __init__(\n",
    "        self, \n",
    "        root:str, # The root directory in which the datasets should be downloaded, generated and accessed.\n",
    "        name:str, # The name of the dataset that should be downloaded.\n",
    "        train:bool=True, # Whether the training or validation dataset should be generated.\n",
    "        size:int=-1, # The size of the dataset. If `size=-1`, then the whole dataset is imported. Useful if only subsets of the original dataset are needed.\n",
    "        download:bool=True, # Whether the dataset should be downloaded, if needed.\n",
    "        verbose:bool=True, # Whether to give the user feedback on the progress.\n",
    "        dtype:torch.dtype=torch.float32, # The datatype into which the values from the csv files are converted.\n",
    "        pde_solver:\"dl4to.pde.PDESolver\"=None, # The PDE solver that is used to solve the PDE for linear elasticity. Only has an effect if either `solve_pde_for_trivial_solution=True` or `solve_pde_for_gt_solution=True`.\n",
    "        solve_pde_for_trivial_solution:bool=False, # Whether to solve the PDE for each trivial solution and save the displacements in the solution object. These can later be accessed via `problem.trivial_solution.u`. This is useful if PDE preprocessing is used. Requires a PDE solver.\n",
    "        solve_pde_for_gt_solution:bool=False # Whether to solve the PDE for each ground truth and save the displacements in the solution object. These can later be accessed via `gt_solution.u`. Requires a PDE solver.\n",
    "    ):\n",
    "        super().__init__(root=root, \n",
    "                         name=name, \n",
    "                         train=train, \n",
    "                         size=size, \n",
    "                         download=True, \n",
    "                         verbose=verbose, \n",
    "                         dtype=dtype, \n",
    "                         pde_solver=pde_solver, \n",
    "                         solve_pde_for_trivial_solution=solve_pde_for_trivial_solution, \n",
    "                         solve_pde_for_gt_solution=solve_pde_for_gt_solution)\n",
    "\n",
    "\n",
    "    def _get_gz_file_paths_dict(self):\n",
    "        return {\n",
    "            'disc_simple_train': 'https://zenodo.org/record/7781392/files/disc_simple_train.tar.gz?download=1',\n",
    "            'disc_simple_test': 'https://zenodo.org/record/7781392/files/disc_simple_test.tar.gz?download=1',\n",
    "            'disc_complex_train': 'https://zenodo.org/record/7781392/files/disc_complex_train.tar.gz?download=1',\n",
    "            'disc_complex_test': 'https://zenodo.org/record/7781392/files/disc_complex_test.tar.gz?download=1',\n",
    "            'sphere_simple_train': 'https://zenodo.org/record/7781392/files/sphere_simple_train.tar.gz?download=1',\n",
    "            'sphere_simple_test': 'https://zenodo.org/record/7781392/files/sphere_simple_test.tar.gz?download=1',\n",
    "            'sphere_complex_train': 'https://zenodo.org/record/7781392/files/sphere_complex_train.tar.gz?download=1',\n",
    "            'sphere_complex_test': 'https://zenodo.org/record/7781392/files/sphere_complex_test.tar.gz?download=1'\n",
    "        }"
   ]
  },
  {
   "cell_type": "markdown",
   "id": "97207f17-c09c-4f5d-b82c-046ab537c4b5",
   "metadata": {},
   "source": [
    "# References"
   ]
  },
  {
   "cell_type": "markdown",
   "id": "6e87444b-6ff1-4fb6-a903-6d7c678dedd3",
   "metadata": {},
   "source": [
    "[1] Dittmer, Sören, Erzmann, David, Harms, Henrik, Falck, Rielson, & Gosch, Marco. (2023). SELTO Dataset [Data set]. Zenodo. https://doi.org/10.5281/zenodo.7781392"
   ]
  }
 ],
 "metadata": {
  "kernelspec": {
   "display_name": "Python 3 (ipykernel)",
   "language": "python",
   "name": "python3"
  }
 },
 "nbformat": 4,
 "nbformat_minor": 5
}
