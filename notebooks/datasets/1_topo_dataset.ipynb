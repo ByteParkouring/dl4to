{
 "cells": [
  {
   "cell_type": "code",
   "execution_count": null,
   "id": "2001830c",
   "metadata": {},
   "outputs": [],
   "source": [
    "#default_exp datasets"
   ]
  },
  {
   "cell_type": "code",
   "execution_count": null,
   "id": "9e7ea336",
   "metadata": {},
   "outputs": [],
   "source": [
    "#exporti\n",
    "import os\n",
    "import torch\n",
    "from torch.utils.data import Dataset\n",
    "from torch.utils.data import random_split\n",
    "from tqdm import tqdm\n",
    "import warnings\n",
    "import random\n",
    "from typing import Union"
   ]
  },
  {
   "cell_type": "code",
   "execution_count": null,
   "id": "95a2d0a4-974c-4c8b-8627-5fbac1a555c3",
   "metadata": {},
   "outputs": [],
   "source": [
    "#hide\n",
    "from nbdev.showdoc import show_doc"
   ]
  },
  {
   "cell_type": "markdown",
   "id": "0565fd39-5395-4ad4-b508-4b27d2ef3de3",
   "metadata": {},
   "source": [
    "# Topo dataset"
   ]
  },
  {
   "cell_type": "code",
   "execution_count": null,
   "id": "40aee43e-8908-4acb-959e-ad3d1d0b71f7",
   "metadata": {},
   "outputs": [],
   "source": [
    "#export\n",
    "class TopoDataset(Dataset):\n",
    "    \"\"\"\n",
    "    A class for the generation of datasets. TopoDataset inherits from `torch.utils.data.Dataset`, so all functionalities from PyTorch are also available here.\n",
    "    \"\"\"\n",
    "    def __init__(self, \n",
    "                 dataset:list=[], # A list containing either only problems or tuples `(problem, gt_solution)` of problems and corresponding ground truth solutions. By default, `dataset=[]`, so the dataset is empty. However, it can still be changed later via `TopoDataset.dataset=...`.\n",
    "                 name:str=None, # The name of the dataset.\n",
    "                 verbose:bool=True # Whether to give the user feedback on the progress.\n",
    "                ):\n",
    "        self.dataset = dataset\n",
    "        self.name = name\n",
    "        self.verbose = verbose\n",
    "\n",
    "\n",
    "    @property\n",
    "    def dataset(self):\n",
    "        return self._dataset\n",
    "\n",
    "\n",
    "    @dataset.setter\n",
    "    def dataset(self, dataset_):\n",
    "        self._dataset = dataset_\n",
    "        self._size = len(dataset_)\n",
    "\n",
    "\n",
    "    @property\n",
    "    def size(self):\n",
    "        return self._size\n",
    "\n",
    "\n",
    "    def __len__(self):\n",
    "        \"\"\"\n",
    "        Returns the size of `self.dataset`.\n",
    "        \"\"\"\n",
    "        return len(self.dataset)\n",
    "\n",
    "\n",
    "    def __getitem__(self,\n",
    "                    idx:int # The index for which `(problem, gt_solution)` should be returned.\n",
    "                   ):\n",
    "        \"\"\"\n",
    "        Returns the tuple `(problem, gt_solution)` for index `idx`.\n",
    "        \"\"\"\n",
    "        if idx >= len(self):\n",
    "            raise IndexError(f\"Could not find dataset entry with index {idx}.\")\n",
    "        return self.dataset[idx]\n",
    "\n",
    "\n",
    "    def _build_empty_topo_dataset_with_same_attributes(self):\n",
    "        topo_dataset = TopoDataset(verbose=False)\n",
    "        topo_dataset.name = self.name\n",
    "        return topo_dataset\n",
    "\n",
    "\n",
    "    def get_samples(self,\n",
    "                    n:int=-1, # The number of samples that should be returned. The default choice `n=-1` returns all samples from the dataset.\n",
    "                    shuffle:bool=True, # Whether to take the samples from a shuffled dataset. If `False`, then the first samples from the dataset are taken.\n",
    "                    seed:int=42 # The random seed for the shuffling\n",
    "                   ):\n",
    "        \"\"\"\n",
    "        Returns a tuple of lists `(problems, gt_solutions)` of length `n`.\n",
    "        \"\"\"\n",
    "        if n == -1:\n",
    "            n = len(self)\n",
    "        else:\n",
    "            n = min(len(self), n)\n",
    "\n",
    "        if shuffle:\n",
    "            random.seed(seed)\n",
    "            samples = random.sample(self.dataset, n)\n",
    "        else:\n",
    "            samples = self.dataset[:n]\n",
    "\n",
    "        return tuple(zip(*samples[:]))\n",
    "\n",
    "\n",
    "    def get_problems(self,\n",
    "                    n:int=-1, # The number of problems that should be returned. The default choice `n=-1` returns all problems from the dataset.\n",
    "                    shuffle:bool=True, # Whether to take the problems from a shuffled dataset. If `False`, then the first problems from the dataset are taken.\n",
    "                    seed:int=42 # The random seed for the shuffling\n",
    "                   ):\n",
    "        \"\"\"\n",
    "        Returns a list of length `n` which contains problems from the dataset.\n",
    "        \"\"\"\n",
    "        samples = self.get_samples(n=n, shuffle=shuffle, seed=seed)\n",
    "        if len(samples) > 0:\n",
    "            return samples[0]\n",
    "\n",
    "\n",
    "    def get_gt_solutions(self,\n",
    "                    n:int=-1, # The number of ground truth solutions that should be returned. The default choice `n=-1` returns all solutions from the dataset.\n",
    "                    shuffle:bool=True, # Whether to take the solutions from a shuffled dataset. If `False`, then the first solutions from the dataset are taken.\n",
    "                    seed:int=42 # The random seed for the shuffling\n",
    "                        ):\n",
    "        \"\"\"\n",
    "        Returns a list of length `n` which contains ground truth solutions from the dataset.\n",
    "        \"\"\"\n",
    "        samples = self.get_samples(n=n, shuffle=shuffle, seed=seed)\n",
    "        if len(samples) > 1:\n",
    "            return samples[1]\n",
    "\n",
    "\n",
    "    def get_subset(self,\n",
    "                   size:int, # The size of the returned topo dataset.\n",
    "                   shuffle=True, # Whether to take the samples from a shuffled dataset. If `False`, then the first samples from the dataset are taken.\n",
    "                   seed=42, # The random seed for the shuffling\n",
    "                   invert_order=False # Whether the last samples should be taken (instead of the first samples). Only has an effect if `shuffle=False`.\n",
    "                  ):\n",
    "        \"\"\"\n",
    "        Returns a new `dl4to.dataset.TopoDataset` object with a subset of `size` samples from the original dataset.\n",
    "        \"\"\"\n",
    "        if shuffle:\n",
    "            random.seed(seed)\n",
    "            dataset = random.sample(self.dataset, len(self.dataset))\n",
    "        else:\n",
    "            dataset = self.dataset\n",
    "\n",
    "        topo_dataset = self._build_empty_topo_dataset_with_same_attributes()\n",
    "        if invert_order:\n",
    "            topo_dataset.dataset = dataset[-size:]\n",
    "        else:\n",
    "            topo_dataset.dataset = dataset[:size]\n",
    "        topo_dataset._size = len(topo_dataset.dataset)\n",
    "        return topo_dataset\n",
    "\n",
    "\n",
    "    def info(self):\n",
    "        \"\"\"\n",
    "        Prints basic information concerning the dataset.\n",
    "        \"\"\"\n",
    "        print(f\"This TopoDataset is called {self.name} and contains {len(self)} samples.\")\n",
    "\n",
    "\n",
    "    def __add__(self, \n",
    "                dataset:Union[\"dl4to.dataset.TopoDataset\",list] # The dataset that is added to this one. If `dataset` is a list, then the samples in the list are added to the current dataset.\n",
    "               ):\n",
    "        \"\"\"\n",
    "        Adding up two datasets results in a new dataset object that contains the samples from both original datasets. \n",
    "        \"\"\"\n",
    "        if issubclass(type(dataset), TopoDataset):\n",
    "            return CombinedTopoDataset(self, dataset)\n",
    "        if type(dataset) == list:\n",
    "            self.dataset += dataset\n",
    "            return self\n",
    "        raise AttributeError(\"dataset must be either a list or a TopoDataset object.\")"
   ]
  },
  {
   "cell_type": "code",
   "execution_count": null,
   "id": "18bd0638-4620-4e3a-88ee-9fb3de5d93e8",
   "metadata": {},
   "outputs": [
    {
     "data": {
      "text/markdown": [
       "<h4 id=\"TopoDataset.__len__\" class=\"doc_header\"><code>TopoDataset.__len__</code><a href=\"__main__.py#L32\" class=\"source_link\" style=\"float:right\">[source]</a></h4>\n",
       "\n",
       "> <code>TopoDataset.__len__</code>()\n",
       "\n",
       "Returns the size of `self.dataset`."
      ],
      "text/plain": [
       "<IPython.core.display.Markdown object>"
      ]
     },
     "metadata": {},
     "output_type": "display_data"
    }
   ],
   "source": [
    "show_doc(TopoDataset.__len__)"
   ]
  },
  {
   "cell_type": "code",
   "execution_count": null,
   "id": "84cca2e7-cf9b-4fdd-a960-6ddd88c7a6d6",
   "metadata": {},
   "outputs": [
    {
     "data": {
      "text/markdown": [
       "<h4 id=\"TopoDataset.__getitem__\" class=\"doc_header\"><code>TopoDataset.__getitem__</code><a href=\"__main__.py#L39\" class=\"source_link\" style=\"float:right\">[source]</a></h4>\n",
       "\n",
       "> <code>TopoDataset.__getitem__</code>(**`idx`**:`int`)\n",
       "\n",
       "Returns the tuple `(problem, gt_solution)` for index `idx`.\n",
       "\n",
       "||Type|Default|Details|\n",
       "|---|---|---|---|\n",
       "|**`idx`**|`int`||The index for which `(problem, gt_solution)` should be returned.|\n"
      ],
      "text/plain": [
       "<IPython.core.display.Markdown object>"
      ]
     },
     "metadata": {},
     "output_type": "display_data"
    }
   ],
   "source": [
    "show_doc(TopoDataset.__getitem__)"
   ]
  },
  {
   "cell_type": "code",
   "execution_count": null,
   "id": "fad414cf-7aaf-446f-b097-21c01fe9293c",
   "metadata": {},
   "outputs": [
    {
     "data": {
      "text/markdown": [
       "<h4 id=\"TopoDataset.get_samples\" class=\"doc_header\"><code>TopoDataset.get_samples</code><a href=\"__main__.py#L56\" class=\"source_link\" style=\"float:right\">[source]</a></h4>\n",
       "\n",
       "> <code>TopoDataset.get_samples</code>(**`n`**:`int`=*`-1`*, **`shuffle`**:`bool`=*`True`*, **`seed`**:`int`=*`42`*)\n",
       "\n",
       "Returns a tuple of lists `(problems, gt_solutions)` of length `n`.\n",
       "\n",
       "||Type|Default|Details|\n",
       "|---|---|---|---|\n",
       "|**`n`**|`int`|`-1`|The number of samples that should be returned. The default choice `n=-1` returns all samples from the dataset.|\n",
       "|**`shuffle`**|`bool`|`True`|Whether to take the samples from a shuffled dataset. If `False`, then the first samples from the dataset are taken.|\n",
       "|**`seed`**|`int`|`42`|The random seed for the shuffling|\n"
      ],
      "text/plain": [
       "<IPython.core.display.Markdown object>"
      ]
     },
     "metadata": {},
     "output_type": "display_data"
    }
   ],
   "source": [
    "show_doc(TopoDataset.get_samples)"
   ]
  },
  {
   "cell_type": "code",
   "execution_count": null,
   "id": "ad0ab279-4523-4371-82ba-48b7d45f8c34",
   "metadata": {},
   "outputs": [
    {
     "data": {
      "text/markdown": [
       "<h4 id=\"TopoDataset.get_problems\" class=\"doc_header\"><code>TopoDataset.get_problems</code><a href=\"__main__.py#L78\" class=\"source_link\" style=\"float:right\">[source]</a></h4>\n",
       "\n",
       "> <code>TopoDataset.get_problems</code>(**`n`**:`int`=*`-1`*, **`shuffle`**:`bool`=*`True`*, **`seed`**:`int`=*`42`*)\n",
       "\n",
       "Returns a list of length `n` which contains problems from the dataset.\n",
       "\n",
       "||Type|Default|Details|\n",
       "|---|---|---|---|\n",
       "|**`n`**|`int`|`-1`|The number of problems that should be returned. The default choice `n=-1` returns all problems from the dataset.|\n",
       "|**`shuffle`**|`bool`|`True`|Whether to take the problems from a shuffled dataset. If `False`, then the first problems from the dataset are taken.|\n",
       "|**`seed`**|`int`|`42`|The random seed for the shuffling|\n"
      ],
      "text/plain": [
       "<IPython.core.display.Markdown object>"
      ]
     },
     "metadata": {},
     "output_type": "display_data"
    }
   ],
   "source": [
    "show_doc(TopoDataset.get_problems)"
   ]
  },
  {
   "cell_type": "code",
   "execution_count": null,
   "id": "d3621f7f-a549-4b5d-a185-fc43ff38558f",
   "metadata": {},
   "outputs": [
    {
     "data": {
      "text/markdown": [
       "<h4 id=\"TopoDataset.get_gt_solutions\" class=\"doc_header\"><code>TopoDataset.get_gt_solutions</code><a href=\"__main__.py#L91\" class=\"source_link\" style=\"float:right\">[source]</a></h4>\n",
       "\n",
       "> <code>TopoDataset.get_gt_solutions</code>(**`n`**:`int`=*`-1`*, **`shuffle`**:`bool`=*`True`*, **`seed`**:`int`=*`42`*)\n",
       "\n",
       "Returns a list of length `n` which contains ground truth solutions from the dataset.\n",
       "\n",
       "||Type|Default|Details|\n",
       "|---|---|---|---|\n",
       "|**`n`**|`int`|`-1`|The number of ground truth solutions that should be returned. The default choice `n=-1` returns all solutions from the dataset.|\n",
       "|**`shuffle`**|`bool`|`True`|Whether to take the solutions from a shuffled dataset. If `False`, then the first solutions from the dataset are taken.|\n",
       "|**`seed`**|`int`|`42`|The random seed for the shuffling|\n"
      ],
      "text/plain": [
       "<IPython.core.display.Markdown object>"
      ]
     },
     "metadata": {},
     "output_type": "display_data"
    }
   ],
   "source": [
    "show_doc(TopoDataset.get_gt_solutions)"
   ]
  },
  {
   "cell_type": "code",
   "execution_count": null,
   "id": "ec14da75-aad5-42b4-a11a-716d4193977e",
   "metadata": {},
   "outputs": [
    {
     "data": {
      "text/markdown": [
       "<h4 id=\"TopoDataset.get_subset\" class=\"doc_header\"><code>TopoDataset.get_subset</code><a href=\"__main__.py#L104\" class=\"source_link\" style=\"float:right\">[source]</a></h4>\n",
       "\n",
       "> <code>TopoDataset.get_subset</code>(**`size`**:`int`, **`shuffle`**=*`True`*, **`seed`**=*`42`*, **`invert_order`**=*`False`*)\n",
       "\n",
       "Returns a new `dl4to.dataset.TopoDataset` object with a subset of `size` samples from the original dataset.\n",
       "\n",
       "||Type|Default|Details|\n",
       "|---|---|---|---|\n",
       "|**`size`**|`int`||The size of the returned topo dataset.|\n",
       "|**`shuffle`**|`bool`|`True`|Whether to take the samples from a shuffled dataset. If `False`, then the first samples from the dataset are taken.|\n",
       "|**`seed`**|`int`|`42`|The random seed for the shuffling|\n",
       "|**`invert_order`**|`bool`|`False`|Whether the last samples should be taken (instead of the first samples). Only has an effect if `shuffle=False`.|\n"
      ],
      "text/plain": [
       "<IPython.core.display.Markdown object>"
      ]
     },
     "metadata": {},
     "output_type": "display_data"
    }
   ],
   "source": [
    "show_doc(TopoDataset.get_subset)"
   ]
  },
  {
   "cell_type": "code",
   "execution_count": null,
   "id": "d7f4d642-51ab-4fff-ad95-2ee34f663af5",
   "metadata": {},
   "outputs": [
    {
     "data": {
      "text/markdown": [
       "<h4 id=\"TopoDataset.info\" class=\"doc_header\"><code>TopoDataset.info</code><a href=\"__main__.py#L128\" class=\"source_link\" style=\"float:right\">[source]</a></h4>\n",
       "\n",
       "> <code>TopoDataset.info</code>()\n",
       "\n",
       "Prints basic information concerning the dataset."
      ],
      "text/plain": [
       "<IPython.core.display.Markdown object>"
      ]
     },
     "metadata": {},
     "output_type": "display_data"
    }
   ],
   "source": [
    "show_doc(TopoDataset.info)"
   ]
  },
  {
   "cell_type": "code",
   "execution_count": null,
   "id": "21c32a37-9430-4cae-ab99-1361f4f9a2bc",
   "metadata": {},
   "outputs": [
    {
     "data": {
      "text/markdown": [
       "<h4 id=\"TopoDataset.__add__\" class=\"doc_header\"><code>TopoDataset.__add__</code><a href=\"__main__.py#L135\" class=\"source_link\" style=\"float:right\">[source]</a></h4>\n",
       "\n",
       "> <code>TopoDataset.__add__</code>(**`dataset`**:`Union`\\[`ForwardRef('dl4to.dataset.TopoDataset')`, `list`\\])\n",
       "\n",
       "Adding up two datasets results in a new dataset object that contains the samples from both original datasets. \n",
       "\n",
       "||Type|Default|Details|\n",
       "|---|---|---|---|\n",
       "|**`dataset`**|`typing.Union[ForwardRef('dl4to.dataset.TopoDataset'), list]`||The dataset that is added to this one. If `dataset` is a list, then the samples in the list are added to the current dataset.|\n"
      ],
      "text/plain": [
       "<IPython.core.display.Markdown object>"
      ]
     },
     "metadata": {},
     "output_type": "display_data"
    }
   ],
   "source": [
    "show_doc(TopoDataset.__add__)"
   ]
  },
  {
   "cell_type": "code",
   "execution_count": null,
   "id": "0710d0fc-868d-481b-8952-59595bf22cd7",
   "metadata": {},
   "outputs": [],
   "source": [
    "#export\n",
    "class CombinedTopoDataset(TopoDataset):\n",
    "    \"\"\"\n",
    "    A class that results from the summation of two topo datasets.\n",
    "    \"\"\"\n",
    "    def __init__(self, \n",
    "                 dataset1:\"dl4to.dataset.TopoDataset\", # The first dataset of the summation.\n",
    "                 dataset2:\"dl4to.dataset.TopoDataset\", # The second dataset of the summation.\n",
    "                ):\n",
    "        self._size = dataset1.size + dataset2.size\n",
    "        self.name = f'{dataset1.name}_plus_{dataset2.name}'\n",
    "        self.verbose = dataset1.verbose\n",
    "\n",
    "        self.topo_dataset1 = dataset1\n",
    "        self.topo_dataset2 = dataset2\n",
    "\n",
    "        self.dataset1_ratio = len(self.topo_dataset1) / len(self)\n",
    "\n",
    "        if self.verbose != dataset2.verbose:\n",
    "            self.verbose = True\n",
    "            warnings.warn(f\"`verbose` attribute of the two datasets does not coincide. Automatically setting `verbose=True`.\")\n",
    "        if self.verbose:\n",
    "            from_dataset1 = len(self.topo_dataset1)*[1] + len(self.topo_dataset2)*[0]\n",
    "            print(f\"Created combined dataset. {sum(from_dataset1)} of the samples (={100*self.dataset1_ratio:.2f}%) are from the first passed dataset (total: {len(self)} samples).\")\n",
    "\n",
    "\n",
    "    @property\n",
    "    def dataset(self):\n",
    "        return self.topo_dataset1.dataset + self.topo_dataset2.dataset\n",
    "\n",
    "\n",
    "    def get_subset(self,\n",
    "                   size:int, # The size of the returned topo dataset.\n",
    "                   shuffle:bool=True, # Whether the dataset should be shuffled. If `False`, then the first samples from both datasets are taken.\n",
    "                   seed:int=42, # The random seed for the shuffling.\n",
    "                   balanced:bool=True # Whether the ratio between `dataset1` and `dataset2` should be maintained in the subset.\n",
    "                  ):\n",
    "        \"\"\"\n",
    "        Returns an instance of `dl4to.dataset.TopoDataset` with a subset of `size` samples from the original dataset. \n",
    "        \"\"\"\n",
    "        if not balanced:\n",
    "            return super().get_subset(size=size, shuffle=shuffle, seed=seed)\n",
    "\n",
    "        size_dataset1 = round(size * self.dataset1_ratio)\n",
    "        size_dataset2 = size - size_dataset1\n",
    "        if shuffle:\n",
    "            random.seed(seed)\n",
    "            dataset1 = random.sample(self.topo_dataset1.dataset, len(size_dataset1))\n",
    "            random.seed(seed)\n",
    "            dataset2 = random.sample(self.topo_dataset2.dataset, len(size_dataset2))\n",
    "        else:\n",
    "            dataset1 = self.topo_dataset1.dataset[:len(size_dataset1)]\n",
    "            dataset2 = self.topo_dataset2.dataset[:len(size_dataset2)]\n",
    "        topo_dataset = self._build_empty_topo_dataset_with_same_attributes()\n",
    "        topo_dataset.dataset = dataset1 + dataset2\n",
    "        return topo_dataset"
   ]
  },
  {
   "cell_type": "code",
   "execution_count": null,
   "id": "6590aa02-1753-4637-b97b-209413427846",
   "metadata": {},
   "outputs": [
    {
     "data": {
      "text/markdown": [
       "<h4 id=\"CombinedTopoDataset.get_subset\" class=\"doc_header\"><code>CombinedTopoDataset.get_subset</code><a href=\"__main__.py#L32\" class=\"source_link\" style=\"float:right\">[source]</a></h4>\n",
       "\n",
       "> <code>CombinedTopoDataset.get_subset</code>(**`size`**, **`seed`**=*`42`*, **`balanced`**=*`True`*)\n",
       "\n",
       "Returns an instance of `dl4to.dataset.TopoDataset` with a subset of `size` samples from the original dataset. \n",
       "\n",
       "||Type|Default|Details|\n",
       "|---|---|---|---|\n",
       "|**`size`**|||The size of the returned topo dataset.|\n",
       "|**`seed`**|`int`|`42`|The random seed for the shuffling.|\n",
       "|**`balanced`**|`bool`|`True`|Whether the ratio between `dataset1` and `dataset2` should be maintained in the subset.|\n"
      ],
      "text/plain": [
       "<IPython.core.display.Markdown object>"
      ]
     },
     "metadata": {},
     "output_type": "display_data"
    }
   ],
   "source": [
    "show_doc(CombinedTopoDataset.get_subset)"
   ]
  }
 ],
 "metadata": {
  "kernelspec": {
   "display_name": "Python 3 (ipykernel)",
   "language": "python",
   "name": "python3"
  }
 },
 "nbformat": 4,
 "nbformat_minor": 5
}
