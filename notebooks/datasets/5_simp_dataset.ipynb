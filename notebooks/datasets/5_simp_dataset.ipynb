{
 "cells": [
  {
   "cell_type": "code",
   "execution_count": null,
   "id": "857e5280-3a8f-4328-860a-0fa6c17ff2ea",
   "metadata": {},
   "outputs": [],
   "source": [
    "#default_exp datasets"
   ]
  },
  {
   "cell_type": "code",
   "execution_count": null,
   "id": "7759a99e-eb10-4c1d-bb9e-e8f02c8dbbef",
   "metadata": {},
   "outputs": [],
   "source": [
    "#exporti\n",
    "import torch\n",
    "import numpy as np\n",
    "from copy import deepcopy\n",
    "from collections import defaultdict\n",
    "\n",
    "from dl4to.datasets import TopoDataset"
   ]
  },
  {
   "cell_type": "markdown",
   "id": "c2c15877-2efd-4cae-bc03-0dd9c65d731b",
   "metadata": {},
   "source": [
    "# SIMP dataset"
   ]
  },
  {
   "cell_type": "code",
   "execution_count": null,
   "id": "18b86bbf-8f49-4e3a-b8d1-b1dde7159bde",
   "metadata": {},
   "outputs": [],
   "source": [
    "#export\n",
    "\n",
    "class SIMPDataset(TopoDataset):\n",
    "    def __init__(self, problems, simp, name=None, verbose=True):\n",
    "        self.problems = problems\n",
    "        self.simp = simp\n",
    "        assert self.simp.return_intermediate_solutions == True\n",
    "        dataset = self._generate_dataset()\n",
    "        super().__init__(dataset=dataset,\n",
    "                         name=name, \n",
    "                         verbose=verbose)\n",
    "\n",
    "\n",
    "    def _generate_dataset(self):\n",
    "        self.list_of_problems_and_orig_solution_indices = defaultdict(list)\n",
    "        dataset = []\n",
    "        i_problem = 0\n",
    "        for problem in self.problems:\n",
    "            dataset.append((problem,  0.*problem.trivial_solution))\n",
    "            dataset.append((problem, 0.5*problem.trivial_solution))\n",
    "            solutions = self.simp(problems_or_solutions=problem)\n",
    "            for solution in solutions:\n",
    "                dataset.append((problem, solution.detach()))\n",
    "                self.list_of_problems_and_orig_solution_indices[i_problem].append(len(dataset)-1)\n",
    "            i_problem += 1\n",
    "        return dataset\n",
    "\n",
    "\n",
    "    def augment(self, pde_solver, max_augmentation_per_problem=5, threshold=1e-3):\n",
    "        problems_ = deepcopy(self.problems)\n",
    "        for i_problem, problem in enumerate(problems_):\n",
    "            old_pde_solver = self.problems[i_problem].pde_solver\n",
    "            problem.pde_solver = pde_solver\n",
    "            augmentation_counter = 0\n",
    "            simp_correct_counter = 0\n",
    "            simp_deviations = []\n",
    "            first_error = 0\n",
    "            solutions = self.simp(problems_or_solutions=problem)\n",
    "            solutions_to_add_to_dataset = []\n",
    "            for i_solution, solution in enumerate(solutions):\n",
    "                if augmentation_counter < max_augmentation_per_problem:\n",
    "                    solution._θ = solution._θ.detach()\n",
    "                    orig_simp_solution = self.dataset[self.list_of_problems_and_orig_solution_indices[i_problem][i_solution]][1]\n",
    "                    simp_deviation = (solution._θ[problem.Ω_design==-1] - orig_simp_solution._θ[problem.Ω_design==-1]).abs().mean()\n",
    "                    simp_deviations.append(simp_deviation.item())\n",
    "                    if simp_deviation > threshold:\n",
    "                        if augmentation_counter == 0:\n",
    "                            first_error = simp_deviation\n",
    "                        solutions_to_add_to_dataset.append(solution)\n",
    "                        augmentation_counter += 1\n",
    "                    else:\n",
    "                        simp_correct_counter += 1\n",
    "                else:\n",
    "                    break\n",
    "            problem.pde_solver = old_pde_solver\n",
    "            for solution in solutions_to_add_to_dataset:\n",
    "                solution.pde_solver = old_pde_solver\n",
    "                solution.problem.pde_solver = old_pde_solver\n",
    "                solution.u_current_θ = None\n",
    "                self.dataset.append((solution.problem, solution))\n",
    "            self._size += augmentation_counter\n",
    "            print(f\"Problem {i_problem}: {simp_correct_counter} correct SIMP iterations (next iteration had an error of {first_error:.3f}).\")\n",
    "            print(simp_deviations)\n",
    "            print(f\"Augmented dataset by {augmentation_counter} samples.\")"
   ]
  }
 ],
 "metadata": {
  "kernelspec": {
   "display_name": "Python 3 (ipykernel)",
   "language": "python",
   "name": "python3"
  }
 },
 "nbformat": 4,
 "nbformat_minor": 5
}
