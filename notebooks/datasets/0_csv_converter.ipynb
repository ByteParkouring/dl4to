{
 "cells": [
  {
   "cell_type": "code",
   "execution_count": null,
   "id": "2001830c",
   "metadata": {},
   "outputs": [],
   "source": [
    "#default_exp datasets"
   ]
  },
  {
   "cell_type": "code",
   "execution_count": null,
   "id": "9e7ea336",
   "metadata": {},
   "outputs": [],
   "source": [
    "#exporti\n",
    "import os\n",
    "import torch\n",
    "import numpy as np\n",
    "import pandas as pd\n",
    "import warnings\n",
    "from tqdm import tqdm\n",
    "\n",
    "from dl4to.problem import Problem\n",
    "from dl4to.solution import Solution"
   ]
  },
  {
   "cell_type": "code",
   "execution_count": null,
   "id": "f6d04d86-5200-4ff5-ab88-c5aeef03fc09",
   "metadata": {},
   "outputs": [],
   "source": [
    "#hide\n",
    "from nbdev.showdoc import show_doc"
   ]
  },
  {
   "cell_type": "markdown",
   "id": "0db24bbf-e916-4f54-ae9c-289a06178caa",
   "metadata": {},
   "source": [
    "# CSV converter"
   ]
  },
  {
   "cell_type": "code",
   "execution_count": null,
   "id": "9667be89-b4f0-448e-8d60-c64ce1ecba01",
   "metadata": {},
   "outputs": [],
   "source": [
    "#export\n",
    "class CSVConverter():\n",
    "    \"\"\"\n",
    "    The purpose of the CSVConverter class is to convert csv files into TO problems. For each problem there should be two csv files:\n",
    "    one that contains all voxel-wise information (forces, design space, Dirichlet conditions and ground truth densities) and one \"_info\" file that contains all scalar information (Young's modulus E, Poisson's ratio ν, yield stress σ_ys and voxel size h).\n",
    "    The names of the files should start with 0 and increase, so the files for the first sample are \"0.csv\" and \"0_info.csv\", the files for the second sample are \"1.csv\" and \"1_info.csv\" and so one. For more information on the exact formating we refer to\n",
    "    the SELTO datasets [1].\n",
    "    \"\"\"\n",
    "    def __init__(\n",
    "        self,\n",
    "        csv_dir_path:str, # The path to the directory that contains files named as \"i.pt\" and \"i_info.pt\" where i is an integer, starting at i=0 for the first sample.\n",
    "        dtype:torch.dtype=torch.float32, # The datatype into which the values from the csv files are converted.\n",
    "        verbose:bool=True, # Whether to give the user feedback on the progress.\n",
    "        pde_solver:\"pd4to.pde.PDESolver\"=None, # The pde solver that is used to solve the PDE for linear elasticity. Only has an effect if either `solve_pde_for_trivial_solution=True` or `solve_pde_for_gt_solution=True`.\n",
    "        solve_pde_for_trivial_solution:bool=False, # Whether to solve the PDE for each trivial solution and save the displacements in the solution object. These can later be accessed via `problem.trivial_solution.u`. This is useful if PDE preprocessing is used. Requires a pde solver.\n",
    "        solve_pde_for_gt_solution:bool=False # Whether to solve the PDE for each ground truth and save the displacements in the solution object. These can later be accessed via `gt_solution.u`. Requires a pde solver.\n",
    "    ):\n",
    "        self._csv_dir_path = csv_dir_path\n",
    "        self._dtype = dtype\n",
    "        self.verbose = verbose\n",
    "        self.solve_pde_for_trivial_solution = solve_pde_for_trivial_solution\n",
    "        self.solve_pde_for_gt_solution = solve_pde_for_gt_solution\n",
    "        self.pde_solver = pde_solver\n",
    "        self.column_names = [\n",
    "            'x', 'y', 'z',\n",
    "            'design_space',\n",
    "            'dirichlet_x', 'dirichlet_y', 'dirichlet_z',\n",
    "            'force_x', 'force_y', 'force_z', 'density'\n",
    "        ]\n",
    "\n",
    "\n",
    "    @property\n",
    "    def csv_dir_path(self):\n",
    "        return self._csv_dir_path\n",
    "\n",
    "\n",
    "    @property\n",
    "    def dtype(self):\n",
    "        return self._dtype\n",
    "\n",
    "\n",
    "    @property\n",
    "    def size(self):\n",
    "        return self._size\n",
    "\n",
    "\n",
    "    def __len__(self):\n",
    "        \"\"\"\n",
    "        Returns the number of file pairs `(i.csv, i_info.csv)` that are contained in `self.csv_dir_path`.\n",
    "        \"\"\"\n",
    "        csv_files = os.listdir(self.csv_dir_path)\n",
    "        n_csv_files = 0\n",
    "\n",
    "        for csv_file in csv_files:\n",
    "            if not 'info' in csv_file:\n",
    "                n_csv_files += 1\n",
    "        return n_csv_files\n",
    "\n",
    "\n",
    "    def __getitem__(self,\n",
    "                    idx:int # The index for which `(problem, gt_solution)` should be returned.\n",
    "                   ):\n",
    "        \"\"\"\n",
    "        Returns the tuple `(problem, gt_solution)` for index `idx`.\n",
    "        \"\"\"\n",
    "        data = self._get_data_array(idx)\n",
    "        shape, voxels = self._get_shape_and_voxels(data)\n",
    "        E, ν, σ_ys, h = self._get_data_info(shape, idx)\n",
    "        F, Ω_dirichlet, Ω_design = self._get_forces_boundary_conditions_and_design_space(data, shape, voxels)\n",
    "        θ = self._get_θ(data, shape, voxels)\n",
    "\n",
    "        problem = Problem(\n",
    "            E=E, ν=ν, σ_ys=σ_ys, h=h,\n",
    "            Ω_dirichlet=Ω_dirichlet, \n",
    "            Ω_design=Ω_design, \n",
    "            F=F, \n",
    "            pde_solver=self.pde_solver, \n",
    "            name=f\"problem_{idx}\",\n",
    "            dtype=self.dtype)\n",
    "\n",
    "        if self.solve_pde_for_trivial_solution:\n",
    "            _ = problem.trivial_solution.solve_pde()\n",
    "\n",
    "        gt_solution = Solution(\n",
    "            problem=problem,\n",
    "            θ=θ\n",
    "        )\n",
    "\n",
    "        if self.solve_pde_for_gt_solution:\n",
    "            _ = gt_solution.solve_pde(binary=True)\n",
    "\n",
    "        return problem, gt_solution\n",
    "\n",
    "\n",
    "    def _get_data_info(self, shape, i):\n",
    "        file_path = f'{self.csv_dir_path}/{i}_info.csv'\n",
    "        data_info_column_names = ['E', 'ν', 'σ_ys', 'h']\n",
    "        data_info = pd.read_csv(file_path,  names=data_info_column_names)\n",
    "        E = data_info['E'].item()\n",
    "        ν = data_info['ν'].item()\n",
    "        σ_ys = data_info['σ_ys'].item()\n",
    "        h = data_info['h'].item()\n",
    "        return E, ν, σ_ys, [h, h, h]\n",
    "\n",
    "\n",
    "    def _get_data_array(self, i):\n",
    "        data = pd.read_csv(f'{self.csv_dir_path}/{i}.csv', names=self.column_names)\n",
    "        return data\n",
    "\n",
    "\n",
    "    def _get_shape_and_voxels(self, data):\n",
    "        shape = data[['x', 'y', 'z']].iloc[-1].values.astype(int) + 1\n",
    "        vox_x = data['x'].values\n",
    "        vox_y = data['y'].values\n",
    "        vox_z = data['z'].values\n",
    "        voxels = [vox_x, vox_y, vox_z]\n",
    "        return shape, voxels\n",
    "\n",
    "\n",
    "    def _get_forces_boundary_conditions_and_design_space(self, data, shape, voxels):\n",
    "        F = torch.zeros(3, *shape, dtype=self.dtype)\n",
    "        F[0, voxels[0], voxels[1], voxels[2]] = torch.tensor(data['force_x'].values, dtype=self.dtype)\n",
    "        F[1, voxels[0], voxels[1], voxels[2]] = torch.tensor(data['force_y'].values, dtype=self.dtype)\n",
    "        F[2, voxels[0], voxels[1], voxels[2]] = torch.tensor(data['force_z'].values, dtype=self.dtype)\n",
    "\n",
    "        Ω_dirichlet = torch.zeros(3, *shape, dtype=self.dtype)\n",
    "        Ω_dirichlet[0, voxels[0], voxels[1], voxels[2]] = torch.tensor(data['dirichlet_x'].values, dtype=self.dtype)\n",
    "        Ω_dirichlet[1, voxels[0], voxels[1], voxels[2]] = torch.tensor(data['dirichlet_y'].values, dtype=self.dtype)\n",
    "        Ω_dirichlet[2, voxels[0], voxels[1], voxels[2]] = torch.tensor(data['dirichlet_z'].values, dtype=self.dtype)\n",
    "\n",
    "        Ω_design = torch.zeros(1, *shape, dtype=int)\n",
    "        Ω_design[:, voxels[0], voxels[1], voxels[2]] = torch.from_numpy(data['design_space'].values.astype(int))\n",
    "        return F, Ω_dirichlet, Ω_design\n",
    "\n",
    "\n",
    "    def _get_θ(self, data, shape, voxels):\n",
    "        θ = torch.zeros(1, *shape, dtype=self.dtype)\n",
    "        θ[:, voxels[0], voxels[1], voxels[2]] = torch.tensor(data['density'].values, dtype=self.dtype)\n",
    "        return θ\n",
    "\n",
    "\n",
    "    def __call__(self, \n",
    "                 pt_dir_path:str=None # The path where the `.pt` files should be saved.\n",
    "                ):\n",
    "        \"\"\"\n",
    "        Converts all `(i.csv, i_info.csv)` pairs in `csv_dir_path` and saves them as `.pt` files in the directory `pt_dir_path`.\n",
    "        \"\"\"\n",
    "        if pt_dir_path is None:\n",
    "            pass\n",
    "        else:\n",
    "            if not os.path.exists(pt_dir_path):\n",
    "                os.makedirs(pt_dir_path)\n",
    "\n",
    "        iters = range(len(self))\n",
    "        if self.verbose:\n",
    "            print(\"Generating dataset...\")\n",
    "            iters = tqdm(iters)\n",
    "\n",
    "        for i in iters:\n",
    "            try:\n",
    "                sample = self[i]\n",
    "                if pt_dir_path is not None:\n",
    "                    torch.save(sample, f\"{pt_dir_path}/{i}.pt\")\n",
    "            except FileNotFoundError:\n",
    "                if self.verbose:\n",
    "                    print(f\"Could not generate file {i}.\")\n",
    "\n",
    "        if self.verbose:\n",
    "            print(\"done!\")\n",
    "            if pt_dir_path is not None:\n",
    "                print(f\"pt dataset generated in directory `{pt_dir_path}`.\")"
   ]
  },
  {
   "cell_type": "markdown",
   "id": "a4db5a4a-5582-4b47-b917-7b8539054c05",
   "metadata": {},
   "source": [
    "# Methods"
   ]
  },
  {
   "cell_type": "code",
   "execution_count": null,
   "id": "4cf52df6-c982-47aa-aede-d93c5521b3d0",
   "metadata": {},
   "outputs": [
    {
     "data": {
      "text/markdown": [
       "<h4 id=\"CSVConverter.__len__\" class=\"doc_header\"><code>CSVConverter.__len__</code><a href=\"__main__.py#L47\" class=\"source_link\" style=\"float:right\">[source]</a></h4>\n",
       "\n",
       "> <code>CSVConverter.__len__</code>()\n",
       "\n",
       "Returns the number of file pairs `(i.csv, i_info.csv)` that are contained in `self.csv_dir_path`."
      ],
      "text/plain": [
       "<IPython.core.display.Markdown object>"
      ]
     },
     "metadata": {},
     "output_type": "display_data"
    }
   ],
   "source": [
    "show_doc(CSVConverter.__len__)"
   ]
  },
  {
   "cell_type": "code",
   "execution_count": null,
   "id": "9b54faf6-9ed8-47e5-b368-058ba854f757",
   "metadata": {},
   "outputs": [
    {
     "data": {
      "text/markdown": [
       "<h4 id=\"CSVConverter.__getitem__\" class=\"doc_header\"><code>CSVConverter.__getitem__</code><a href=\"__main__.py#L60\" class=\"source_link\" style=\"float:right\">[source]</a></h4>\n",
       "\n",
       "> <code>CSVConverter.__getitem__</code>(**`i`**:`int`)\n",
       "\n",
       "Returns the tuple `(problem, gt_solution)` for index `i`.\n",
       "\n",
       "||Type|Default|Details|\n",
       "|---|---|---|---|\n",
       "|**`i`**|`int`||The index for which `(problem, gt_solution)` should be returned.|\n"
      ],
      "text/plain": [
       "<IPython.core.display.Markdown object>"
      ]
     },
     "metadata": {},
     "output_type": "display_data"
    }
   ],
   "source": [
    "show_doc(CSVConverter.__getitem__)"
   ]
  },
  {
   "cell_type": "code",
   "execution_count": null,
   "id": "b2c2b016-26b2-425b-8f71-bc55bf8f0588",
   "metadata": {},
   "outputs": [
    {
     "data": {
      "text/markdown": [
       "<h4 id=\"CSVConverter.__call__\" class=\"doc_header\"><code>CSVConverter.__call__</code><a href=\"__main__.py#L142\" class=\"source_link\" style=\"float:right\">[source]</a></h4>\n",
       "\n",
       "> <code>CSVConverter.__call__</code>(**`pt_dir_path`**:`str`=*`None`*)\n",
       "\n",
       "Converts all `(i.csv, i_info.csv)` pairs in `csv_dir_path` and saves them as `.pt` files in the directory `pt_dir_path`.\n",
       "\n",
       "||Type|Default|Details|\n",
       "|---|---|---|---|\n",
       "|**`pt_dir_path`**|`str`|`None`|The path where the `.pt` files should be saved.|\n"
      ],
      "text/plain": [
       "<IPython.core.display.Markdown object>"
      ]
     },
     "metadata": {},
     "output_type": "display_data"
    }
   ],
   "source": [
    "show_doc(CSVConverter.__call__)"
   ]
  },
  {
   "cell_type": "markdown",
   "id": "0ab30203-34af-45cd-9428-04f96a96d265",
   "metadata": {},
   "source": [
    "# References"
   ]
  },
  {
   "cell_type": "markdown",
   "id": "d939178d-9bc5-4efe-bc1e-faf66d6a6cdf",
   "metadata": {},
   "source": [
    "[1] Dittmer, Sören, Erzmann, David, Harms, Henrik, Falck, Rielson, & Gosch, Marco. (2023). SELTO Dataset [Data set]. Zenodo. https://doi.org/10.5281/zenodo.7781392"
   ]
  }
 ],
 "metadata": {
  "kernelspec": {
   "display_name": "Python 3 (ipykernel)",
   "language": "python",
   "name": "python3"
  }
 },
 "nbformat": 4,
 "nbformat_minor": 5
}
