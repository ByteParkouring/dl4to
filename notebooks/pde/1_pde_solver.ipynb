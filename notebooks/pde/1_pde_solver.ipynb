{
 "cells": [
  {
   "cell_type": "code",
   "execution_count": null,
   "metadata": {},
   "outputs": [],
   "source": [
    "#default_exp pde"
   ]
  },
  {
   "cell_type": "code",
   "execution_count": null,
   "metadata": {},
   "outputs": [],
   "source": [
    "#exporti\n",
    "import copy\n",
    "import torch"
   ]
  },
  {
   "cell_type": "code",
   "execution_count": null,
   "metadata": {},
   "outputs": [],
   "source": [
    "#hide\n",
    "from nbdev.showdoc import show_doc"
   ]
  },
  {
   "cell_type": "markdown",
   "metadata": {},
   "source": [
    "# PDE solver"
   ]
  },
  {
   "cell_type": "code",
   "execution_count": null,
   "metadata": {},
   "outputs": [],
   "source": [
    "#export\n",
    "class PDESolver:\n",
    "    \"\"\"\n",
    "    A parent class that inherits all PDE solvers.\n",
    "    \"\"\"\n",
    "    def __init__(self, \n",
    "                 assemble_tensors_when_passed_to_problem:bool=False # Whether the PDE solver methods pre-assembles any tensors or arrays before solving the PDE for a concrete problem.\n",
    "                ):\n",
    "        self.assemble_tensors_when_passed_to_problem = assemble_tensors_when_passed_to_problem\n",
    "\n",
    "\n",
    "    def __call__(self, \n",
    "                 solution:\"dl4to.solution.Solution\", # The solution for which the PDE should be solved.\n",
    "                 p:float=1., # The SIMP exponent when solving the PDE. Should usually be left at its default value of `1.`.\n",
    "                 binary:bool=False # Whether the densities in the solution should be binarized before solving the PDE.\n",
    "                ):\n",
    "        \"\"\"\n",
    "        Does the same as the `solve_pde` method. Solves the pde for `solution` and SIMP exponent `p`. Returns three `torch.Tensor` objects: displacements `u`, stresses `σ` and von Mises stresses `σ_vm`.\n",
    "        \"\"\"\n",
    "        return self.solve_pde(solution, p=p, binary=binary)\n",
    "\n",
    "\n",
    "    def solve_pde(self, \n",
    "                 solution:\"dl4to.solution.Solution\", # The solution for which the PDE should be solved.\n",
    "                 p:float=1., # The SIMP exponent when solving the PDE. Should usually be left at its default value of `1.`.\n",
    "                 binary:bool=False # Whether the densities in the solution should be binarized before solving the PDE.\n",
    "                ):\n",
    "        \"\"\"\n",
    "        Solves the pde for `solution` and SIMP exponent `p`. Returns three `torch.Tensor` objects: displacements `u`, stresses `σ` and von Mises stresses `σ_vm`.\n",
    "        \"\"\"\n",
    "        raise NotImplementedError(\"Must be overridden.\")\n",
    "\n",
    "\n",
    "    def clone(self):\n",
    "        \"\"\"\n",
    "        Returns a `dl4to.pde.PDESolver` object, which is a deepcopy of the PDE solver.\n",
    "        \"\"\"\n",
    "        return copy.deepcopy(self)"
   ]
  },
  {
   "cell_type": "code",
   "execution_count": null,
   "metadata": {},
   "outputs": [
    {
     "data": {
      "text/markdown": [
       "<h4 id=\"PDESolver.solve_pde\" class=\"doc_header\"><code>PDESolver.solve_pde</code><a href=\"__main__.py#L23\" class=\"source_link\" style=\"float:right\">[source]</a></h4>\n",
       "\n",
       "> <code>PDESolver.solve_pde</code>(**`solution`**:`dl4to.solution.Solution`, **`p`**:`float`=*`1.0`*, **`binary`**:`bool`=*`False`*)\n",
       "\n",
       "Solves the pde for `solution` and SIMP exponent `p`. Returns three `torch.Tensor` objects: displacements `u`, stresses `σ` and von Mises stresses `σ_vm`.\n",
       "\n",
       "||Type|Default|Details|\n",
       "|---|---|---|---|\n",
       "|**`solution`**|`dl4to.solution.Solution`||The solution for which the PDE should be solved.|\n",
       "|**`p`**|`float`|`1.0`|The SIMP exponent when solving the PDE. Should usually be left at its default value of `1.`.|\n",
       "|**`binary`**|`bool`|`False`|Whether the densities in the solution should be binarized before solving the PDE.|\n"
      ],
      "text/plain": [
       "<IPython.core.display.Markdown object>"
      ]
     },
     "metadata": {},
     "output_type": "display_data"
    }
   ],
   "source": [
    "show_doc(PDESolver.solve_pde)"
   ]
  },
  {
   "cell_type": "code",
   "execution_count": null,
   "metadata": {},
   "outputs": [
    {
     "data": {
      "text/markdown": [
       "<h4 id=\"PDESolver.__call__\" class=\"doc_header\"><code>PDESolver.__call__</code><a href=\"__main__.py#L12\" class=\"source_link\" style=\"float:right\">[source]</a></h4>\n",
       "\n",
       "> <code>PDESolver.__call__</code>(**`solution`**:`dl4to.solution.Solution`, **`p`**:`float`=*`1.0`*, **`binary`**:`bool`=*`False`*)\n",
       "\n",
       "Does the same as the `solve_pde` method. Solves the pde for `solution` and SIMP exponent `p`. Returns three `torch.Tensor` objects: displacements `u`, stresses `σ` and von Mises stresses `σ_vm`.\n",
       "\n",
       "||Type|Default|Details|\n",
       "|---|---|---|---|\n",
       "|**`solution`**|`dl4to.solution.Solution`||The solution for which the PDE should be solved.|\n",
       "|**`p`**|`float`|`1.0`|The SIMP exponent when solving the PDE. Should usually be left at its default value of `1.`.|\n",
       "|**`binary`**|`bool`|`False`|Whether the densities in the solution should be binarized before solving the PDE.|\n"
      ],
      "text/plain": [
       "<IPython.core.display.Markdown object>"
      ]
     },
     "metadata": {},
     "output_type": "display_data"
    }
   ],
   "source": [
    "show_doc(PDESolver.__call__)"
   ]
  },
  {
   "cell_type": "code",
   "execution_count": null,
   "metadata": {},
   "outputs": [
    {
     "data": {
      "text/markdown": [
       "<h4 id=\"PDESolver.clone\" class=\"doc_header\"><code>PDESolver.clone</code><a href=\"__main__.py#L34\" class=\"source_link\" style=\"float:right\">[source]</a></h4>\n",
       "\n",
       "> <code>PDESolver.clone</code>()\n",
       "\n",
       "Returns a `dl4to.pde.PDESolver` object, which is a deepcopy of the PDE solver."
      ],
      "text/plain": [
       "<IPython.core.display.Markdown object>"
      ]
     },
     "metadata": {},
     "output_type": "display_data"
    }
   ],
   "source": [
    "show_doc(PDESolver.clone)"
   ]
  }
 ],
 "metadata": {
  "kernelspec": {
   "display_name": "Python 3 (ipykernel)",
   "language": "python",
   "name": "python3"
  }
 },
 "nbformat": 4,
 "nbformat_minor": 4
}
