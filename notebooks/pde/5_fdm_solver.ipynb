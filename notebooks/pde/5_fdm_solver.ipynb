{
 "cells": [
  {
   "cell_type": "code",
   "execution_count": null,
   "id": "ead583fa",
   "metadata": {},
   "outputs": [],
   "source": [
    "#default_exp pde"
   ]
  },
  {
   "cell_type": "code",
   "execution_count": null,
   "id": "862f9487",
   "metadata": {},
   "outputs": [],
   "source": [
    "#exporti\n",
    "import torch\n",
    "import warnings\n",
    "import numpy as np\n",
    "from scipy.sparse import diags, csc_matrix\n",
    "\n",
    "from dl4to.utils import get_σ_vm\n",
    "from dl4to.pde import SparseLinearSolver, PDESolver, FDMDerivatives, FDMAdjointDerivatives, FDMAssembly, UnpaddedFDM"
   ]
  },
  {
   "cell_type": "code",
   "execution_count": null,
   "id": "ba35bea4-28fb-4eb7-a7aa-17f216ed4e35",
   "metadata": {},
   "outputs": [],
   "source": [
    "#hide\n",
    "from nbdev.showdoc import show_doc"
   ]
  },
  {
   "cell_type": "markdown",
   "id": "a3de21e6",
   "metadata": {},
   "source": [
    "# FDM solver"
   ]
  },
  {
   "cell_type": "code",
   "execution_count": null,
   "id": "17730e82",
   "metadata": {},
   "outputs": [
    {
     "ename": "NameError",
     "evalue": "name 'UnpaddedFDM' is not defined",
     "output_type": "error",
     "traceback": [
      "\u001b[0;31m---------------------------------------------------------------------------\u001b[0m",
      "\u001b[0;31mNameError\u001b[0m                                 Traceback (most recent call last)",
      "Input \u001b[0;32mIn [1]\u001b[0m, in \u001b[0;36m<cell line: 2>\u001b[0;34m()\u001b[0m\n\u001b[1;32m      1\u001b[0m \u001b[38;5;66;03m#export\u001b[39;00m\n\u001b[0;32m----> 2\u001b[0m \u001b[38;5;28;01mclass\u001b[39;00m \u001b[38;5;21;01mFDM\u001b[39;00m(\u001b[43mUnpaddedFDM\u001b[49m):\n\u001b[1;32m      3\u001b[0m \u001b[38;5;250m    \u001b[39m\u001b[38;5;124;03m\"\"\"\u001b[39;00m\n\u001b[1;32m      4\u001b[0m \u001b[38;5;124;03m    A PDE solver for linear elasticity that uses the finite differences method (FDM) with padding.\u001b[39;00m\n\u001b[1;32m      5\u001b[0m \u001b[38;5;124;03m    \"\"\"\u001b[39;00m\n\u001b[1;32m      6\u001b[0m     \u001b[38;5;28;01mdef\u001b[39;00m \u001b[38;5;21m__init__\u001b[39m(\u001b[38;5;28mself\u001b[39m, θ_min:\u001b[38;5;28mfloat\u001b[39m\u001b[38;5;241m=\u001b[39m\u001b[38;5;241m1e-6\u001b[39m, \u001b[38;5;66;03m# The minimal value in the stiffness matrix. For numerical reasons we can not allow 0s, since they may lead to singular matrices.\u001b[39;00m\n\u001b[1;32m      7\u001b[0m                  use_forward_differences:\u001b[38;5;28mbool\u001b[39m\u001b[38;5;241m=\u001b[39m\u001b[38;5;28;01mTrue\u001b[39;00m, \u001b[38;5;66;03m# Whether to use forward differences or central differences.\u001b[39;00m\n\u001b[1;32m      8\u001b[0m                  assemble_tensors_when_passed_to_problem:\u001b[38;5;28mbool\u001b[39m\u001b[38;5;241m=\u001b[39m\u001b[38;5;28;01mTrue\u001b[39;00m, \u001b[38;5;66;03m# Whether the PDE solver methods pre-assembles any tensors or arrays before solving the PDE for a concrete problem.\u001b[39;00m\n\u001b[1;32m      9\u001b[0m                  padding_depth:\u001b[38;5;28mint\u001b[39m\u001b[38;5;241m=\u001b[39m\u001b[38;5;241m0\u001b[39m \u001b[38;5;66;03m# The depth of the padding surrounding the design space. In some cases, it is recommended to increase the padding depth to 2 to improve results but also increase running time.\u001b[39;00m\n\u001b[1;32m     10\u001b[0m                 ):\n",
      "\u001b[0;31mNameError\u001b[0m: name 'UnpaddedFDM' is not defined"
     ]
    }
   ],
   "source": [
    "#export\n",
    "class FDM(UnpaddedFDM):\n",
    "    \"\"\"\n",
    "    A PDE solver for linear elasticity that uses the finite differences method (FDM) with padding.\n",
    "    \"\"\"\n",
    "    def __init__(self, θ_min:float=1e-6, # The minimal value in the stiffness matrix. For numerical reasons we can not allow 0s, since they may lead to singular matrices.\n",
    "                 use_forward_differences:bool=True, # Whether to use forward differences or central differences.\n",
    "                 assemble_tensors_when_passed_to_problem:bool=True, # Whether the PDE solver methods pre-assembles any tensors or arrays before solving the PDE for a concrete problem.\n",
    "                 padding_depth:int=0 # The depth of the padding surrounding the design space. In some cases, it is recommended to increase the padding depth to 2 to improve results but also increase running time.\n",
    "                ):\n",
    "        self.padding_depth = padding_depth\n",
    "        super().__init__(\n",
    "            θ_min=θ_min,\n",
    "            use_forward_differences=use_forward_differences,\n",
    "            assemble_tensors_when_passed_to_problem=assemble_tensors_when_passed_to_problem\n",
    "        )\n",
    "\n",
    "\n",
    "    @property\n",
    "    def shape(self):\n",
    "        return self.Ω_dirichlet.shape[-3:]\n",
    "\n",
    "\n",
    "    @property\n",
    "    def Ω_dirichlet(self):\n",
    "        return self._get_padded_tensor(self.problem.Ω_dirichlet)\n",
    "\n",
    "\n",
    "    def _get_padded_tensor(self, tensor):\n",
    "        p_d = int(self.padding_depth)\n",
    "        if p_d == 0:\n",
    "            return tensor\n",
    "\n",
    "        shape = tensor.shape\n",
    "        assert len(shape) == 4\n",
    "        padded_tensor = torch.zeros(\n",
    "            shape[0], shape[1]+2*p_d, shape[2]+2*p_d, shape[3]+2*p_d, dtype=tensor.dtype\n",
    "        )\n",
    "        padded_tensor[:, p_d:-p_d, p_d:-p_d, p_d:-p_d] = tensor\n",
    "        return padded_tensor\n",
    "\n",
    "\n",
    "    def _remove_padding(self, tensor):\n",
    "        p_d = int(self.padding_depth)\n",
    "        if p_d == 0:\n",
    "            return tensor\n",
    "\n",
    "        shape = tensor.shape\n",
    "        assert len(shape) == 4\n",
    "        return tensor[:, p_d:-p_d, p_d:-p_d, p_d:-p_d]\n",
    "\n",
    "\n",
    "    def _get_θ_from_solution(self, solution, binary=False, clone=False):\n",
    "        θ = super()._get_θ_from_solution(solution, binary=binary, clone=clone)\n",
    "        return self._get_padded_tensor(θ)\n",
    "\n",
    "\n",
    "    def _A(self, u, θ, dirichlet=True, p=1.):\n",
    "        if θ.shape[-3:] == self.shape[-3:]:\n",
    "            return super()._A(u=u, θ=θ, dirichlet=dirichlet, p=p)\n",
    "        θ_padded = self._get_padded_tensor(θ)\n",
    "        assert θ_padded.shape[-3:] == self.shape[-3:]\n",
    "        return super()._A(u=u, θ=θ_padded, dirichlet=dirichlet, p=p)\n",
    "\n",
    "\n",
    "    def _A_adj(self, y, θ, dirichlet=True, p=1.):\n",
    "        if θ.shape[-3:] == self.shape[-3:]:\n",
    "            return super()._A_adj(y=y, θ=θ, dirichlet=dirichlet, p=p)\n",
    "        θ_padded = self._get_padded_tensor(θ)\n",
    "        assert θ_padded.shape[-3:] == self.shape[-3:]\n",
    "        return super()._A_adj(y=y, θ=θ_padded, dirichlet=dirichlet, p=p)\n",
    "\n",
    "\n",
    "    def _get_b(self):\n",
    "        b = self.problem.F\n",
    "        b = self._get_padded_tensor(b)\n",
    "        b[self.Ω_dirichlet] = 0\n",
    "        b /= self.problem.E\n",
    "        return b\n",
    "\n",
    "\n",
    "    def _get_u(self, solution, p=1., binary=False, get_padded=False):\n",
    "        u = super()._get_u(solution, p=p, binary=binary)\n",
    "        if get_padded:\n",
    "            return u\n",
    "        return self._remove_padding(u)\n",
    "\n",
    "\n",
    "    def _get_σ(self, solution, p=1., u=None, binary=False, get_padded=False):\n",
    "        if u is None:\n",
    "            u = self._get_u(solution, p=p, binary=binary, get_padded=True)\n",
    "        σ = super()._get_σ(solution, p=p, u=u, binary=binary)\n",
    "        if get_padded:\n",
    "            return σ\n",
    "        return self._remove_padding(σ)\n",
    "\n",
    "\n",
    "    def solve_pde(self, \n",
    "                 solution:\"dl4to.solution.Solution\", # The solution for which the PDE should be solved.\n",
    "                 p:float=1., # The SIMP exponent when solving the PDE. Should usually be left at its default value of `1.`.\n",
    "                 binary:bool=False, # Whether the densities in the solution should be binarized before solving the PDE.\n",
    "                 get_padded:bool=False # Whether the density should be padded before the PDE is solved. Takes a bit longer to solve, but is more accurate.\n",
    "                ):\n",
    "        \"\"\"\n",
    "        Solves the pde for `solution` and SIMP exponent `p`. Returns three `torch.Tensor` objects: displacements `u`, stresses `σ` and von Mises stresses `σ_vm`.\n",
    "        \"\"\"\n",
    "        u = self._get_u(solution, p=p, binary=binary, get_padded=True)\n",
    "        σ = self._get_σ(solution, p=p, u=u, binary=binary, get_padded=True)\n",
    "        σ_vm = get_σ_vm(σ)\n",
    "        if get_padded:\n",
    "            return u, σ, σ_vm\n",
    "        return self._remove_padding(u), self._remove_padding(σ), self._remove_padding(σ_vm)"
   ]
  },
  {
   "cell_type": "code",
   "execution_count": null,
   "id": "fec90060-f4e0-468d-84f2-19416578f3c8",
   "metadata": {},
   "outputs": [
    {
     "data": {
      "text/markdown": [
       "<h4 id=\"UnpaddedFDM.assemble_tensors\" class=\"doc_header\"><code>UnpaddedFDM.assemble_tensors</code><a href=\"dl4to/pde.py#L639\" class=\"source_link\" style=\"float:right\">[source]</a></h4>\n",
       "\n",
       "> <code>UnpaddedFDM.assemble_tensors</code>(**`problem`**)\n",
       "\n",
       "Assembles all FDM tensors from the problem object that do not require a density θ."
      ],
      "text/plain": [
       "<IPython.core.display.Markdown object>"
      ]
     },
     "metadata": {},
     "output_type": "display_data"
    }
   ],
   "source": [
    "show_doc(FDM.assemble_tensors)"
   ]
  },
  {
   "cell_type": "code",
   "execution_count": null,
   "id": "44efb78a-06d5-4c4b-99fb-0af6fba0a378",
   "metadata": {},
   "outputs": [
    {
     "data": {
      "text/markdown": [
       "<h4 id=\"FDM.solve_pde\" class=\"doc_header\"><code>FDM.solve_pde</code><a href=\"__main__.py#L98\" class=\"source_link\" style=\"float:right\">[source]</a></h4>\n",
       "\n",
       "> <code>FDM.solve_pde</code>(**`solution`**:`dl4to.solution.Solution`, **`p`**:`float`=*`1.0`*, **`binary`**:`bool`=*`False`*, **`get_padded`**:`bool`=*`True`*)\n",
       "\n",
       "Solves the pde for `solution` and SIMP exponent `p`. Returns three `torch.Tensor` objects: displacements `u`, stresses `σ` and von Mises stresses `σ_vm`.\n",
       "\n",
       "||Type|Default|Details|\n",
       "|---|---|---|---|\n",
       "|**`solution`**|`dl4to.solution.Solution`||The solution for which the PDE should be solved.|\n",
       "|**`p`**|`float`|`1.0`|The SIMP exponent when solving the PDE. Should usually be left at its default value of `1.`.|\n",
       "|**`binary`**|`bool`|`False`|Whether the densities in the solution should be binarized before solving the PDE.|\n",
       "|**`get_padded`**|`bool`|`True`|Whether the density should be padded before the PDE is solved. Takes a bit longer to solve, but is more accurate.|\n"
      ],
      "text/plain": [
       "<IPython.core.display.Markdown object>"
      ]
     },
     "metadata": {},
     "output_type": "display_data"
    }
   ],
   "source": [
    "show_doc(FDM.solve_pde)"
   ]
  },
  {
   "cell_type": "code",
   "execution_count": null,
   "id": "ea580834-d329-47f9-88bf-ca25a13b6fdd",
   "metadata": {},
   "outputs": [],
   "source": [
    "#hide\n",
    "from dl4to.solution import Solution\n",
    "from dl4to.datasets import BasicDataset"
   ]
  },
  {
   "cell_type": "code",
   "execution_count": null,
   "id": "e3374440-d4b6-4320-afef-0de7339e11a7",
   "metadata": {},
   "outputs": [],
   "source": [
    "#hide\n",
    "atol = 1e-3\n",
    "dtype = torch.float64"
   ]
  },
  {
   "cell_type": "code",
   "execution_count": null,
   "id": "76093d60-5a5d-47d7-9a33-97bd9d37fd24",
   "metadata": {},
   "outputs": [],
   "source": [
    "#hide\n",
    "def get_rand_θ(problem):\n",
    "    θ = torch.rand(1,*problem.shape).clamp_(problem.pde_solver.θ_min, 1)\n",
    "    θ = θ**5\n",
    "\n",
    "    θ[problem.Ω_design == 0] = 0\n",
    "    θ[problem.Ω_design == 1] = 1\n",
    "    return θ\n",
    "\n",
    "\n",
    "def get_mock_objects(force=-1.5e5, resolution=35, padding_depth=2):\n",
    "    \"\"\"Mock Objects with Padding Depth 2\"\"\"\n",
    "    problem = BasicDataset(resolution=resolution, dtype=dtype).ledge(force_per_area=force)\n",
    "    problem.pde_solver = FDM(padding_depth=padding_depth)\n",
    "    θ = get_rand_θ(problem)\n",
    "    solution = Solution(problem, θ, enforce_θ_on_Ω_design=False)\n",
    "\n",
    "    shape_prod = np.prod(problem.shape)\n",
    "    u = torch.randn(3, *problem.shape, dtype=dtype)\n",
    "\n",
    "    return problem, problem.pde_solver, θ, solution, shape_prod, u"
   ]
  },
  {
   "cell_type": "code",
   "execution_count": null,
   "id": "984053a3",
   "metadata": {},
   "outputs": [
    {
     "name": "stdout",
     "output_type": "stream",
     "text": [
      "CPU times: user 16.6 s, sys: 108 ms, total: 16.7 s\n",
      "Wall time: 3.34 s\n"
     ]
    }
   ],
   "source": [
    "%%time\n",
    "#hide\n",
    "\n",
    "def test_that_A_op_and_A_mat_sum_coincide():\n",
    "    problem, fdm, θ, solution, shape_prod, u = get_mock_objects(padding_depth=2)\n",
    "    u = torch.rand(3, *fdm.shape, dtype=dtype) / 1e5\n",
    "#     θ = torch.rand(1, *fdm.shape, dtype=dtype)\n",
    "\n",
    "    Au_op = fdm._A(u, θ, dirichlet=True)\n",
    "    Au_mat = torch.tensor(fdm._assemble_A(fdm._get_padded_tensor(θ)).dot(u.flatten()))\n",
    "    torch.allclose(Au_op.flatten().abs().sum(), Au_mat.flatten().abs().sum(), rtol=0), Au_op.flatten().abs().sum()\n",
    "\n",
    "\n",
    "test_that_A_op_and_A_mat_sum_coincide()"
   ]
  },
  {
   "cell_type": "code",
   "execution_count": null,
   "id": "5e4419b1",
   "metadata": {},
   "outputs": [
    {
     "name": "stdout",
     "output_type": "stream",
     "text": [
      "CPU times: user 1min 36s, sys: 257 ms, total: 1min 37s\n",
      "Wall time: 13.5 s\n"
     ]
    }
   ],
   "source": [
    "%%time\n",
    "#slow\n",
    "#hide\n",
    "\n",
    "def test_that_u_solves_linear_system():\n",
    "    problem, fdm, θ, solution, shape_prod, u = get_mock_objects(padding_depth=2)\n",
    "\n",
    "    u = fdm.solve_pde(solution, get_padded=True)[0]\n",
    "    Au = fdm._A(u, θ)\n",
    "    assert Au.shape == fdm.b.shape\n",
    "    assert torch.allclose(Au, fdm.b, atol=1e-2, rtol=0), torch.norm(Au - fdm.b)\n",
    "\n",
    "test_that_u_solves_linear_system()"
   ]
  },
  {
   "cell_type": "code",
   "execution_count": null,
   "id": "e2cf6463-f1e8-4da9-9b0c-2df9ccac3651",
   "metadata": {},
   "outputs": [
    {
     "name": "stdout",
     "output_type": "stream",
     "text": [
      "CPU times: user 1min 41s, sys: 229 ms, total: 1min 41s\n",
      "Wall time: 14.8 s\n"
     ]
    }
   ],
   "source": [
    "%%time\n",
    "#slow\n",
    "#hide\n",
    "\n",
    "def test_that_u_solves_linear_system_in_norm():\n",
    "    problem, fdm, θ, solution, shape_prod, u = get_mock_objects(padding_depth=2)\n",
    "\n",
    "    u = fdm.solve_pde(solution, get_padded=True)[0]\n",
    "    norm_error = (fdm._A(u, θ) - fdm.b).norm()\n",
    "    norm_b = fdm.b.norm()\n",
    "    assert norm_error / norm_b < 1e-1, norm_error / norm_b\n",
    "\n",
    "test_that_u_solves_linear_system_in_norm()"
   ]
  },
  {
   "cell_type": "code",
   "execution_count": null,
   "id": "0218d509",
   "metadata": {},
   "outputs": [
    {
     "name": "stdout",
     "output_type": "stream",
     "text": [
      "CPU times: user 20.9 s, sys: 67.9 ms, total: 21 s\n",
      "Wall time: 3.36 s\n"
     ]
    }
   ],
   "source": [
    "%%time\n",
    "#broken\n",
    "#hide\n",
    "\n",
    "def test_that_u_grows_linearly_with_applied_forces():\n",
    "    force = -1.5e5\n",
    "    n = torch.randint(0, 100, (1,))\n",
    "    problem, fdm, θ, solution, shape_prod, _ = get_mock_objects(force=force, padding_depth=0)\n",
    "    problem2, fdm2, θ2, solution2, shape_prod2, _ = get_mock_objects(force=force * n, padding_depth=0)\n",
    "    solution2 = Solution(problem2, θ)\n",
    "    u = fdm.solve_pde(solution, get_padded=False)[0]\n",
    "    u2 = fdm2.solve_pde(solution2, get_padded=False)[0]\n",
    "\n",
    "    assert torch.allclose(n * u, u2)\n",
    "\n",
    "test_that_u_grows_linearly_with_applied_forces()"
   ]
  },
  {
   "cell_type": "code",
   "execution_count": null,
   "id": "4a4f4406",
   "metadata": {},
   "outputs": [
    {
     "name": "stdout",
     "output_type": "stream",
     "text": [
      "CPU times: user 16 s, sys: 67.8 ms, total: 16.1 s\n",
      "Wall time: 3.05 s\n"
     ]
    }
   ],
   "source": [
    "%%time\n",
    "#hide\n",
    "\n",
    "def test_if_A_and_At_are_adjoint():\n",
    "    problem, fdm, θ, solution, shape_prod, u = get_mock_objects(padding_depth=2)\n",
    "\n",
    "    u = torch.rand(3, *fdm.shape, dtype=dtype) / 1e5\n",
    "    v = torch.rand(3, *fdm.shape, dtype=dtype) / 1e5\n",
    "    Au = fdm._A(u, θ , dirichlet=True)\n",
    "    Atv = fdm._A_adj(v, θ, dirichlet=True)\n",
    "    assert torch.allclose(torch.dot(u.flatten(), Atv.flatten()), torch.dot(Au.flatten(), v.flatten()), atol=1e-1, rtol=0)\n",
    "\n",
    "test_if_A_and_At_are_adjoint()"
   ]
  },
  {
   "cell_type": "code",
   "execution_count": null,
   "id": "a13d71bc",
   "metadata": {},
   "outputs": [
    {
     "name": "stdout",
     "output_type": "stream",
     "text": [
      "CPU times: user 21.9 s, sys: 43.4 ms, total: 22 s\n",
      "Wall time: 3.41 s\n"
     ]
    }
   ],
   "source": [
    "%%time\n",
    "#hide\n",
    "\n",
    "def test_that_padded_0_is_equal_to_unpadded_fdm_solver():\n",
    "    problem, fdm_padded0, θ, solution, shape_prod, u = get_mock_objects(padding_depth=0)\n",
    "    solution_clone = solution.clone()\n",
    "    fdm_unpadded = UnpaddedFDM()\n",
    "    solution_clone.problem.pde_solver = fdm_unpadded\n",
    "\n",
    "    u_padded0 = solution.solve_pde()[0]\n",
    "    u_unpadded = solution_clone.solve_pde()[0]\n",
    "\n",
    "\n",
    "    assert torch.allclose(u_padded0, u_unpadded)\n",
    "\n",
    "test_that_padded_0_is_equal_to_unpadded_fdm_solver()"
   ]
  },
  {
   "cell_type": "code",
   "execution_count": null,
   "id": "8276b3d7",
   "metadata": {},
   "outputs": [
    {
     "name": "stdout",
     "output_type": "stream",
     "text": [
      "CPU times: user 23.4 s, sys: 67.3 ms, total: 23.4 s\n",
      "Wall time: 3.27 s\n"
     ]
    }
   ],
   "source": [
    "%%time\n",
    "#hide\n",
    "\n",
    "def test_tensile_rod_solution_is_close_to_theoretical_case(tol=0.001):\n",
    "    force_per_area = -1.5e5\n",
    "    tensile_rod_problem = BasicDataset(resolution=30).tensile_rod(force_per_area=force_per_area)\n",
    "    tensile_rod_problem.pde_solver = FDM(use_forward_differences=True, padding_depth=2)\n",
    "    solution = tensile_rod_problem.trivial_solution\n",
    "    u_pde, σ, _ = solution.solve_pde()\n",
    "\n",
    "    relative_error = force_per_area / -σ[-1, 1, 1, 10].item()\n",
    "    assert 1. - tol < relative_error < 1. + tol, relative_error\n",
    "\n",
    "\n",
    "test_tensile_rod_solution_is_close_to_theoretical_case()"
   ]
  },
  {
   "cell_type": "code",
   "execution_count": null,
   "id": "ecd928fe",
   "metadata": {},
   "outputs": [
    {
     "name": "stdout",
     "output_type": "stream",
     "text": [
      "CPU times: user 4.83 s, sys: 16.5 ms, total: 4.84 s\n",
      "Wall time: 862 ms\n"
     ]
    }
   ],
   "source": [
    "%%time\n",
    "#slow\n",
    "#hide\n",
    "\n",
    "def test_that_ledge_solution_is_close_to_theoretical_beam_displacement(tol=0.25):\n",
    "    force_per_area = -1.5e5\n",
    "    ledge_problem = BasicDataset(resolution=30).ledge(force_per_area=force_per_area)\n",
    "    ledge_problem.pde_solver = FDM(use_forward_differences=True, padding_depth=0)\n",
    "    solution = ledge_problem.trivial_solution\n",
    "    u_pde, _, _ = solution.solve_pde()\n",
    "    pde_max_displacement = u_pde.min().item()\n",
    "\n",
    "    #theoretical solution\n",
    "    l, b, h = ledge_problem.size[:]\n",
    "    I = (b*h**3)/12\n",
    "    force_per_length = force_per_area * b\n",
    "    E = ledge_problem.E\n",
    "    theoretical_max_displacement = force_per_length*(l**4) /(8*E*I)\n",
    "\n",
    "    relative_error = abs(theoretical_max_displacement / pde_max_displacement)\n",
    "    assert 1. - tol < relative_error < 1. + tol, relative_error\n",
    "\n",
    "test_that_ledge_solution_is_close_to_theoretical_beam_displacement()"
   ]
  },
  {
   "cell_type": "code",
   "execution_count": null,
   "id": "0a603148",
   "metadata": {},
   "outputs": [
    {
     "name": "stdout",
     "output_type": "stream",
     "text": [
      "CPU times: user 10.9 s, sys: 4.15 ms, total: 10.9 s\n",
      "Wall time: 1.64 s\n"
     ]
    }
   ],
   "source": [
    "%%time\n",
    "#slow\n",
    "#hide\n",
    "\n",
    "def test_displacements_dont_propagate_through_void__check_forks_displacements_in_the_top_are_at_least_5times_greater_than_in_the_bottom():\n",
    "    fork_problem = BasicDataset(resolution=35).fork()\n",
    "    fork_problem.pde_solver = FDM(padding_depth=0)\n",
    "    solution = fork_problem.trivial_solution\n",
    "    solution.θ *= 1e-6\n",
    "\n",
    "    u = solution.solve_pde()[0]\n",
    "\n",
    "    displacements_in_the_top = u[2, -1, :, -1].mean().abs()\n",
    "    displacements_in_the_bottom = u[2, -1, :, 0].mean().abs()\n",
    "\n",
    "    assert displacements_in_the_top > 5 * displacements_in_the_bottom, displacements_in_the_top / displacements_in_the_bottom\n",
    "\n",
    "test_displacements_dont_propagate_through_void__check_forks_displacements_in_the_top_are_at_least_5times_greater_than_in_the_bottom()"
   ]
  }
 ],
 "metadata": {
  "kernelspec": {
   "display_name": "Python 3 (ipykernel)",
   "language": "python",
   "name": "python3"
  }
 },
 "nbformat": 4,
 "nbformat_minor": 5
}
