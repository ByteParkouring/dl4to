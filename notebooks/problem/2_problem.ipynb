{
 "cells": [
  {
   "cell_type": "code",
   "execution_count": null,
   "id": "86f6bf7b",
   "metadata": {},
   "outputs": [],
   "source": [
    "#default_exp problem"
   ]
  },
  {
   "cell_type": "code",
   "execution_count": null,
   "id": "1bef0fe3",
   "metadata": {},
   "outputs": [],
   "source": [
    "#exporti\n",
    "import copy\n",
    "import torch\n",
    "import numpy as np\n",
    "from typing import Union\n",
    "\n",
    "from dl4to.problem import PlottingForProblem, InputCheckerForProblem\n",
    "from dl4to.topo_solvers import TrivialSolver"
   ]
  },
  {
   "cell_type": "code",
   "execution_count": null,
   "id": "225a7a1f-35d1-4d7d-afcc-6434bc63fec1",
   "metadata": {},
   "outputs": [],
   "source": [
    "#hide\n",
    "from nbdev.showdoc import show_doc"
   ]
  },
  {
   "cell_type": "markdown",
   "id": "fb536ac1",
   "metadata": {},
   "source": [
    "# Problem"
   ]
  },
  {
   "cell_type": "markdown",
   "id": "6d6260a6-1e91-4874-9439-d0eb0360f59b",
   "metadata": {},
   "source": [
    "The Problem class contains all information of the underlying topology optimization (TO) problem one intends to solve. \n",
    "We focus on isotropic materials that are linearly elastic. This comprises most common materials, e.g., including steel and aluminum. Since we perform optimization on structured grids, all information is either in scalar or in tensor form. This makes data compatible with DL applications since it allows for a shape-consistent tensor representation. Let $(n_x, n_y, n_z)$ be the number of voxels in each spacial direction, i.e. the shape of the TO problem. \n",
    "    \n",
    "We can create unique problem objects characterized by the following inputs:\n",
    "\n",
    "- Scalar material properties that define the physical proporties of the underlying material. These include:\n",
    "    - Young's modulus $E>0$\n",
    "    - Poisson's ratio $\\nu\\in [0, 0.5]$\n",
    "    - The yield stress $\\sigma_{ys}>0$\n",
    "    \n",
    "- A three-dimensional vector $h$ that defines the voxel sizes in meters in each direction.\n",
    "\n",
    "- A binary ($3\\times n_x \\times n_y \\times n_z$)-tensor called $\\Omega_\\text{dirichlet}$ which we use to encode the presence of directional homogeneous Dirichlet boundary conditions for every voxel. These boundary conditions determine where the structure is \"locked\" in place, i.e. where the displacements are fixed at 0. $1$s indicate the presence, and $0$s the absence of homogeneous Dirichlet boundary conditions. Currently, we do not support non-homogeneous Dirichlet boundary conditions (i.e. voxels that have displacements fixed at some value $\\neq 0$) since we believe that they are not required for most TO tasks.\n",
    "\n",
    "- A ($1\\times n_x \\times n_y \\times n_z$)-tensor called $\\Omega_\\text{design}$ containing values $\\in \\left\\lbrace 0,1,-1\\right\\rbrace$ that we use to encode design space information. We use $0$s and $1$s to constrain voxel densities to be $0$ or $1$, respectively. Entries of $-1$ indicate a lack of density constraints, which signifies that the density in that voxel can be freely optimized.\n",
    "\n",
    "- A ($3\\times n_x \\times n_y \\times n_z$)-tensor called $F$, which encodes external forces given in $\\text{N}/\\text{m}^3$. The three channels correspond to the force magnitudes in each spacial dimension. For voxels that have external loads assigned to them we automatically enforce the corresponding density value to be $1$."
   ]
  },
  {
   "cell_type": "code",
   "execution_count": null,
   "id": "1c8e9380-0869-4e15-b64b-8ac88474e680",
   "metadata": {},
   "outputs": [],
   "source": [
    "#export\n",
    "class Problem:\n",
    "    \"\"\"\n",
    "    A class containing all parameters for defining a topology optimization problem.\n",
    "    \"\"\"\n",
    "    def __init__(\n",
    "        self, \n",
    "        E:float, # The Young's modulus of the material. Given in Pa.\n",
    "        ν:float, # The Poisson's ratio of the material. Dimensionless.\n",
    "        σ_ys:float, #The yield stress σ_ys denotes the critical von Mises stress at which the material starts yielding. Given in Pa.\n",
    "        h:Union[float,list], # The length of the edges of the cuboid voxels. Equal to the discretisation step size in each coordinate direction.\n",
    "        Ω_dirichlet:torch.Tensor, #A tensor denoting the presence of homogeneous Dirichlet boundary conditions in each voxel in each coordinate direction. \n",
    "        Ω_design:torch.Tensor, # A tensor denoting the kind of design space assigned to each voxel. Values of \"0\" and \"1\" indicate a material density fixed at 0 or 1, respectively. \"-1\" indicates the absence of constraints, i.e., the voxel density can be freely optimized.\n",
    "        F:torch.Tensor, # A tensor denoting the forces applied to each voxel in each coordinate direction. Given in N/m^3.\n",
    "        pde_solver:\"dl4to.pde.PDESolver\"=None, # A dl4to PDE Solver object that is attached to this problem.\n",
    "        name:str=None, # The name of the problem\n",
    "        device:str='cpu', # The device that this problem is to be stored on. Possible options are \"cpu\" and \"cuda\".\n",
    "        dtype:torch.dtype=torch.float32, # The datatype of the problem.\n",
    "        restrict_density_for_voxels_with_applied_forces:bool=True # Determines whether Ω_design should be set to \"1\" for voxels that have forces applied to them. Should be turned of in case of volumetric forces like gravity that are applied to all voxels.\n",
    "    ):\n",
    "        self._dtype = dtype\n",
    "        self._device = device\n",
    "        self._E, self._ν, self._σ_ys = E, ν, σ_ys\n",
    "        if type(h) == list or type(h) == np.ndarray:\n",
    "            h = torch.tensor(h)\n",
    "        if type(h) == int or type(h) == float:\n",
    "            h = torch.tensor([h,h,h])\n",
    "        self._h = h\n",
    "        self._Ω_dirichlet = Ω_dirichlet.type(torch.bool).to(device)\n",
    "        self._Ω_design = Ω_design.type(dtype).to(device)\n",
    "        self._F = F.type(dtype).to(device)\n",
    "        self._shape = self.Ω_design.shape[-3:]\n",
    "        self._size = (torch.tensor(self.shape) * self.h).tolist()\n",
    "        if restrict_density_for_voxels_with_applied_forces:\n",
    "            F_mask = (self.F != 0).sum(dim=0, keepdim=True).bool()\n",
    "            self._Ω_design[F_mask] = 1.\n",
    "        self._name = name\n",
    "        self.trivial_solution = TrivialSolver()(self)\n",
    "        self.pde_solver = pde_solver\n",
    "        InputCheckerForProblem.check_init(problem=self)\n",
    "\n",
    "\n",
    "    @property\n",
    "    def pde_solver(self):\n",
    "        return self._pde_solver\n",
    "\n",
    "\n",
    "    @pde_solver.setter\n",
    "    def pde_solver(self, pde_solver):\n",
    "        if pde_solver is None:\n",
    "            self._pde_solver = pde_solver\n",
    "        else:\n",
    "            self._pde_solver = pde_solver.clone()\n",
    "            if self._pde_solver.assemble_tensors_when_passed_to_problem:\n",
    "                self._pde_solver.assemble_tensors(self)\n",
    "            self.trivial_solution.u = None\n",
    "            self.trivial_solution.u_binary = None\n",
    "\n",
    "\n",
    "    @property\n",
    "    def name(self):\n",
    "        return self._name\n",
    "\n",
    "\n",
    "    @property\n",
    "    def dtype(self):\n",
    "        return self._dtype\n",
    "\n",
    "\n",
    "    @dtype.setter\n",
    "    def dtype(self, dtype):\n",
    "        self._dtype = dtype\n",
    "        self._Ω_design = self._Ω_design.type(dtype)\n",
    "        self._F = self._F.type(dtype)\n",
    "        if self.pde_solver is not None:\n",
    "            self.pde_solver.dtype = dtype\n",
    "\n",
    "\n",
    "    @property\n",
    "    def h(self):\n",
    "        return self._h\n",
    "\n",
    "\n",
    "    @property\n",
    "    def E(self):\n",
    "        return self._E\n",
    "\n",
    "\n",
    "    @property\n",
    "    def ν(self):\n",
    "        return self._ν\n",
    "\n",
    "\n",
    "    @property\n",
    "    def σ_ys(self):\n",
    "        return self._σ_ys\n",
    "\n",
    "\n",
    "    @property\n",
    "    def Ω_dirichlet(self):\n",
    "        return self._Ω_dirichlet\n",
    "\n",
    "\n",
    "    @property\n",
    "    def Ω_design(self):\n",
    "        return self._Ω_design\n",
    "\n",
    "\n",
    "    @property\n",
    "    def F(self):\n",
    "        return self._F\n",
    "\n",
    "\n",
    "    @property\n",
    "    def shape(self):\n",
    "        return self._shape\n",
    "\n",
    "\n",
    "    @property\n",
    "    def size(self):\n",
    "        return self._size\n",
    "\n",
    "\n",
    "    @property\n",
    "    def device(self):\n",
    "        return self._device\n",
    "\n",
    "\n",
    "    @device.setter\n",
    "    def device(self, device):\n",
    "        self._Ω_dirichlet = self._Ω_dirichlet.to(device)\n",
    "        self._Ω_design = self._Ω_design.to(device)\n",
    "        self._F = self._F.to(device)\n",
    "        self._device = device\n",
    "        if self.pde_solver is not None:\n",
    "            self.pde_solver.device = device\n",
    "\n",
    "\n",
    "    def clone(self):\n",
    "        \"\"\"\n",
    "        Returns a deepcopy of the Problem object.\n",
    "        \"\"\"\n",
    "        return copy.deepcopy(self)\n",
    "\n",
    "\n",
    "    def plot(self, \n",
    "             display:bool=True, # Whether the figure is displayed.\n",
    "             file_path:str=None, # Path where the figure is saved.\n",
    "             camera_position:Union[list,tuple]=(0,.1,.12), # x, y, and z coordinates of the camera position.\n",
    "             use_pyvista:bool=False, # Whether to use pyvista for plotting. If `False`, then plotly is used. Pyvista generates better looking visualizations, but does not support basic features like colorbars, title display and saving.\n",
    "             window_size:Union[tuple,list]=(800,800), # The size of the window that displays the plot. Only has an effect if `use_pyvista=True`.\n",
    "             smooth_iters:int=0, # The number of smoothing iterations for better looking visualizations. Only has an effect if `use_pyvista=True`.\n",
    "             show_colorbar:bool=True, # Determines whether a reference colorbar is displayed for the plotted voxel color values.\n",
    "             show_axislabels:bool=False, # Whether the 3d axes are labelled with their dimensions.\n",
    "             show_ticklabels:bool=False, # Whether the 3d axes ticks are displayed and labeled.\n",
    "             export_png:bool=False): # Whether the figure is exported and saved as a png file, in addition to the standard html format.\n",
    "        \"\"\"\n",
    "        Renders 3D figures that display the location of Dirichlet boundaries, design space and forces.\n",
    "        \"\"\"\n",
    "        PlottingForProblem()(\n",
    "            self,\n",
    "            display=display, \n",
    "            file_path=file_path, \n",
    "            camera_position=camera_position, \n",
    "            use_pyvista=use_pyvista,\n",
    "            window_size=window_size,\n",
    "            smooth_iters=smooth_iters,\n",
    "            show_colorbar=show_colorbar,\n",
    "            show_axislabels=show_axislabels, \n",
    "            show_ticklabels=show_ticklabels, \n",
    "            export_png=export_png,\n",
    "        )"
   ]
  },
  {
   "cell_type": "markdown",
   "id": "2b63bf87-17c4-4e60-ade2-f7dfbf8cce59",
   "metadata": {},
   "source": [
    "## Methods"
   ]
  },
  {
   "cell_type": "code",
   "execution_count": null,
   "id": "46e3fefb-98c6-48da-bdae-12a8d52d56a7",
   "metadata": {},
   "outputs": [
    {
     "data": {
      "text/markdown": [
       "<h4 id=\"Problem.clone\" class=\"doc_header\"><code>Problem.clone</code><a href=\"__main__.py#L137\" class=\"source_link\" style=\"float:right\">[source]</a></h4>\n",
       "\n",
       "> <code>Problem.clone</code>()\n",
       "\n",
       "Returns a deepcopy of the Problem object."
      ],
      "text/plain": [
       "<IPython.core.display.Markdown object>"
      ]
     },
     "metadata": {},
     "output_type": "display_data"
    }
   ],
   "source": [
    "show_doc(Problem.clone)"
   ]
  },
  {
   "cell_type": "code",
   "execution_count": null,
   "id": "61166a1f-c8b9-4d94-929a-9952e2bcaafa",
   "metadata": {},
   "outputs": [
    {
     "data": {
      "text/markdown": [
       "<h4 id=\"Problem.plot\" class=\"doc_header\"><code>Problem.plot</code><a href=\"__main__.py#L144\" class=\"source_link\" style=\"float:right\">[source]</a></h4>\n",
       "\n",
       "> <code>Problem.plot</code>(**`display`**:`bool`=*`True`*, **`file_path`**:`str`=*`None`*, **`camera_position`**:`Union`\\[`list`, `tuple`\\]=*`(0, 0.1, 0.12)`*, **`use_pyvista`**:`bool`=*`False`*, **`window_size`**:`Union`\\[`tuple`, `list`\\]=*`(300, 300)`*, **`smooth_iters`**:`int`=*`0`*, **`show_colorbar`**:`bool`=*`True`*, **`show_axislabels`**:`bool`=*`False`*, **`show_ticklabels`**:`bool`=*`False`*, **`export_png`**:`bool`=*`False`*)\n",
       "\n",
       "Renders 3D figures that display the location of Dirichlet boundaries, design space and forces.\n",
       "\n",
       "||Type|Default|Details|\n",
       "|---|---|---|---|\n",
       "|**`display`**|`bool`|`True`|Whether the figure is displayed.|\n",
       "|**`file_path`**|`str`|`None`|Path where the figure is saved.|\n",
       "|**`camera_position`**|`typing.Union[list, tuple]`|`(0, 0.1, 0.12)`|x, y, and z coordinates of the camera position.|\n",
       "|**`use_pyvista`**|`bool`|`False`|Whether to use pyvista for plotting. If `False`, then plotly is used. Pyvista generates better looking visualizations, but does not support basic features like colorbars, title display and saving.|\n",
       "|**`window_size`**|`typing.Union[tuple, list]`|`(300, 300)`|The size of the window that displays the plot. Only has an effect if `use_pyvista=True`.|\n",
       "|**`smooth_iters`**|`int`|`0`|The number of smoothing iterations for better looking visualizations. Only has an effect if `use_pyvista=True`.|\n",
       "|**`show_colorbar`**|`bool`|`True`|Determines whether a reference colorbar is displayed for the plotted voxel color values.|\n",
       "|**`show_axislabels`**|`bool`|`False`|Whether the 3d axes are labelled with their dimensions.|\n",
       "|**`show_ticklabels`**|`bool`|`False`|Whether the 3d axes ticks are displayed and labeled.|\n",
       "|**`export_png`**|`bool`|`False`|Whether the figure is exported and saved as a png file, in addition to the standard html format.|\n"
      ],
      "text/plain": [
       "<IPython.core.display.Markdown object>"
      ]
     },
     "metadata": {},
     "output_type": "display_data"
    }
   ],
   "source": [
    "show_doc(Problem.plot)"
   ]
  },
  {
   "cell_type": "markdown",
   "id": "ab09d3ab-3b14-4ae9-a51d-804a9a1b906e",
   "metadata": {},
   "source": [
    "## Examples"
   ]
  },
  {
   "cell_type": "code",
   "execution_count": null,
   "id": "2b5999fe-4fc4-449e-aef1-d9df95ffc38e",
   "metadata": {},
   "outputs": [],
   "source": [
    "#ignore\n",
    "import torch\n",
    "\n",
    "# scalar material properties\n",
    "E = 7e10 # Young's modulus (in Pascal)\n",
    "ν = .3 # Poisson's ratio\n",
    "σ_ys = 4.5e8 # Yield stress (in Pascal)\n",
    "\n",
    "shape = [40, 4, 8] # number of voxels in x, y and z direction\n",
    "h = [0.0250, 0.0250, 0.0250] # spacial dimensions of each voxel in x, y and direction (in meters)\n",
    "\n",
    "# define external forces\n",
    "F = torch.zeros(3, *shape)\n",
    "F[-1, :, :, -1] = -4e7 # external forces (in Newton)\n",
    "\n",
    "# define locations of homogeneous Dirichlet conditions\n",
    "Ω_dirichlet = torch.zeros(3, *shape)\n",
    "Ω_dirichlet[:, 0, :, :] = 1\n",
    "\n",
    "# define design space\n",
    "Ω_design = -torch.ones(1, *shape) # -1s indicate that these voxels can be freely optimized\n",
    "Ω_design[:,:2,:,:] = 1. # we set densities to 1 where there are Dirichlet boundary conditions\n",
    "Ω_design[:,:,:,-2:] = 1. # we set densities to 1 where there are external forces\n",
    "\n",
    "problem = Problem(E, ν, σ_ys, h, Ω_dirichlet, Ω_design, F)"
   ]
  },
  {
   "cell_type": "code",
   "execution_count": null,
   "id": "1d2a3329-8a64-43e2-8558-54dda2351a33",
   "metadata": {},
   "outputs": [],
   "source": [
    "#ignore\n",
    "camera_position = (0, 0.35, 0.2)\n",
    "problem.plot(camera_position=camera_position,\n",
    "             show_axislabels=True,\n",
    "             show_ticklabels=True,\n",
    "             display=False)"
   ]
  },
  {
   "cell_type": "markdown",
   "id": "8db6f21c-23b2-47d6-9ec4-0fb009959df7",
   "metadata": {},
   "source": [
    "![dirichlet](https://dl4to.github.io/dl4to/images/1_dirichlet.png)\n",
    "![design](https://dl4to.github.io/dl4to/images/1_design.png)\n",
    "![force_loc](https://dl4to.github.io/dl4to/images/1_force_locs.png)\n",
    "![force_dir](https://dl4to.github.io/dl4to/images/1_force_dirs.png)"
   ]
  },
  {
   "cell_type": "code",
   "execution_count": null,
   "id": "4c658bc9",
   "metadata": {},
   "outputs": [],
   "source": [
    "#hide \n",
    "def get_problem(device='cpu', dtype=torch.float32):\n",
    "    name = 'testname'\n",
    "    h = torch.ones(3)\n",
    "    E, ν = 1, 1\n",
    "\n",
    "    Ω_dirichlet = torch.zeros(3, 5, 5, 5)\n",
    "    Ω_design = torch.zeros(1, 5, 5, 5)\n",
    "    F = torch.rand(3, 5, 5, 5)\n",
    "\n",
    "    problem = Problem(\n",
    "        E=E, ν=ν, σ_ys=2.5e8, h=h,\n",
    "        Ω_dirichlet=Ω_dirichlet,\n",
    "        Ω_design=Ω_design,\n",
    "        F=F,\n",
    "        name='testname',\n",
    "        device=device,\n",
    "        dtype=dtype,\n",
    "    )\n",
    "\n",
    "    return problem"
   ]
  },
  {
   "cell_type": "code",
   "execution_count": null,
   "id": "3c19b719",
   "metadata": {},
   "outputs": [
    {
     "name": "stdout",
     "output_type": "stream",
     "text": [
      "CPU times: user 2.2 ms, sys: 0 ns, total: 2.2 ms\n",
      "Wall time: 2.01 ms\n"
     ]
    }
   ],
   "source": [
    "%%time\n",
    "#hide\n",
    "\n",
    "\n",
    "\n",
    "def test_device_and_dtype():\n",
    "    device = 'cpu'\n",
    "    for dtype in [torch.float, torch.float64]:\n",
    "        problem = get_problem(device=device, dtype=dtype)\n",
    "\n",
    "        assert problem.Ω_dirichlet.device.type == device\n",
    "        assert problem.Ω_design.device.type == device\n",
    "        assert problem.F.device.type == device\n",
    "        assert problem.F.dtype == dtype\n",
    "\n",
    "test_device_and_dtype()"
   ]
  },
  {
   "cell_type": "code",
   "execution_count": null,
   "id": "c0a358d8",
   "metadata": {},
   "outputs": [
    {
     "name": "stdout",
     "output_type": "stream",
     "text": [
      "CPU times: user 1.72 ms, sys: 0 ns, total: 1.72 ms\n",
      "Wall time: 1.58 ms\n"
     ]
    }
   ],
   "source": [
    "%%time\n",
    "#hide\n",
    "\n",
    "def test_that_the_clone_has_the_same_attributes():\n",
    "    problem = get_problem()\n",
    "    problem_clone = problem.clone()\n",
    "\n",
    "    assert torch.all(problem.Ω_dirichlet == problem_clone.Ω_dirichlet)\n",
    "    assert torch.all(problem.Ω_design == problem_clone.Ω_design)\n",
    "    assert torch.all(problem.F == problem_clone.F)\n",
    "    assert problem.E == problem_clone.E\n",
    "    assert problem.ν == problem_clone.ν\n",
    "    assert problem.name == problem_clone.name\n",
    "\n",
    "\n",
    "test_that_the_clone_has_the_same_attributes()"
   ]
  },
  {
   "cell_type": "code",
   "execution_count": null,
   "id": "bf10caf7",
   "metadata": {},
   "outputs": [
    {
     "name": "stdout",
     "output_type": "stream",
     "text": [
      "CPU times: user 40 µs, sys: 0 ns, total: 40 µs\n",
      "Wall time: 43.2 µs\n"
     ]
    }
   ],
   "source": [
    "%%time\n",
    "#hide\n",
    "\n",
    "def test_invalid_geometry_gets_caught():\n",
    "    caught = True\n",
    "\n",
    "    try:\n",
    "        problem = Problem(\n",
    "            name='testname',\n",
    "            p0=np.array([0, 0, 0]),\n",
    "            p1=np.array([1, -1, 1]),\n",
    "            E=E, ν=ν,\n",
    "            Ω_dirichlet=Ω_dirichlet,\n",
    "            Ω_design=Ω_design,\n",
    "            F=F\n",
    "        )\n",
    "        caught = False\n",
    "    except:\n",
    "        pass\n",
    "\n",
    "    assert caught\n",
    "\n",
    "\n",
    "test_invalid_geometry_gets_caught()"
   ]
  },
  {
   "cell_type": "code",
   "execution_count": null,
   "id": "f09356de",
   "metadata": {},
   "outputs": [
    {
     "name": "stdout",
     "output_type": "stream",
     "text": [
      "CPU times: user 2.49 ms, sys: 0 ns, total: 2.49 ms\n",
      "Wall time: 2.08 ms\n"
     ]
    }
   ],
   "source": [
    "%%time\n",
    "#hide\n",
    "\n",
    "def test_can_one_differentiate_in_Problem():\n",
    "    F_ = torch.rand(3, 5, 5, 5, requires_grad=True)\n",
    "    F = F_ * .5\n",
    "\n",
    "    name = 'testname'\n",
    "    h = torch.ones(3)\n",
    "    E, ν = 1, 1\n",
    "\n",
    "    Ω_dirichlet = torch.zeros(3, 5, 5, 5)\n",
    "    Ω_design = torch.zeros(1, 5, 5, 5)\n",
    "\n",
    "    problem = Problem(\n",
    "        name='testname',\n",
    "        h=h,\n",
    "        E=E, ν=ν, σ_ys=2.5e8,\n",
    "        Ω_dirichlet=Ω_dirichlet,\n",
    "        Ω_design=Ω_design,\n",
    "        F=F\n",
    "    )\n",
    "\n",
    "    assert problem.F.requires_grad\n",
    "\n",
    "    grad = torch.autograd.grad(problem.F.mean(), F_)\n",
    "    assert len(grad) == 1\n",
    "\n",
    "    grad = grad[0]\n",
    "    assert grad.shape == (3, 5, 5, 5)\n",
    "    assert torch.all(grad == 0.004/3)\n",
    "\n",
    "\n",
    "test_can_one_differentiate_in_Problem()"
   ]
  },
  {
   "cell_type": "code",
   "execution_count": null,
   "id": "d57eaf38",
   "metadata": {},
   "outputs": [
    {
     "name": "stdout",
     "output_type": "stream",
     "text": [
      "CPU times: user 924 µs, sys: 0 ns, total: 924 µs\n",
      "Wall time: 841 µs\n"
     ]
    }
   ],
   "source": [
    "%%time\n",
    "#hide\n",
    "\n",
    "def test_move_to_device(device='cpu'):\n",
    "    problem = get_problem()\n",
    "    problem.device = device\n",
    "    assert str(problem.Ω_dirichlet.device) == device\n",
    "\n",
    "test_move_to_device()"
   ]
  },
  {
   "cell_type": "code",
   "execution_count": null,
   "id": "62eaaacd-f474-4395-995e-517b095feeee",
   "metadata": {},
   "outputs": [],
   "source": []
  }
 ],
 "metadata": {
  "kernelspec": {
   "display_name": "Python 3 (ipykernel)",
   "language": "python",
   "name": "python3"
  }
 },
 "nbformat": 4,
 "nbformat_minor": 5
}
