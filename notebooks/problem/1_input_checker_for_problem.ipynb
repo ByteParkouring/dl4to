{
 "cells": [
  {
   "cell_type": "code",
   "execution_count": null,
   "id": "86f6bf7b",
   "metadata": {},
   "outputs": [],
   "source": [
    "#default_exp problem"
   ]
  },
  {
   "cell_type": "code",
   "execution_count": null,
   "id": "1bef0fe3",
   "metadata": {},
   "outputs": [],
   "source": [
    "#exporti\n",
    "import torch\n",
    "import numpy as np"
   ]
  },
  {
   "cell_type": "code",
   "execution_count": null,
   "id": "924c8dfb-20a4-43e2-9d93-50e42ee802d9",
   "metadata": {},
   "outputs": [],
   "source": [
    "#exporti\n",
    "class InputCheckerForProblem:\n",
    "    @staticmethod\n",
    "    def check_init(problem):\n",
    "        InputCheckerForProblem._check_all_non_tensor_constructur_arguments(problem)\n",
    "        InputCheckerForProblem._check_all_tensor_constructur_arguments(problem)\n",
    "        InputCheckerForProblem._ckeck_consistency_of_design_space_data(problem)\n",
    "\n",
    "\n",
    "    @staticmethod\n",
    "    def _check_all_non_tensor_constructur_arguments(problem):\n",
    "        if not isinstance(problem._name, str):\n",
    "            if problem._name is not None:\n",
    "                raise TypeError(\"name must be given as a String.\")\n",
    "\n",
    "        if type(problem._h) != torch.Tensor or len(problem._h) != 3:\n",
    "            raise ValueError(\"h must be a 1d-array of length 3.\")\n",
    "\n",
    "        if torch.any(problem._h <= 0.):\n",
    "            raise ValueError(\"The values in h must be larger than 0.\")\n",
    "\n",
    "        if not np.isscalar(problem._E):\n",
    "            raise ValueError(\"E must be scalar.\")\n",
    "\n",
    "        if not np.isscalar(problem._ν):\n",
    "            raise ValueError(\"ν must be scalar.\")\n",
    "\n",
    "\n",
    "    @staticmethod\n",
    "    def _check_all_tensor_constructur_arguments(problem):\n",
    "        if len(problem.Ω_dirichlet.shape) != 4 or problem.Ω_dirichlet.shape[0] != 3:\n",
    "            raise ValueError(\"Ω_dirichlet tensor is not of the right shape.\")\n",
    "\n",
    "        if len(problem.Ω_design.shape) != 4 or problem.Ω_design.shape[0] != 1:\n",
    "            raise ValueError(\"Ω_design tensor is not of the right shape.\")\n",
    "\n",
    "        if len(problem.F.shape) != 4 or problem.F.shape[0] != 3:\n",
    "            raise ValueError(\"F tensor is not of the right shape.\")\n",
    "\n",
    "        if not (problem.Ω_dirichlet.shape[-3:] == problem.Ω_design.shape[-3:] == problem.F.shape[-3:]):\n",
    "            raise ValueError(\"shapes of shapepaces are inconsistent.\")\n",
    "\n",
    "\n",
    "    @staticmethod\n",
    "    def _ckeck_consistency_of_design_space_data(problem):\n",
    "        if not torch.all((problem.Ω_design == -1) + (problem.Ω_design == 0) + (problem.Ω_design == 1)):\n",
    "            raise ValueError(\"Design-Space tensor cannot have values other than -1, 0, 1\")\n",
    "\n",
    "        if not torch.all((problem.Ω_dirichlet == 0) + (problem.Ω_dirichlet == 1)):\n",
    "            raise ValueError(\"Tensor of Dirichlet BC locations cannot have values other than 0 and 1\")"
   ]
  }
 ],
 "metadata": {
  "kernelspec": {
   "display_name": "Python 3 (ipykernel)",
   "language": "python",
   "name": "python3"
  }
 },
 "nbformat": 4,
 "nbformat_minor": 5
}
