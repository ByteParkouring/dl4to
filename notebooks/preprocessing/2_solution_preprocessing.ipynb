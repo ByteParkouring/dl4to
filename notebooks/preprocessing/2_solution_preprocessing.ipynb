{
 "cells": [
  {
   "cell_type": "code",
   "execution_count": null,
   "id": "565b0bdf-3793-4908-814a-3c6b457fed62",
   "metadata": {},
   "outputs": [],
   "source": [
    "#default_exp preprocessing"
   ]
  },
  {
   "cell_type": "code",
   "execution_count": null,
   "id": "11a78190-8db1-40bf-b0e4-4a6639adc35f",
   "metadata": {},
   "outputs": [],
   "source": [
    "#exporti\n",
    "import torch\n",
    "import warnings\n",
    "from typing import Union\n",
    "\n",
    "from dl4to.preprocessing import Preprocessing\n",
    "from dl4to.utils import cast_to_solution"
   ]
  },
  {
   "cell_type": "code",
   "execution_count": null,
   "id": "1df714f9-0881-423d-ac32-ade0b3203465",
   "metadata": {},
   "outputs": [],
   "source": [
    "#hide\n",
    "from nbdev.showdoc import show_doc"
   ]
  },
  {
   "cell_type": "markdown",
   "id": "6cab4036-b44e-4803-be79-68e5d7da70fe",
   "metadata": {},
   "source": [
    "# Solution preprocessing"
   ]
  },
  {
   "cell_type": "code",
   "execution_count": null,
   "id": "267f2389-7c73-4132-bda1-aabe1e73d6da",
   "metadata": {},
   "outputs": [],
   "source": [
    "#export\n",
    "class SolutionPreprocessing(Preprocessing):\n",
    "    \"\"\"\n",
    "    A parent class for several solution preprocessing strategies.\n",
    "    Solution preprocessing processes the data based on solution specific information like stresses, displacements and densities.\n",
    "    \"\"\"\n",
    "    def __init__(self, \n",
    "                 name:str=None, # The name of the preprocessing.\n",
    "                 normalize:bool=False # Whether to normalize the output of the preprocessing.\n",
    "                ):\n",
    "        super().__init__(preprocessing_type='solution', \n",
    "                         name=name, \n",
    "                         normalize=normalize)\n",
    "\n",
    "\n",
    "    def __call__(self,\n",
    "                 problem_or_solution:Union[\"dl4to.problem.Problem\",\"dl4to.solution.Solution\"] # A problem or solution object.\n",
    "                ):\n",
    "        \"\"\"\n",
    "        Applies the preprocessing to a problem or solution object. Returns a `torch.Tensor` object.\n",
    "        If a problem object is passed, then it is automatically converted to its trivial solution via `problem.trivial_solution`.\n",
    "        \"\"\"\n",
    "        raise NotImplementedError(\"Must be overridden.\")"
   ]
  },
  {
   "cell_type": "code",
   "execution_count": null,
   "id": "747bd5e3-ed3f-4646-b2d5-6f9b24a58145",
   "metadata": {},
   "outputs": [
    {
     "data": {
      "text/markdown": [
       "<h4 id=\"SolutionPreprocessing.__call__\" class=\"doc_header\"><code>SolutionPreprocessing.__call__</code><a href=\"__main__.py#L16\" class=\"source_link\" style=\"float:right\">[source]</a></h4>\n",
       "\n",
       "> <code>SolutionPreprocessing.__call__</code>(**`problem_or_solution`**:`Union`\\[`ForwardRef('dl4to.problem.Problem')`, `ForwardRef('dl4to.solution.Solution')`\\])\n",
       "\n",
       "Applies the preprocessing to a problem or solution object. Returns a `torch.Tensor` object.\n",
       "If a problem object is passed, then it is automatically converted to its trivial solution via `problem.trivial_solution`.\n",
       "\n",
       "||Type|Default|Details|\n",
       "|---|---|---|---|\n",
       "|**`problem_or_solution`**|`typing.Union[ForwardRef('dl4to.problem.Problem'), ForwardRef('dl4to.solution.Solution')]`||A problem or solution object.|\n"
      ],
      "text/plain": [
       "<IPython.core.display.Markdown object>"
      ]
     },
     "metadata": {},
     "output_type": "display_data"
    }
   ],
   "source": [
    "show_doc(SolutionPreprocessing.__call__)"
   ]
  },
  {
   "cell_type": "code",
   "execution_count": null,
   "id": "9433d536-e6c5-478b-9424-7a7b6b55bfd1",
   "metadata": {},
   "outputs": [],
   "source": [
    "#export\n",
    "class PDEPreprocessing(SolutionPreprocessing):\n",
    "    \"\"\"\n",
    "    PDE preprocessing [1, 2] computes the von Mises stresses for the trivial solution. We normalize the resulting tensor with $20\\%$ of the yield stress to obtain outputs that are likely close to the unit interval. \n",
    "    These initial von Mises stresses are then used as a $1$-channel input to the neural network. It is also possible to use the displacements $u$ as input, or a concatenation of $u$ and $\\sigma_{vM}$. \n",
    "    We found that using the von Mises stresses $\\sigma_{vM}$ is usually enough.\n",
    "    \"\"\"\n",
    "    def __init__(self, \n",
    "                 use_u:bool=False, # Whether to use the displacements in the preprocessing.\n",
    "                 use_σ_vm:bool=True, # Whether to use the von Mises stresses in the preprocessing.\n",
    "                 normalize:bool=False # Whether to normalize the forces in the output of the preprocessing. If True, then a dataset is required.\n",
    "                ):\n",
    "        self.use_u = use_u\n",
    "        self.use_σ_vm = use_σ_vm\n",
    "        if not any([self.use_u, self.use_σ_vm]):\n",
    "            warnings.warn(\"At least one of `use_u` and `use_σ_vm` must be True.\")\n",
    "        super().__init__(name = \"pde_preprocessing\", normalize=normalize)\n",
    "\n",
    "\n",
    "    def __call__(self,\n",
    "                 problem_or_solution:Union[\"dl4to.problem.Problem\",\"dl4to.solution.Solution\"] # A problem or solution object.\n",
    "                ):\n",
    "        \"\"\"\n",
    "        Applies the preprocessing to a problem or solution object. Returns a `torch.Tensor` object.\n",
    "        If a problem object is passed, then it is automatically converted to its trivial solution via `problem.trivial_solution`.\n",
    "        \"\"\"\n",
    "        solution = cast_to_solution(problem_or_solution)\n",
    "        u, _, σ_vm = solution.solve_pde()\n",
    "        if self.normalize:\n",
    "            σ_vm = σ_vm.clone() / .2 * solution.problem.σ_ys\n",
    "            u = 1e2 * u.clone()\n",
    "        output = []\n",
    "        if self.use_u:\n",
    "            output.append(u)\n",
    "        if self.use_σ_vm:\n",
    "            output.append(σ_vm)\n",
    "        return torch.cat(output, dim=0).unsqueeze(0)\n",
    "\n",
    "\n",
    "    def _get_shape(self):\n",
    "        return 3 * self.use_u + self.use_σ_vm\n",
    "\n",
    "\n",
    "    def _get_vector_directions(self):\n",
    "        return ['x', 'y', 'z'] * self.use_u + [None] * self.use_σ_vm"
   ]
  },
  {
   "cell_type": "code",
   "execution_count": null,
   "id": "9e51560b-e2e8-4ee3-bebe-ccc9c2d19751",
   "metadata": {},
   "outputs": [],
   "source": [
    "#export\n",
    "class DensityPreprocessing(SolutionPreprocessing):\n",
    "    \"\"\"\n",
    "    A preprocessing that simply returns the density distribution of the solution objects as outputs.\n",
    "    \"\"\"\n",
    "    def __init__(self, \n",
    "                 binary:bool=False, # Whether the density should be binarized.\n",
    "                 normalize:bool=False # Whether to normalize the output of the preprocessing.\n",
    "                ):\n",
    "        super().__init__(name=\"density_preprocessing\", normalize=normalize)\n",
    "        self.binary = binary\n",
    "\n",
    "\n",
    "    def __call__(self,\n",
    "                 problem_or_solution:Union[\"dl4to.problem.Problem\",\"dl4to.solution.Solution\"] # A problem or solution object.\n",
    "                ):\n",
    "        \"\"\"\n",
    "        Applies the preprocessing to a problem or solution object. Returns a `torch.Tensor` object.\n",
    "        If a problem object is passed, then it is automatically converted to its trivial solution via `problem.trivial_solution`.\n",
    "        \"\"\"\n",
    "        solution = cast_to_solution(problem_or_solution)\n",
    "        return solution.get_θ(binary=self.binary).unsqueeze(0)\n",
    "\n",
    "\n",
    "    def _get_shape(self):\n",
    "        return 1\n",
    "\n",
    "\n",
    "    def _get_vector_directions(self):\n",
    "        return [None]"
   ]
  },
  {
   "cell_type": "markdown",
   "id": "e1108c6d-131a-4e34-9f3b-15d88884ece5",
   "metadata": {},
   "source": [
    "# References"
   ]
  },
  {
   "cell_type": "markdown",
   "id": "3c49421d-5e2b-4d96-b7cb-063974d21352",
   "metadata": {},
   "source": [
    "[1] Dittmer, Sören, et al. \"SELTO: Sample-Efficient Learned Topology Optimization.\" arXiv preprint arXiv:2209.05098 (2022).\n",
    "\n",
    "[2] Zhang, Yiquan, et al. \"A deep convolutional neural network for topology optimization with strong generalization ability.\" arXiv preprint arXiv:1901.07761 (2019)."
   ]
  },
  {
   "cell_type": "code",
   "execution_count": null,
   "id": "1ae11e54-0cd8-4588-b5d7-b1355246d6cd",
   "metadata": {},
   "outputs": [],
   "source": [
    "#hide\n",
    "from dl4to.datasets import BasicDataset\n",
    "from dl4to.pde import FDM"
   ]
  },
  {
   "cell_type": "code",
   "execution_count": null,
   "id": "2735c62f-8051-4cd2-979a-51fc9db60ba7",
   "metadata": {},
   "outputs": [
    {
     "name": "stdout",
     "output_type": "stream",
     "text": [
      "CPU times: user 1.54 s, sys: 130 ms, total: 1.67 s\n",
      "Wall time: 502 ms\n"
     ]
    }
   ],
   "source": [
    "%%time\n",
    "#hide\n",
    "\n",
    "def test_that_calling_PDE_preprocessing_with_problem_does_the_same_like_when_calling_with_trivial_solution():\n",
    "    problem = BasicDataset(resolution=15).ledge()\n",
    "    preprocessing = PDEPreprocessing()\n",
    "    problem.pde_solver = FDM()\n",
    "    assert torch.all(preprocessing(problem) == preprocessing(problem.trivial_solution))\n",
    "\n",
    "test_that_calling_PDE_preprocessing_with_problem_does_the_same_like_when_calling_with_trivial_solution()"
   ]
  },
  {
   "cell_type": "code",
   "execution_count": null,
   "id": "a8f66b8b-c2a2-445d-b268-a48e51ea9846",
   "metadata": {},
   "outputs": [
    {
     "name": "stdout",
     "output_type": "stream",
     "text": [
      "CPU times: user 1.52 s, sys: 31.1 ms, total: 1.55 s\n",
      "Wall time: 440 ms\n"
     ]
    }
   ],
   "source": [
    "%%time\n",
    "#hide\n",
    "\n",
    "def test_that_shape_is_correct():\n",
    "    problem = BasicDataset(resolution=15).ledge()\n",
    "\n",
    "    preprocessing = PDEPreprocessing()\n",
    "    problem.pde_solver = FDM()\n",
    "    assert preprocessing(problem).shape[0] == 1\n",
    "    assert preprocessing(problem).shape[1] == preprocessing.shape\n",
    "\n",
    "\n",
    "    preprocessing = DensityPreprocessing()\n",
    "    assert preprocessing(problem).shape[0] == 1\n",
    "    assert preprocessing(problem).shape[1] == preprocessing.shape\n",
    "\n",
    "\n",
    "\n",
    "test_that_shape_is_correct()"
   ]
  }
 ],
 "metadata": {
  "kernelspec": {
   "display_name": "Python 3 (ipykernel)",
   "language": "python",
   "name": "python3"
  }
 },
 "nbformat": 4,
 "nbformat_minor": 5
}
