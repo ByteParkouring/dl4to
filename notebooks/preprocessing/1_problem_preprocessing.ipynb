{
 "cells": [
  {
   "cell_type": "code",
   "execution_count": null,
   "id": "53cb98f9-7740-4c60-9bf1-b7815eb2ba6d",
   "metadata": {},
   "outputs": [],
   "source": [
    "#default_exp preprocessing"
   ]
  },
  {
   "cell_type": "code",
   "execution_count": null,
   "id": "31860738-e42d-42f1-8901-73da632080af",
   "metadata": {},
   "outputs": [],
   "source": [
    "#exporti\n",
    "import torch\n",
    "import warnings\n",
    "from skimage.morphology import convex_hull_image\n",
    "from typing import Union\n",
    "\n",
    "from dl4to.preprocessing import Preprocessing\n",
    "from dl4to.utils import cast_to_problem"
   ]
  },
  {
   "cell_type": "code",
   "execution_count": null,
   "id": "5e480bee-a814-4096-aaff-a2e4c69ef38d",
   "metadata": {},
   "outputs": [],
   "source": [
    "#hide\n",
    "from nbdev.showdoc import show_doc"
   ]
  },
  {
   "cell_type": "markdown",
   "id": "ce743364-2748-486b-9678-7473d36349d3",
   "metadata": {},
   "source": [
    "# Problem preprocessing"
   ]
  },
  {
   "cell_type": "code",
   "execution_count": null,
   "id": "00bba355-c513-4401-af28-9cccf62a12ef",
   "metadata": {},
   "outputs": [],
   "source": [
    "#export\n",
    "class ProblemPreprocessing(Preprocessing):\n",
    "    \"\"\"\n",
    "    A parent class for several problem preprocessing strategies. \n",
    "    Problem preprocessing processes the data based on problem specific information like forces and boundary conditions.\n",
    "    \"\"\"\n",
    "    def __init__(self, \n",
    "                 name:str=None, # The name of the preprocessing.\n",
    "                 normalize:bool=False # Whether to normalize the output of the preprocessing.\n",
    "                ):\n",
    "        super().__init__(preprocessing_type='problem', \n",
    "                         name=name, \n",
    "                         normalize=normalize)\n",
    "\n",
    "\n",
    "    def __call__(self,\n",
    "                 problem_or_solution:Union[\"dl4to.problem.Problem\",\"dl4to.solution.Solution\"] # A problem or solution object.\n",
    "                ):\n",
    "        \"\"\"\n",
    "        Applies the preprocessing to a problem or solution object. Returns a `torch.Tensor` object.\n",
    "        If a solution object is passed, then it is automatically converted to a problem object via `solution.problem`.\n",
    "\n",
    "        \"\"\"\n",
    "        raise NotImplementedError(\"Must be overridden.\")"
   ]
  },
  {
   "cell_type": "code",
   "execution_count": null,
   "id": "80f9339b-11e7-4828-924a-86470d9976c4",
   "metadata": {},
   "outputs": [
    {
     "data": {
      "text/markdown": [
       "<h4 id=\"ProblemPreprocessing.__call__\" class=\"doc_header\"><code>ProblemPreprocessing.__call__</code><a href=\"__main__.py#L16\" class=\"source_link\" style=\"float:right\">[source]</a></h4>\n",
       "\n",
       "> <code>ProblemPreprocessing.__call__</code>(**`problem_or_solution`**:`Union`\\[`ForwardRef('dl4to.problem.Problem')`, `ForwardRef('dl4to.solution.Solution')`\\])\n",
       "\n",
       "Applies the preprocessing to a problem or solution object. Returns a `torch.Tensor` object.\n",
       "If a solution object is passed, then it is automatically converted to a problem object via `solution.problem`.\n",
       "\n",
       "||Type|Default|Details|\n",
       "|---|---|---|---|\n",
       "|**`problem_or_solution`**|`typing.Union[ForwardRef('dl4to.problem.Problem'), ForwardRef('dl4to.solution.Solution')]`||A problem or solution object.|\n"
      ],
      "text/plain": [
       "<IPython.core.display.Markdown object>"
      ]
     },
     "metadata": {},
     "output_type": "display_data"
    }
   ],
   "source": [
    "show_doc(ProblemPreprocessing.__call__)"
   ]
  },
  {
   "cell_type": "code",
   "execution_count": null,
   "id": "a81fe6f2-35fe-4bb8-af67-edb5e97ecea9",
   "metadata": {},
   "outputs": [],
   "source": [
    "#export\n",
    "class TrivialPreprocessing(ProblemPreprocessing):\n",
    "    \"\"\"\n",
    "    The output of trivial preprocessing [1] is a 7-channel tensor which results from the channel-wise concatenation of Dirichlet boundary conditions, design space information and loads. \n",
    "    It is possible to normalize each sample’s F via the infinity norm over all forces in a dataset.\n",
    "    \"\"\"\n",
    "    def __init__(self, \n",
    "                 normalize:bool=False, # Whether to normalize the forces in the output of the preprocessing. If True, then a dataset is required.\n",
    "                 dataset:\"dl4to.datasets.TopoDataset\"=None # A dataset that is used for the normalization of the forces in the output of the preprocessing. Is only used if `normalize=True`.\n",
    "                ):\n",
    "        super().__init__(name=\"trivial_preprocessing\", normalize=normalize)\n",
    "        self.L_inf_norm_F = 1.\n",
    "        if self.normalize:\n",
    "            if dataset is None:\n",
    "                warnings.warn(\"Batch normalization is only possible if a dataset is provided.\")\n",
    "                self._normalize = False\n",
    "            else:\n",
    "                self.set_normalization_constant(dataset)\n",
    "\n",
    "\n",
    "    def set_normalization_constant(self, dataset):\n",
    "        max_forces = []\n",
    "        for i in range(len(dataset)):\n",
    "            problem, _ = dataset[i]\n",
    "            max_forces.append(problem.F.abs().max())\n",
    "\n",
    "        if len(max_forces) == 0:\n",
    "            return 1\n",
    "        self.L_inf_norm_F = sum(max_forces) / len(max_forces)\n",
    "\n",
    "\n",
    "    def __call__(self,\n",
    "                 problem_or_solution:Union[\"dl4to.problem.Problem\",\"dl4to.solution.Solution\"] # A problem or solution object.\n",
    "                ):\n",
    "        \"\"\"\n",
    "        Applies the preprocessing to a problem or solution object. Returns a `torch.Tensor` object.\n",
    "        If a solution object is passed, then it is automatically converted to a problem object via `solution.problem`.\n",
    "        \"\"\"\n",
    "        problem = cast_to_problem(problem_or_solution)\n",
    "        F = problem.F / self.L_inf_norm_F\n",
    "        return torch.cat([problem.Ω_dirichlet, problem.Ω_design, F]).unsqueeze(0)\n",
    "\n",
    "\n",
    "    def _get_shape(self):\n",
    "        return 7\n",
    "\n",
    "\n",
    "    def _get_vector_directions(self):\n",
    "        return [None, None, None, None, 'x', 'y', 'z']"
   ]
  },
  {
   "cell_type": "code",
   "execution_count": null,
   "id": "3595950b-88cf-4297-b3f0-918a524433f9",
   "metadata": {},
   "outputs": [],
   "source": [
    "#export\n",
    "class ForcePreprocessing(ProblemPreprocessing):\n",
    "    \"\"\"\n",
    "    The input of the neural network is the 3-channel force tensor F.\n",
    "    It is possible to normalize each sample’s F via the mean absolute maximum over a dataset.\n",
    "    \"\"\"\n",
    "    def __init__(self, \n",
    "                 normalize:bool=False, # Whether to normalize the forces in the output of the preprocessing. If True, then a dataset is required.\n",
    "                 dataset:\"dl4to.datasets.TopoDataset\"=None # A dataset that is used for the normalization of the forces in the output of the preprocessing. Is only used if `normalize=True`.\n",
    "                ):\n",
    "        super().__init__(name=\"force_preprocessing\", normalize=normalize)\n",
    "        self.L_inf_norm_F = 1.\n",
    "        if self.normalize:\n",
    "            if dataset is None:\n",
    "                warnings.warn(\"Batch normalization is only possible if a dataset is provided.\")\n",
    "                self._normalize = False\n",
    "            else:\n",
    "                self.set_normalization_constant(dataset)\n",
    "\n",
    "\n",
    "    def set_normalization_constant(self, dataset):\n",
    "        max_forces = []\n",
    "        for problem, _ in dataset:\n",
    "            max_forces.append(problem.F.abs().max())\n",
    "        if len(max_forces) == 0:\n",
    "            return 1\n",
    "        self.L_inf_norm_F = sum(max_forces) / len(max_forces)\n",
    "\n",
    "\n",
    "    def __call__(self,\n",
    "                 problem_or_solution:Union[\"dl4to.problem.Problem\",\"dl4to.solution.Solution\"] # A problem or solution object.\n",
    "                ):\n",
    "        \"\"\"\n",
    "        Applies the preprocessing to a problem or solution object. Returns a `torch.Tensor` object.\n",
    "        If a solution object is passed, then it is automatically converted to a problem object via `solution.problem`.\n",
    "        \"\"\"\n",
    "        problem = cast_to_problem(problem_or_solution)\n",
    "        F = problem.F / self.L_inf_norm_F\n",
    "        return F.unsqueeze(0)\n",
    "\n",
    "\n",
    "    def _get_shape(self):\n",
    "        return 3\n",
    "\n",
    "\n",
    "    def _get_vector_directions(self):\n",
    "        return ['x', 'y', 'z']"
   ]
  },
  {
   "cell_type": "code",
   "execution_count": null,
   "id": "580a6acc-5f82-4728-90fa-1bf22c43f965",
   "metadata": {},
   "outputs": [],
   "source": [
    "#export\n",
    "class ConvexHullPreprocessing(ProblemPreprocessing):\n",
    "    \"\"\"\n",
    "    The convex hull of a binary image is the set of pixels included in the smallest convex polygon that surround all white pixels in the input.\n",
    "    Convex hull preprocessing [1] generalizes this to 3d voxels and constructs a polygon with density 1 that connects the force allocation points to points with homogeneous Dirichlet boundary conditions.\n",
    "    This binary density polygon is the output of this preprocessing.\n",
    "\n",
    "    \"\"\"\n",
    "    def __init__(self):\n",
    "        super().__init__(name=\"convex_hull_preprocessing\")\n",
    "\n",
    "\n",
    "    def __call__(self,\n",
    "                 problem_or_solution:Union[\"dl4to.problem.Problem\",\"dl4to.solution.Solution\"] # A problem or solution object.\n",
    "                ):\n",
    "        \"\"\"\n",
    "        Applies the preprocessing to a problem or solution object. Returns a `torch.Tensor` object.\n",
    "        If a solution object is passed, then it is automatically converted to a problem object via `solution.problem`.\n",
    "        \"\"\"\n",
    "        problem = cast_to_problem(problem_or_solution)\n",
    "        Ω_design = problem.Ω_design\n",
    "        θ = (Ω_design == 1).type(torch.float32)\n",
    "        assert len(θ.shape) == 4, f\"{θ.shape=}\"\n",
    "        θ = torch.tensor(convex_hull_image(θ[0].numpy()))\n",
    "        θ = θ.unsqueeze(0)\n",
    "        assert len(θ.shape) == 4, f\"{θ.shape=}\"\n",
    "        return θ.unsqueeze(0).type(torch.float32)\n",
    "\n",
    "\n",
    "    def _get_shape(self):\n",
    "        return 1\n",
    "\n",
    "\n",
    "    def _get_vector_directions(self):\n",
    "        return [None]"
   ]
  },
  {
   "cell_type": "markdown",
   "id": "a44c603d-70ee-499a-b992-6645ef4c8883",
   "metadata": {},
   "source": [
    "# References"
   ]
  },
  {
   "cell_type": "markdown",
   "id": "983cd53f-63db-4ff1-a323-8a6b6f083188",
   "metadata": {},
   "source": [
    "[1] Dittmer, Sören, et al. \"SELTO: Sample-Efficient Learned Topology Optimization.\" arXiv preprint arXiv:2209.05098 (2022)."
   ]
  },
  {
   "cell_type": "code",
   "execution_count": null,
   "id": "719ed4e0-1e28-43b1-93d2-edb7b1327ba2",
   "metadata": {},
   "outputs": [],
   "source": [
    "#hide\n",
    "from dl4to.datasets import BasicDataset"
   ]
  },
  {
   "cell_type": "code",
   "execution_count": null,
   "id": "477b052d-4112-4ef8-a3b4-f7316de47545",
   "metadata": {},
   "outputs": [],
   "source": [
    "%%time\n",
    "#hide\n",
    "\n",
    "def test_that_shape_is_correct():\n",
    "    problem = BasicDataset(resolution=15).ledge()\n",
    "    preprocessing = TrivialPreprocessing()\n",
    "    assert preprocessing(problem).shape[0] == 1\n",
    "    assert preprocessing(problem).shape[1] == preprocessing.shape\n",
    "\n",
    "    preprocessing = ForcePreprocessing()\n",
    "    assert preprocessing(problem).shape[0] == 1\n",
    "    assert preprocessing(problem).shape[1] == preprocessing.shape\n",
    "\n",
    "    preprocessing = ConvexHullPreprocessing()\n",
    "    assert preprocessing(problem).shape[0] == 1\n",
    "    assert preprocessing(problem).shape[1] == preprocessing.shape\n",
    "\n",
    "\n",
    "test_that_shape_is_correct()"
   ]
  },
  {
   "cell_type": "code",
   "execution_count": null,
   "id": "e2c15612-1b99-4986-827f-9beae392f44b",
   "metadata": {},
   "outputs": [],
   "source": [
    "%%time\n",
    "#hide\n",
    "\n",
    "def test_that_batch_normalization_is_working():\n",
    "    problem = BasicDataset().ledge()\n",
    "    preprocessing_normalized = TrivialPreprocessing(normalize=True, dataset=[[problem, _]])\n",
    "    preprocessing_unnormalized = TrivialPreprocessing(normalize=False)\n",
    "    assert preprocessing_normalized(problem).abs().max() == 1\n",
    "    assert preprocessing_unnormalized(problem).abs().max() > 1e5\n",
    "\n",
    "    preprocessing_normalized = ForcePreprocessing(normalize=True, dataset=[[problem, _]])\n",
    "    preprocessing_unnormalized = ForcePreprocessing(normalize=False)\n",
    "    assert preprocessing_normalized(problem).abs().max() == 1\n",
    "    assert preprocessing_unnormalized(problem).abs().max() > 1e5\n",
    "\n",
    "\n",
    "test_that_batch_normalization_is_working()"
   ]
  }
 ],
 "metadata": {
  "kernelspec": {
   "display_name": "Python 3 (ipykernel)",
   "language": "python",
   "name": "python3"
  }
 },
 "nbformat": 4,
 "nbformat_minor": 5
}
