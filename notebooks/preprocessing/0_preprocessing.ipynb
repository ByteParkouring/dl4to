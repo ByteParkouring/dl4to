{
 "cells": [
  {
   "cell_type": "code",
   "execution_count": null,
   "id": "a801bd66",
   "metadata": {},
   "outputs": [],
   "source": [
    "#default_exp preprocessing"
   ]
  },
  {
   "cell_type": "code",
   "execution_count": null,
   "id": "69e62375",
   "metadata": {},
   "outputs": [],
   "source": [
    "#exporti\n",
    "import torch\n",
    "from typing import Union"
   ]
  },
  {
   "cell_type": "code",
   "execution_count": null,
   "id": "0e0372fb-4336-4d1a-a1f1-b4461045a30b",
   "metadata": {},
   "outputs": [],
   "source": [
    "#hide\n",
    "from nbdev.showdoc import show_doc"
   ]
  },
  {
   "cell_type": "markdown",
   "id": "18be1d60-af82-4967-8153-92d1bb19cbd2",
   "metadata": {},
   "source": [
    "# Preprocessing"
   ]
  },
  {
   "cell_type": "code",
   "execution_count": null,
   "id": "9f9ae11e-9172-4739-b9ba-e4a203cd172c",
   "metadata": {},
   "outputs": [],
   "source": [
    "#export\n",
    "class Preprocessing():\n",
    "    \"\"\"\n",
    "    A parent class for all data preprocessing strategies.\n",
    "    \"\"\"\n",
    "    def __init__(self, \n",
    "                 preprocessing_type:str, # The type of the preprocessing, which can either be \"problem\" or \"solution\". Problem preprocessing preprocesses the data based on problem information like forces etc., while solution preprocessing uses solution specific information like stresses, densities etc.\n",
    "                 name:str=None, # The name of the preprocessing.\n",
    "                 normalize:bool=False # Whether to normalize the output of the preprocessing.\n",
    "                ):\n",
    "        self.preprocessing_type = preprocessing_type\n",
    "        self.name = name\n",
    "        self._normalize = normalize\n",
    "        self._shape = self._get_shape()\n",
    "        self._vector_directions = self._get_vector_directions()\n",
    "        assert len(self.vector_directions) == self.shape\n",
    "\n",
    "\n",
    "    @property\n",
    "    def normalize(self):\n",
    "        return self._normalize\n",
    "\n",
    "\n",
    "    @property\n",
    "    def shape(self):\n",
    "        return self._shape\n",
    "\n",
    "\n",
    "    @property\n",
    "    def vector_directions(self):\n",
    "        return self._vector_directions\n",
    "\n",
    "\n",
    "    def __call__(self,\n",
    "                 problem_or_solution:Union[\"dl4to.problem.Problem\",\"dl4to.solution.Solution\"] # A problem or solution object.\n",
    "                ):\n",
    "        \"\"\"\n",
    "        Applies the preprocessing and returns a `torch.Tensor` object.\n",
    "        \"\"\"\n",
    "        raise NotImplementedError(\"Must be overridden.\")\n",
    "\n",
    "\n",
    "    def _get_shape(self):\n",
    "        raise NotImplementedError(\"Must be overridden.\")\n",
    "\n",
    "\n",
    "    def _get_vector_directions(self):\n",
    "        raise NotImplementedError(\"Must be overridden.\")\n",
    "\n",
    "\n",
    "    def __add__(self,\n",
    "                preprocessing:\"dl4to.preprocessing.Preprocessing\" # The preprocessing that should be added to the current one.\n",
    "               ):\n",
    "        \"\"\"\n",
    "        Summation of two preprocessings results in a new combined preprocessing that concatenates the output of both. Returns a `dl4to.preprocessing.CombinedPreprocessing` object.\n",
    "        \"\"\"\n",
    "        return CombinedPreprocessing(self, preprocessing)"
   ]
  },
  {
   "cell_type": "code",
   "execution_count": null,
   "id": "6ba81f56-11f3-4752-97ff-defab223e2c2",
   "metadata": {},
   "outputs": [
    {
     "data": {
      "text/markdown": [
       "<h4 id=\"Preprocessing.__call__\" class=\"doc_header\"><code>Preprocessing.__call__</code><a href=\"__main__.py#L34\" class=\"source_link\" style=\"float:right\">[source]</a></h4>\n",
       "\n",
       "> <code>Preprocessing.__call__</code>(**`problem_or_solution`**:`Union`\\[`ForwardRef('dl4to.problem.Problem')`, `ForwardRef('dl4to.solution.Solution')`\\])\n",
       "\n",
       "Applies the preprocessing and returns a `torch.Tensor` object.\n",
       "\n",
       "||Type|Default|Details|\n",
       "|---|---|---|---|\n",
       "|**`problem_or_solution`**|`typing.Union[ForwardRef('dl4to.problem.Problem'), ForwardRef('dl4to.solution.Solution')]`||A problem or solution object.|\n"
      ],
      "text/plain": [
       "<IPython.core.display.Markdown object>"
      ]
     },
     "metadata": {},
     "output_type": "display_data"
    }
   ],
   "source": [
    "show_doc(Preprocessing.__call__)"
   ]
  },
  {
   "cell_type": "code",
   "execution_count": null,
   "id": "d541e681-4c0b-4cd7-b401-162b28d007b4",
   "metadata": {},
   "outputs": [
    {
     "data": {
      "text/markdown": [
       "<h4 id=\"Preprocessing.__add__\" class=\"doc_header\"><code>Preprocessing.__add__</code><a href=\"__main__.py#L51\" class=\"source_link\" style=\"float:right\">[source]</a></h4>\n",
       "\n",
       "> <code>Preprocessing.__add__</code>(**`preprocessing`**:`dl4to.preprocessing.Preprocessing`)\n",
       "\n",
       "Summation of two preprocessings results in a new combined preprocessing that concatenates the output of both. Returns a `dl4to.preprocessing.CombinedPreprocessing` object.\n",
       "\n",
       "||Type|Default|Details|\n",
       "|---|---|---|---|\n",
       "|**`preprocessing`**|`dl4to.preprocessing.Preprocessing`||The preprocessing that should be added to the current one.|\n"
      ],
      "text/plain": [
       "<IPython.core.display.Markdown object>"
      ]
     },
     "metadata": {},
     "output_type": "display_data"
    }
   ],
   "source": [
    "show_doc(Preprocessing.__add__)"
   ]
  },
  {
   "cell_type": "code",
   "execution_count": null,
   "id": "d38af5c5-c86b-4282-b600-018eb559d01d",
   "metadata": {},
   "outputs": [],
   "source": [
    "#export\n",
    "class CombinedPreprocessing(Preprocessing):\n",
    "    \"\"\"\n",
    "    A class that results from the summation of two criteria.\n",
    "    \"\"\"\n",
    "    def __init__(self, \n",
    "                 preprocessing1:\"dl4to.preprocessing.Preprocessing\", # The first preprocessing.\n",
    "                 preprocessing2:\"dl4to.preprocessing.Preprocessing\", # The second preprocessing.\n",
    "                ):\n",
    "        self.preprocessing1 = preprocessing1\n",
    "        self.preprocessing2 = preprocessing2\n",
    "        name = f\"{preprocessing1.name}_plus_{preprocessing2.name}\"\n",
    "        preprocessing_type = f\"{preprocessing1.preprocessing_type}_plus_{preprocessing2.preprocessing_type}\"\n",
    "        super().__init__(preprocessing_type=preprocessing_type, name=name)\n",
    "\n",
    "\n",
    "    def __call__(self,\n",
    "                 problem_or_solution:Union[\"dl4to.problem.Problem\",\"dl4to.solution.Solution\"] # A problem or solution object.\n",
    "                ):\n",
    "        \"\"\"\n",
    "        Applies both preprocessing to a problem or solution object and performs channel-wise concatenation of their outputs. Returns a `torch.Tensor` object.\n",
    "        \"\"\"\n",
    "        output1 = self.preprocessing1(problem_or_solution)\n",
    "        output2 = self.preprocessing2(problem_or_solution)\n",
    "        return torch.cat([output1, output2], dim=1)\n",
    "\n",
    "\n",
    "    def _get_shape(self):\n",
    "        return self.preprocessing1.shape + self.preprocessing2.shape\n",
    "\n",
    "\n",
    "    def _get_vector_directions(self):\n",
    "        return self.preprocessing1.vector_directions + self.preprocessing2.vector_directions"
   ]
  }
 ],
 "metadata": {
  "kernelspec": {
   "display_name": "Python 3 (ipykernel)",
   "language": "python",
   "name": "python3"
  }
 },
 "nbformat": 4,
 "nbformat_minor": 5
}
