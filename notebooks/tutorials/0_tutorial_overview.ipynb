{
 "cells": [
  {
   "cell_type": "markdown",
   "id": "9bcb8648-cca2-478e-a1fe-95a21759e30c",
   "metadata": {},
   "source": [
    "# Tutorial"
   ]
  },
  {
   "cell_type": "markdown",
   "id": "4dfdac4c-b7f6-481b-a0cb-b50d4edd5014",
   "metadata": {},
   "source": [
    "#### Understand the structure of DL4TO"
   ]
  },
  {
   "cell_type": "markdown",
   "id": "87f8e119-5e64-42c9-aee8-f1bea9639b6d",
   "metadata": {},
   "source": [
    "We prepared four tutorials for you that explain the structure of our library and the intended way to use it."
   ]
  },
  {
   "cell_type": "markdown",
   "id": "3573805f-dc13-4cd4-a16f-9ae7f3741e2f",
   "metadata": {},
   "source": [
    "#### [1. Problems and solutions](https://dl4to.github.io/dl4to/tutorial_problems_and_solutions.html)\n",
    "\n",
    "In this tutorial you learn how to \n",
    "- set up custom problems\n",
    "- define solutions to them\n",
    "- work with trivial solutions\n",
    "- plot problems and solutions\n",
    "- compute the displacements and von Mises stresses for solutions and how to plot them"
   ]
  },
  {
   "cell_type": "markdown",
   "id": "3e1d9d34-dc03-42e4-9821-707aabc9613d",
   "metadata": {},
   "source": [
    "#### [2. Datasets and dataloaders](https://dl4to.github.io/dl4to/tutorial_datasets_and_dataloaders.html)\n",
    "\n",
    "In this tutorial you learn how to\n",
    "- load datasets, e.g., the SELTO datasets\n",
    "- how to use pyvista plotting\n",
    "- work with datasets\n",
    "- get dataloaders from datasets\n",
    "- create custom datasets"
   ]
  },
  {
   "cell_type": "markdown",
   "id": "12e90093-a1c4-4371-941b-7bf9a01f7343",
   "metadata": {},
   "source": [
    "#### [3. Topo solvers](https://dl4to.github.io/dl4to/tutorial_topo_solvers.html)\n",
    "\n",
    "In this tutorial you learn how to\n",
    "- use optimization criteria as objective functions or as evaluation metrics\n",
    "- use our topo solvers, particularly our SIMP topo solver"
   ]
  },
  {
   "cell_type": "markdown",
   "id": "02f4cbf2-5338-463a-8ba8-92f6028676ec",
   "metadata": {},
   "source": [
    "#### [4. Trainable topo solvers](https://dl4to.github.io/dl4to/tutorial_trainable_topo_solvers.html)\n",
    "\n",
    "In this tutorial you learn how to\n",
    "- use different data preprocessings\n",
    "- use neural networks for topology optimization\n",
    "- train and evaluate different models\n",
    "- use our UNets\n",
    "- apply equivariance to a neural network"
   ]
  }
 ],
 "metadata": {
  "kernelspec": {
   "display_name": "Python 3 (ipykernel)",
   "language": "python",
   "name": "python3"
  }
 },
 "nbformat": 4,
 "nbformat_minor": 5
}
