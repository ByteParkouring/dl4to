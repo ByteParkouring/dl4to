{
 "cells": [
  {
   "cell_type": "markdown",
   "id": "75528024-574b-47aa-856e-c062712eb48c",
   "metadata": {},
   "source": [
    "# Problems and solutions"
   ]
  },
  {
   "cell_type": "markdown",
   "id": "32fe39c3-20f9-4efd-8816-d3d0a16f5001",
   "metadata": {},
   "source": [
    "In this tutorial you learn how to \n",
    "- set up custom problems\n",
    "- define solutions to them\n",
    "- work with trivial solutions\n",
    "- plot problems and solutions\n",
    "- compute the displacements and von Mises stresses for solutions and how to plot them"
   ]
  },
  {
   "cell_type": "markdown",
   "id": "338d091c-52a2-4441-8f09-cb9aeaf7fa26",
   "metadata": {},
   "source": [
    "### The Problem class"
   ]
  },
  {
   "cell_type": "markdown",
   "id": "a0cd2dd0-1b67-4e91-85d2-992e65db3b52",
   "metadata": {},
   "source": [
    "#### Custom problem objects"
   ]
  },
  {
   "cell_type": "markdown",
   "id": "72b2dc91-9dfb-40d0-b7a4-42bdb994a73d",
   "metadata": {},
   "source": [
    "In this first lesson we explain how to use our DL4TO framework to generate custom TO problems. This is done via the Problem class, which contains all information of the underlying TO problem one intends to solve. \n",
    "We focus on isotropic materials that are linearly elastic. This comprises most common materials, e.g., including steel and aluminum. Since we perform optimization on structured grids, all information is either in scalar or in tensor form. This makes data compatible with DL applications since it allows for a shape-consistent tensor representation. \n",
    "\n",
    "Let $(n_x, n_y, n_z)$ be the number of voxels in each spacial direction, i.e. the shape of the TO problem. We can create unique problem objects characterized by the following inputs:\n",
    "\n",
    "- Scalar material properties that define the physical proporties of the underlying material. These include:\n",
    "    - Young's modulus $E>0$\n",
    "    - Poisson's ratio $\\nu\\in [0, 0.5]$\n",
    "    - The yield stress $\\sigma_{ys}>0$\n",
    "    \n",
    "- A three-dimensional vector $h$ that defines the voxel sizes in meters in each direction.\n",
    "\n",
    "- A binary ($3\\times n_x \\times n_y \\times n_z$)-tensor called $\\Omega_\\text{dirichlet}$ which we use to encode the presence of directional homogeneous Dirichlet boundary conditions for every voxel. These boundary conditions determine where the structure is \"locked\" in place, i.e. where the displacements are fixed at 0. $1$s indicate the presence, and $0$s the absence of homogeneous Dirichlet boundary conditions. Currently, we do not support non-homogeneous Dirichlet boundary conditions (i.e. voxels that have displacements fixed at some value $\\neq 0$) since we believe that they are not required for most TO tasks.\n",
    "\n",
    "- A ($1\\times n_x \\times n_y \\times n_z$)-tensor called $\\Omega_\\text{design}$ containing values $\\in \\left\\lbrace 0,1,-1\\right\\rbrace$ that we use to encode design space information. We use $0$s and $1$s to constrain voxel densities to be $0$ or $1$, respectively. Entries of $-1$ indicate a lack of density constraints, which signifies that the density in that voxel can be freely optimized.\n",
    "\n",
    "- A ($3\\times n_x \\times n_y \\times n_z$)-tensor called $F$, which encodes external forces given in $\\text{N}/\\text{m}^3$. The three channels correspond to the force magnitudes in each spacial dimension. For voxels that have external loads assigned to them we automatically enforce the corresponding density value to be $1$."
   ]
  },
  {
   "cell_type": "markdown",
   "id": "5a618105-952b-418c-bcdb-d19fa9a89455",
   "metadata": {},
   "source": [
    "We can manually create a problem object by defining all the required tensors by hand. For example:"
   ]
  },
  {
   "cell_type": "code",
   "execution_count": null,
   "id": "b6a35ae7-ef6e-4315-b12e-ed3086a5aa63",
   "metadata": {},
   "outputs": [],
   "source": [
    "#ignore\n",
    "import torch\n",
    "\n",
    "# scalar material properties\n",
    "E = 7e10 # Young's modulus (in Pascal)\n",
    "ν = .3 # Poisson's ratio\n",
    "σ_ys = 4.5e8 # Yield stress (in Pascal)\n",
    "\n",
    "shape = [40, 4, 8] # number of voxels in x, y and z direction\n",
    "h = [0.0250, 0.0250, 0.0250] # spacial dimensions of each voxel in x, y and direction (in meters)\n",
    "\n",
    "# define external forces\n",
    "F = torch.zeros(3, *shape)\n",
    "F[-1, :, :, -1] = -4e7 # external forces (in Newton)\n",
    "\n",
    "# define locations of homogeneous Dirichlet conditions\n",
    "Ω_dirichlet = torch.zeros(3, *shape)\n",
    "Ω_dirichlet[:, 0, :, :] = 1\n",
    "\n",
    "# define design space\n",
    "Ω_design = -torch.ones(1, *shape) # -1s indicate that these voxels can be freely optimized\n",
    "Ω_design[:,:2,:,:] = 1. # we set densities to 1 where there are Dirichlet boundary conditions\n",
    "Ω_design[:,:,:,-2:] = 1. # we set densities to 1 where there are external forces"
   ]
  },
  {
   "cell_type": "markdown",
   "id": "205fe43a-4228-4524-bc01-27e470f8689e",
   "metadata": {},
   "source": [
    "We can then generate a custom problem object:"
   ]
  },
  {
   "cell_type": "code",
   "execution_count": null,
   "id": "24df379b-54a5-4647-88d0-0492439d8b40",
   "metadata": {},
   "outputs": [],
   "source": [
    "#ignore\n",
    "from dl4to.problem import Problem\n",
    "\n",
    "problem = Problem(E, ν, σ_ys, h, Ω_dirichlet, Ω_design, F)"
   ]
  },
  {
   "cell_type": "markdown",
   "id": "abecebd7-f61f-4c67-8c52-53c3939e1ffe",
   "metadata": {},
   "source": [
    "The shape of the problem can be accessed via:"
   ]
  },
  {
   "cell_type": "code",
   "execution_count": null,
   "id": "a01ad0de-96fb-4a0d-bbfe-07036743baa8",
   "metadata": {},
   "outputs": [
    {
     "data": {
      "text/plain": [
       "torch.Size([40, 4, 8])"
      ]
     },
     "execution_count": null,
     "metadata": {},
     "output_type": "execute_result"
    }
   ],
   "source": [
    "#ignore\n",
    "problem.shape"
   ]
  },
  {
   "cell_type": "markdown",
   "id": "a8129757-d505-478d-b064-6ff8647ca0d9",
   "metadata": {},
   "source": [
    "In the following, will refer to this specific TO problem as the \"ledge\" problem."
   ]
  },
  {
   "cell_type": "markdown",
   "id": "62b8db86-f02d-4f0f-9473-a69fef1d1212",
   "metadata": {},
   "source": [
    "#### Three-dimensional interactive plotting"
   ]
  },
  {
   "cell_type": "markdown",
   "id": "9aaa2223-b994-4b1e-8bd9-562fca1d4bad",
   "metadata": {},
   "source": [
    "The problem class comes with several useful functionalities. One of them is interactive 3d plotting. We can use it to plot a visualization of our ledge problem:"
   ]
  },
  {
   "cell_type": "code",
   "execution_count": null,
   "id": "10f799f7-82b3-4f88-92a3-e05a727f384e",
   "metadata": {},
   "outputs": [],
   "source": [
    "#ignore\n",
    "#output: false\n",
    "camera_position = (0, 0.35, 0.2)\n",
    "problem.plot(camera_position=camera_position,\n",
    "             show_axislabels=True,\n",
    "             show_ticklabels=True,\n",
    "             display=False)"
   ]
  },
  {
   "cell_type": "markdown",
   "id": "8b6fcc02-1c04-4257-8f08-ac398257e66f",
   "metadata": {},
   "source": [
    "![dirichlet](https://dl4to.github.io/dl4to/images/1_dirichlet.png)\n",
    "![design](https://dl4to.github.io/dl4to/images/1_design.png)\n",
    "![force_loc](https://dl4to.github.io/dl4to/images/1_force_locs.png)\n",
    "![force_dir](https://dl4to.github.io/dl4to/images/1_force_dirs.png)"
   ]
  },
  {
   "cell_type": "markdown",
   "id": "ec2a8ac7-adcc-4d70-baaa-27fd875b152c",
   "metadata": {},
   "source": [
    "Note: Please change the argument `display` to `display=True` if you run the experiments on your machine."
   ]
  },
  {
   "cell_type": "markdown",
   "id": "48394366-4a01-43b4-950b-d528dd919538",
   "metadata": {},
   "source": [
    "As you can see, we have sucessfully created a TO problem that is locked at the right side and is loaded with external forces pushing downwards from above. \n",
    "\n",
    "We think that our implementation of TO problems is very flexible but also intuitive to use, especially if you have experience with Numpy or PyTorch. While it is possible to generate custom problems in the way described above, you can also load pre-defined problems from one of the datasets that we provide. We will introduce our datasets and dataloaders a bit later in this tutorial. For now, we continue with an introduction of our Solution class."
   ]
  },
  {
   "cell_type": "markdown",
   "id": "903072dd-2345-4c61-be5a-c7aa16122b31",
   "metadata": {},
   "source": [
    "### The Solution class"
   ]
  },
  {
   "cell_type": "markdown",
   "id": "61d4ff02-ebe7-439b-8e30-8517e7f60523",
   "metadata": {},
   "source": [
    "#### Custom solution objects"
   ]
  },
  {
   "cell_type": "markdown",
   "id": "65923260-c85a-4a3d-88c7-283aea598181",
   "metadata": {},
   "source": [
    "Objects of this class define solutions to TO problems. They usually result from to application of a TO solver to a problem (we will see that a bit later), but can also be instantiated manually by passing a problem and a density distribution. As an example, we start with a density distribution that contains only zeros:"
   ]
  },
  {
   "cell_type": "code",
   "execution_count": null,
   "id": "71a59647-e438-4855-964f-a632081d0243",
   "metadata": {},
   "outputs": [],
   "source": [
    "#ignore\n",
    "from dl4to.solution import Solution\n",
    "\n",
    "θ = torch.zeros(1, *shape)\n",
    "solution_zeros = Solution(problem, θ)"
   ]
  },
  {
   "cell_type": "markdown",
   "id": "af352da7-12b3-47eb-9370-4dad710b8699",
   "metadata": {},
   "source": [
    "Here, $\\theta$ is a ($1\\times n_x \\times n_y \\times n_z$)-tensor that defines a three-dimensional density distribution for the TO problem. Constructing a solution object like this clearly only works if $\\theta$ is known. Usually, this is not the case. Nonetheless, it can sometimes be informative to check specific pre-defined densities, like in this example.\n",
    "\n",
    "The Solution class provides several useful functionalities, again including interactive 3d plotting:"
   ]
  },
  {
   "cell_type": "code",
   "execution_count": null,
   "id": "2ebd9113-bd64-482f-bc2a-19fe73e7735f",
   "metadata": {},
   "outputs": [],
   "source": [
    "#ignore\n",
    "solution_zeros.plot(camera_position=camera_position,\n",
    "                   display=False)"
   ]
  },
  {
   "cell_type": "markdown",
   "id": "c0c8e556-b368-444c-9530-d2dc1071bd6d",
   "metadata": {},
   "source": [
    "![zero_density](https://dl4to.github.io/dl4to/images/1_zero_density.png)"
   ]
  },
  {
   "cell_type": "markdown",
   "id": "c5340e6d-dbc5-4e61-8b4b-1a75581dcfb4",
   "metadata": {},
   "source": [
    "As we can see, the density distribution $\\theta$ has been modified inside of the solution object such that it is not $0$ everywhere anymore. More precisely, it has been adjusted according to the design space information that we prescribed in the problem formulation: We enforced densities of $1$ at certain voxels by setting $\\Omega_\\text{dirichlet}$ to $1$. \n",
    "\n",
    "We can check that the density distribution inside of the solution object has indeed been modified and this is not just the visualization:"
   ]
  },
  {
   "cell_type": "code",
   "execution_count": null,
   "id": "3f7313d0-ee9e-418e-a1c2-db8cbae76944",
   "metadata": {},
   "outputs": [],
   "source": [
    "#ignore\n",
    "assert torch.any(solution_zeros.θ != 0)\n",
    "assert torch.all(θ == 0)"
   ]
  },
  {
   "cell_type": "markdown",
   "id": "abd17242-0d8b-4b39-b0ab-d14149aa1d02",
   "metadata": {},
   "source": [
    "#### Trivial solutions"
   ]
  },
  {
   "cell_type": "markdown",
   "id": "f937e21e-8e9a-4fe4-94c8-d173183a13ef",
   "metadata": {},
   "source": [
    "The easiest type of solution is what we call a \"trivial solution\". The density distribution of a trivial solution in $1$ everywhere, where it is permitted (i.e. where $\\Omega_\\text{design}$ is not $0$). Together with the zero-density example above this therefore constitutes the simplest solution to a TO problem - we simply choose the thickest possible structure!\n",
    "\n",
    "Each problem object directly comes with its own trivial solution. It can be accessed via:"
   ]
  },
  {
   "cell_type": "code",
   "execution_count": null,
   "id": "4539e3ff-cd23-49a4-89f6-2c89b3e9dd7f",
   "metadata": {},
   "outputs": [],
   "source": [
    "#ignore\n",
    "trivial_solution = problem.trivial_solution"
   ]
  },
  {
   "cell_type": "markdown",
   "id": "1cb1a5f6-70d3-44db-9307-4408ef0a8e3e",
   "metadata": {},
   "source": [
    "The trivial solution is just simply a solution object from the solution class. Therefore, we can also use our plotting functionality on it:"
   ]
  },
  {
   "cell_type": "code",
   "execution_count": null,
   "id": "e5068b6b-48d3-451d-95e4-a1d01f645f06",
   "metadata": {},
   "outputs": [],
   "source": [
    "#ignore\n",
    "trivial_solution.plot(camera_position=camera_position,\n",
    "                      display=False)"
   ]
  },
  {
   "cell_type": "markdown",
   "id": "8a9abb79-211c-48f3-ba01-bf128403d205",
   "metadata": {},
   "source": [
    "![trivial_density](https://dl4to.github.io/dl4to/images/1_trivial_density.png)"
   ]
  },
  {
   "cell_type": "markdown",
   "id": "125e378d-2183-4653-bee3-aeaad434c4bd",
   "metadata": {},
   "source": [
    "Since we do not restrict the density to be $0$ anywhere, the trivial solution is simply a full, solid block. It is interesting to check if this trivial solution actually holds the applied loads and does not break. If this structure would break, applying any TO algorithm would certainly not lead to promising results - because this is already the most solid structure possible."
   ]
  },
  {
   "cell_type": "markdown",
   "id": "3e5382ac-2830-4656-b366-b0b79cad998b",
   "metadata": {},
   "source": [
    "#### Solving the PDE for linear elasticity"
   ]
  },
  {
   "cell_type": "markdown",
   "id": "6fe63e66-a1fa-4b36-8aa7-ae43ab2b56c0",
   "metadata": {},
   "source": [
    "In order to evaluate the stresses we need to solve the partial differential equation (PDE) of linear elasticity. This library comes with its own in-built finite differences method (FDM) solver, which solves the PDE for us. We found handling with finite differences easier than with finite elements. This is attributed to the regular grid structure, which makes the FDM a suitable and intuitive approach. It is however also possible to include custom PDE solvers, e.g., learned PDE solvers - which we will discuss later.\n",
    "\n",
    "\n",
    "PDE solvers are passed to problem instances:"
   ]
  },
  {
   "cell_type": "code",
   "execution_count": null,
   "id": "585f8633-7b69-4a7f-b3f8-942767d44aef",
   "metadata": {},
   "outputs": [],
   "source": [
    "#ignore\n",
    "from dl4to.pde import FDM\n",
    "\n",
    "problem.pde_solver = FDM()"
   ]
  },
  {
   "cell_type": "markdown",
   "id": "a4ad9752-ca39-4ad3-aff7-404f13fa91d4",
   "metadata": {},
   "source": [
    "Passing PDE solvers to problems (instead of passing them to solutions or TO solvers) my seem unintuitive at first, but it comes with several advantages:\n",
    "First, all solution objects that are derived from this problem will also have access to the PDE solver. The same holds for all TO solver algorithms that we apply to this problem. Second, our implementation automatically constructs most of the PDE system matrix in the background when it is passed to a problem. This saves a lot of time for all future evaluations."
   ]
  },
  {
   "cell_type": "markdown",
   "id": "539efda6-b8a8-4202-9ebb-13cd5d90a5b1",
   "metadata": {},
   "source": [
    "We can now use this FDM solver to solve the PDE. This is done via the \"solve_pde\" command, which returns three tensors:\n",
    "- The displacements $u$, which is a ($3\\times n_x \\times n_y \\times n_z$)-tensor.\n",
    "- The stresses $\\sigma$, which is a symmetric ($9\\times n_x \\times n_y \\times n_z$)-tensor.\n",
    "- The von Mises stresses $\\sigma_\\text{vM}$, which is a ($1\\times n_x \\times n_y \\times n_z$)-tensor, i.e., a scalar field."
   ]
  },
  {
   "cell_type": "code",
   "execution_count": null,
   "id": "5fa8bd78-703a-43d6-aee6-ff9bfd50eb4f",
   "metadata": {},
   "outputs": [],
   "source": [
    "#ignore\n",
    "u, σ, σ_vm = trivial_solution.solve_pde()"
   ]
  },
  {
   "cell_type": "markdown",
   "id": "5e536998-7de0-4eae-9c53-22185f9cb05e",
   "metadata": {},
   "source": [
    "After the PDE has been solved for a solution, the displacements $u$ are stored inside the solution object and can be accessed via \"trivial_solution.u\". This avoids solving the same PDE several times."
   ]
  },
  {
   "cell_type": "markdown",
   "id": "e817d8a5-c20d-49f6-86a7-ef60eefb8951",
   "metadata": {},
   "source": [
    "In order to check if the von Mises stresses are too large, we need to compare its maximum to the yield stress $\\sigma_\\text{ys}$ of the material:"
   ]
  },
  {
   "cell_type": "code",
   "execution_count": null,
   "id": "cff9d809-7ed9-4c34-8ee2-88e96608ff21",
   "metadata": {},
   "outputs": [
    {
     "data": {
      "text/plain": [
       "tensor(0.1321)"
      ]
     },
     "execution_count": null,
     "metadata": {},
     "output_type": "execute_result"
    }
   ],
   "source": [
    "#ignore\n",
    "σ_vm.max() / problem.σ_ys"
   ]
  },
  {
   "cell_type": "markdown",
   "id": "b3647415-ce88-4b75-a3c9-59b063a0f114",
   "metadata": {},
   "source": [
    "Since the fraction returns a value below $1$, this indicates that the structure indees holds the applied forces and does not break!\n",
    "\n",
    "We can also visualize the spacial distribution of the (normed) displacements and von Mises stresses by passing \"solve_pde=True\" to the plotting function:"
   ]
  },
  {
   "cell_type": "code",
   "execution_count": null,
   "id": "314e0e3f-1204-4963-be73-d2541fa05c02",
   "metadata": {},
   "outputs": [],
   "source": [
    "#ignore\n",
    "trivial_solution.plot(camera_position=camera_position,\n",
    "                      solve_pde=True,\n",
    "                      display=False)"
   ]
  },
  {
   "cell_type": "markdown",
   "id": "332e98a3-4c18-4678-83d4-49afec7aa4a4",
   "metadata": {},
   "source": [
    "![trivial_density_theta](https://dl4to.github.io/dl4to/images/1_trivial_density_theta.png)\n",
    "![trivial_density_u](https://dl4to.github.io/dl4to/images/1_trivial_density_u.png)\n",
    "![trivial_density_stress](https://dl4to.github.io/dl4to/images/1_trivial_density_stress.png)"
   ]
  },
  {
   "cell_type": "markdown",
   "id": "cc9b9aea-be6f-48d8-bc23-0ce557f995f5",
   "metadata": {},
   "source": [
    "It is interesting to compare this to the PDE solution that we get from our zero-solution that we defined earlier:"
   ]
  },
  {
   "cell_type": "code",
   "execution_count": null,
   "id": "eeb8af80-ac2f-4515-8c4a-1051ccafcf8f",
   "metadata": {},
   "outputs": [
    {
     "data": {
      "text/plain": [
       "tensor(1.5208)"
      ]
     },
     "execution_count": null,
     "metadata": {},
     "output_type": "execute_result"
    }
   ],
   "source": [
    "#ignore\n",
    "u, σ, σ_vm = solution_zeros.solve_pde()\n",
    "σ_vm.max() / problem.σ_ys"
   ]
  },
  {
   "cell_type": "markdown",
   "id": "6a73669f-1632-4229-9706-ca6bac62870e",
   "metadata": {},
   "source": [
    "Since the value is above $1$, this minimial structure does not hold. \n",
    "\n",
    "In the three-dimensional visualization we can see that this is especially due to very high von Mises stresses in the top right corner:"
   ]
  },
  {
   "cell_type": "code",
   "execution_count": null,
   "id": "a01ffe2a-b4ef-4f06-a9fa-02fe09c62787",
   "metadata": {},
   "outputs": [],
   "source": [
    "#ignore\n",
    "solution_zeros.plot(camera_position=camera_position,\n",
    "                    solve_pde=True,\n",
    "                    display=False)"
   ]
  },
  {
   "cell_type": "markdown",
   "id": "20fb17eb-ca3f-4a94-975a-f1874fd727ed",
   "metadata": {},
   "source": [
    "![zero_density_theta](https://dl4to.github.io/dl4to/images/1_zero_density_theta.png)\n",
    "![zero_density_u](https://dl4to.github.io/dl4to/images/1_zero_density_u.png)\n",
    "![zero_density_stress](https://dl4to.github.io/dl4to/images/1_zero_density_stress.png)"
   ]
  },
  {
   "cell_type": "markdown",
   "id": "64986e8a-4042-4225-9d87-cc8939ecce51",
   "metadata": {},
   "source": [
    "There is also the option to use [pyvista](https://docs.pyvista.org/version/stable/) for plotting (instead of the default [plotly](https://plotly.com/) interface). In the next tutorial, we will show how we can use pyvista for smoother visualizations."
   ]
  },
  {
   "cell_type": "markdown",
   "id": "1b9645c6-6344-42ae-bf3e-55fc2d36959d",
   "metadata": {},
   "source": [
    "You can save and load problem and solution objects via `torch.save(problem, \"problem.pt\")` and `problem = torch.load(\"problem.pt\")`."
   ]
  }
 ],
 "metadata": {
  "kernelspec": {
   "display_name": "Python 3 (ipykernel)",
   "language": "python",
   "name": "python3"
  }
 },
 "nbformat": 4,
 "nbformat_minor": 5
}
