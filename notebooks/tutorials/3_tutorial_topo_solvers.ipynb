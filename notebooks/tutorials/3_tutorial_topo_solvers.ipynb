{
 "cells": [
  {
   "cell_type": "markdown",
   "id": "2ced64c0-7f23-4043-880b-21f3b8092d00",
   "metadata": {},
   "source": [
    "# Topo solvers"
   ]
  },
  {
   "cell_type": "markdown",
   "id": "a87e2533-224b-4d0c-8fd3-1bf3c0881882",
   "metadata": {},
   "source": [
    "In this tutorial you learn how to\n",
    "- use optimization criteria as objective functions or as evaluation metrics\n",
    "- use our topo solvers, particularly our SIMP topo solver"
   ]
  },
  {
   "cell_type": "markdown",
   "id": "4fcd3109-ca8d-46bd-84e6-d9bb9e791549",
   "metadata": {},
   "source": [
    "Finally, we start actually performing topology optimization! \n",
    "\n",
    "The TopoSolver class is a parent class that inherits all types of methods for solving TO problems. This contains the famous SIMP method, DL based methods, as well as arbitrary combinations of these two.\n",
    "\n",
    "In this chapter we start with an introduction of how our optimization pipeline works. For now, we will focus mainly on the SIMP method an we will discuss learned methods in the next tutorial."
   ]
  },
  {
   "cell_type": "markdown",
   "id": "10b118b0-645e-4eb6-9125-ea2acfa3250c",
   "metadata": {},
   "source": [
    "### Criteria"
   ]
  },
  {
   "cell_type": "markdown",
   "id": "6dfccb2b-f7fd-4b43-a0d6-3c3e5c1f8d17",
   "metadata": {},
   "source": [
    "For any topo solver we need to choose an optimization criterion, i.e., an objective function that for which we want to optimize. Our library contains many criteria that can be used for evaluation or as loss/objective functions. Generally speaking, we have two different types of criteria: supervised and unsupervised. \n",
    "- Supervised criteria compare a given solution to a ground truth solution. This for instance contains common loss functions like the \"binary cross entropy\" (BCE) function as well as many commonly used evaluation criteria for semantic segmentation, like the \"Intersection over Union\" (IoU) and \"Dice\". \n",
    "- Unsupervised criteria don't require a ground truth and evaluates inputs based on their intrinsic properties. This includes criteria for volume, maximal stress and compliance.\n",
    "\n",
    "We will use some of the mentioned criteria in this and in the next tutorial on trainable topo solvers. \n",
    "\n",
    "For SIMP, we use compliance minimization with a volume constraint:"
   ]
  },
  {
   "cell_type": "code",
   "execution_count": null,
   "id": "0f2cd16a-e701-454a-8332-92a78a486b18",
   "metadata": {},
   "outputs": [],
   "source": [
    "#ignore\n",
    "from dl4to.criteria import Compliance, VolumeConstraint\n",
    "\n",
    "criterion = Compliance() + VolumeConstraint(max_volume_fraction=.12, threshold_fct='relu')"
   ]
  },
  {
   "cell_type": "markdown",
   "id": "24a4af48-c608-485b-84e3-30142ab09f29",
   "metadata": {},
   "source": [
    "Compliance is a very common objective in topology optimization. It is defined as the product of external forces and displacements. The `VolumeConstraint` criterion compares the volume fraction -- i.e., the average voxel density -- wit a pre-defined maximum volume fraction (which in this case is 0.12). If the difference is negative (i.e., the current volume is below the maximum volume fraction) then this criterion returns 0, otherwise it returns a positive output. The thresholding can be done via either a ReLU function or a Softplus function. Both `Compliance` and `VolumeConstraint` are unsupervised criteria."
   ]
  },
  {
   "cell_type": "markdown",
   "id": "4846e29d-5568-4166-8736-5df9afcaae82",
   "metadata": {},
   "source": [
    "For our TO problem we choose the first sample of the disc complex SELTO dataset and we pass a FDM solver to it:"
   ]
  },
  {
   "cell_type": "code",
   "execution_count": null,
   "id": "f3e08f2d-f7b4-4526-a790-1ab4c0ffe86f",
   "metadata": {},
   "outputs": [
    {
     "name": "stdout",
     "output_type": "stream",
     "text": [
      "Found 7337 files.\n",
      "importing dataset...\n"
     ]
    },
    {
     "data": {
      "application/vnd.jupyter.widget-view+json": {
       "model_id": "0fe754615c5247c0bfc19ebbae824eb7",
       "version_major": 2,
       "version_minor": 0
      },
      "text/plain": [
       "  0%|          | 0/7337 [00:00<?, ?it/s]"
      ]
     },
     "metadata": {},
     "output_type": "display_data"
    },
    {
     "name": "stdout",
     "output_type": "stream",
     "text": [
      "done!\n"
     ]
    }
   ],
   "source": [
    "#ignore\n",
    "from dl4to.datasets import SELTODataset\n",
    "from dl4to.pde import FDM\n",
    "\n",
    "dataset = SELTODataset(\"/localdata/dl4to_dataset\", name='disc_complex')\n",
    "problem, gt_solution = dataset[0]\n",
    "problem.pde_solver = FDM()"
   ]
  },
  {
   "cell_type": "markdown",
   "id": "22572684-c242-4fc5-bc87-e9efc2195598",
   "metadata": {},
   "source": [
    "### The SIMP method"
   ]
  },
  {
   "cell_type": "markdown",
   "id": "35218faa-51b6-4c1f-b97a-b766ca896ce1",
   "metadata": {},
   "source": [
    "The Solid Isotropic Material with Penalization (SIMP) method is widely regarded as the most significant classical approach used in TO. SIMP employs an iterative optimization scheme to improve structural performance by adjusting voxel densities. See Algorithm 1 for a full breakdown of the steps that are part of the SIMP algorithm:"
   ]
  },
  {
   "cell_type": "markdown",
   "id": "7ae665c2-d8a4-470a-ab6d-3e7f8fa7f611",
   "metadata": {},
   "source": [
    "![title](https://dl4to.github.io/dl4to/images/3_simp.png)"
   ]
  },
  {
   "cell_type": "markdown",
   "id": "26bb5bc4-b261-4add-bc0a-e40cd42efaaf",
   "metadata": {},
   "source": [
    "We initialize SIMP as follows, with a learning rate of 0.3:"
   ]
  },
  {
   "cell_type": "code",
   "execution_count": null,
   "id": "81b0943b-d13e-4c81-afa6-01db98591e3f",
   "metadata": {},
   "outputs": [],
   "source": [
    "#ignore\n",
    "from dl4to.topo_solvers import SIMP\n",
    "\n",
    "simp = SIMP(\n",
    "    criterion=criterion,\n",
    "    binarizer_steepening_factor=1.02,\n",
    "    n_iterations=70,\n",
    "    lr=3e-1,\n",
    ")"
   ]
  },
  {
   "cell_type": "markdown",
   "id": "ab318e87-4988-42a0-bfd9-d40b5f1af44f",
   "metadata": {},
   "source": [
    "### How to apply topo solvers to a TO problem"
   ]
  },
  {
   "cell_type": "markdown",
   "id": "71b8539c-ae07-4b2c-aeb3-3c753eee630f",
   "metadata": {},
   "source": [
    "In order to apply a topo_solver to a problem, we can simply call it via\n",
    "\n",
    "    solution = topo_solver(problem),\n",
    "\n",
    "which returns a solution object. This also works with a list of problems as input, in which case topo solver likewise returns a list of solutions."
   ]
  },
  {
   "cell_type": "code",
   "execution_count": null,
   "id": "b0150ecb-3116-4d1f-b259-5cfa30219eb9",
   "metadata": {},
   "outputs": [
    {
     "data": {
      "application/vnd.jupyter.widget-view+json": {
       "model_id": "30368393c2554590a22fbd0ce5fb9c9f",
       "version_major": 2,
       "version_minor": 0
      },
      "text/plain": [
       "  0%|          | 0/70 [00:00<?, ?it/s]"
      ]
     },
     "metadata": {},
     "output_type": "display_data"
    }
   ],
   "source": [
    "#ignore\n",
    "solution = simp(problem)"
   ]
  },
  {
   "cell_type": "markdown",
   "id": "71a8fdc1-8beb-494f-9d5f-673bc739785a",
   "metadata": {},
   "source": [
    "Let's take a look at the solution of the SIMP algorithm:"
   ]
  },
  {
   "cell_type": "code",
   "execution_count": null,
   "id": "0504f27f-6e4c-4dc6-9b07-7a3f9e9ed678",
   "metadata": {},
   "outputs": [],
   "source": [
    "#ignore\n",
    "camera_position = (0, 0.06, 0.12)\n",
    "solution.plot(camera_position=camera_position,\n",
    "              binary=True,\n",
    "              solve_pde=True,\n",
    "              display=False)"
   ]
  },
  {
   "cell_type": "markdown",
   "id": "1af7ea6b-1f14-4746-8e97-88e123da16ce",
   "metadata": {},
   "source": [
    "![density](https://dl4to.github.io/dl4to/images/3_density_disc.png)\n",
    "![displacements](https://dl4to.github.io/dl4to/images/3_displacements_disc.png)\n",
    "![stresses](https://dl4to.github.io/dl4to/images/3_stresses_disc.png)"
   ]
  },
  {
   "cell_type": "markdown",
   "id": "48a0cc17-51ad-48f7-a4e3-74fb915cc714",
   "metadata": {},
   "source": [
    "We see that the output of the SIMP algorithm returns indeed a plausible solution to the TO problem."
   ]
  },
  {
   "cell_type": "markdown",
   "id": "b1df889d-cf52-4d66-8b4e-1f16f317a8da",
   "metadata": {},
   "source": [
    "We can observe that the volume fraction of the SIMP solution is exactly 0.12:"
   ]
  },
  {
   "cell_type": "code",
   "execution_count": null,
   "id": "0118f8c3-61c9-4675-a5e5-243d1e4670d8",
   "metadata": {},
   "outputs": [
    {
     "data": {
      "text/plain": [
       "tensor([0.1200], grad_fn=<DivBackward0>)"
      ]
     },
     "execution_count": null,
     "metadata": {},
     "output_type": "execute_result"
    }
   ],
   "source": [
    "#ignore\n",
    "from dl4to.criteria import VolumeFraction\n",
    "\n",
    "volume_fraction = VolumeFraction()\n",
    "volume_fraction(solution)"
   ]
  },
  {
   "cell_type": "markdown",
   "id": "f9f1b907-8402-40fe-9820-43e47b7a5f46",
   "metadata": {},
   "source": [
    "With DL4TO we provide an unsupervised criterion called `Binariness` which determines how binary the solution is. A value of $1$ means that it is fully binary, while a lower value signifies many values that are not near $0$ or $1$. We see that our solution is almost fully binary:"
   ]
  },
  {
   "cell_type": "code",
   "execution_count": null,
   "id": "83542136-ed7f-4c16-aa3b-348d3c609de3",
   "metadata": {},
   "outputs": [
    {
     "data": {
      "text/plain": [
       "tensor([0.9164])"
      ]
     },
     "execution_count": null,
     "metadata": {},
     "output_type": "execute_result"
    }
   ],
   "source": [
    "#ignore\n",
    "from dl4to.criteria import Binariness\n",
    "\n",
    "binariness = Binariness()\n",
    "binariness(solution)"
   ]
  },
  {
   "cell_type": "markdown",
   "id": "2345a81a-ab6d-4aeb-9c52-3196cafdf636",
   "metadata": {},
   "source": [
    "As we can observe from the above 3D plot, the von Mises stresses are well below the yield stress. The `MaxStress` criterion confirms this with a normalized maximal stress of only a quarter of the maximum value of 1:"
   ]
  },
  {
   "cell_type": "code",
   "execution_count": null,
   "id": "2e799895-92c1-4428-9bef-4e1a9262bcce",
   "metadata": {},
   "outputs": [
    {
     "data": {
      "text/plain": [
       "tensor([0.2563], grad_fn=<DivBackward0>)"
      ]
     },
     "execution_count": null,
     "metadata": {},
     "output_type": "execute_result"
    }
   ],
   "source": [
    "#ignore\n",
    "from dl4to.criteria import MaxStress\n",
    "\n",
    "max_stress = MaxStress(normalize=True)\n",
    "max_stress(solution)"
   ]
  }
 ],
 "metadata": {
  "kernelspec": {
   "display_name": "Python 3 (ipykernel)",
   "language": "python",
   "name": "python3"
  }
 },
 "nbformat": 4,
 "nbformat_minor": 5
}
