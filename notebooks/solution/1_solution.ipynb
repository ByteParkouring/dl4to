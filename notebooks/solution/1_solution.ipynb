{
 "cells": [
  {
   "cell_type": "code",
   "execution_count": null,
   "metadata": {},
   "outputs": [],
   "source": [
    "#default_exp solution"
   ]
  },
  {
   "cell_type": "markdown",
   "metadata": {},
   "source": [
    "# Solution"
   ]
  },
  {
   "cell_type": "markdown",
   "metadata": {},
   "source": [
    "This class defines solutions to instances of the Problem class. They usually result from calling a topo_solver with a problem object, but can also be instantiated manually by passing a problem and a density distribution."
   ]
  },
  {
   "cell_type": "code",
   "execution_count": null,
   "metadata": {},
   "outputs": [],
   "source": [
    "#exporti\n",
    "import copy\n",
    "import torch\n",
    "import numpy as np\n",
    "from typing import Union\n",
    "\n",
    "from dl4to.solution import PlottingForSolution"
   ]
  },
  {
   "cell_type": "code",
   "execution_count": null,
   "metadata": {},
   "outputs": [],
   "source": [
    "#hide\n",
    "from nbdev.showdoc import show_doc"
   ]
  },
  {
   "cell_type": "code",
   "execution_count": null,
   "metadata": {},
   "outputs": [],
   "source": [
    "#export\n",
    "class Solution:\n",
    "    \"\"\"\n",
    "    A class that defines solution objects.\n",
    "    \"\"\"\n",
    "    def __init__(self, \n",
    "                 problem:\"dl4to.problem.Problem\", # The problem to which this is a solution.\n",
    "                 θ:torch.Tensor, # The tensor that defines a density distribution that solves the TO problem.\n",
    "                 name:str=None, # The name of the solution.\n",
    "                 enforce_θ_on_Ω_design:bool=True # Whether the density distribution should be modified such that it fulfills the density restrictions imposed by the problem object.\n",
    "                ): \n",
    "        self.enforce_θ_on_Ω_design = enforce_θ_on_Ω_design\n",
    "        self.name = name\n",
    "        self._problem = problem\n",
    "        self.θ = θ\n",
    "        self._check_θ_shape_and_range()\n",
    "\n",
    "\n",
    "    @property\n",
    "    def θ(self):\n",
    "        return self._θ\n",
    "\n",
    "\n",
    "    @θ.setter\n",
    "    def θ(self, θ_new):\n",
    "        self._θ = θ_new\n",
    "        if self.enforce_θ_on_Ω_design:\n",
    "            Ω_design = self.problem.Ω_design.to(θ_new.device)\n",
    "            self._θ = torch.where(Ω_design == -1., self.θ, Ω_design.type(self.θ.dtype))\n",
    "        self.u = None\n",
    "        self.u_binary = None\n",
    "\n",
    "\n",
    "    @property\n",
    "    def pde_solver(self):\n",
    "        return self.problem.pde_solver\n",
    "\n",
    "\n",
    "    @pde_solver.setter\n",
    "    def pde_solver(self, new_pde_solver):\n",
    "        self.problem._pde_solver = new_pde_solver\n",
    "        self.u = None\n",
    "        self.u_binary = None\n",
    "\n",
    "\n",
    "    @property\n",
    "    def dtype(self):\n",
    "        return self.θ.dtype\n",
    "\n",
    "\n",
    "    @dtype.setter\n",
    "    def dtype(self, dtype):\n",
    "        self.problem.dtype = dtype\n",
    "        self.θ = self.θ.type(dtype)\n",
    "\n",
    "\n",
    "    @property\n",
    "    def problem(self):\n",
    "        return self._problem\n",
    "\n",
    "\n",
    "    @property\n",
    "    def shape(self):\n",
    "        return self.problem.shape\n",
    "\n",
    "\n",
    "    @property\n",
    "    def device(self):\n",
    "        return self.θ.device\n",
    "\n",
    "\n",
    "    @device.setter\n",
    "    def device(self, device):\n",
    "        self.θ = self.θ.to(device)\n",
    "        if self.u is not None:\n",
    "            self.u = self.u.to(device)\n",
    "        if self.u_binary is not None:\n",
    "            self.u_binary = self.u_binary.to(device)\n",
    "\n",
    "\n",
    "    def to(self, device):\n",
    "        \"\"\"\n",
    "        Moves the solution object to `device`.\n",
    "        \"\"\"\n",
    "        self.device = device\n",
    "        return self\n",
    "\n",
    "\n",
    "    def get_θ(self, \n",
    "              binary:bool=False # Whether the density should be binarized, i.e., thresholded at 0.5\n",
    "             ):\n",
    "        \"\"\"\n",
    "        Returns the density distribution `θ` from the solution object. Note that you can also obtain that density via `Solution.θ`, however this function has the option to return\n",
    "        a binarized version of it.\n",
    "        \"\"\"\n",
    "        if binary:\n",
    "            θ_round = torch.zeros_like(self.θ)\n",
    "            θ_round[self.θ > .5] = 1.\n",
    "            return θ_round\n",
    "        return self.θ\n",
    "\n",
    "\n",
    "    def clone(self):\n",
    "        \"\"\"\n",
    "        Returns a deepcopy of the Solution object.\n",
    "        \"\"\"\n",
    "        return Solution(problem=self.problem,\n",
    "                        θ=self.θ.clone(),\n",
    "                        name=self.name,\n",
    "                        enforce_θ_on_Ω_design=self.enforce_θ_on_Ω_design)\n",
    "\n",
    "\n",
    "    def detach(self):\n",
    "        \"\"\"\n",
    "        Returns a clone of the solution object that has a density θ which is detached from its computational graph.\n",
    "        \"\"\"\n",
    "        detached_solution = self.clone()\n",
    "        detached_solution._θ = self._θ.detach()\n",
    "        return detached_solution\n",
    "\n",
    "\n",
    "    def detach_(self):\n",
    "        \"\"\"\n",
    "        Detaches θ from its computational graph. This is an in-place version of the `detach()` method.\n",
    "        \"\"\"\n",
    "        self._θ.detach_()\n",
    "\n",
    "\n",
    "    def plot(\n",
    "        self,\n",
    "        binary:bool=False, # Whether the density should be binarized before plotting and before solving the PDE. Note that the PDE is solved only if `solve_pde=True` and problem has a PDE solver attached to it.\n",
    "        solve_pde:bool=False, # Whether to solve the PDE of linear elasticity and plot the absolute displacements and von Mises stresses.\n",
    "        normalize_σ_vm:bool=True, # Whether the von Mises stresses should be normalized with the yield stress.\n",
    "        threshold:float=0., # Density threshold below which voxels should be displayed as empty.\n",
    "        display:bool=True, # Whether the figure is displayed.\n",
    "        file_path:str=None, # Path where the figure is saved.\n",
    "        camera_position:tuple=(0,.1,.12), # x, y, and z coordinates of the camera position.\n",
    "        show_design_space:bool=False, # Whether to highlight the voxels that have a design space information of -1 assigned to them.\n",
    "        use_pyvista:bool=False, # Whether to use pyvista for plotting. If `False`, then plotly is used. Pyvista generates better looking visualizations, but does not support basic features like colorbars, title display and saving.\n",
    "        window_size:Union[tuple,list]=(800,800), # The size of the window that displays the plot. Only has an effect if `use_pyvista=True`.\n",
    "        smooth_iters:int=0, # The number of smoothing iterations for better looking visualizations. Only has an effect if `use_pyvista=True`.\n",
    "        show_colorbar:bool=True, # Determines whether a reference colorbar is displayed for the plotted voxel color values.\n",
    "        show_axislabels:bool=False, # Whether the 3d axes are labelled with their dimensions.\n",
    "        show_ticklabels:bool=False, # Whether the 3d axes ticks are displayed and labeled.\n",
    "        export_png:bool=False # Whether the figure is exported and saved as a png file, in addition to the standard html format.\n",
    "    ):\n",
    "        \"\"\"\n",
    "        Renders a 3D figure that displays the density distribution and, optionally, additional ones that display the displacements and von Mises stresses for that density.\n",
    "        \"\"\"\n",
    "        PlottingForSolution()(\n",
    "            solution=self,\n",
    "            binary=binary,\n",
    "            solve_pde=solve_pde,\n",
    "            normalize_σ_vm=normalize_σ_vm,\n",
    "            threshold=threshold,\n",
    "            display=display, \n",
    "            file_path=file_path, \n",
    "            camera_position=camera_position, \n",
    "            show_design_space=show_design_space,\n",
    "            use_pyvista=use_pyvista,\n",
    "            window_size=window_size,\n",
    "            smooth_iters=smooth_iters,\n",
    "            show_colorbar=show_colorbar,\n",
    "            show_axislabels=show_axislabels, \n",
    "            show_ticklabels=show_ticklabels, \n",
    "            export_png=export_png\n",
    "        )\n",
    "\n",
    "\n",
    "    def solve_pde(self, \n",
    "                  p:float=1., # Denotes the SIMP exponent and should usually be left at its default value of 1.\n",
    "                  binary:bool=False # Whether the density should be binarized before solving the PDE.\n",
    "                 ):\n",
    "        \"\"\"\n",
    "        Solves the PDE of linear elasticity for the current solution. Returns the displacement tensor, stress tensor and the von Mises stress tensor.\n",
    "        \"\"\"\n",
    "        if self.pde_solver is None:\n",
    "            raise AttributeError(\"solution.problem has no PDE solver attached to it.\")\n",
    "        u, σ, σ_vm = self.pde_solver(self, p=p, binary=binary)\n",
    "        u = u.to(self.θ.device)\n",
    "        σ = σ.to(self.θ.device)\n",
    "        σ_vm = σ_vm.to(self.θ.device)\n",
    "        return u, σ, σ_vm\n",
    "\n",
    "\n",
    "    def _check_θ_shape_and_range(self, θ=None):\n",
    "        if θ is None:\n",
    "            θ = self.θ\n",
    "\n",
    "        if θ is None:\n",
    "            return\n",
    "\n",
    "        if not isinstance(θ, torch.Tensor):\n",
    "            raise TypeError(\"θ must be None or a torch.Tensor\")\n",
    "\n",
    "        if len(θ.shape) != 4 or θ.shape[0] != 1:\n",
    "            print(θ.shape)\n",
    "            raise ValueError(\"θ tensor is not of the right shape.\")\n",
    "\n",
    "        if torch.any(θ < 0) or torch.any(1 < θ):\n",
    "            raise ValueError(\"θ tensor contrains values outside the interval [0, 1].\")\n",
    "\n",
    "        if \"Problem\" not in str(self.problem):\n",
    "            raise TypeError(\"problem must be an Problem\")\n",
    "\n",
    "        if θ is not None:\n",
    "            if not np.all(θ.shape[1:] == self.shape):\n",
    "                raise ValueError(\"θ does not fit to the associated Problem.\")\n",
    "\n",
    "\n",
    "    def eval(self, \n",
    "             criterion:\"dl4to.criteria.Criterion\" # The criterion for which the solution should be evaluated.\n",
    "            ):\n",
    "        \"\"\"\n",
    "        Evaluate the solution object with `criterion`. Only works for unsupervised criteria. Returns a `torch.Tensor`.\n",
    "        \"\"\"\n",
    "        assert ~criterion.supervised, print(\"`solution.eval()` only works for unsupervised criteria.\")\n",
    "        return criterion([self])\n",
    "\n",
    "\n",
    "    def __rmul__(self, \n",
    "                 λ:float # The multiplier for the density.\n",
    "                ):\n",
    "        \"\"\"\n",
    "        Multiplication of a solution with a scalar returns a clone of the solution that has the original density distribution that is rescaled with `λ`. Returns a new `solution` object.\n",
    "        \"\"\"\n",
    "        solution = self.clone()\n",
    "        solution.θ = λ * self.θ\n",
    "        return solution\n",
    "\n",
    "\n",
    "    def __mul__(self, \n",
    "                λ:float # The multiplier for the density.\n",
    "               ):\n",
    "        \"\"\"\n",
    "        Multiplication of a solution with a scalar returns a clone of the solution that has the original density distribution that is rescaled with `λ`. Returns a new `solution` object.\n",
    "        \"\"\"\n",
    "        return self.__rmul__(λ)"
   ]
  },
  {
   "cell_type": "markdown",
   "metadata": {},
   "source": [
    "## Methods"
   ]
  },
  {
   "cell_type": "code",
   "execution_count": null,
   "metadata": {},
   "outputs": [
    {
     "data": {
      "text/markdown": [
       "<h4 id=\"Solution.get_θ\" class=\"doc_header\"><code>Solution.get_θ</code><a href=\"__main__.py#L77\" class=\"source_link\" style=\"float:right\">[source]</a></h4>\n",
       "\n",
       "> <code>Solution.get_θ</code>(**`binary`**:`bool`=*`False`*)\n",
       "\n",
       "Returns the density distribution `θ` from the solution object. Note that you can also obtain that density via [`Solution.θ`](/dl4tosolution.html#Solution.θ), however this function has the option to return\n",
       "a binarized version of it.\n",
       "\n",
       "||Type|Default|Details|\n",
       "|---|---|---|---|\n",
       "|**`binary`**|`bool`|`False`|Whether the density should be binarized, i.e., thresholded at 0.5|\n"
      ],
      "text/plain": [
       "<IPython.core.display.Markdown object>"
      ]
     },
     "metadata": {},
     "output_type": "display_data"
    }
   ],
   "source": [
    "show_doc(Solution.get_θ)"
   ]
  },
  {
   "cell_type": "code",
   "execution_count": null,
   "metadata": {},
   "outputs": [
    {
     "data": {
      "text/markdown": [
       "<h4 id=\"Solution.clone\" class=\"doc_header\"><code>Solution.clone</code><a href=\"__main__.py#L91\" class=\"source_link\" style=\"float:right\">[source]</a></h4>\n",
       "\n",
       "> <code>Solution.clone</code>()\n",
       "\n",
       "Returns a deepcopy of the Solution object."
      ],
      "text/plain": [
       "<IPython.core.display.Markdown object>"
      ]
     },
     "metadata": {},
     "output_type": "display_data"
    }
   ],
   "source": [
    "show_doc(Solution.clone)"
   ]
  },
  {
   "cell_type": "code",
   "execution_count": null,
   "metadata": {},
   "outputs": [
    {
     "data": {
      "text/markdown": [
       "<h4 id=\"Solution.detach\" class=\"doc_header\"><code>Solution.detach</code><a href=\"__main__.py#L99\" class=\"source_link\" style=\"float:right\">[source]</a></h4>\n",
       "\n",
       "> <code>Solution.detach</code>()\n",
       "\n",
       "Returns a clone of the solution object that has a density θ which is detached from its computational graph."
      ],
      "text/plain": [
       "<IPython.core.display.Markdown object>"
      ]
     },
     "metadata": {},
     "output_type": "display_data"
    }
   ],
   "source": [
    "show_doc(Solution.detach)"
   ]
  },
  {
   "cell_type": "code",
   "execution_count": null,
   "metadata": {},
   "outputs": [
    {
     "data": {
      "text/markdown": [
       "<h4 id=\"Solution.detach_\" class=\"doc_header\"><code>Solution.detach_</code><a href=\"__main__.py#L108\" class=\"source_link\" style=\"float:right\">[source]</a></h4>\n",
       "\n",
       "> <code>Solution.detach_</code>()\n",
       "\n",
       "Detaches θ from its computational graph. This is an in-place version of the `detach()` method."
      ],
      "text/plain": [
       "<IPython.core.display.Markdown object>"
      ]
     },
     "metadata": {},
     "output_type": "display_data"
    }
   ],
   "source": [
    "show_doc(Solution.detach_)"
   ]
  },
  {
   "cell_type": "code",
   "execution_count": null,
   "metadata": {},
   "outputs": [
    {
     "data": {
      "text/markdown": [
       "<h4 id=\"Solution.plot\" class=\"doc_header\"><code>Solution.plot</code><a href=\"__main__.py#L115\" class=\"source_link\" style=\"float:right\">[source]</a></h4>\n",
       "\n",
       "> <code>Solution.plot</code>(**`binary`**:`bool`=*`False`*, **`solve_pde`**:`bool`=*`False`*, **`normalize_σ_vm`**:`bool`=*`True`*, **`threshold`**:`float`=*`0.0`*, **`display`**:`bool`=*`True`*, **`file_path`**:`str`=*`None`*, **`camera_position`**:`tuple`=*`(0, 0.1, 0.12)`*, **`show_design_space`**:`bool`=*`False`*, **`use_pyvista`**:`bool`=*`False`*, **`window_size`**:`Union`\\[`tuple`, `list`\\]=*`(300, 300)`*, **`smooth_iters`**:`int`=*`0`*, **`show_colorbar`**:`bool`=*`True`*, **`show_axislabels`**:`bool`=*`False`*, **`show_ticklabels`**:`bool`=*`False`*, **`export_png`**:`bool`=*`False`*)\n",
       "\n",
       "Renders a 3D figure that displays the density distribution and, optionally, additional ones that display the displacements and von Mises stresses for that density.\n",
       "\n",
       "||Type|Default|Details|\n",
       "|---|---|---|---|\n",
       "|**`binary`**|`bool`|`False`|Whether the density should be binarized before plotting and before solving the PDE. Note that the PDE is solved only if `solve_pde=True` and problem has a PDE solver attached to it.|\n",
       "|**`solve_pde`**|`bool`|`False`|Whether to solve the PDE of linear elasticity and plot the absolute displacements and von Mises stresses.|\n",
       "|**`normalize_σ_vm`**|`bool`|`True`|Whether the von Mises stresses should be normalized with the yield stress.|\n",
       "|**`threshold`**|`float`|`0.0`|Density threshold below which voxels should be displayed as empty.|\n",
       "|**`display`**|`bool`|`True`|Whether the figure is displayed.|\n",
       "|**`file_path`**|`str`|`None`|Path where the figure is saved.|\n",
       "|**`camera_position`**|`tuple`|`(0, 0.1, 0.12)`|x, y, and z coordinates of the camera position.|\n",
       "|**`show_design_space`**|`bool`|`False`|Whether to highlight the voxels that have a design space information of -1 assigned to them.|\n",
       "|**`use_pyvista`**|`bool`|`False`|Whether to use pyvista for plotting. If `False`, then plotly is used. Pyvista generates better looking visualizations, but does not support basic features like colorbars, title display and saving.|\n",
       "|**`window_size`**|`typing.Union[tuple, list]`|`(300, 300)`|The size of the window that displays the plot. Only has an effect if `use_pyvista=True`.|\n",
       "|**`smooth_iters`**|`int`|`0`|The number of smoothing iterations for better looking visualizations. Only has an effect if `use_pyvista=True`.|\n",
       "|**`show_colorbar`**|`bool`|`True`|Determines whether a reference colorbar is displayed for the plotted voxel color values.|\n",
       "|**`show_axislabels`**|`bool`|`False`|Whether the 3d axes are labelled with their dimensions.|\n",
       "|**`show_ticklabels`**|`bool`|`False`|Whether the 3d axes ticks are displayed and labeled.|\n",
       "|**`export_png`**|`bool`|`False`|Whether the figure is exported and saved as a png file, in addition to the standard html format.|\n"
      ],
      "text/plain": [
       "<IPython.core.display.Markdown object>"
      ]
     },
     "metadata": {},
     "output_type": "display_data"
    }
   ],
   "source": [
    "show_doc(Solution.plot)"
   ]
  },
  {
   "cell_type": "code",
   "execution_count": null,
   "metadata": {},
   "outputs": [
    {
     "data": {
      "text/markdown": [
       "<h4 id=\"Solution.solve_pde\" class=\"doc_header\"><code>Solution.solve_pde</code><a href=\"__main__.py#L156\" class=\"source_link\" style=\"float:right\">[source]</a></h4>\n",
       "\n",
       "> <code>Solution.solve_pde</code>(**`p`**:`float`=*`1.0`*, **`binary`**:`bool`=*`False`*)\n",
       "\n",
       "Solves the PDE of linear elasticity for the current solution. Returns the displacement tensor, stress tensor and the von Mises stress tensor.\n",
       "\n",
       "||Type|Default|Details|\n",
       "|---|---|---|---|\n",
       "|**`p`**|`float`|`1.0`|Denotes the SIMP exponent and should usually be left at its default value of 1.|\n",
       "|**`binary`**|`bool`|`False`|Whether the density should be binarized before solving the PDE.|\n"
      ],
      "text/plain": [
       "<IPython.core.display.Markdown object>"
      ]
     },
     "metadata": {},
     "output_type": "display_data"
    }
   ],
   "source": [
    "show_doc(Solution.solve_pde)"
   ]
  },
  {
   "cell_type": "code",
   "execution_count": null,
   "metadata": {},
   "outputs": [
    {
     "data": {
      "text/markdown": [
       "<h4 id=\"Solution.eval\" class=\"doc_header\"><code>Solution.eval</code><a href=\"__main__.py#L193\" class=\"source_link\" style=\"float:right\">[source]</a></h4>\n",
       "\n",
       "> <code>Solution.eval</code>(**`criterion`**:`dl4to.criteria.Criterion`)\n",
       "\n",
       "Evaluate the solution object with `criterion`. Only works for unsupervised criteria. Returns a `torch.Tensor`.\n",
       "\n",
       "||Type|Default|Details|\n",
       "|---|---|---|---|\n",
       "|**`criterion`**|`dl4to.criteria.Criterion`||The criterion for which the solution should be evaluated.|\n"
      ],
      "text/plain": [
       "<IPython.core.display.Markdown object>"
      ]
     },
     "metadata": {},
     "output_type": "display_data"
    }
   ],
   "source": [
    "show_doc(Solution.eval)"
   ]
  },
  {
   "cell_type": "code",
   "execution_count": null,
   "metadata": {},
   "outputs": [
    {
     "data": {
      "text/markdown": [
       "<h4 id=\"Solution.__mul__\" class=\"doc_header\"><code>Solution.__mul__</code><a href=\"__main__.py#L214\" class=\"source_link\" style=\"float:right\">[source]</a></h4>\n",
       "\n",
       "> <code>Solution.__mul__</code>(**`λ`**:`float`)\n",
       "\n",
       "Multiplication of a solution with a scalar returns a clone of the solution that has the original density distribution that is rescaled with `λ`. Returns a new `solution` object.\n",
       "\n",
       "||Type|Default|Details|\n",
       "|---|---|---|---|\n",
       "|**`λ`**|`float`||The multiplier for the density.|\n"
      ],
      "text/plain": [
       "<IPython.core.display.Markdown object>"
      ]
     },
     "metadata": {},
     "output_type": "display_data"
    }
   ],
   "source": [
    "show_doc(Solution.__mul__)"
   ]
  },
  {
   "cell_type": "markdown",
   "metadata": {},
   "source": [
    "# Examples"
   ]
  },
  {
   "cell_type": "code",
   "execution_count": null,
   "metadata": {},
   "outputs": [],
   "source": [
    "#ignore\n",
    "from dl4to.solution import Solution\n",
    "from dl4to.datasets import BasicDataset\n",
    "\n",
    "problem = BasicDataset(resolution=40).ledge()\n",
    "shape = [40, 4, 8]\n",
    "θ = torch.zeros(1, *shape)\n",
    "solution_zeros = Solution(problem, θ)"
   ]
  },
  {
   "cell_type": "code",
   "execution_count": null,
   "metadata": {},
   "outputs": [],
   "source": [
    "#ignore\n",
    "camera_position = (0, 0.35, 0.2)\n",
    "solution_zeros.plot(camera_position=camera_position,\n",
    "                    display=False)"
   ]
  },
  {
   "cell_type": "markdown",
   "metadata": {},
   "source": [
    "![zero_density](https://dl4to.github.io/dl4to/images/1_zero_density.png)"
   ]
  },
  {
   "cell_type": "markdown",
   "metadata": {},
   "source": [
    "As we can see, the density distribution $\\theta$ has been modified inside of the solution object such that it is not $0$ everywhere anymore. More precisely, it has been adjusted according to the design space information that we prescribed in the problem formulation: We enforced densities of $1$ at certain voxels by setting $\\Omega_\\text{dirichlet}$ to $1$. \n",
    "\n",
    "We can check that the density distribution inside of the solution object has indeed been modified and this is not just the visualization:"
   ]
  },
  {
   "cell_type": "code",
   "execution_count": null,
   "metadata": {},
   "outputs": [],
   "source": [
    "#ignore\n",
    "assert torch.any(solution_zeros.θ != 0)\n",
    "assert torch.all(θ == 0)"
   ]
  },
  {
   "cell_type": "markdown",
   "metadata": {},
   "source": [
    "The easiest type of solution is what we call a \"trivial solution\". The density distribution of a trivial solution in $1$ everywhere, where it is permitted (i.e. where $\\Omega_\\text{design}$ is not $0$). Together with the zero-density example above this therefore constitutes the simplest solution to a TO problem - we simply choose the thickest possible structure!\n",
    "\n",
    "Each problem object directly comes with its own trivial solution. It can be accessed via:"
   ]
  },
  {
   "cell_type": "code",
   "execution_count": null,
   "metadata": {},
   "outputs": [],
   "source": [
    "#ignore\n",
    "trivial_solution = problem.trivial_solution\n",
    "\n",
    "trivial_solution.plot(camera_position=camera_position,\n",
    "                      display=False)"
   ]
  },
  {
   "cell_type": "markdown",
   "metadata": {},
   "source": [
    "![trivial_density](https://dl4to.github.io/dl4to/images/1_trivial_density.png)"
   ]
  },
  {
   "cell_type": "markdown",
   "metadata": {},
   "source": [
    "In order to evaluate the stresses we need to solve the partial differential equation (PDE) of linear elasticity. This library comes with its own in-built finite differences method (FDM) solver, which solves the PDE for us. We found handling with finite differences easier than with finite elements. This is attributed to the regular grid structure, which makes the FDM a suitable and intuitive approach. It is however also possible to include custom PDE solvers, e.g., learned PDE solvers - which we will discuss later.\n",
    "\n",
    "\n",
    "PDE solvers are passed to problem instances:"
   ]
  },
  {
   "cell_type": "code",
   "execution_count": null,
   "metadata": {},
   "outputs": [],
   "source": [
    "#ignore\n",
    "from dl4to.pde import FDM\n",
    "\n",
    "problem.pde_solver = FDM()"
   ]
  },
  {
   "cell_type": "markdown",
   "metadata": {},
   "source": [
    "Passing PDE solvers to problems (instead of passing them to solutions or TO solvers) my seem unintuitive at first, but it comes with several advantages:\n",
    "First, all solution objects that are derived from this problem will also have access to the PDE solver. The same holds for all TO solver algorithms that we apply to this problem. Second, our implementation automatically constructs most of the PDE system matrix in the background when it is passed to a problem. This saves a lot of time for all future evaluations."
   ]
  },
  {
   "cell_type": "markdown",
   "metadata": {},
   "source": [
    "We can now use this FDM solver to solve the PDE. This is done via the \"solve_pde\" command, which returns three tensors:\n",
    "- The displacements $u$, which is a ($3\\times n_x \\times n_y \\times n_z$)-tensor.\n",
    "- The stresses $\\sigma$, which is a symmetric ($9\\times n_x \\times n_y \\times n_z$)-tensor.\n",
    "- The von Mises stresses $\\sigma_\\text{vM}$, which is a ($1\\times n_x \\times n_y \\times n_z$)-tensor, i.e., a scalar field."
   ]
  },
  {
   "cell_type": "code",
   "execution_count": null,
   "metadata": {},
   "outputs": [],
   "source": [
    "#ignore\n",
    "u, σ, σ_vm = trivial_solution.solve_pde()"
   ]
  },
  {
   "cell_type": "markdown",
   "metadata": {},
   "source": [
    "After the PDE has been solved for a solution, the displacements $u$ are stored inside the solution object and can be accessed via \"trivial_solution.u\". This avoids solving the same PDE several times."
   ]
  },
  {
   "cell_type": "markdown",
   "metadata": {},
   "source": [
    "In order to check if the von Mises stresses are too large, we need to compare its maximum to the yield stress $\\sigma_\\text{ys}$ of the material:"
   ]
  },
  {
   "cell_type": "code",
   "execution_count": null,
   "metadata": {},
   "outputs": [
    {
     "data": {
      "text/plain": [
       "tensor(0.0198)"
      ]
     },
     "execution_count": null,
     "metadata": {},
     "output_type": "execute_result"
    }
   ],
   "source": [
    "#ignore\n",
    "σ_vm.max() / problem.σ_ys"
   ]
  },
  {
   "cell_type": "markdown",
   "metadata": {},
   "source": [
    "Since the fraction returns a value below $1$, this indicates that the structure indees holds the applied forces and does not break!\n",
    "\n",
    "We can also visualize the spacial distribution of the (normed) displacements and von Mises stresses by passing \"solve_pde=True\" to the plotting function:"
   ]
  },
  {
   "cell_type": "code",
   "execution_count": null,
   "metadata": {},
   "outputs": [],
   "source": [
    "#ignore\n",
    "trivial_solution.plot(camera_position=camera_position,\n",
    "                      solve_pde=True,\n",
    "                      display=False)"
   ]
  },
  {
   "cell_type": "markdown",
   "metadata": {},
   "source": [
    "![trivial_density_theta](https://dl4to.github.io/dl4to/images/1_trivial_density_theta.png)\n",
    "![trivial_density_u](https://dl4to.github.io/dl4to/images/1_trivial_density_u.png)\n",
    "![trivial_density_stress](https://dl4to.github.io/dl4to/images/1_trivial_density_stress.png)"
   ]
  },
  {
   "cell_type": "code",
   "execution_count": null,
   "metadata": {},
   "outputs": [],
   "source": [
    "#hide\n",
    "import os\n",
    "from dl4to.pde import FDM\n",
    "from dl4to.datasets import BasicDataset"
   ]
  },
  {
   "cell_type": "code",
   "execution_count": null,
   "metadata": {},
   "outputs": [
    {
     "name": "stdout",
     "output_type": "stream",
     "text": [
      "CPU times: user 3.06 ms, sys: 0 ns, total: 3.06 ms\n",
      "Wall time: 2.81 ms\n"
     ]
    }
   ],
   "source": [
    "%%time\n",
    "#hide\n",
    "\n",
    "def test_that_get_θ_returns_θ_or_rounded_version():\n",
    "    problem = BasicDataset().ledge()\n",
    "\n",
    "    θ = torch.rand(1, *problem.shape)\n",
    "    solution = Solution(problem, θ, enforce_θ_on_Ω_design=False)\n",
    "\n",
    "    θ_round = θ.clone()\n",
    "    θ_round[θ < .5] = 0.\n",
    "    θ_round[.5 <= θ] = 1.\n",
    "\n",
    "    assert torch.allclose(θ,       solution.get_θ(binary=False))\n",
    "    assert torch.allclose(θ_round, solution.get_θ(binary=True))\n",
    "\n",
    "\n",
    "test_that_get_θ_returns_θ_or_rounded_version()"
   ]
  },
  {
   "cell_type": "code",
   "execution_count": null,
   "metadata": {},
   "outputs": [
    {
     "name": "stdout",
     "output_type": "stream",
     "text": [
      "CPU times: user 0 ns, sys: 3.83 ms, total: 3.83 ms\n",
      "Wall time: 3.43 ms\n"
     ]
    }
   ],
   "source": [
    "%%time\n",
    "#hide\n",
    "\n",
    "def test_can_one_differentiate_θ_in_Solution():\n",
    "    problem = BasicDataset().ledge()\n",
    "\n",
    "    θ_ = torch.rand(1, *problem.shape, requires_grad=True)\n",
    "    θ = θ_ * .5\n",
    "    solution = Solution(problem, θ)\n",
    "\n",
    "    assert solution.get_θ().requires_grad\n",
    "\n",
    "    grad = torch.autograd.grad(solution.get_θ().mean(), θ_)\n",
    "    assert len(grad) == 1\n",
    "    grad = grad[0]\n",
    "    assert grad.shape == (1, *problem.shape)\n",
    "\n",
    "\n",
    "test_can_one_differentiate_θ_in_Solution()"
   ]
  },
  {
   "cell_type": "code",
   "execution_count": null,
   "metadata": {},
   "outputs": [
    {
     "name": "stdout",
     "output_type": "stream",
     "text": [
      "CPU times: user 1.45 ms, sys: 88 µs, total: 1.54 ms\n",
      "Wall time: 1.37 ms\n"
     ]
    }
   ],
   "source": [
    "%%time\n",
    "#hide\n",
    "\n",
    "def test_move_to_device(device='cpu'):\n",
    "    problem = BasicDataset().ledge()\n",
    "\n",
    "    θ = torch.rand(1, *problem.shape)\n",
    "    solution = Solution(problem, θ)\n",
    "    solution.device = device\n",
    "\n",
    "    assert str(solution.get_θ().device) == device\n",
    "\n",
    "\n",
    "test_move_to_device()"
   ]
  },
  {
   "cell_type": "code",
   "execution_count": null,
   "metadata": {},
   "outputs": [
    {
     "name": "stdout",
     "output_type": "stream",
     "text": [
      "CPU times: user 2.4 ms, sys: 0 ns, total: 2.4 ms\n",
      "Wall time: 2.23 ms\n"
     ]
    }
   ],
   "source": [
    "%%time\n",
    "#hide\n",
    "\n",
    "def test_that_the_clone_has_the_same_attributes():\n",
    "    problem = BasicDataset().ledge()\n",
    "\n",
    "    θ = torch.rand(1, *problem.shape)\n",
    "    solution = Solution(problem, θ)\n",
    "    solution_clone = solution.clone()\n",
    "\n",
    "    assert torch.all(solution.get_θ() == solution_clone.get_θ())\n",
    "\n",
    "    # only basic None checking for object-attributes\n",
    "    if (solution.problem is None) or (solution_clone.problem is None):\n",
    "        assert (solution.problem is None) and (solution_clone.problem is None)\n",
    "    if (solution.pde_solver is None) or (solution_clone.pde_solver is None):\n",
    "        assert (solution.pde_solver is None) and (solution_clone.pde_solver is None)\n",
    "\n",
    "\n",
    "test_that_the_clone_has_the_same_attributes()"
   ]
  },
  {
   "cell_type": "code",
   "execution_count": null,
   "metadata": {},
   "outputs": [
    {
     "name": "stdout",
     "output_type": "stream",
     "text": [
      "CPU times: user 3.64 ms, sys: 0 ns, total: 3.64 ms\n",
      "Wall time: 3.18 ms\n"
     ]
    }
   ],
   "source": [
    "%%time\n",
    "#hide\n",
    "\n",
    "def test_that_thresholding_θ_has_an_effect():\n",
    "    problem = BasicDataset().ledge()\n",
    "\n",
    "    θ = torch.rand(1, *problem.shape)\n",
    "    solution = Solution(problem, θ=θ, enforce_θ_on_Ω_design=False)\n",
    "    solution_clone = solution.clone()\n",
    "\n",
    "    solution.θ = torch.rand(1, *problem.shape)\n",
    "\n",
    "    assert torch.all(solution.get_θ() != solution_clone.get_θ()), \"densities not detached\"\n",
    "\n",
    "    solution._problem = 'problem_placeholder'\n",
    "    solution._pde_solver = 'pde_solver_placeholder'\n",
    "\n",
    "    assert solution_clone.pde_solver is None, \"pde_solver is not none\"\n",
    "\n",
    "\n",
    "test_that_thresholding_θ_has_an_effect()"
   ]
  },
  {
   "cell_type": "code",
   "execution_count": null,
   "metadata": {},
   "outputs": [
    {
     "name": "stdout",
     "output_type": "stream",
     "text": [
      "CPU times: user 2.23 ms, sys: 0 ns, total: 2.23 ms\n",
      "Wall time: 2.06 ms\n"
     ]
    }
   ],
   "source": [
    "%%time\n",
    "#hide\n",
    "\n",
    "def test_that_the_clone_has_decuplet_attributes_():\n",
    "    problem = BasicDataset().ledge()\n",
    "\n",
    "    θ = torch.rand(1, *problem.shape)\n",
    "    solution = Solution(problem, θ=θ, enforce_θ_on_Ω_design=False)\n",
    "    solution_clone = solution.clone()\n",
    "\n",
    "    solution.θ = torch.rand(1, *problem.shape)\n",
    "\n",
    "    assert torch.all(solution.get_θ() != solution_clone.get_θ())\n",
    "\n",
    "    solution._problem = 'problem_placeholder'\n",
    "    solution._pde_solver = 'pde_solver_placeholder'\n",
    "\n",
    "    assert solution_clone.pde_solver is None\n",
    "\n",
    "\n",
    "test_that_the_clone_has_decuplet_attributes_()"
   ]
  },
  {
   "cell_type": "code",
   "execution_count": null,
   "metadata": {},
   "outputs": [
    {
     "name": "stdout",
     "output_type": "stream",
     "text": [
      "CPU times: user 1.9 s, sys: 51.1 ms, total: 1.95 s\n",
      "Wall time: 483 ms\n"
     ]
    }
   ],
   "source": [
    "%%time\n",
    "#hide\n",
    "\n",
    "def test_u_and_σ_and_σ_vm_shapes():\n",
    "    problem = BasicDataset(resolution=15).ledge()\n",
    "    θ = .1 + torch.rand(1, *problem.shape) * .8\n",
    "    θ[:, 0] = 0\n",
    "    problem.pde_solver = FDM()\n",
    "    solution = Solution(problem, θ=θ)\n",
    "    u, σ, σ_vm = solution.solve_pde()\n",
    "\n",
    "    assert u.shape[0] == 3\n",
    "    assert u.shape[1:] == problem.shape\n",
    "    assert σ.shape[0] == 9\n",
    "    assert σ.shape[1:] == problem.shape\n",
    "    assert σ_vm.shape[0] == 1\n",
    "    assert σ_vm.shape[1:] == problem.shape\n",
    "\n",
    "test_u_and_σ_and_σ_vm_shapes()"
   ]
  },
  {
   "cell_type": "code",
   "execution_count": null,
   "metadata": {},
   "outputs": [],
   "source": []
  }
 ],
 "metadata": {
  "kernelspec": {
   "display_name": "Python 3 (ipykernel)",
   "language": "python",
   "name": "python3"
  }
 },
 "nbformat": 4,
 "nbformat_minor": 4
}
