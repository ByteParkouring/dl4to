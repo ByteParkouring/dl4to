{
 "cells": [
  {
   "cell_type": "code",
   "execution_count": null,
   "id": "80f474c2",
   "metadata": {},
   "outputs": [],
   "source": [
    "#default_exp topo_solvers"
   ]
  },
  {
   "cell_type": "code",
   "execution_count": null,
   "id": "4b8148ff",
   "metadata": {},
   "outputs": [],
   "source": [
    "#export\n",
    "import time\n",
    "import torch\n",
    "from collections import defaultdict\n",
    "\n",
    "from dl4to.solution import Solution\n",
    "from dl4to.criteria import VolumeFraction, Binariness"
   ]
  },
  {
   "cell_type": "code",
   "execution_count": null,
   "id": "87b25bbd-fc8d-4f6c-bb04-fc5ea9453d88",
   "metadata": {},
   "outputs": [],
   "source": [
    "#hide\n",
    "from nbdev.showdoc import show_doc"
   ]
  },
  {
   "cell_type": "markdown",
   "id": "634887ea-222e-4bd2-9090-e0462af4323a",
   "metadata": {},
   "source": [
    "# SIMP iterator"
   ]
  },
  {
   "cell_type": "code",
   "execution_count": null,
   "id": "74d4ffbf-f445-472b-9dab-10cfcda60856",
   "metadata": {},
   "outputs": [],
   "source": [
    "#export\n",
    "class SIMPIterator:\n",
    "    \"\"\"\n",
    "    Performs the actual SIMP optimization.\n",
    "    \"\"\"\n",
    "    def __init__(\n",
    "        self,\n",
    "        problem:\"dl4to.problem.Problem\", # The problem that should be solved by SIMP.\n",
    "        criterion:\"dl4to.criteria.Criterion\", # The objective function that should be optimized for in the optimization process.\n",
    "        density_representer:\"dl4to.density_representers.DensityRepresenter\", # The density representer that is used for the latent density representation. The density representer also performs the projection, smoothing and filtering.\n",
    "        lr:float, # The learning rate of the `torch.optim.Adam` optimizer.\n",
    "        binarizer_steepening_factor:float # The factor at which the binarizer should be steepened in each iteration. E.g.,a value of 1.1 corresponds to a steepening of 10% per iteration.\n",
    "    ):\n",
    "        self.lr = lr\n",
    "        self.logs = defaultdict(list)\n",
    "        self.binarizer_steepening_factor = binarizer_steepening_factor\n",
    "        self.problem = problem\n",
    "\n",
    "        self.criterion = criterion\n",
    "        self.volume_crit = VolumeFraction()\n",
    "        self.binariness_crit = Binariness()\n",
    "        self.density_representer = density_representer\n",
    "        self.optimizer = torch.optim.Adam(self.density_representer.parameters(), lr=self.lr)\n",
    "\n",
    "\n",
    "    def _extend_logs(self, solution, loss, volume, tick, σ_vm):\n",
    "        self.logs[\"losses\"].append(loss.item())\n",
    "        self.logs[\"volumes\"].append(volume.item())\n",
    "        self.logs[\"durations\"].append(time.time() - tick)\n",
    "        self.logs[\"binarinesses\"].append(self.binariness_crit([solution]))\n",
    "        self.logs[\"relative_max_σ_vm\"].append(σ_vm.max().item() / self.problem.σ_ys)\n",
    "\n",
    "\n",
    "    def _perform_optimizer_step(self, loss):\n",
    "        self.optimizer.zero_grad()\n",
    "        loss.backward(retain_graph=True)\n",
    "        grads = torch.autograd.grad(loss, self.density_representer.θ)[0].detach()\n",
    "        self.optimizer.step()\n",
    "        return grads\n",
    "\n",
    "\n",
    "    def __call__(self, \n",
    "                 p:float # The SIMP exponent\n",
    "                ):\n",
    "        \"\"\"\n",
    "        Creates the SIMP solution objects, solves the PDE and communicates with the density representer.\n",
    "        Returns a `dl4to.solution.Solution` object.\n",
    "        \"\"\"\n",
    "        tick = time.time()\n",
    "        solution = Solution(\n",
    "            problem=self.problem,\n",
    "            θ=self.density_representer(),\n",
    "        )\n",
    "\n",
    "        u, σ, σ_vm = solution.solve_pde(p=p)\n",
    "        loss = self.criterion([solution])\n",
    "        volume = self.volume_crit([solution])\n",
    "\n",
    "        grads = self._perform_optimizer_step(loss)\n",
    "        solution.θ = self.density_representer()\n",
    "        self.density_representer.steepen_binarizer(self.binarizer_steepening_factor)\n",
    "\n",
    "        self._extend_logs(solution, loss, volume, tick, σ_vm)\n",
    "        solution.logs = self.logs\n",
    "\n",
    "        solution.logs['grads'].append(grads)\n",
    "        return solution"
   ]
  }
 ],
 "metadata": {
  "kernelspec": {
   "display_name": "Python 3 (ipykernel)",
   "language": "python",
   "name": "python3"
  }
 },
 "nbformat": 4,
 "nbformat_minor": 5
}
