{
 "cells": [
  {
   "cell_type": "code",
   "execution_count": null,
   "id": "5e394c52",
   "metadata": {},
   "outputs": [],
   "source": [
    "#default_exp topo_solvers"
   ]
  },
  {
   "cell_type": "code",
   "execution_count": null,
   "id": "777bba29-14cc-4f42-a469-931e3fe36c6d",
   "metadata": {},
   "outputs": [],
   "source": [
    "#exporti\n",
    "import copy\n",
    "import torch\n",
    "from typing import Union\n",
    "\n",
    "from dl4to.solution import Solution\n",
    "from dl4to.utils import get_dataloader, cast_to_solutions, save_dict_as_txt, create_dir"
   ]
  },
  {
   "cell_type": "code",
   "execution_count": null,
   "id": "e93102a0-0996-430a-8fe4-c003e26aca6f",
   "metadata": {},
   "outputs": [],
   "source": [
    "#hide\n",
    "from nbdev.showdoc import show_doc"
   ]
  },
  {
   "cell_type": "markdown",
   "id": "eaadbf18-6308-439f-b5c0-b1434bd4707a",
   "metadata": {},
   "source": [
    "# Topo solver"
   ]
  },
  {
   "cell_type": "code",
   "execution_count": null,
   "id": "59872878-94fe-46a7-a905-76798c2bd518",
   "metadata": {},
   "outputs": [],
   "source": [
    "#export\n",
    "class TopoSolver:\n",
    "    \"\"\"\n",
    "    A parent class that inherits all kinds of topo solvers, i.e., algorithms that solve the topology optimization task.\n",
    "    \"\"\"\n",
    "    def __init__(self, \n",
    "                 device:str='cpu', # The device of the topo solver. Can bei either \"cpu\" or \"cuda\".\n",
    "                 name:str=None, # The name of the topo solver.\n",
    "                 trainable:bool=False, # Whether the topo solver is trainable.\n",
    "                 differentiable:bool=False # Whether the topo solver is differentiable.\n",
    "                ):\n",
    "        self._device = device\n",
    "        self.name = name\n",
    "        self._trainable = trainable\n",
    "        self._differentiable = differentiable\n",
    "\n",
    "\n",
    "    @property\n",
    "    def device(self):\n",
    "        return self._device\n",
    "\n",
    "\n",
    "    @device.setter\n",
    "    def device(self, device):\n",
    "        self._device = device\n",
    "\n",
    "\n",
    "    def to(self, \n",
    "           device:str # The device of the topo solver. Can bei either \"cpu\" or \"cuda\".\n",
    "          ):\n",
    "        \"\"\"\n",
    "        Move the topo solver to `device`.\n",
    "        \"\"\"\n",
    "        self.device = device\n",
    "\n",
    "\n",
    "    def cuda(self):\n",
    "        \"\"\"\n",
    "        Move the topo solver to `cuda`.\n",
    "        \"\"\"\n",
    "        self.to('cuda')\n",
    "\n",
    "\n",
    "    def cpu(self):\n",
    "        \"\"\"\n",
    "        Move the topo solver to `cpu`.\n",
    "        \"\"\"\n",
    "        self.to('cpu')\n",
    "\n",
    "\n",
    "    @property\n",
    "    def trainable(self):\n",
    "        return self._trainable\n",
    "\n",
    "\n",
    "    @property\n",
    "    def differentiable(self):\n",
    "        return self._differentiable\n",
    "\n",
    "\n",
    "    def clone(self):\n",
    "        \"\"\"\n",
    "        Return a `dl4to.topo_solvers.TopoSolver` object, which is clone of the current topo solver.\n",
    "        \"\"\"\n",
    "        return copy.deepcopy(self)\n",
    "\n",
    "\n",
    "    def _if_tuple_cast_to_list(self, problems_or_solutions):\n",
    "        if type(problems_or_solutions) is tuple:\n",
    "            problems_or_solutions = list(problems_or_solutions)\n",
    "        return problems_or_solutions\n",
    "\n",
    "\n",
    "    def _prepare_input_in_call(self, problems_or_solutions):\n",
    "        problems_or_solutions = self._if_tuple_cast_to_list(problems_or_solutions)\n",
    "        was_list = True\n",
    "\n",
    "        if type(problems_or_solutions) != list:\n",
    "            problems_or_solutions = [problems_or_solutions]\n",
    "            was_list = False\n",
    "\n",
    "        solutions = cast_to_solutions(problems_or_solutions)\n",
    "        return solutions, was_list\n",
    "\n",
    "\n",
    "    def _get_new_solutions(self, solutions, eval_mode):\n",
    "        raise NotImplementedError(\"Must be overridden.\")\n",
    "\n",
    "\n",
    "    def __call__(self, \n",
    "                 problems_or_solutions:list, # A list containing problem and solution objects.\n",
    "                 eval_mode:bool=True # Determines whether to calculate gradients for the backwards pass or not. If `True`, then no gradients are calculated.\n",
    "                ):\n",
    "        \"\"\"\n",
    "        Perform a forward pass of the topo solver. Expects a list of problems or solutions.\n",
    "        Returns a `dl4to.solution.Solution` object or a list of solutions, if the input was also a list.\n",
    "        \"\"\"\n",
    "        solutions, was_list = self._prepare_input_in_call(problems_or_solutions)\n",
    "        solutions = self._get_new_solutions(solutions, eval_mode)\n",
    "\n",
    "        if was_list:\n",
    "            return solutions\n",
    "        assert len(solutions) == 1\n",
    "        return solutions[0]\n",
    "\n",
    "\n",
    "    def eval(self, \n",
    "             root:str, # The root directory where the evaluation results are saved.\n",
    "             criteria:list, # A list of `dl4to.criteria.Criterion` objects that are used for the evaluation.\n",
    "             dataloader:torch.utils.data.DataLoader # The dataloader that is used for retrieving the validation data.\n",
    "            ):\n",
    "        \"\"\"\n",
    "        Evalate criteria with outputs from the topo solver. Returns a `collections.defaultdict` dictionary.\n",
    "        \"\"\"\n",
    "        dir_path = create_dir(name=f\"eval_on_{dataloader.dataset.name}\", path=root, prepend_date=False)\n",
    "\n",
    "        logs = EvalModule()(\n",
    "            topo_solver=self,\n",
    "            criteria=criteria,\n",
    "            dataloader=dataloader\n",
    "        )\n",
    "\n",
    "        save_dict_as_txt(my_dict=logs, dir_path=dir_path, file_name=\"eval_logs\")\n",
    "        return logs\n",
    "\n",
    "\n",
    "    def plot_first_solutions_from_dataloader(\n",
    "        self,\n",
    "        root:str, # The root where the plots should be saved.\n",
    "        n_plots:int, # The number of solutions to plot.\n",
    "        dataloader:torch.utils.data.DataLoader, # The dataloader that is used to obtain the data.\n",
    "        camera_position:Union[tuple,list]=(0,.1,.12), # x, y, and z coordinates of the camera position.\n",
    "        export_png:bool=True, # Whether the figure is exported and saved as a png file, in addition to the standard html format.\n",
    "    ):\n",
    "        \"\"\"\n",
    "        Saves `n_plots` plots of solutions obtained via the topo_solver from problems from the dataloader.\n",
    "        \"\"\"\n",
    "        dir_path = create_dir(name=f\"eval_on_{dataloader.dataset.name}\", path=root, prepend_date=False)\n",
    "\n",
    "        solutions = EvalModule.get_first_solutions(\n",
    "            topo_solver=self,\n",
    "            n_solutions=n_plots,\n",
    "            dataloader=dataloader,\n",
    "        )\n",
    "\n",
    "        for i, solution in enumerate(solutions):\n",
    "            torch.save(solution, f\"{dir_path}/solution_{i}.pt\")\n",
    "\n",
    "            solution.plot(\n",
    "                binary=True,\n",
    "                solve_pde=False, \n",
    "                display=False, \n",
    "                file_path=f\"{dir_path}/{i}\",\n",
    "                camera_position=camera_position,\n",
    "                show_colorbar=False, \n",
    "                export_png=export_png\n",
    "            )"
   ]
  },
  {
   "cell_type": "code",
   "execution_count": null,
   "id": "9dc558c7-a0ae-4827-bc5e-68b7e31ef348",
   "metadata": {},
   "outputs": [
    {
     "data": {
      "text/markdown": [
       "<h4 id=\"TopoSolver.to\" class=\"doc_header\"><code>TopoSolver.to</code><a href=\"__main__.py#L28\" class=\"source_link\" style=\"float:right\">[source]</a></h4>\n",
       "\n",
       "> <code>TopoSolver.to</code>(**`device`**:`str`)\n",
       "\n",
       "Move the topo solver to `device`.\n",
       "\n",
       "||Type|Default|Details|\n",
       "|---|---|---|---|\n",
       "|**`device`**|`str`||The device of the topo solver. Can bei either \"cpu\" or \"cuda\".|\n"
      ],
      "text/plain": [
       "<IPython.core.display.Markdown object>"
      ]
     },
     "metadata": {},
     "output_type": "display_data"
    }
   ],
   "source": [
    "show_doc(TopoSolver.to)"
   ]
  },
  {
   "cell_type": "code",
   "execution_count": null,
   "id": "78b0224a-7bf1-4860-941f-fbb3efe52f04",
   "metadata": {},
   "outputs": [
    {
     "data": {
      "text/markdown": [
       "<h4 id=\"TopoSolver.cuda\" class=\"doc_header\"><code>TopoSolver.cuda</code><a href=\"__main__.py#L37\" class=\"source_link\" style=\"float:right\">[source]</a></h4>\n",
       "\n",
       "> <code>TopoSolver.cuda</code>()\n",
       "\n",
       "Move the topo solver to `cuda`."
      ],
      "text/plain": [
       "<IPython.core.display.Markdown object>"
      ]
     },
     "metadata": {},
     "output_type": "display_data"
    }
   ],
   "source": [
    "show_doc(TopoSolver.cuda)"
   ]
  },
  {
   "cell_type": "code",
   "execution_count": null,
   "id": "71583f9f-8452-48ae-bb34-9a3540195ce9",
   "metadata": {},
   "outputs": [
    {
     "data": {
      "text/markdown": [
       "<h4 id=\"TopoSolver.cpu\" class=\"doc_header\"><code>TopoSolver.cpu</code><a href=\"__main__.py#L44\" class=\"source_link\" style=\"float:right\">[source]</a></h4>\n",
       "\n",
       "> <code>TopoSolver.cpu</code>()\n",
       "\n",
       "Move the topo solver to `cpu`."
      ],
      "text/plain": [
       "<IPython.core.display.Markdown object>"
      ]
     },
     "metadata": {},
     "output_type": "display_data"
    }
   ],
   "source": [
    "show_doc(TopoSolver.cpu)"
   ]
  },
  {
   "cell_type": "code",
   "execution_count": null,
   "id": "f6444a2a-a5f8-49f5-9bfc-35a1b9ff2c1a",
   "metadata": {},
   "outputs": [
    {
     "data": {
      "text/markdown": [
       "<h4 id=\"TopoSolver.clone\" class=\"doc_header\"><code>TopoSolver.clone</code><a href=\"__main__.py#L61\" class=\"source_link\" style=\"float:right\">[source]</a></h4>\n",
       "\n",
       "> <code>TopoSolver.clone</code>()\n",
       "\n",
       "Return a `dl4to.topo_solvers.TopoSolver` object, which is clone of the current topo solver."
      ],
      "text/plain": [
       "<IPython.core.display.Markdown object>"
      ]
     },
     "metadata": {},
     "output_type": "display_data"
    }
   ],
   "source": [
    "show_doc(TopoSolver.clone)"
   ]
  },
  {
   "cell_type": "code",
   "execution_count": null,
   "id": "07d54ff4-a680-4184-8ef4-0cdba74685ff",
   "metadata": {},
   "outputs": [
    {
     "data": {
      "text/markdown": [
       "<h4 id=\"TopoSolver.__call__\" class=\"doc_header\"><code>TopoSolver.__call__</code><a href=\"__main__.py#L90\" class=\"source_link\" style=\"float:right\">[source]</a></h4>\n",
       "\n",
       "> <code>TopoSolver.__call__</code>(**`problems_or_solutions`**:`list`, **`eval_mode`**:`bool`=*`True`*)\n",
       "\n",
       "Perform a forward pass of the topo solver. Expects a list of problems or solutions.\n",
       "Returns a `dl4to.solution.Solution` object or a list of solutions, if the input was also a list.\n",
       "\n",
       "||Type|Default|Details|\n",
       "|---|---|---|---|\n",
       "|**`problems_or_solutions`**|`list`||A list containing problem and solution objects.|\n",
       "|**`eval_mode`**|`bool`|`True`|Determines whether to calculate gradients for the backwards pass or not. If `True`, then no gradients are calculated.|\n"
      ],
      "text/plain": [
       "<IPython.core.display.Markdown object>"
      ]
     },
     "metadata": {},
     "output_type": "display_data"
    }
   ],
   "source": [
    "show_doc(TopoSolver.__call__)"
   ]
  },
  {
   "cell_type": "code",
   "execution_count": null,
   "id": "34ccfc17-e090-4ffd-aa78-dc8bd47167d0",
   "metadata": {},
   "outputs": [
    {
     "data": {
      "text/markdown": [
       "<h4 id=\"TopoSolver.eval\" class=\"doc_header\"><code>TopoSolver.eval</code><a href=\"__main__.py#L107\" class=\"source_link\" style=\"float:right\">[source]</a></h4>\n",
       "\n",
       "> <code>TopoSolver.eval</code>(**`root`**:`str`, **`criteria`**:`list`, **`dataloader`**:`DataLoader`)\n",
       "\n",
       "Evalate criteria with outputs from the topo solver. Returns a `collections.defaultdict` dictionary.\n",
       "\n",
       "||Type|Default|Details|\n",
       "|---|---|---|---|\n",
       "|**`root`**|`str`||The root directory where the evaluation results are saved.|\n",
       "|**`criteria`**|`list`||A list of `dl4to.criteria.Criterion` objects that are used for the evaluation.|\n",
       "|**`dataloader`**|`DataLoader`||The dataloader that is used for retrieving the validation data.|\n"
      ],
      "text/plain": [
       "<IPython.core.display.Markdown object>"
      ]
     },
     "metadata": {},
     "output_type": "display_data"
    }
   ],
   "source": [
    "show_doc(TopoSolver.eval)"
   ]
  },
  {
   "cell_type": "code",
   "execution_count": null,
   "id": "94b7902d-7ba7-47fb-845d-2846836e4d82",
   "metadata": {},
   "outputs": [
    {
     "data": {
      "text/markdown": [
       "<h4 id=\"TopoSolver.plot_first_solutions_from_dataloader\" class=\"doc_header\"><code>TopoSolver.plot_first_solutions_from_dataloader</code><a href=\"__main__.py#L127\" class=\"source_link\" style=\"float:right\">[source]</a></h4>\n",
       "\n",
       "> <code>TopoSolver.plot_first_solutions_from_dataloader</code>(**`root`**:`str`, **`n_plots`**:`int`, **`dataloader`**:`DataLoader`, **`camera_position`**:`Union`\\[`tuple`, `list`\\]=*`(0, 0.1, 0.12)`*, **`export_png`**:`bool`=*`True`*)\n",
       "\n",
       "Saves `n_plots` plots of solutions obtained via the topo_solver from problems from the dataloader.\n",
       "\n",
       "||Type|Default|Details|\n",
       "|---|---|---|---|\n",
       "|**`root`**|`str`||The root where the plots should be saved.|\n",
       "|**`n_plots`**|`int`||The number of solutions to plot.|\n",
       "|**`dataloader`**|`DataLoader`||The dataloader that is used to obtain the data.|\n",
       "|**`camera_position`**|`typing.Union[tuple, list]`|`(0, 0.1, 0.12)`|x, y, and z coordinates of the camera position.|\n",
       "|**`export_png`**|`bool`|`True`|Whether the figure is exported and saved as a png file, in addition to the standard html format.|\n"
      ],
      "text/plain": [
       "<IPython.core.display.Markdown object>"
      ]
     },
     "metadata": {},
     "output_type": "display_data"
    }
   ],
   "source": [
    "show_doc(TopoSolver.plot_first_solutions_from_dataloader)"
   ]
  },
  {
   "cell_type": "code",
   "execution_count": null,
   "id": "322a401f-0d3b-47ea-91a3-dccc11c66b13",
   "metadata": {},
   "outputs": [
    {
     "name": "stdout",
     "output_type": "stream",
     "text": [
      "CPU times: user 86 µs, sys: 49 µs, total: 135 µs\n",
      "Wall time: 149 µs\n"
     ]
    }
   ],
   "source": [
    "%%time\n",
    "#hide\n",
    "\n",
    "def test_that_we_can_instanciate_a_mock():\n",
    "    class MockTopoSolver(TopoSolver):\n",
    "        def _get_name(self):\n",
    "            return \"MockTopoSolver\"\n",
    "\n",
    "    topo_solver = MockTopoSolver()\n",
    "    topo_solver.name == \"MockTopoSolver\"\n",
    "\n",
    "    topo_solver.cuda()\n",
    "\n",
    "\n",
    "test_that_we_can_instanciate_a_mock()"
   ]
  }
 ],
 "metadata": {
  "kernelspec": {
   "display_name": "Python 3 (ipykernel)",
   "language": "python",
   "name": "python3"
  }
 },
 "nbformat": 4,
 "nbformat_minor": 5
}
