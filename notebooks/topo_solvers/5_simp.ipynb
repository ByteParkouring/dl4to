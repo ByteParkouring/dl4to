{
 "cells": [
  {
   "cell_type": "code",
   "execution_count": null,
   "id": "1b21a691",
   "metadata": {},
   "outputs": [],
   "source": [
    "#default_exp topo_solvers"
   ]
  },
  {
   "cell_type": "code",
   "execution_count": null,
   "id": "c95d784e",
   "metadata": {},
   "outputs": [],
   "source": [
    "#export\n",
    "import torch\n",
    "import numpy as np\n",
    "from tqdm.notebook import tqdm\n",
    "\n",
    "from dl4to.topo_solvers import TopoSolver, SIMPIterator\n",
    "from dl4to.density_representers import FilteringDensityRepresenter"
   ]
  },
  {
   "cell_type": "code",
   "execution_count": null,
   "id": "6a782cbb-4be7-4bab-8e91-570c4bc80a8e",
   "metadata": {},
   "outputs": [],
   "source": [
    "#hide\n",
    "from nbdev.showdoc import show_doc"
   ]
  },
  {
   "cell_type": "markdown",
   "id": "e277c531-32a4-48c0-a798-6394876f4e59",
   "metadata": {},
   "source": [
    "# SIMP"
   ]
  },
  {
   "cell_type": "code",
   "execution_count": null,
   "id": "ecb726fb-292f-4e79-b8a2-1c61392e3e4e",
   "metadata": {},
   "outputs": [],
   "source": [
    "#export\n",
    "class SIMP(TopoSolver):\n",
    "    \"\"\"\n",
    "    A topo solver that performs topology optimization with the \"Solid Isotropic Material with Penalization\" (SIMP) method.\n",
    "    \"\"\"\n",
    "    def __init__(\n",
    "        self,\n",
    "        criterion:\"dl4to.criteria.Criterion\", # The objective function that should be optimized for in the optimization process.\n",
    "        p:float=3., # The SIMP exponent to discourage non-binary densities. The default value is `p=3`, which is the standard value in the literature.\n",
    "        n_iterations:int=50, # The number of SIMP iterations that should be performed.\n",
    "        verbose:bool=True, # Whether to give the user feedback on the current status of the optimization.\n",
    "        lr:float=3e-2, # The learning rate of the `torch.optim.Adam` optimizer.\n",
    "        binarizer_steepening_factor:float=1., # The factor at which the binarizer should be steepened in each iteration. E.g.,a value of 1.1 corresponds to a steepening of 10% per iteration.\n",
    "        density_representer:\"dl4to.density_representers.DensityRepresenter\"=FilteringDensityRepresenter(), # The density representer that is used for the latent density representation. The density representer also performs the projection, smoothing and filtering.\n",
    "        return_intermediate_solutions:bool=False # Whether intermediate SIMP solutions should be returned or only the final solution of the optimization process.\n",
    "    ):\n",
    "        super().__init__(device=\"cpu\", name=\"SIMP\")\n",
    "        self.p = p\n",
    "        self.n_iterations = n_iterations\n",
    "        self.verbose = verbose\n",
    "        self.criterion = criterion\n",
    "        self.return_intermediate_solutions = return_intermediate_solutions\n",
    "        self.density_representer = density_representer\n",
    "        self.binarizer_steepening_factor = binarizer_steepening_factor\n",
    "        self.lr = lr\n",
    "        self.criterion = criterion\n",
    "\n",
    "\n",
    "    def _run_iterations(self, simp_iterator):\n",
    "        solutions = []\n",
    "        iters = range(self.n_iterations)\n",
    "        if self.verbose:\n",
    "            iters = tqdm(iters)\n",
    "\n",
    "        for i in iters:\n",
    "            solution = simp_iterator(p=self.p)\n",
    "            if self.return_intermediate_solutions:\n",
    "                solutions.append(solution)\n",
    "        if self.return_intermediate_solutions:\n",
    "            return solutions\n",
    "        return solution\n",
    "\n",
    "\n",
    "    def _get_new_simp_iterator(self, solution, density_representer):\n",
    "        simp_iterator = SIMPIterator(\n",
    "            problem=solution.problem,\n",
    "            criterion=self.criterion,\n",
    "            density_representer=self.density_representer,\n",
    "            lr=self.lr,\n",
    "            binarizer_steepening_factor=self.binarizer_steepening_factor\n",
    "        )\n",
    "        return simp_iterator\n",
    "\n",
    "\n",
    "    def _get_new_solution(self, solution):\n",
    "        self.density_representer.problem = solution.problem\n",
    "        simp_iterator = self._get_new_simp_iterator(solution, self.density_representer)\n",
    "        solution = self._run_iterations(simp_iterator)\n",
    "        return solution\n",
    "\n",
    "\n",
    "    def _get_new_solutions(self, solutions, density_representers):\n",
    "        solutions, density_representers = self._check_and_preprocess_inputs_for_get_new_solutions(solutions, density_representers)\n",
    "        simp_solutions = []\n",
    "        for solution in solutions:\n",
    "            if self.return_intermediate_solutions:\n",
    "                simp_solutions.extend([self._get_new_solution(solution)])\n",
    "            else:\n",
    "                simp_solutions.append(self._get_new_solution(solution))\n",
    "        return simp_solutions\n",
    "\n",
    "\n",
    "    def _check_and_preprocess_inputs_for_get_new_solutions(self, solutions, density_representers):\n",
    "        if type(density_representers) != list:\n",
    "            density_representers = [density_representers]\n",
    "\n",
    "        if len(solutions) == len(density_representers):\n",
    "            return solutions, density_representers\n",
    "        raise ValueError(\"SIMP: len(solutions) != len(density_representers)\")"
   ]
  },
  {
   "cell_type": "code",
   "execution_count": null,
   "id": "a6c4cd21-c4f6-4805-9872-87dff68e92f8",
   "metadata": {},
   "outputs": [],
   "source": [
    "#hide\n",
    "from dl4to.pde import FDM\n",
    "from dl4to.datasets import BasicDataset\n",
    "from dl4to.criteria import Compliance, VolumeConstraint"
   ]
  },
  {
   "cell_type": "code",
   "execution_count": null,
   "id": "edc757bf-5735-4cd9-ba26-5016c4068b0f",
   "metadata": {},
   "outputs": [],
   "source": [
    "#hide\n",
    "max_volume_fraction = 0.1\n",
    "criterion = Compliance() + VolumeConstraint(max_volume_fraction=.12, threshold_fct='relu')"
   ]
  },
  {
   "cell_type": "code",
   "execution_count": null,
   "id": "5a39064e-669d-499b-bdb9-2cb281b7151b",
   "metadata": {},
   "outputs": [],
   "source": [
    "#hide\n",
    "def get_problem():\n",
    "    problem = BasicDataset(resolution=15).ledge(force_per_area=-4e6)\n",
    "    problem.pde_solver = FDM()\n",
    "    return problem"
   ]
  },
  {
   "cell_type": "code",
   "execution_count": null,
   "id": "9dba33bb",
   "metadata": {},
   "outputs": [
    {
     "name": "stdout",
     "output_type": "stream",
     "text": [
      "CPU times: user 323 ms, sys: 16.3 ms, total: 339 ms\n",
      "Wall time: 354 ms\n"
     ]
    }
   ],
   "source": [
    "%%time\n",
    "#hide\n",
    "\n",
    "def test_that_we_can_instanciate_and_basic_properties_hold():\n",
    "    problem = get_problem()\n",
    "    simp = SIMP(\n",
    "        criterion=criterion, \n",
    "    )\n",
    "\n",
    "    assert simp.name == \"SIMP\"\n",
    "\n",
    "\n",
    "test_that_we_can_instanciate_and_basic_properties_hold()"
   ]
  },
  {
   "cell_type": "code",
   "execution_count": null,
   "id": "979995fd",
   "metadata": {},
   "outputs": [
    {
     "data": {
      "application/vnd.jupyter.widget-view+json": {
       "model_id": "93ddb80fd6204383959f859a51a8c70e",
       "version_major": 2,
       "version_minor": 0
      },
      "text/plain": [
       "  0%|          | 0/3 [00:00<?, ?it/s]"
      ]
     },
     "metadata": {},
     "output_type": "display_data"
    },
    {
     "name": "stdout",
     "output_type": "stream",
     "text": [
      "CPU times: user 11.4 s, sys: 68 ms, total: 11.5 s\n",
      "Wall time: 1.08 s\n"
     ]
    }
   ],
   "source": [
    "%%time\n",
    "#hide\n",
    "\n",
    "def test_that_we_can_create_plot(n_iterations, verbose=True):\n",
    "    problem = get_problem()\n",
    "    density_representer = FilteringDensityRepresenter(filter_size=3, filter_fct=\"max_pool\")\n",
    "\n",
    "    simp = SIMP(\n",
    "        criterion=criterion,\n",
    "        density_representer=density_representer,\n",
    "        n_iterations=n_iterations,\n",
    "        lr=1e-1,\n",
    "        verbose=True,\n",
    "    )\n",
    "\n",
    "    solution = simp(problems_or_solutions=problem)\n",
    "\n",
    "    if verbose:\n",
    "        solution.plot()\n",
    "\n",
    "\n",
    "test_that_we_can_create_plot(n_iterations=3, verbose=False)"
   ]
  }
 ],
 "metadata": {
  "kernelspec": {
   "display_name": "Python 3 (ipykernel)",
   "language": "python",
   "name": "python3"
  }
 },
 "nbformat": 4,
 "nbformat_minor": 5
}
