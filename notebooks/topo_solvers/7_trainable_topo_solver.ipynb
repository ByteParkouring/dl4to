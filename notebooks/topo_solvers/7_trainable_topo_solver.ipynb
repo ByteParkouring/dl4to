{
 "cells": [
  {
   "cell_type": "code",
   "execution_count": null,
   "id": "40b96aa5",
   "metadata": {},
   "outputs": [],
   "source": [
    "#default_exp topo_solvers"
   ]
  },
  {
   "cell_type": "code",
   "execution_count": null,
   "id": "6132a52a-dfd6-4dfc-badf-09e47dc89dad",
   "metadata": {},
   "outputs": [],
   "source": [
    "#exporti\n",
    "import json\n",
    "import torch\n",
    "import warnings\n",
    "from copy import deepcopy\n",
    "from collections import defaultdict\n",
    "\n",
    "from dl4to.utils import get_dataloader\n",
    "from dl4to.preprocessing import TrivialPreprocessing\n",
    "from dl4to.topo_solvers import TopoSolver, TrainModule"
   ]
  },
  {
   "cell_type": "code",
   "execution_count": null,
   "id": "1e84bede-d429-42ec-9cb3-8d9b244da9a8",
   "metadata": {},
   "outputs": [],
   "source": [
    "#hide\n",
    "from nbdev.showdoc import show_doc"
   ]
  },
  {
   "cell_type": "markdown",
   "id": "4dfe6572-abdc-4c06-871d-63ac90e7c597",
   "metadata": {},
   "source": [
    "# Trainable topo solver"
   ]
  },
  {
   "cell_type": "code",
   "execution_count": null,
   "id": "4e6639bf",
   "metadata": {},
   "outputs": [],
   "source": [
    "#export\n",
    "class TrainableTopoSolver(TopoSolver):\n",
    "    \"\"\"\n",
    "    A topo solver that is trainable and can be used for learned topology optimization.\n",
    "    \"\"\"\n",
    "    def __init__(\n",
    "        self,\n",
    "        criterion:\"dl4to.criteria.Criterion\", # The loss criterion that should be used for the training.\n",
    "        model:torch.nn.Module, # A PyTorch neural network. Make sure that the input and output dimensions are correct.\n",
    "        optimizer:torch.optim.Optimizer, # A PyTorch optimizer, for instance torch.optim.Adam. Make sure to set `params=model.parameters()` if you want to use the optimizer to train the neural network.\n",
    "        preprocessing:\"dl4to.preprocessing.Preprocessing\"=TrivialPreprocessing(), # The preprocessing that should be used in the pipeline.\n",
    "        name:str=None # The name of the topo solver.\n",
    "    ):\n",
    "        device = next(model.parameters()).device\n",
    "        super().__init__(\n",
    "            device=device,\n",
    "            name=name,\n",
    "            trainable=True,\n",
    "            differentiable=True\n",
    "        )\n",
    "\n",
    "        self.criterion = criterion\n",
    "        self.model = model\n",
    "        self.model.eval()\n",
    "        self.optimizer = optimizer\n",
    "        self.preprocessing = preprocessing\n",
    "\n",
    "        self.logs = defaultdict(list)\n",
    "        self._train_module = TrainModule(self)\n",
    "\n",
    "\n",
    "    @property\n",
    "    def device(self):\n",
    "        return self._device\n",
    "\n",
    "\n",
    "    @device.setter\n",
    "    def device(self, device):\n",
    "        self._device = device\n",
    "        self.model.to(device)\n",
    "\n",
    "\n",
    "    def _get_copy_without_cluttering_entries(self, my_dict):\n",
    "        internal_dict_wo_model = {}\n",
    "        for key, value in my_dict.items():\n",
    "            if key not in {\"model\", \"optimizer\", \"train_module\"}:\n",
    "                if hasattr(value, 'name'):\n",
    "                    internal_dict_wo_model[key] = value.name\n",
    "                else:\n",
    "                    internal_dict_wo_model[key] = value\n",
    "        return internal_dict_wo_model\n",
    "\n",
    "\n",
    "    def get_args_as_dict(self):\n",
    "        \"\"\"\n",
    "        Returns basic properties and arguments of the topo solver as a dictionary.\n",
    "        \"\"\"\n",
    "        internal_dict_wo_model = self._get_copy_without_cluttering_entries(self.__dict__)\n",
    "        internal_dict_wo_model = {key: str(value) for key, value in internal_dict_wo_model.items()}\n",
    "        return {'solver_name': self.name, **internal_dict_wo_model}\n",
    "\n",
    "\n",
    "    def _postprocess_model_outputs(self, model_outputs, solutions):\n",
    "        new_solutions = []\n",
    "        for model_output, solution in zip(model_outputs, solutions):\n",
    "            solution = Solution(problem=solution.problem, θ=model_output)\n",
    "            new_solutions.append(solution)\n",
    "        return new_solutions\n",
    "\n",
    "\n",
    "    def _get_new_solutions(self, solutions, eval_mode):\n",
    "        model_inputs_list = [self.preprocessing(solution) for solution in solutions]\n",
    "        model_inputs = torch.cat(model_inputs_list, dim=0).to(self.device)\n",
    "        if eval_mode:\n",
    "            self.model.eval()\n",
    "        model_outputs = self.model(model_inputs)\n",
    "        solutions = self._postprocess_model_outputs(model_outputs, solutions)\n",
    "        return solutions\n",
    "\n",
    "\n",
    "    def train(self,\n",
    "              root:str, # The directory where the training results should be saved.\n",
    "              dataloader_train:torch.utils.data.DataLoader, # The dataloader that contains the training data.\n",
    "              dataloader_val:torch.utils.data.DataLoader=None, # The dataloader that contains the validation data.\n",
    "              epochs:int=100, # The maximal number of training epochs.\n",
    "              validation_interval:int=10, # The number of epochs after which a validation step is performed and printed.\n",
    "              verbose:bool=True, # Whether to print information on the current training status, like the current loss and epoch.\n",
    "              patience:bool=None # If the validation score does not improve for `patience` epochs in a row, then the training is stopped and the best model is used.\n",
    "             ):\n",
    "        \"\"\"\n",
    "        Run the training for the topo solver.\n",
    "        \"\"\"\n",
    "        self._train_module(\n",
    "            root=root,\n",
    "            dataloader_train=dataloader_train,\n",
    "            dataloader_val=dataloader_val,\n",
    "            epochs=epochs,\n",
    "            validation_interval=validation_interval,\n",
    "            verbose=verbose,\n",
    "            patience=patience,\n",
    "        )"
   ]
  },
  {
   "cell_type": "code",
   "execution_count": null,
   "id": "f9b04165-a298-49e5-ab7d-f4b401059224",
   "metadata": {},
   "outputs": [
    {
     "data": {
      "text/markdown": [
       "<h4 id=\"TrainableTopoSolver.get_args_as_dict\" class=\"doc_header\"><code>TrainableTopoSolver.get_args_as_dict</code><a href=\"__main__.py#L54\" class=\"source_link\" style=\"float:right\">[source]</a></h4>\n",
       "\n",
       "> <code>TrainableTopoSolver.get_args_as_dict</code>()\n",
       "\n",
       "Returns basic properties and arguments of the topo solver as a dictionary."
      ],
      "text/plain": [
       "<IPython.core.display.Markdown object>"
      ]
     },
     "metadata": {},
     "output_type": "display_data"
    }
   ],
   "source": [
    "show_doc(TrainableTopoSolver.get_args_as_dict)"
   ]
  },
  {
   "cell_type": "code",
   "execution_count": null,
   "id": "61ea3dc4-f24c-4a97-8f39-7ab6c1772843",
   "metadata": {},
   "outputs": [
    {
     "data": {
      "text/markdown": [
       "<h4 id=\"TrainableTopoSolver.train\" class=\"doc_header\"><code>TrainableTopoSolver.train</code><a href=\"__main__.py#L81\" class=\"source_link\" style=\"float:right\">[source]</a></h4>\n",
       "\n",
       "> <code>TrainableTopoSolver.train</code>(**`root`**:`str`, **`dataloader_train`**:`DataLoader`, **`dataloader_val`**:`DataLoader`=*`None`*, **`epochs`**:`int`=*`100`*, **`validation_interval`**:`int`=*`10`*, **`verbose`**:`bool`=*`True`*, **`patience`**:`bool`=*`None`*)\n",
       "\n",
       "Run the training for the topo solver.\n",
       "\n",
       "||Type|Default|Details|\n",
       "|---|---|---|---|\n",
       "|**`root`**|`str`||The directory where the training results should be saved.|\n",
       "|**`dataloader_train`**|`DataLoader`||The dataloader that contains the training data.|\n",
       "|**`dataloader_val`**|`DataLoader`|`None`|The dataloader that contains the validation data.|\n",
       "|**`epochs`**|`int`|`100`|The maximal number of training epochs.|\n",
       "|**`validation_interval`**|`int`|`10`|The number of epochs after which a validation step is performed and printed.|\n",
       "|**`verbose`**|`bool`|`True`|Whether to print information on the current training status, like the current loss and epoch.|\n",
       "|**`patience`**|`bool`|`None`|If the validation score does not improve for `patience` epochs in a row, then the training is stopped and the best model is used.|\n"
      ],
      "text/plain": [
       "<IPython.core.display.Markdown object>"
      ]
     },
     "metadata": {},
     "output_type": "display_data"
    }
   ],
   "source": [
    "show_doc(TrainableTopoSolver.train)"
   ]
  },
  {
   "cell_type": "code",
   "execution_count": null,
   "id": "96ca849e-168b-4313-a898-ccaf7afbda83",
   "metadata": {},
   "outputs": [],
   "source": [
    "#hide\n",
    "from torch.optim import Adam\n",
    "from dl4to.criteria import WeightedBCE"
   ]
  },
  {
   "cell_type": "code",
   "execution_count": null,
   "id": "156dc64e",
   "metadata": {},
   "outputs": [
    {
     "name": "stdout",
     "output_type": "stream",
     "text": [
      "CPU times: user 0 ns, sys: 2.61 ms, total: 2.61 ms\n",
      "Wall time: 22 ms\n"
     ]
    }
   ],
   "source": [
    "%%time\n",
    "#hide\n",
    "\n",
    "class MockTopoSolver(TrainableTopoSolver):\n",
    "        def _get_name(self):\n",
    "            return \"MockTopoSolver\"\n",
    "\n",
    "\n",
    "def test_that_we_can_instanciate_a_mock():\n",
    "    model = torch.nn.Linear(4, 4)\n",
    "    optimizer = Adam(model.parameters(), lr=1e-3)\n",
    "    topo_solver = MockTopoSolver(model=model, optimizer=optimizer, criterion=WeightedBCE())\n",
    "    topo_solver.name == \"MockTopoSolver\"\n",
    "\n",
    "\n",
    "test_that_we_can_instanciate_a_mock()"
   ]
  }
 ],
 "metadata": {
  "kernelspec": {
   "display_name": "Python 3 (ipykernel)",
   "language": "python",
   "name": "python3"
  }
 },
 "nbformat": 4,
 "nbformat_minor": 5
}
