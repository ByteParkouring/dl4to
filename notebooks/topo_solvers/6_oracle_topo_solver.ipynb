{
 "cells": [
  {
   "cell_type": "code",
   "execution_count": null,
   "id": "983230a7-0da8-4f92-967b-319e2a95142e",
   "metadata": {},
   "outputs": [],
   "source": [
    "#default_exp topo_solvers"
   ]
  },
  {
   "cell_type": "code",
   "execution_count": null,
   "id": "7a0a37ac-49a5-4d04-8232-fc72c144740b",
   "metadata": {},
   "outputs": [],
   "source": [
    "#exporti\n",
    "import os\n",
    "import torch\n",
    "from collections import defaultdict\n",
    "\n",
    "from dl4to.topo_solvers import TopoSolver\n",
    "from dl4to.utils import get_dataloader, cast_to_problems"
   ]
  },
  {
   "cell_type": "code",
   "execution_count": null,
   "id": "cfd8599d-fdbb-447b-9543-2a7030cd9534",
   "metadata": {},
   "outputs": [],
   "source": [
    "#hide\n",
    "from nbdev.showdoc import show_doc"
   ]
  },
  {
   "cell_type": "markdown",
   "id": "ac430ecf-2851-450c-90f7-dc17c1c9cdb8",
   "metadata": {},
   "source": [
    "# Oracle Solver"
   ]
  },
  {
   "cell_type": "code",
   "execution_count": null,
   "id": "de634f95-b2c1-42f3-8933-c9afb39f2d8f",
   "metadata": {},
   "outputs": [],
   "source": [
    "#export\n",
    "class OracleSolver(TopoSolver):\n",
    "    \"\"\"\n",
    "    A topo solver that gets a topo dataset of problems and solutions and returns the ground truth solution for any given problem object from the dataset.\n",
    "    \"\"\"\n",
    "    def __init__(self, \n",
    "                 dataset:\"dl4to.dataset.TopoDataset\", # The dataset which is used to look for the given problem and return the assoziated ground truth solution.\n",
    "                 device:str='cpu' # The device of the topo solver. Possible options are \"cpu\" and \"cuda\".\n",
    "                ):\n",
    "        super().__init__(device=device, name=\"OracleSolver\")\n",
    "        self.logs = defaultdict(list)\n",
    "        self.dataset = dataset\n",
    "\n",
    "\n",
    "    def _get_new_solutions(self, solutions, eval_mode):\n",
    "        problems = cast_to_problems(solutions)\n",
    "\n",
    "        problems_in_dataset = self.dataset.get_problems()\n",
    "        problem_indices = [problems_in_dataset.index(problem) for problem in problems]\n",
    "\n",
    "        gt_solutions = [self.dataset[i][1] for i in problem_indices]\n",
    "        return gt_solutions"
   ]
  },
  {
   "cell_type": "code",
   "execution_count": null,
   "id": "50a36829-9d39-4836-a1a8-27e34db26fef",
   "metadata": {},
   "outputs": [],
   "source": [
    "#hide\n",
    "from dl4to.datasets import BasicDataset, TopoDataset"
   ]
  },
  {
   "cell_type": "code",
   "execution_count": null,
   "id": "10fffa13-bdaf-47a0-be19-6fc7910e532c",
   "metadata": {},
   "outputs": [
    {
     "name": "stdout",
     "output_type": "stream",
     "text": [
      "Found 0 files.\n",
      "importing dataset...\n"
     ]
    },
    {
     "data": {
      "application/vnd.jupyter.widget-view+json": {
       "model_id": "fb1bb6eb0a024f849062cfbf0db1d232",
       "version_major": 2,
       "version_minor": 0
      },
      "text/plain": [
       "0it [00:00, ?it/s]"
      ]
     },
     "metadata": {},
     "output_type": "display_data"
    },
    {
     "name": "stdout",
     "output_type": "stream",
     "text": [
      "done!\n",
      "CPU times: user 27 ms, sys: 6 ms, total: 33 ms\n",
      "Wall time: 36.9 ms\n"
     ]
    }
   ],
   "source": [
    "%%time\n",
    "#hide\n",
    "\n",
    "def test_with_ledge_and_trivial_solution():\n",
    "    problem = BasicDataset().ledge()\n",
    "    gt_solution = problem.trivial_solution\n",
    "    dataset = TopoDataset()\n",
    "    dataset.dataset = [(problem, gt_solution)]\n",
    "    oracle_solver = OracleSolver(dataset=dataset)\n",
    "\n",
    "    solution = oracle_solver(problem)\n",
    "    assert torch.allclose(solution.θ, gt_solution.θ)\n",
    "\n",
    "\n",
    "test_with_ledge_and_trivial_solution()"
   ]
  }
 ],
 "metadata": {
  "kernelspec": {
   "display_name": "Python 3 (ipykernel)",
   "language": "python",
   "name": "python3"
  }
 },
 "nbformat": 4,
 "nbformat_minor": 5
}
