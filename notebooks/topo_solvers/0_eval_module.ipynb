{
 "cells": [
  {
   "cell_type": "code",
   "execution_count": null,
   "id": "eb418a3f-6765-461e-b6a3-c905b374dd7e",
   "metadata": {},
   "outputs": [],
   "source": [
    "#default_exp topo_solvers"
   ]
  },
  {
   "cell_type": "code",
   "execution_count": null,
   "id": "b6c69988-ec08-4c6d-aedd-bf7552a88dce",
   "metadata": {},
   "outputs": [],
   "source": [
    "#exporti\n",
    "import torch"
   ]
  },
  {
   "cell_type": "code",
   "execution_count": null,
   "id": "d59cfd93-a19e-4bc0-a569-34d1dd74c8a7",
   "metadata": {},
   "outputs": [],
   "source": [
    "#hide\n",
    "from nbdev.showdoc import show_doc"
   ]
  },
  {
   "cell_type": "markdown",
   "id": "4bb7e5ab-f16e-445a-b503-6d0e14aefe1e",
   "metadata": {},
   "source": [
    "# Eval module"
   ]
  },
  {
   "cell_type": "code",
   "execution_count": null,
   "id": "fb86648e-f9cd-485a-ae4c-ff67e20e0ae7",
   "metadata": {},
   "outputs": [],
   "source": [
    "#exporti\n",
    "class EvalModule:\n",
    "    \"\"\"\n",
    "    A class that contains methods for the evaluation of topo solvers.\n",
    "    \"\"\"\n",
    "\n",
    "    @staticmethod\n",
    "    def _push_to_device(solutions, device):\n",
    "        for solution in solutions:\n",
    "            solution.device = device\n",
    "\n",
    "\n",
    "    @staticmethod\n",
    "    @torch.no_grad()\n",
    "    def _run_epoch(topo_solver, dataloader, criteria):\n",
    "        criteria_dict = defaultdict(list)\n",
    "\n",
    "        for problems_or_solutions, gt_solutions in dataloader:\n",
    "            EvalModule._push_to_device(gt_solutions, device=topo_solver.device)\n",
    "            solutions = topo_solver(problems_or_solutions, eval_mode=True)\n",
    "\n",
    "            assert solutions[0].θ.device == gt_solutions[0].θ.device, f\"EvalModule: {solutions[0].θ.device=}, but {gt_solutions[0].θ.device=}.\"\n",
    "\n",
    "            for criterion in criteria:\n",
    "                criterion_values = criterion(solutions, gt_solutions, binary=True)\n",
    "                criterion_values = list(criterion_values.detach().cpu().numpy())\n",
    "                criteria_dict[criterion.name] += criterion_values\n",
    "\n",
    "            for criterion in criteria:\n",
    "                criteria_dict[criterion.name] = list(np.float_(criteria_dict[criterion.name]))\n",
    "\n",
    "        return criteria_dict\n",
    "\n",
    "\n",
    "    @staticmethod\n",
    "    @torch.no_grad()\n",
    "    def get_first_solutions(topo_solver, n_solutions, dataloader):\n",
    "        \"\"\"\n",
    "        Returns the first `n_solutions` solutions obtained via the topo_solver from problems from the dataloader.\n",
    "\n",
    "        Returns\n",
    "        -------\n",
    "        list\n",
    "        \"\"\"\n",
    "        return_solutions = []\n",
    "\n",
    "        for problems_or_solutions, gt_solutions in dataloader:\n",
    "            EvalModule._push_to_device(gt_solutions, device=topo_solver.device)\n",
    "            solutions = topo_solver(problems_or_solutions, eval_mode=True)\n",
    "\n",
    "            for solution in solutions:\n",
    "                return_solutions.append(solution)\n",
    "                if len(return_solutions) >= n_solutions:\n",
    "                    return return_solutions\n",
    "\n",
    "        return return_solutions\n",
    "\n",
    "\n",
    "    @staticmethod\n",
    "    def __call__(topo_solver, criteria, dataloader):\n",
    "        \"\"\"\n",
    "        Evalate criteria with outputs from the topo solver.\n",
    "\n",
    "        Returns\n",
    "        -------\n",
    "        collections.defaultdict\n",
    "        \"\"\"\n",
    "        criteria_dict = EvalModule._run_epoch(\n",
    "            topo_solver=topo_solver,\n",
    "            dataloader=dataloader,\n",
    "            criteria=criteria,\n",
    "        )\n",
    "        return criteria_dict"
   ]
  }
 ],
 "metadata": {
  "kernelspec": {
   "display_name": "Python 3 (ipykernel)",
   "language": "python",
   "name": "python3"
  }
 },
 "nbformat": 4,
 "nbformat_minor": 5
}
