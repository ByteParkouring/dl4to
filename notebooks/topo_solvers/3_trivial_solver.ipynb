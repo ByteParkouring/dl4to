{
 "cells": [
  {
   "cell_type": "code",
   "execution_count": null,
   "id": "e44230af",
   "metadata": {},
   "outputs": [],
   "source": [
    "#default_exp topo_solvers"
   ]
  },
  {
   "cell_type": "code",
   "execution_count": null,
   "id": "e38fcab9",
   "metadata": {},
   "outputs": [],
   "source": [
    "#exporti\n",
    "import os\n",
    "import torch\n",
    "\n",
    "from dl4to.topo_solvers import TopoSolver\n",
    "from dl4to.solution import Solution"
   ]
  },
  {
   "cell_type": "code",
   "execution_count": null,
   "id": "6ba9eef0-8f75-4777-baf2-9ecc2ff767b4",
   "metadata": {},
   "outputs": [],
   "source": [
    "#hide\n",
    "from nbdev.showdoc import show_doc"
   ]
  },
  {
   "cell_type": "markdown",
   "id": "277ed739-0fef-4220-9ea1-ec0445604a88",
   "metadata": {},
   "source": [
    "# Trivial solver"
   ]
  },
  {
   "cell_type": "code",
   "execution_count": null,
   "id": "620faaaf",
   "metadata": {},
   "outputs": [],
   "source": [
    "#export\n",
    "class TrivialSolver(TopoSolver):\n",
    "    \"\"\"\n",
    "    A topo solver that returns the trivial solution for a problem object.\n",
    "\n",
    "    Parameters\n",
    "    ----------\n",
    "    θ_default : float\n",
    "        The factor with which the density of the trivial solutions should be multiplied before being returned in the call.\n",
    "    device : str\n",
    "        The device of the topo solver. Possible options are \"cpu\" and \"cuda\".\n",
    "    \"\"\"\n",
    "    def __init__(self, θ_default=1., device='cpu'):\n",
    "        super().__init__(device=device)\n",
    "        self.θ_default = θ_default\n",
    "\n",
    "\n",
    "    def _get_name(self):\n",
    "        return \"TrivialSolver\"\n",
    "\n",
    "\n",
    "    def _get_new_solution(self, solution):\n",
    "        if hasattr(solution, 'problem'):\n",
    "            problem = solution.problem\n",
    "        else:\n",
    "            problem = solution\n",
    "\n",
    "        θ = self.θ_default * torch.ones(1, *problem.shape, device=self.device, dtype=solution.dtype)\n",
    "        return Solution(problem, θ)\n",
    "\n",
    "\n",
    "    def _get_new_solutions(self, solutions, eval_mode):\n",
    "        solutions = [self._get_new_solution(solution) for solution in solutions]\n",
    "        return solutions"
   ]
  },
  {
   "cell_type": "code",
   "execution_count": null,
   "id": "6ee97364-6c23-49cb-8db7-fe525559f0f0",
   "metadata": {},
   "outputs": [],
   "source": [
    "#hide\n",
    "import shutil\n",
    "from dl4to.criteria import Binariness, WeightedBCE, Fail\n",
    "from dl4to.datasets import TopoDataset, BasicDataset\n",
    "from dl4to.utils import get_dataloader"
   ]
  },
  {
   "cell_type": "code",
   "execution_count": null,
   "id": "a9365c22-a16d-46e1-8276-f6489b819f7a",
   "metadata": {},
   "outputs": [
    {
     "name": "stdout",
     "output_type": "stream",
     "text": [
      "CPU times: user 52 µs, sys: 33 µs, total: 85 µs\n",
      "Wall time: 92.7 µs\n"
     ]
    }
   ],
   "source": [
    "%%time\n",
    "#hide\n",
    "\n",
    "def test_attributes():\n",
    "    trivial_solver = TrivialSolver(θ_default=1.)\n",
    "    assert not trivial_solver.trainable\n",
    "    trivial_solver.to('cpu')\n",
    "\n",
    "\n",
    "test_attributes()"
   ]
  },
  {
   "cell_type": "code",
   "execution_count": null,
   "id": "34abe40a-5418-417a-8b15-80d09024d501",
   "metadata": {},
   "outputs": [
    {
     "name": "stdout",
     "output_type": "stream",
     "text": [
      "CPU times: user 5.28 ms, sys: 8.83 ms, total: 14.1 ms\n",
      "Wall time: 27.6 ms\n"
     ]
    }
   ],
   "source": [
    "%%time\n",
    "#hide\n",
    "\n",
    "def test_that_it_is_callable():\n",
    "    trivial_solver = TrivialSolver(θ_default=1.)\n",
    "    problem = BasicDataset().ledge()\n",
    "    solution = trivial_solver(problem)\n",
    "\n",
    "\n",
    "test_that_it_is_callable()"
   ]
  },
  {
   "cell_type": "code",
   "execution_count": null,
   "id": "0c362486-06e8-4a97-b449-48ea778913a3",
   "metadata": {},
   "outputs": [],
   "source": [
    "#hide\n",
    "from dl4to.pde import FDM\n",
    "def get_dataloader_ledge(batch_size):\n",
    "    problem = BasicDataset(resolution=30).ledge()\n",
    "    problem.pde_solver = FDM(padding_depth=0)\n",
    "    solution_tiv = problem.trivial_solution\n",
    "\n",
    "    dataset = TopoDataset([(problem, solution_tiv), (problem, solution_tiv)])\n",
    "    return get_dataloader(dataset, batch_size=batch_size)"
   ]
  },
  {
   "cell_type": "code",
   "execution_count": null,
   "id": "67a4047d-73bf-4e92-b72e-42e154f7ae6b",
   "metadata": {},
   "outputs": [
    {
     "name": "stdout",
     "output_type": "stream",
     "text": [
      "CPU times: user 3.12 s, sys: 41.9 ms, total: 3.16 s\n",
      "Wall time: 994 ms\n"
     ]
    }
   ],
   "source": [
    "%%time\n",
    "#slow\n",
    "#hide\n",
    "\n",
    "def test_that_we_can_run_evaluate_over_dataset(batch_size):\n",
    "    trivial_solver = TrivialSolver(θ_default=1.)\n",
    "    dataloader = get_dataloader_ledge(batch_size)\n",
    "    \n",
    "\n",
    "    crits = [\n",
    "        Binariness(),\n",
    "        WeightedBCE(),\n",
    "        Fail(),\n",
    "    ]\n",
    "\n",
    "    trivial_solver.eval(\n",
    "        root=\"tmp_test_folder\",\n",
    "        dataloader=dataloader,\n",
    "        criteria=crits,\n",
    "    )\n",
    "\n",
    "    shutil.rmtree(\"tmp_test_folder\")\n",
    "\n",
    "\n",
    "test_that_we_can_run_evaluate_over_dataset(batch_size=1)\n",
    "test_that_we_can_run_evaluate_over_dataset(batch_size=2)\n",
    "test_that_we_can_run_evaluate_over_dataset(batch_size=4)"
   ]
  },
  {
   "cell_type": "code",
   "execution_count": null,
   "id": "3b7b4438-5bec-4a4d-900b-60e7a140ca27",
   "metadata": {},
   "outputs": [],
   "source": []
  }
 ],
 "metadata": {
  "kernelspec": {
   "display_name": "Python 3 (ipykernel)",
   "language": "python",
   "name": "python3"
  }
 },
 "nbformat": 4,
 "nbformat_minor": 5
}
