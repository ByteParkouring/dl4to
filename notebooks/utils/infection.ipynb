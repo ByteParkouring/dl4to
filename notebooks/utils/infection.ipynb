{
 "cells": [
  {
   "cell_type": "code",
   "execution_count": null,
   "id": "daefce98",
   "metadata": {},
   "outputs": [],
   "source": [
    "#default_exp utils"
   ]
  },
  {
   "cell_type": "code",
   "execution_count": null,
   "id": "4da63b0a",
   "metadata": {},
   "outputs": [],
   "source": [
    "#exporti\n",
    "import torch"
   ]
  },
  {
   "cell_type": "code",
   "execution_count": null,
   "id": "3cf85ca7",
   "metadata": {},
   "outputs": [],
   "source": [
    "#exporti\n",
    "def _infect_step(start_points):\n",
    "    m, n, k = start_points.shape\n",
    "\n",
    "    padded = torch.zeros((2 + m, 2 + n, 2 + k), dtype=start_points.dtype, device=start_points.device)\n",
    "    padded[1:-1, 1:-1, 1:-1] = start_points\n",
    "\n",
    "    max_of_neighbors = padded[1:-1, 1:-1, 1:-1] | \\\n",
    "                       padded[2:  , 1:-1, 1:-1] | \\\n",
    "                       padded[ :-2, 1:-1, 1:-1] | \\\n",
    "                       padded[1:-1, 2:  , 1:-1] | \\\n",
    "                       padded[1:-1,  :-2, 1:-1] | \\\n",
    "                       padded[1:-1, 1:-1, 2:  ] | \\\n",
    "                       padded[1:-1, 1:-1,  :-2]\n",
    "    return max_of_neighbors"
   ]
  },
  {
   "cell_type": "code",
   "execution_count": null,
   "id": "cb0f4942-65e4-41dd-9fd4-4a8c194fe9eb",
   "metadata": {},
   "outputs": [],
   "source": [
    "#export\n",
    "def infect(start_points, infectable):\n",
    "    \"\"\"\n",
    "    An infection algorithm that starts from a set points and iteratively infects neighboring points.\n",
    "\n",
    "    Returns\n",
    "    -------\n",
    "    torch.Tensor\n",
    "    \"\"\"\n",
    "    infected_old = torch.zeros_like(start_points)\n",
    "    assert start_points.dtype == infectable.dtype, f\"{start_points.dtype} != {infectable.dtype}\"\n",
    "    assert start_points.device == infectable.device, f\"{start_points.device} != {infectable.device}\"\n",
    "    infected = start_points.clone() & infectable\n",
    "\n",
    "    while torch.any(infected_old != infected):\n",
    "        infected_old = infected\n",
    "        neighbors = _infect_step(infected)\n",
    "        infected = neighbors & infectable\n",
    "    return infected"
   ]
  },
  {
   "cell_type": "markdown",
   "id": "e222504d",
   "metadata": {},
   "source": [
    "# Tests"
   ]
  },
  {
   "cell_type": "code",
   "execution_count": null,
   "id": "67b3d834-08b6-4b82-a550-d90ba847853c",
   "metadata": {},
   "outputs": [],
   "source": [
    "import numpy as np"
   ]
  },
  {
   "cell_type": "code",
   "execution_count": null,
   "id": "6b56598e-4861-416f-b493-4600fb85d393",
   "metadata": {},
   "outputs": [
    {
     "name": "stdout",
     "output_type": "stream",
     "text": [
      "CPU times: user 9.54 ms, sys: 210 µs, total: 9.75 ms\n",
      "Wall time: 29.6 ms\n"
     ]
    }
   ],
   "source": [
    "%%time\n",
    "\n",
    "def test_that_infect_does_not_disinfect():\n",
    "    n, m, k = 10, 8, 2\n",
    "\n",
    "    start_points = torch.tensor(np.random.rand(n, m, k).round(), dtype=bool)\n",
    "    infectable = torch.tensor(np.random.rand(n, m, k).round(), dtype=bool) | start_points\n",
    "\n",
    "    infected = infect(start_points, infectable)\n",
    "    assert infected[start_points].all()\n",
    "\n",
    "\n",
    "for _ in range(10):\n",
    "    test_that_infect_does_not_disinfect()"
   ]
  },
  {
   "cell_type": "code",
   "execution_count": null,
   "id": "3fc9707c-8383-4b6b-aa61-9407de03e1c2",
   "metadata": {},
   "outputs": [
    {
     "name": "stdout",
     "output_type": "stream",
     "text": [
      "CPU times: user 11.1 ms, sys: 0 ns, total: 11.1 ms\n",
      "Wall time: 11.1 ms\n"
     ]
    }
   ],
   "source": [
    "%%time\n",
    "\n",
    "def test_that_only_infectable_parts_are_infected():\n",
    "    n, m, k = 10, 4, 7\n",
    "\n",
    "    start_points = torch.tensor(np.random.rand(n, m, k).round(), dtype=bool)\n",
    "    infectable = torch.tensor(np.random.rand(n, m, k).round(), dtype=bool)\n",
    "\n",
    "    infected = infect(start_points, infectable)\n",
    "    assert not infected[~infectable].any()\n",
    "\n",
    "\n",
    "for _ in range(10):\n",
    "    test_that_only_infectable_parts_are_infected()"
   ]
  },
  {
   "cell_type": "code",
   "execution_count": null,
   "id": "076a2165-2a33-42e6-ad73-d68fc089ae87",
   "metadata": {},
   "outputs": [
    {
     "name": "stdout",
     "output_type": "stream",
     "text": [
      "CPU times: user 1.95 ms, sys: 0 ns, total: 1.95 ms\n",
      "Wall time: 4.11 ms\n"
     ]
    }
   ],
   "source": [
    "%%time\n",
    "\n",
    "def test_example0():\n",
    "    n, m, k = 7, 3, 10\n",
    "\n",
    "    start_points = torch.zeros(n, m, k, dtype=bool)\n",
    "    start_points[0, 0, 0] = True\n",
    "\n",
    "    infectable = torch.zeros(n, m, k, dtype=bool)\n",
    "    infectable[0, 0, :] = True\n",
    "\n",
    "    infected = infect(start_points, infectable)\n",
    "    assert infected[0, 0, :].all()\n",
    "    assert not infected[1:, 1:, :].any()\n",
    "\n",
    "\n",
    "test_example0()"
   ]
  },
  {
   "cell_type": "code",
   "execution_count": null,
   "id": "07b1015e-1eb1-4946-b970-a051984b7347",
   "metadata": {},
   "outputs": [
    {
     "name": "stdout",
     "output_type": "stream",
     "text": [
      "CPU times: user 3.01 ms, sys: 0 ns, total: 3.01 ms\n",
      "Wall time: 2.56 ms\n"
     ]
    }
   ],
   "source": [
    "%%time\n",
    "\n",
    "def test_example1():\n",
    "    n, m, k = 7, 3, 10\n",
    "\n",
    "    start_points = torch.zeros(n, m, k, dtype=bool)\n",
    "    start_points[0, 0, 0] = True\n",
    "    start_points[2, 2, 0] = True\n",
    "\n",
    "    infectable = torch.zeros(n, m, k, dtype=bool)\n",
    "    infectable[0, 0, :] = True\n",
    "\n",
    "    infected = infect(start_points, infectable)\n",
    "    assert infected[0, 0, :].all()\n",
    "    assert not infected[1:, 1:, :].any()\n",
    "\n",
    "\n",
    "test_example1()"
   ]
  },
  {
   "cell_type": "code",
   "execution_count": null,
   "id": "3dab3efe-98ec-4e3c-9361-9e29bf8d94b5",
   "metadata": {},
   "outputs": [
    {
     "name": "stdout",
     "output_type": "stream",
     "text": [
      "CPU times: user 2.22 ms, sys: 0 ns, total: 2.22 ms\n",
      "Wall time: 4.33 ms\n"
     ]
    }
   ],
   "source": [
    "%%time\n",
    "\n",
    "def test_example2():\n",
    "    n, m, k = 7, 3, 10\n",
    "\n",
    "    start_points = torch.zeros(n, m, k, dtype=bool)\n",
    "    start_points[0, 0, 0] = True\n",
    "    start_points[2, 2, 0] = True\n",
    "\n",
    "    infectable = torch.zeros(n, m, k, dtype=bool)\n",
    "    infectable[0, 0, :] = True\n",
    "    infectable[2, 2, 0] = True\n",
    "\n",
    "    infected = infect(start_points, infectable)\n",
    "    assert infected[0, 0, :].all()\n",
    "    assert infected[2, 2, 0]\n",
    "    assert infected[1:, 1:, :].any()\n",
    "\n",
    "\n",
    "test_example2()"
   ]
  },
  {
   "cell_type": "code",
   "execution_count": null,
   "id": "aa9f167b-9e62-4c7c-b25c-c2c0a4677ea9",
   "metadata": {},
   "outputs": [
    {
     "name": "stdout",
     "output_type": "stream",
     "text": [
      "CPU times: user 620 µs, sys: 0 ns, total: 620 µs\n",
      "Wall time: 516 µs\n"
     ]
    }
   ],
   "source": [
    "%%time\n",
    "\n",
    "def test_example3():\n",
    "    n, m, k = 8, 8, 8\n",
    "\n",
    "    start_points = torch.zeros(n, m, k, dtype=bool)\n",
    "    start_points[0, 1, 0] = True\n",
    "\n",
    "    infectable = torch.zeros(n, m, k, dtype=bool)\n",
    "    infectable[0, 0, :] = True\n",
    "\n",
    "    infected = infect(start_points, infectable)\n",
    "    assert not infected.any()\n",
    "\n",
    "\n",
    "test_example3()"
   ]
  }
 ],
 "metadata": {
  "kernelspec": {
   "display_name": "Python 3 (ipykernel)",
   "language": "python",
   "name": "python3"
  }
 },
 "nbformat": 4,
 "nbformat_minor": 5
}
