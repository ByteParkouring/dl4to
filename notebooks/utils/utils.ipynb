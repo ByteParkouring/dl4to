{
 "cells": [
  {
   "cell_type": "code",
   "execution_count": null,
   "id": "fec33e6a-9701-42e6-b3d8-9d80e1ad030d",
   "metadata": {},
   "outputs": [],
   "source": [
    "#default_exp utils"
   ]
  },
  {
   "cell_type": "code",
   "execution_count": null,
   "id": "ddda424f-e208-4553-aeda-85c309b202ca",
   "metadata": {},
   "outputs": [],
   "source": [
    "#exporti\n",
    "import os\n",
    "import json\n",
    "import datetime\n",
    "from collections import defaultdict\n",
    "from typing import Union\n",
    "import torch"
   ]
  },
  {
   "cell_type": "code",
   "execution_count": null,
   "id": "d176cfa7-6cfa-46ba-b3d9-27f8853997c0",
   "metadata": {},
   "outputs": [],
   "source": [
    "#hide\n",
    "from nbdev.showdoc import show_doc"
   ]
  },
  {
   "cell_type": "markdown",
   "id": "10580f5a",
   "metadata": {},
   "source": [
    "# Utils"
   ]
  },
  {
   "cell_type": "code",
   "execution_count": null,
   "id": "864e4b39-6748-40e8-9ea5-37e9651fc6fc",
   "metadata": {},
   "outputs": [],
   "source": [
    "#export\n",
    "def get_current_datetime_as_string():\n",
    "    \"\"\"\n",
    "    Determines and returns a string containing the current date and time.\n",
    "    \"\"\"\n",
    "    now = datetime.datetime.today()\n",
    "    return now.strftime('%Y-%m-%d--%H:%M:%S')\n",
    "\n",
    "\n",
    "def create_dir(\n",
    "    name:str, # The name of the directory that should be created.\n",
    "    path:str=\".\", # The path where the directory should be created.\n",
    "    prepend_date:bool=False # Whether to preprend the directory name with the date and time of its creation. Ensures unique directory names.\n",
    "):\n",
    "    \"\"\"\n",
    "    Creates a new directory, optionally prepended with the current datetime. If the directory already exists, then nothing happens. Returns a string that is the path to the directory.\n",
    "    \"\"\"\n",
    "    if prepend_date:\n",
    "        cdt = get_current_datetime_as_string()\n",
    "        name = f\"{cdt}_{name}\"\n",
    "\n",
    "    dir_path = f\"{path}/{name}\"\n",
    "\n",
    "    if not os.path.exists(dir_path):\n",
    "        os.makedirs(dir_path)\n",
    "    return dir_path\n",
    "\n",
    "\n",
    "def save_dict_as_txt(\n",
    "    my_dict:dict, # The dictionary that should be saved.\n",
    "    dir_path:str, # The path where the directory should be saved.\n",
    "    file_name:str # The name of the txt file that should be created.\n",
    "):\n",
    "    \"\"\"\n",
    "    Saves a python dictionary as a txt file.\n",
    "    \"\"\"\n",
    "    path = f\"{dir_path}/{file_name}\"\n",
    "    if path[-4:] != \".txt\":\n",
    "        path += \".txt\"\n",
    "    with open(path, 'w') as f:\n",
    "        json.dump(my_dict, f, indent=2)"
   ]
  },
  {
   "cell_type": "code",
   "execution_count": null,
   "id": "9cac6d5c-e39e-48f0-be6c-4bf1ce77a78e",
   "metadata": {},
   "outputs": [],
   "source": [
    "#export\n",
    "def cast_to_problem(\n",
    "    problem_or_solution:Union[\"dl4to.problem.Problem\",\"dl4to.solution.Solution\"] # A problem or solution object.\n",
    "):\n",
    "    \"\"\"\n",
    "    Accepts a problem or a solution object as input and returns a problem. If the input is a problem, then the problem is simply returned without modification.\n",
    "    If it is a solution, then `solution.problem` is returned.\n",
    "    \"\"\"\n",
    "    assert type(problem_or_solution) != list, type(problem_or_solution)\n",
    "    try:\n",
    "        return problem_or_solution.problem\n",
    "    except:\n",
    "        return problem_or_solution\n",
    "\n",
    "\n",
    "def cast_to_solution(\n",
    "    problem_or_solution:Union[\"dl4to.problem.Problem\",\"dl4to.solution.Solution\"] # A problem or solution object.\n",
    "):\n",
    "    \"\"\"\n",
    "    Accepts a problem or a solution object as input and returns a solution. If the input is a problem, then `problem.trivial_solution`.\n",
    "    If the input is a solution, then it is simply returned without modification.\n",
    "    \"\"\"\n",
    "    assert type(problem_or_solution) != list, type(problem_or_solution)\n",
    "    try:\n",
    "        return problem_or_solution.trivial_solution\n",
    "    except:\n",
    "        return problem_or_solution\n",
    "\n",
    "\n",
    "def cast_to_problems(\n",
    "    problems_or_solutions:list # A list containing problem and solution objects.\n",
    "):\n",
    "    \"\"\"\n",
    "    Accepts as input a list containing problem and solutions object. Returns a list that only contains problem objects, where the solution objects have been\n",
    "    transformed into problems via `solution.problem`.\n",
    "    \"\"\"\n",
    "    return [cast_to_problem(p_or_s) for p_or_s in problems_or_solutions]\n",
    "\n",
    "\n",
    "def cast_to_solutions(\n",
    "    problems_or_solutions:list # A list containing problem and solution objects.\n",
    "):\n",
    "    \"\"\"\n",
    "    Accepts as input a list containing problem and solutions object. Returns a list that only contains solution objects, where the problem objects have been\n",
    "    transformed into solutions via `problem.trivial_solution`.\n",
    "    \"\"\"\n",
    "    return [cast_to_solution(p_or_s) for p_or_s in problems_or_solutions]"
   ]
  },
  {
   "cell_type": "code",
   "execution_count": null,
   "id": "3fc8197e-c388-4525-b4cb-ac828c68e4d4",
   "metadata": {},
   "outputs": [],
   "source": [
    "#export\n",
    "def get_dataloader(\n",
    "    dataset:\"dl4to.datasets.TopoDataset\", # The dataset for which the dataloader should be created.\n",
    "    batch_size:int=1, # The batch size for the dataloader.\n",
    "    shuffle:bool=True, # Whether the dataloader should shuffle the samples.\n",
    "    num_workers:int=0 # The number of GPU workers, if trained on a GPU.\n",
    "):\n",
    "    \"\"\"\n",
    "    Returns a `torch.utils.data.DataLoader` object for `dataset`.\n",
    "    \"\"\"\n",
    "    return torch.utils.data.DataLoader(\n",
    "        dataset=dataset,\n",
    "        batch_size=batch_size,\n",
    "        collate_fn=lambda batch: list(zip(*batch)),\n",
    "        shuffle=shuffle,\n",
    "        num_workers=num_workers\n",
    "    )"
   ]
  },
  {
   "cell_type": "code",
   "execution_count": null,
   "id": "fd91d51c-2d44-493e-a960-7caeea0a9aac",
   "metadata": {},
   "outputs": [],
   "source": [
    "#export\n",
    "def get_σ_vm(\n",
    "    σ:torch.Tensor, # The stress tensor from which the von Mises stresses should be computed.\n",
    "    ε:float=1e-9 # A small value that ensures numerically stable results.\n",
    "):\n",
    "    \"\"\"\n",
    "    Calculates the von Mises stresses from the 9-channel stress tensor `σ` and returns them in a 1-channel `torch.Tensor` object.\n",
    "    \"\"\"\n",
    "    if len(σ.shape) == 4:\n",
    "        assert σ.shape[0] == 9\n",
    "        σ_vm = (.5 * ((σ[0] - σ[4]) ** 2\n",
    "                    + (σ[4] - σ[8]) ** 2\n",
    "                    + (σ[8] - σ[0]) ** 2\n",
    "                    + 6 * (σ[1] ** 2 + σ[2] ** 2 + σ[5] ** 2)\n",
    "                      ) + ε\n",
    "               ) ** .5\n",
    "        return σ_vm.unsqueeze(0)\n",
    "    if len(σ.shape) == 5:\n",
    "        assert σ.shape[1] == 9\n",
    "        σ_vm = (.5 * ((σ[:,0] - σ[:,4]) ** 2\n",
    "                    + (σ[:,4] - σ[:,8]) ** 2\n",
    "                    + (σ[:,8] - σ[:,0]) ** 2\n",
    "                    + 6 * (σ[:,1] ** 2 + σ[:,2] ** 2 + σ[:,5] ** 2)\n",
    "                      ) + ε\n",
    "               ) ** .5\n",
    "        return σ_vm.unsqueeze(1)\n",
    "    else:\n",
    "        raise ValueError(\"The shape of σ must either be 4 or 5 channels.\")"
   ]
  },
  {
   "cell_type": "code",
   "execution_count": null,
   "id": "3fe365e7-b9e5-4a6f-94b5-6af0492a1b1e",
   "metadata": {},
   "outputs": [],
   "source": [
    "#hide\n",
    "from dl4to.problem import Problem\n",
    "from dl4to.solution import Solution\n",
    "from dl4to.datasets import BasicDataset"
   ]
  },
  {
   "cell_type": "code",
   "execution_count": null,
   "id": "fb12cc49-d17f-4fbf-97f2-08af038b8939",
   "metadata": {},
   "outputs": [
    {
     "name": "stdout",
     "output_type": "stream",
     "text": [
      "CPU times: user 30.3 ms, sys: 3.32 ms, total: 33.6 ms\n",
      "Wall time: 49.7 ms\n"
     ]
    }
   ],
   "source": [
    "%%time\n",
    "#hide\n",
    "\n",
    "def test_that__cast_to_solutions__returns_only_solutions():\n",
    "    list_of_problems_or_solutions = [\n",
    "        BasicDataset().ledge(),\n",
    "        BasicDataset().cantilever().get_trivial_solution(),\n",
    "        BasicDataset().fork(),\n",
    "        BasicDataset().wheel().get_trivial_solution(),\n",
    "    ]\n",
    "\n",
    "    for problem in cast_to_problems(list_of_problems_or_solutions):\n",
    "        assert type(problem) == Problem, type(problem)\n",
    "\n",
    "\n",
    "    for solution in cast_to_solutions(list_of_problems_or_solutions):\n",
    "        assert type(solution) == Solution, type(solution)\n",
    "\n",
    "\n",
    "test_that__cast_to_solutions__returns_only_solutions()"
   ]
  },
  {
   "cell_type": "code",
   "execution_count": null,
   "id": "fa3bd3be-6d01-4d0b-a1db-45b460487f60",
   "metadata": {},
   "outputs": [
    {
     "name": "stdout",
     "output_type": "stream",
     "text": [
      "CPU times: user 2.7 ms, sys: 740 µs, total: 3.44 ms\n",
      "Wall time: 2.57 ms\n"
     ]
    }
   ],
   "source": [
    "%%time\n",
    "#hide\n",
    "\n",
    "def test_that_diagonal_matrix_σ_results_in_zero_vm_stresses():\n",
    "    σ = torch.eye(3)\n",
    "    assert get_σ_vm(σ.flatten()) == 0.\n",
    "\n",
    "test_that_diagonal_matrix_σ_results_in_zero_vm_stresses()"
   ]
  }
 ],
 "metadata": {
  "kernelspec": {
   "display_name": "Python 3 (ipykernel)",
   "language": "python",
   "name": "python3"
  }
 },
 "nbformat": 4,
 "nbformat_minor": 5
}
