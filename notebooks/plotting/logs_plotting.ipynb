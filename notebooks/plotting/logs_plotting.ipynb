{
 "cells": [
  {
   "cell_type": "code",
   "execution_count": null,
   "id": "4160ded6",
   "metadata": {},
   "outputs": [],
   "source": [
    "#default_exp plotting"
   ]
  },
  {
   "cell_type": "code",
   "execution_count": null,
   "id": "d87eaf86-44c4-4650-8d54-0fb274884e03",
   "metadata": {},
   "outputs": [],
   "source": [
    "#export\n",
    "import numpy as np\n",
    "import torch\n",
    "import matplotlib.pyplot as plt\n",
    "import matplotlib\n",
    "from matplotlib.ticker import ScalarFormatter\n",
    "from collections import defaultdict\n",
    "\n",
    "matplotlib.rcParams['mathtext.fontset'] = 'stix'\n",
    "matplotlib.rcParams['font.family'] = 'STIXGeneral'"
   ]
  },
  {
   "cell_type": "code",
   "execution_count": null,
   "id": "77721375-b76d-45d6-a2bd-aa8447aadb66",
   "metadata": {},
   "outputs": [],
   "source": [
    "#hide\n",
    "from nbdev.showdoc import show_doc"
   ]
  },
  {
   "cell_type": "markdown",
   "id": "60c6a9f8",
   "metadata": {},
   "source": [
    "# Logs plotting"
   ]
  },
  {
   "cell_type": "code",
   "execution_count": null,
   "id": "d4ef52d6-9c7a-4bdb-974c-23dc38f5803a",
   "metadata": {},
   "outputs": [],
   "source": [
    "#export\n",
    "def plot_curve(x:list, # The x coordinates of the data.\n",
    "               y:torch.Tensor, # The y coordinates of the data.\n",
    "               label:str=None, # The label of the curve.\n",
    "               x_label:str=None, # The label of the x axis.\n",
    "               y_label:str=None, # The label of the y axis.\n",
    "               axis:\"matplotlib.axes.AxesSubplot\"=None, # An axes object, if already known. Otherwise a new axis is created.\n",
    "               logplot:bool=False, # Whether to plot the x axis logarithmically.\n",
    "               y_std:torch.Tensor=None, # The standard deviation of the y values, if known.\n",
    "               std_alpha:float=0.2, # The alpha value for `y_std`. Only has an effect if `y_std` is not None.\n",
    "               show_all_xticks:bool=True, # Whether to display all ticks of the data along the x axis.\n",
    "               **kwargs):\n",
    "    \"\"\"\n",
    "    A method to plot a simple one dimensional curve using matplotlib.\n",
    "    \"\"\"\n",
    "    if axis is None:\n",
    "        fig, axis = plt.subplots(1, figsize=(7, 3), dpi=200)\n",
    "\n",
    "    axis.plot(x, y, label=label, **kwargs)\n",
    "\n",
    "    if y_std is not None:\n",
    "        y = np.array(y)\n",
    "        y_std = np.array(y_std)\n",
    "        axis.fill_between(x, y - y_std, y + y_std, alpha=std_alpha, color=kwargs.get('color', None))\n",
    "\n",
    "    if logplot:\n",
    "        axis.set_xscale('log')\n",
    "        axis.get_xaxis().set_major_formatter(ScalarFormatter())\n",
    "\n",
    "    if show_all_xticks:\n",
    "        axis.set_xticks(x)\n",
    "\n",
    "    axis.set_xlabel(x_label, fontsize=24)\n",
    "    axis.set_ylabel(y_label, fontsize=24)"
   ]
  },
  {
   "cell_type": "code",
   "execution_count": null,
   "id": "7ea3e3eb",
   "metadata": {},
   "outputs": [
    {
     "ename": "TypeError",
     "evalue": "tuple expected at most 1 argument, got 2",
     "output_type": "error",
     "traceback": [
      "\u001b[0;31m---------------------------------------------------------------------------\u001b[0m",
      "\u001b[0;31mTypeError\u001b[0m                                 Traceback (most recent call last)",
      "Input \u001b[0;32mIn [29]\u001b[0m, in \u001b[0;36m<cell line: 2>\u001b[0;34m()\u001b[0m\n\u001b[1;32m      1\u001b[0m \u001b[38;5;66;03m#export\u001b[39;00m\n\u001b[1;32m      2\u001b[0m \u001b[38;5;28;01mdef\u001b[39;00m \u001b[38;5;21mplot_logs\u001b[39m(\n\u001b[1;32m      3\u001b[0m     x:\u001b[38;5;28mlist\u001b[39m, \u001b[38;5;66;03m# The x coordinates of the data.,\u001b[39;00m\n\u001b[1;32m      4\u001b[0m     logs:defaultdict, \u001b[38;5;66;03m# A dictionary that contains a list of values for each key. The keys are the same strings stored in `criterion_names`, optionally along with tiehr standard deviations.\u001b[39;00m\n\u001b[1;32m      5\u001b[0m     criterion_names:\u001b[38;5;28mlist\u001b[39m, \u001b[38;5;66;03m# The criterion names deterime which keys are accesssed in the logs file for the plot.\u001b[39;00m\n\u001b[1;32m      6\u001b[0m     file_path:\u001b[38;5;28mstr\u001b[39m\u001b[38;5;241m=\u001b[39m\u001b[38;5;28;01mNone\u001b[39;00m, \u001b[38;5;66;03m# The path where the plot should be saved as a png file.\u001b[39;00m\n\u001b[1;32m      7\u001b[0m     label:\u001b[38;5;28mstr\u001b[39m\u001b[38;5;241m=\u001b[39m\u001b[38;5;28;01mNone\u001b[39;00m, \u001b[38;5;66;03m# The label of the plot.\u001b[39;00m\n\u001b[1;32m      8\u001b[0m     x_label:\u001b[38;5;28mstr\u001b[39m\u001b[38;5;241m=\u001b[39m\u001b[38;5;28;01mNone\u001b[39;00m, \u001b[38;5;66;03m# The x label of the plot.\u001b[39;00m\n\u001b[1;32m      9\u001b[0m     share_x_axis:\u001b[38;5;28mbool\u001b[39m\u001b[38;5;241m=\u001b[39m\u001b[38;5;28;01mTrue\u001b[39;00m, \u001b[38;5;66;03m# Whether all plots should share the same x axis or should be plotted in individual plots below one another.\u001b[39;00m\n\u001b[1;32m     10\u001b[0m     show_legend:\u001b[38;5;28mbool\u001b[39m\u001b[38;5;241m=\u001b[39m\u001b[38;5;28;01mTrue\u001b[39;00m, \u001b[38;5;66;03m# Whether to show a legend for the plot.\u001b[39;00m\n\u001b[0;32m---> 11\u001b[0m     fig_and_axes:\u001b[38;5;28;43mtuple\u001b[39;49m\u001b[43m(\u001b[49m\u001b[43mmatplotlib\u001b[49m\u001b[38;5;241;43m.\u001b[39;49m\u001b[43mfigure\u001b[49m\u001b[38;5;241;43m.\u001b[39;49m\u001b[43mFigure\u001b[49m\u001b[43m,\u001b[49m\u001b[43m \u001b[49m\u001b[38;5;124;43m\"\u001b[39;49m\u001b[38;5;124;43mmatplotlib.axes.AxesSubplot\u001b[39;49m\u001b[38;5;124;43m\"\u001b[39;49m\u001b[43m)\u001b[49m\u001b[38;5;241m=\u001b[39m\u001b[38;5;28;01mNone\u001b[39;00m, \u001b[38;5;66;03m# The figure and axes, if already built.\u001b[39;00m\n\u001b[1;32m     12\u001b[0m     logplot:\u001b[38;5;28mbool\u001b[39m\u001b[38;5;241m=\u001b[39m\u001b[38;5;28;01mFalse\u001b[39;00m, \u001b[38;5;66;03m# Whether to plot the x axis logarithmically.\u001b[39;00m\n\u001b[1;32m     13\u001b[0m     plot_with_std:\u001b[38;5;28mbool\u001b[39m\u001b[38;5;241m=\u001b[39m\u001b[38;5;28;01mFalse\u001b[39;00m, \u001b[38;5;66;03m# Whether to also plot the standard deviations of the data. Requires keys `{criterion_name}_std` in `logs`.\u001b[39;00m\n\u001b[1;32m     14\u001b[0m     std_alpha:\u001b[38;5;28mfloat\u001b[39m\u001b[38;5;241m=\u001b[39m\u001b[38;5;241m0.2\u001b[39m, \u001b[38;5;66;03m# The alpha value for `y_std`. Only has an effect if `y_std` is not None.\u001b[39;00m\n\u001b[1;32m     15\u001b[0m     y_ticks:\u001b[38;5;28mlist\u001b[39m\u001b[38;5;241m=\u001b[39m\u001b[38;5;28;01mNone\u001b[39;00m, \u001b[38;5;66;03m# The y ticks for the plots.\u001b[39;00m\n\u001b[1;32m     16\u001b[0m     \u001b[38;5;241m*\u001b[39m\u001b[38;5;241m*\u001b[39mkwargs):\n\u001b[1;32m     17\u001b[0m \u001b[38;5;250m    \u001b[39m\u001b[38;5;124;03m\"\"\"\u001b[39;00m\n\u001b[1;32m     18\u001b[0m \u001b[38;5;124;03m    A method to plot criterion evaluation curves stored in a logs file.\u001b[39;00m\n\u001b[1;32m     19\u001b[0m \u001b[38;5;124;03m    \"\"\"\u001b[39;00m\n\u001b[1;32m     20\u001b[0m     n_plots \u001b[38;5;241m=\u001b[39m \u001b[38;5;28mlen\u001b[39m(criterion_names)\n",
      "\u001b[0;31mTypeError\u001b[0m: tuple expected at most 1 argument, got 2"
     ]
    }
   ],
   "source": [
    "#export\n",
    "def plot_logs(\n",
    "    x:list, # The x coordinates of the data.,\n",
    "    logs:defaultdict, # A dictionary that contains a list of values for each key. The keys are the same strings stored in `criterion_names`, optionally along with tiehr standard deviations.\n",
    "    criterion_names:list, # The criterion names deterime which keys are accesssed in the logs file for the plot.\n",
    "    file_path:str=None, # The path where the plot should be saved as a png file.\n",
    "    label:str=None, # The label of the plot.\n",
    "    x_label:str=None, # The x label of the plot.\n",
    "    share_x_axis:bool=True, # Whether all plots should share the same x axis or should be plotted in individual plots below one another.\n",
    "    show_legend:bool=True, # Whether to show a legend for the plot.\n",
    "    fig_and_axes:tuple=None, # A tuple containing a figure and an axes object, if already built.\n",
    "    logplot:bool=False, # Whether to plot the x axis logarithmically.\n",
    "    plot_with_std:bool=False, # Whether to also plot the standard deviations of the data. Requires keys `{criterion_name}_std` in `logs`.\n",
    "    std_alpha:float=0.2, # The alpha value for `y_std`. Only has an effect if `y_std` is not None.\n",
    "    y_ticks:list=None, # The y ticks for the plots.\n",
    "    **kwargs):\n",
    "    \"\"\"\n",
    "    A method to plot criterion evaluation curves stored in a logs file.\n",
    "    \"\"\"\n",
    "    n_plots = len(criterion_names)\n",
    "\n",
    "    if fig_and_axes is None:\n",
    "        fig, axes = plt.subplots(n_plots, figsize=(7, 3*n_plots), dpi=800, sharex=share_x_axis)\n",
    "    else:\n",
    "        fig, axes = fig_and_axes\n",
    "\n",
    "    if hasattr(axes, 'plot'):\n",
    "        axes = [axes]\n",
    "\n",
    "    assert len(axes) >= len(criterion_names)\n",
    "\n",
    "    for i, name in enumerate(criterion_names):\n",
    "        y_std = logs.get(f'{name}_std', None) if plot_with_std else None\n",
    "        plot_curve(\n",
    "            x=x,\n",
    "            y=logs[name],\n",
    "            label=label,\n",
    "            x_label=None if share_x_axis else x_label,\n",
    "            y_label=f'{name}',\n",
    "            axis=axes[i],\n",
    "            logplot=logplot,\n",
    "            y_std=y_std,\n",
    "            std_alpha=std_alpha,\n",
    "            **kwargs\n",
    "        )\n",
    "        axes[i].set_ylabel(f'{name}', fontsize=24)\n",
    "        if y_ticks != None:\n",
    "            axes[i].set_yticks(y_ticks[i])\n",
    "            axes[i].set_ylim(y_ticks[i][0] - y_ticks[i][-1]/20, y_ticks[i][-1] + y_ticks[i][-1]/20)\n",
    "            axes[i].set_yticklabels(y_ticks[i], fontsize=16)\n",
    "\n",
    "    if share_x_axis:\n",
    "        axes[-1].set_xlabel(x_label, fontsize=22)\n",
    "        axes[i].set_xticklabels(x, fontsize=16)\n",
    "        axes[-1].tick_params(axis='x', labelrotation=45, labelbottom=True)\n",
    "\n",
    "    if show_legend:\n",
    "        handles, labels = axes[0].get_legend_handles_labels()\n",
    "        fig.legend(handles, labels, loc='upper center')\n",
    "\n",
    "    fig.align_ylabels(axes)\n",
    "    fig.tight_layout()\n",
    "\n",
    "    if file_path is not None:\n",
    "        plt.savefig(file_path, bbox_inches='tight')\n",
    "\n",
    "    plt.close(fig)\n",
    "\n",
    "    return fig, axes"
   ]
  },
  {
   "cell_type": "code",
   "execution_count": null,
   "id": "5ec41d1e-a636-4321-8bba-7b4b6779a61f",
   "metadata": {},
   "outputs": [],
   "source": []
  }
 ],
 "metadata": {
  "kernelspec": {
   "display_name": "Python 3 (ipykernel)",
   "language": "python",
   "name": "python3"
  }
 },
 "nbformat": 4,
 "nbformat_minor": 5
}
