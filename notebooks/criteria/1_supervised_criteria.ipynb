{
 "cells": [
  {
   "cell_type": "code",
   "execution_count": null,
   "id": "f5e108da-b201-4740-99c4-833e351f8c60",
   "metadata": {},
   "outputs": [],
   "source": [
    "#default_exp criteria"
   ]
  },
  {
   "cell_type": "code",
   "execution_count": null,
   "id": "3cee636e-a562-4e25-9ebf-6efe0e730994",
   "metadata": {},
   "outputs": [],
   "source": [
    "#export\n",
    "import torch\n",
    "import numpy as np\n",
    "from torch.nn.functional import mse_loss, binary_cross_entropy\n",
    "\n",
    "from dl4to.criteria import Criterion"
   ]
  },
  {
   "cell_type": "code",
   "execution_count": null,
   "id": "b4467bf1-d56a-4d8e-a76a-9ebc748cc353",
   "metadata": {},
   "outputs": [],
   "source": [
    "#hide\n",
    "from nbdev.showdoc import show_doc"
   ]
  },
  {
   "cell_type": "markdown",
   "id": "8d523acd-415c-4864-9013-5ca936bcaed7",
   "metadata": {},
   "source": [
    "# Supervised criteria"
   ]
  },
  {
   "cell_type": "code",
   "execution_count": null,
   "id": "bf4e1945-a8dd-4a39-a682-9e9bc61adc01",
   "metadata": {},
   "outputs": [],
   "source": [
    "#export\n",
    "class SupervisedCriterion(Criterion):\n",
    "    \"\"\"\n",
    "    A parent class that inherits all supervised criteria for both classical and learned methods.\n",
    "    \"\"\"\n",
    "    def __init__(\n",
    "        self,\n",
    "        name:str, # The name of this criterion which will be monitored in logging.\n",
    "        differentiable:bool=True, # Whether the criterion is differentiable or not. Only differentiable criteria can be used as loss/objective functions.\n",
    "        lower_is_better:bool=True, # Whether lower values of the criterion correspond to better scores.\n",
    "        compute_only_on_design_space:bool=True # Whether the criterion should be evaluated on voxels that have a design space information of -1, i.e., the voxels can be freely optimized. This parameter does not effect all criteria.\n",
    "    ):\n",
    "        super().__init__(name=name, \n",
    "                         supervised=True,\n",
    "                         differentiable=differentiable,\n",
    "                         lower_is_better=lower_is_better,\n",
    "                         compute_only_on_design_space=compute_only_on_design_space\n",
    "                        )\n",
    "\n",
    "\n",
    "    def _convert_to_list(self, solutions, gt_solutions):\n",
    "        if type(solutions) is not list:\n",
    "            solutions = [solutions]\n",
    "        if type(gt_solutions) is not list:\n",
    "            gt_solutions = [gt_solutions]\n",
    "        return solutions, gt_solutions\n",
    "\n",
    "\n",
    "    def _check_inputs(self, solutions, gt_solutions):\n",
    "        if gt_solutions is None:\n",
    "            raise AttributeError('The criterion is supervised and needs ground thruth data. Therefore, gt_solution should not be None.')\n",
    "\n",
    "        for gt_solution in gt_solutions:\n",
    "            if gt_solution is None:\n",
    "                raise ValueError('The criterion requires gt_solutions, which are currently None.')\n",
    "\n",
    "\n",
    "    def _get_number_of_true_positives(self, θ, θ_true, design_space_mask):\n",
    "        return (θ_true * θ * design_space_mask).sum(dim=1)\n",
    "\n",
    "\n",
    "    def _get_number_of_true_negatives(self, θ, θ_true, design_space_mask):\n",
    "        return ((1 - θ_true) * (1 - θ) * design_space_mask).sum(dim=1)\n",
    "\n",
    "\n",
    "    def _get_number_of_false_positives(self, θ, θ_true, design_space_mask):\n",
    "        return ((1 - θ_true) * θ * design_space_mask).sum(dim=1)\n",
    "\n",
    "\n",
    "    def _get_number_of_false_negatives(self, θ, θ_true, design_space_mask):\n",
    "        return (θ_true * (1 - θ) * design_space_mask).sum(dim=1)\n",
    "\n",
    "\n",
    "    def _get_sensitivity(self, θ, θ_true, design_space_mask, ε=1e-6): # same as recall\n",
    "        tp = self._get_number_of_true_positives(θ, θ_true, design_space_mask)\n",
    "        fn = self._get_number_of_false_negatives(θ, θ_true, design_space_mask)\n",
    "        return tp / (tp + fn + ε)\n",
    "\n",
    "\n",
    "    def _get_specificity(self, θ, θ_true, design_space_mask, ε=1e-6):\n",
    "        tn = self._get_number_of_true_negatives(θ, θ_true, design_space_mask)\n",
    "        fp = self._get_number_of_false_positives(θ, θ_true, design_space_mask)\n",
    "        return tn / (tn + fp + ε)\n",
    "\n",
    "\n",
    "    def _get_precision(self, θ, θ_true, design_space_mask, ε=1e-6):\n",
    "        tp = self._get_number_of_true_positives(θ, θ_true, design_space_mask)\n",
    "        fp = self._get_number_of_false_positives(θ, θ_true, design_space_mask)\n",
    "        return tp / (tp + fp + ε)\n",
    "\n",
    "\n",
    "    def __call__(self,\n",
    "                 solutions:list, # The solutions that should be evaluated with the criterion.\n",
    "                 gt_solutions:list=None, # Ground truth solutions that are compared element-wise with the `solutions`.\n",
    "                 binary:bool=False # Whether the criterion should be evaluated on binarized densities. Does not have an effect on some criteria.\n",
    "                  ):\n",
    "        \"\"\"\n",
    "        Calculates the output of the criterion for all solutions.\n",
    "        \"\"\"\n",
    "        raise NotImplementedError(\"Must be overridden.\")"
   ]
  },
  {
   "cell_type": "code",
   "execution_count": null,
   "id": "f40db672-5f64-4e6b-ab69-89a41908a20c",
   "metadata": {},
   "outputs": [
    {
     "data": {
      "text/markdown": [
       "<h4 id=\"SupervisedCriterion.__call__\" class=\"doc_header\"><code>SupervisedCriterion.__call__</code><a href=\"__main__.py#L64\" class=\"source_link\" style=\"float:right\">[source]</a></h4>\n",
       "\n",
       "> <code>SupervisedCriterion.__call__</code>(**`solutions`**:`list`, **`gt_solutions`**:`list`=*`None`*, **`binary`**:`bool`=*`False`*)\n",
       "\n",
       "Calculates the output of the criterion for all solutions.\n",
       "\n",
       "||Type|Default|Details|\n",
       "|---|---|---|---|\n",
       "|**`solutions`**|`list`||The solutions that should be evaluated with the criterion.|\n",
       "|**`gt_solutions`**|`list`|`None`|Ground truth solutions that are compared element-wise with the `solutions`.|\n",
       "|**`binary`**|`bool`|`False`|Whether the criterion should be evaluated on binarized densities. Does not have an effect on some criteria.|\n"
      ],
      "text/plain": [
       "<IPython.core.display.Markdown object>"
      ]
     },
     "metadata": {},
     "output_type": "display_data"
    }
   ],
   "source": [
    "show_doc(SupervisedCriterion.__call__)"
   ]
  },
  {
   "cell_type": "code",
   "execution_count": null,
   "id": "4e0208a4-cf98-405b-b54c-1f93ab87e781",
   "metadata": {},
   "outputs": [],
   "source": [
    "#export\n",
    "class WeightedBCE(SupervisedCriterion):\n",
    "    \"\"\"\n",
    "    Weighted Binary cross entropy [1] is a variant of binary cross entropy variant. The weight value can be used to tune false negatives and false positives. \n",
    "    E.g; If you want to reduce the number of false negatives then set weight > 1, similarly to decrease the number of false positives, set weight < 1.\n",
    "    The criterion reaches its best value at 0 and higher values correspond to worse scores.\n",
    "    \"\"\"\n",
    "    def __init__(self, \n",
    "                 weight:float=.5, # The weight of the weighted binary cross entropy function which is used to take class imbalance into account.\n",
    "                 compute_only_on_design_space:bool=True # Whether the criterion should be evaluated on voxels that have a design space information of -1, i.e., the voxels can be freely optimized. This parameter does not effect all criteria.\n",
    "                ):\n",
    "        self.weight = weight\n",
    "        super().__init__(\n",
    "            name=f'BCE({weight:.2})',\n",
    "            compute_only_on_design_space=compute_only_on_design_space\n",
    "        )\n",
    "\n",
    "\n",
    "    def set_optimal_weight(self,\n",
    "                           dataset:\"dl4to.dataset.TopoDataset\", # The dataset based on which the optimal weight is determined.\n",
    "                           binary:bool=False # Whether the densities in the solutions are thresholded at 0.5 before the weight is determined.\n",
    "                          ):\n",
    "        \"\"\"\n",
    "        Calculates the optimal BCE weight based on the solutions in the dataset.\n",
    "        \"\"\"\n",
    "        gt_solutions = dataset.get_gt_solutions()\n",
    "        θ = torch.stack([gt_solution.get_θ(binary=binary).flatten() for gt_solution in gt_solutions])\n",
    "        design_space_mask = self.get_design_space_mask(gt_solutions)\n",
    "        self.weight = 1. - θ.sum() / design_space_mask.sum()\n",
    "        print(f\"Setting criterion weight to {self.weight}.\")\n",
    "        self._name = f'BCE({self.weight:.2})'\n",
    "\n",
    "\n",
    "    def __call__(self,\n",
    "                 solutions:list, # The solutions that should be evaluated with the criterion.\n",
    "                 gt_solutions:list=None, # Ground truth solutions that are compared element-wise with the `solutions`.\n",
    "                 binary:bool=False # Whether the criterion should be evaluated on binarized densities. Does not have an effect on some criteria.\n",
    "                  ):\n",
    "        \"\"\"\n",
    "        Calculates the output of the criterion for all solutions.\n",
    "        \"\"\"\n",
    "        solutions, gt_solutions = self._convert_to_list(solutions, gt_solutions)\n",
    "        self._check_inputs(solutions, gt_solutions)\n",
    "        θ = self.get_θ_flat(solutions, binary=binary)\n",
    "        θ_true = self.get_θ_flat(gt_solutions, binary=binary)\n",
    "        design_space_mask = self.get_design_space_mask(solutions)\n",
    "        loss = binary_cross_entropy(\n",
    "            θ * design_space_mask, θ_true * design_space_mask,\n",
    "            weight=torch.tensor([self.weight], device=θ.device),\n",
    "            reduction='none'\n",
    "        )\n",
    "\n",
    "        return loss.sum(dim=1) / design_space_mask.sum(dim=1)"
   ]
  },
  {
   "cell_type": "code",
   "execution_count": null,
   "id": "c4f735c0-535d-4b05-b9df-cd984a8d68f8",
   "metadata": {},
   "outputs": [
    {
     "data": {
      "text/markdown": [
       "<h4 id=\"WeightedBCE.set_optimal_weight\" class=\"doc_header\"><code>WeightedBCE.set_optimal_weight</code><a href=\"__main__.py#L19\" class=\"source_link\" style=\"float:right\">[source]</a></h4>\n",
       "\n",
       "> <code>WeightedBCE.set_optimal_weight</code>(**`dataset`**:`dl4to.dataset.TopoDataset`, **`binary`**:`bool`=*`False`*)\n",
       "\n",
       "Calculates the optimal BCE weight based on the solutions in the dataset.\n",
       "\n",
       "||Type|Default|Details|\n",
       "|---|---|---|---|\n",
       "|**`dataset`**|`dl4to.dataset.TopoDataset`||The dataset based on which the optimal weight is determined.|\n",
       "|**`binary`**|`bool`|`False`|Whether the densities in the solutions are thresholded at 0.5 before the weight is determined.|\n"
      ],
      "text/plain": [
       "<IPython.core.display.Markdown object>"
      ]
     },
     "metadata": {},
     "output_type": "display_data"
    }
   ],
   "source": [
    "show_doc(WeightedBCE.set_optimal_weight)"
   ]
  },
  {
   "cell_type": "code",
   "execution_count": null,
   "id": "fa71e64d-9b99-4fbd-899e-d18193cd18b6",
   "metadata": {},
   "outputs": [],
   "source": [
    "#export\n",
    "class WeightedFocal(SupervisedCriterion):\n",
    "    \"\"\"\n",
    "    Focal loss [2] can be seen as variation of Binary Cross-Entropy. It down-weights the contribution of easy examples and enables the model to focus more on learning hard examples. \n",
    "    It works well for highly imbalanced class scenarios. The criterion reaches its best value at 0 and higher values correspond to worse scores.\n",
    "    \"\"\"\n",
    "    def __init__(self, \n",
    "                 weight:float=.5, # The weight of the weighted focal function which is used to take class imbalance into account.\n",
    "                 γ:float=3, # $γ\\geq0$ is the tunable focusing parameter. Setting $γ>0$ reduces the relative loss for well-classified examples, putting more focus on hard, misclassified examples.\n",
    "                 ε:float=1e-6, # A small value $>0$ that avoids division by $0$ and therefore improves numerical stability.\n",
    "                 compute_only_on_design_space:bool=True # Whether the criterion should be evaluated on voxels that have a design space information of -1, i.e., the voxels can be freely optimized. This parameter does not effect all criteria.\n",
    "                ):\n",
    "        self.weight = weight\n",
    "        self.γ = γ\n",
    "        self.ε = ε\n",
    "        super().__init__(\n",
    "            name=f'Focal({weight:.2})',\n",
    "            compute_only_on_design_space=compute_only_on_design_space\n",
    "        )\n",
    "\n",
    "\n",
    "    def set_optimal_weight(self,\n",
    "                           dataset:\"dl4to.dataset.TopoDataset\", # The dataset based on which the optimal weight is determined.\n",
    "                           binary:bool=False # Whether the densities in the solutions are thresholded at 0.5 before the weight is determined.\n",
    "                          ):\n",
    "        \"\"\"\n",
    "        Calculates the optimal BCE weight based on the solutions in the dataset.\n",
    "        \"\"\"\n",
    "        gt_solutions = dataset.get_gt_solutions()\n",
    "        θ = torch.stack([gt_solution.get_θ(binary=binary).flatten() for gt_solution in gt_solutions])\n",
    "        design_space_mask = self.get_design_space_mask(gt_solutions)\n",
    "        self.weight = 1. - θ.sum() / design_space_mask.sum()\n",
    "        print(f\"Setting criterion weight to {self.weight}.\")\n",
    "        self._name = f'BCE({self.weight:.2})'\n",
    "\n",
    "\n",
    "    def _get_loss(self, θ, θ_true, design_space_mask):\n",
    "        bce_loss = binary_cross_entropy(θ * design_space_mask, θ_true * design_space_mask, reduction='none')\n",
    "        pt = torch.clamp(torch.exp(- bce_loss * design_space_mask), min=self.ε, max=1-self.ε)\n",
    "        loss = self.weight * (1 - pt)**self.γ * bce_loss\n",
    "\n",
    "        return loss.sum(dim=1) / design_space_mask.sum(dim=1)\n",
    "\n",
    "\n",
    "    def __call__(self,\n",
    "                 solutions:list, # The solutions that should be evaluated with the criterion.\n",
    "                 gt_solutions:list=None, # Ground truth solutions that are compared element-wise with the `solutions`.\n",
    "                 binary:bool=False # Whether the criterion should be evaluated on binarized densities. Does not have an effect on some criteria.\n",
    "                  ):\n",
    "        \"\"\"\n",
    "        Calculates the output of the criterion for all solutions.\n",
    "        \"\"\"\n",
    "        solutions, gt_solutions = self._convert_to_list(solutions, gt_solutions)\n",
    "        self._check_inputs(solutions, gt_solutions)\n",
    "        θ = self.get_θ_flat(solutions, binary=binary)\n",
    "        θ_true = self.get_θ_flat(gt_solutions, binary=binary)\n",
    "        design_space_mask = self.get_design_space_mask(solutions)\n",
    "\n",
    "        return self._get_loss(θ, θ_true, design_space_mask)"
   ]
  },
  {
   "cell_type": "code",
   "execution_count": null,
   "id": "7c46712d-3422-44b6-9d7d-f8f074499d7d",
   "metadata": {},
   "outputs": [
    {
     "data": {
      "text/markdown": [
       "<h4 id=\"WeightedFocal.set_optimal_weight\" class=\"doc_header\"><code>WeightedFocal.set_optimal_weight</code><a href=\"__main__.py#L22\" class=\"source_link\" style=\"float:right\">[source]</a></h4>\n",
       "\n",
       "> <code>WeightedFocal.set_optimal_weight</code>(**`dataset`**:`dl4to.dataset.TopoDataset`, **`binary`**:`bool`=*`False`*)\n",
       "\n",
       "Calculates the optimal BCE weight based on the solutions in the dataset.\n",
       "\n",
       "||Type|Default|Details|\n",
       "|---|---|---|---|\n",
       "|**`dataset`**|`dl4to.dataset.TopoDataset`||The dataset based on which the optimal weight is determined.|\n",
       "|**`binary`**|`bool`|`False`|Whether the densities in the solutions are thresholded at 0.5 before the weight is determined. $\\varepsilon \\geq 0$|\n"
      ],
      "text/plain": [
       "<IPython.core.display.Markdown object>"
      ]
     },
     "metadata": {},
     "output_type": "display_data"
    }
   ],
   "source": [
    "show_doc(WeightedFocal.set_optimal_weight)"
   ]
  },
  {
   "cell_type": "code",
   "execution_count": null,
   "id": "1843d0a3-be8c-47d9-8911-6c7950f26190",
   "metadata": {},
   "outputs": [],
   "source": [
    "#export\n",
    "class Dice(SupervisedCriterion):\n",
    "    \"\"\"\n",
    "    The Dice coefficient is widely used metric in computer vision community to calculate the similarity between two images.\n",
    "    Later in 2016, it has also been adapted as loss function known as Dice Loss [3]. It is also sometimes refered to as the F1 score [4].\n",
    "    Dice reaches its best value at 0 and its worst value at 1.\n",
    "    \"\"\"\n",
    "    def __init__(self, \n",
    "                 ε:float=1e-6, # A small value $>0$ that avoids division by $0$ and therefore improves numerical stability.\n",
    "                 compute_only_on_design_space:bool=True # Whether the criterion should be evaluated on voxels that have a design space information of -1, i.e., the voxels can be freely optimized. This parameter does not effect all criteria.\n",
    "                ):\n",
    "        self.ε = ε\n",
    "        super().__init__(\n",
    "            name='Dice',\n",
    "            compute_only_on_design_space=compute_only_on_design_space\n",
    "        )\n",
    "\n",
    "\n",
    "    def __call__(self,\n",
    "                 solutions:list, # The solutions that should be evaluated with the criterion.\n",
    "                 gt_solutions:list=None, # Ground truth solutions that are compared element-wise with the `solutions`.\n",
    "                 binary:bool=False # Whether the criterion should be evaluated on binarized densities. Does not have an effect on some criteria.\n",
    "                  ):\n",
    "        \"\"\"\n",
    "        Calculates the output of the criterion for all solutions.\n",
    "        \"\"\"\n",
    "        solutions, gt_solutions = self._convert_to_list(solutions, gt_solutions)\n",
    "        self._check_inputs(solutions, gt_solutions)\n",
    "        θ = self.get_θ_flat(solutions, binary=binary)\n",
    "        θ_true = self.get_θ_flat(gt_solutions, binary=binary)\n",
    "        design_space_mask = self.get_design_space_mask(solutions)\n",
    "\n",
    "        tp = self._get_number_of_true_positives(θ, θ_true, design_space_mask)\n",
    "        fp = self._get_number_of_false_positives(θ, θ_true, design_space_mask)\n",
    "        fn = self._get_number_of_false_negatives(θ, θ_true, design_space_mask)\n",
    "        dice_score = 2.*tp / (2.*tp + fp + fn + self.ε)\n",
    "\n",
    "        return 1 - dice_score"
   ]
  },
  {
   "cell_type": "code",
   "execution_count": null,
   "id": "bdf2faa3-c541-4a01-9053-a7938a601e20",
   "metadata": {},
   "outputs": [],
   "source": [
    "#export\n",
    "class Tversky(SupervisedCriterion):\n",
    "    \"\"\"\n",
    "    Tversky index [5] can be seen as a generalization of the Dice coefficient. It adds a weight to false positives and false negatives. By setting the value of α > 0.5, we can penalise false negatives more. \n",
    "    This becomes useful in highly imbalanced datasets where the additional level of control over the loss function yields better small scale segmentations than the normal dice coefficient.\n",
    "    Just like dice, this criterion reaches its best value at 0 and its worst value at 1.\n",
    "   \"\"\"\n",
    "    def __init__(self, \n",
    "                 α:float=.5, # The Tversky weight. When $α=0.5$, it can be solved into the regular Dice coefficient.\n",
    "                 ε:float=1e-6, # A small value $>0$ that avoids division by $0$ and therefore improves numerical stability.\n",
    "                 compute_only_on_design_space:bool=True # Whether the criterion should be evaluated on voxels that have a design space information of -1, i.e., the voxels can be freely optimized. This parameter does not effect all criteria.\n",
    "                ):\n",
    "        self.α = α\n",
    "        self.β = 1 - α\n",
    "        self.ε = ε\n",
    "        super().__init__(\n",
    "            name=f'Tversky({α})',\n",
    "            compute_only_on_design_space=compute_only_on_design_space\n",
    "        )\n",
    "\n",
    "\n",
    "    def __call__(self,\n",
    "                 solutions:list, # The solutions that should be evaluated with the criterion.\n",
    "                 gt_solutions:list=None, # Ground truth solutions that are compared element-wise with the `solutions`.\n",
    "                 binary:bool=False # Whether the criterion should be evaluated on binarized densities. Does not have an effect on some criteria.\n",
    "                  ):\n",
    "        \"\"\"\n",
    "        Calculates the output of the criterion for all solutions.\n",
    "        \"\"\"\n",
    "        solutions, gt_solutions = self._convert_to_list(solutions, gt_solutions)\n",
    "        self._check_inputs(solutions, gt_solutions)\n",
    "        θ = self.get_θ_flat(solutions, binary=binary)\n",
    "        θ_true = self.get_θ_flat(gt_solutions, binary=binary)\n",
    "        design_space_mask = self.get_design_space_mask(solutions)\n",
    "\n",
    "        tp = self._get_number_of_true_positives(θ, θ_true, design_space_mask)\n",
    "        fp = self._get_number_of_false_positives(θ, θ_true, design_space_mask)\n",
    "        fn = self._get_number_of_false_negatives(θ, θ_true, design_space_mask)\n",
    "        tversky = tp / (tp + self.α * fn + self.β * fp + self.ε)\n",
    "\n",
    "        return 1 - tversky"
   ]
  },
  {
   "cell_type": "code",
   "execution_count": null,
   "id": "db28d504-39bf-4512-9dc7-6bd36b9422fa",
   "metadata": {},
   "outputs": [],
   "source": [
    "#export\n",
    "class FocalTversky(SupervisedCriterion):\n",
    "    \"\"\"\n",
    "    The Focal Tversky Loss [6] is a generalisation of the Tversky loss. The non-linear nature of the loss gives control over how the loss behaves at different values of the Tversky index obtained. \n",
    "    Similar to Focal Loss, which focuses on hard examples by down-weighting easy ones. Focal Tversky loss  also attempts to learn hard-examples such with the help of γ, which controls the non-linearity of the loss.\n",
    "    This criterion reaches its best value at 0, while higher values correspond to worse scores.\n",
    "    \"\"\"\n",
    "    def __init__(self, \n",
    "                 α:float=.5, # The Tversky weight. When $α=0.5$, it can be solved into the regular Dice coefficient.\n",
    "                 γ:float=3, # $γ\\geq0$ is the Focal loss focusing parameter. Setting $γ>0$ reduces the relative loss for well-classified examples, putting more focus on hard, misclassified examples.\n",
    "                 ε:float=1e-6, # A small value $>0$ that avoids division by $0$ and therefore improves numerical stability.\n",
    "                 compute_only_on_design_space:bool=True # Whether the criterion should be evaluated on voxels that have a design space information of -1, i.e., the voxels can be freely optimized. This parameter does not effect all criteria.\n",
    "                ):\n",
    "        self.α = α\n",
    "        self.β = 1 - α\n",
    "        self.γ = γ\n",
    "        self.ε = ε\n",
    "        super().__init__(\n",
    "            name=f'focal_Tversky({α})',\n",
    "            compute_only_on_design_space=compute_only_on_design_space\n",
    "        )\n",
    "\n",
    "\n",
    "    def __call__(self,\n",
    "                 solutions:list, # The solutions that should be evaluated with the criterion.\n",
    "                 gt_solutions:list=None, # Ground truth solutions that are compared element-wise with the `solutions`.\n",
    "                 binary:bool=False # Whether the criterion should be evaluated on binarized densities. Does not have an effect on some criteria.\n",
    "                  ):\n",
    "        \"\"\"\n",
    "        Calculates the output of the criterion for all solutions.\n",
    "        \"\"\"\n",
    "        solutions, gt_solutions = self._convert_to_list(solutions, gt_solutions)\n",
    "        self._check_inputs(solutions, gt_solutions)\n",
    "        θ = self.get_θ_flat(solutions, binary=binary)\n",
    "        θ_true = self.get_θ_flat(gt_solutions, binary=binary)\n",
    "        design_space_mask = self.get_design_space_mask(solutions)\n",
    "\n",
    "        tp = self._get_number_of_true_positives(θ, θ_true, design_space_mask)\n",
    "        fp = self._get_number_of_false_positives(θ, θ_true, design_space_mask)\n",
    "        fn = self._get_number_of_false_negatives(θ, θ_true, design_space_mask)\n",
    "        tversky = tp / (tp + self.α * fn + self.β * fp + self.ε)\n",
    "\n",
    "        return (1 - tversky)**self.γ"
   ]
  },
  {
   "cell_type": "code",
   "execution_count": null,
   "id": "c1c71a42-45b8-4c94-9379-6dc9a57f3694",
   "metadata": {},
   "outputs": [],
   "source": [
    "#export\n",
    "class IoU(SupervisedCriterion):\n",
    "    \"\"\"\n",
    "    The Intersection over Union (IoU) metric, also referred to as the Jaccard index, is essentially a method to quantify the percent overlap between the target mask and our prediction output. This metric is closely related to the Dice coefficient which is often used as a loss function during training.\n",
    "    The IoU metric measures the number of pixels common between the target and prediction masks divided by the total number of pixels present across both masks.\n",
    "    IoU reaches its best value at 1 and its worst value at 0, i.e., higher values are better.  \n",
    "   \"\"\"\n",
    "    def __init__(self, \n",
    "                 ε:float=1e-6, # A small value $>0$ that avoids division by $0$ and therefore improves numerical stability.\n",
    "                 compute_only_on_design_space:bool=True # Whether the criterion should be evaluated on voxels that have a design space information of -1, i.e., the voxels can be freely optimized. This parameter does not effect all criteria.\n",
    "                ):\n",
    "        self.ε = ε\n",
    "        super().__init__(\n",
    "            name='IoU',\n",
    "            lower_is_better=False,\n",
    "            compute_only_on_design_space=compute_only_on_design_space\n",
    "        )\n",
    "\n",
    "\n",
    "    def __call__(self,\n",
    "                 solutions:list, # The solutions that should be evaluated with the criterion.\n",
    "                 gt_solutions:list=None, # Ground truth solutions that are compared element-wise with the `solutions`.\n",
    "                 binary:bool=False # Whether the criterion should be evaluated on binarized densities. Does not have an effect on some criteria.\n",
    "                  ):\n",
    "        \"\"\"\n",
    "        Calculates the output of the criterion for all solutions.\n",
    "        \"\"\"\n",
    "        solutions, gt_solutions = self._convert_to_list(solutions, gt_solutions)\n",
    "        self._check_inputs(solutions, gt_solutions)\n",
    "        θ = self.get_θ_flat(solutions, binary=binary)\n",
    "        θ_true = self.get_θ_flat(gt_solutions, binary=binary)\n",
    "        design_space_mask = self.get_design_space_mask(solutions)\n",
    "\n",
    "        tp = self._get_number_of_true_positives(θ, θ_true, design_space_mask)\n",
    "        fp = self._get_number_of_false_positives(θ, θ_true, design_space_mask)\n",
    "        fn = self._get_number_of_false_negatives(θ, θ_true, design_space_mask)\n",
    "\n",
    "        return tp / (tp + fn + fp + self.ε)"
   ]
  },
  {
   "cell_type": "code",
   "execution_count": null,
   "id": "cc7ba924-bbae-4faa-a66c-b49885de1ff8",
   "metadata": {},
   "outputs": [],
   "source": [
    "#export\n",
    "class VoxelAccuracy(SupervisedCriterion):\n",
    "    \"\"\"\n",
    "    The voxel accuracy loss is a three-dimensional version of the pixel accuracy loss [7]. It reports the percent of voxels which are correctly classified. This metric can sometimes provide misleading results when the class representation is small within the image, as the measure will be biased in mainly reporting how well you identify negative case (ie. where the class is not present).\n",
    "    Voxel accuracy reaches its best value at 1 and its worst value at 0, i.e., higher values are better.\n",
    "    \"\"\"\n",
    "    def __init__(self, \n",
    "                 ε:float=1e-6, # A small value $>0$ that avoids division by $0$ and therefore improves numerical stability.\n",
    "                 compute_only_on_design_space:bool=True # Whether the criterion should be evaluated on voxels that have a design space information of -1, i.e., the voxels can be freely optimized. This parameter does not effect all criteria.\n",
    "                ):\n",
    "        self.ε = ε\n",
    "        super().__init__(\n",
    "            name='voxel_accuracy',\n",
    "            lower_is_better=False,\n",
    "            compute_only_on_design_space=compute_only_on_design_space)\n",
    "\n",
    "\n",
    "    def __call__(self,\n",
    "                 solutions:list, # The solutions that should be evaluated with the criterion.\n",
    "                 gt_solutions:list=None, # Ground truth solutions that are compared element-wise with the `solutions`.\n",
    "                 binary:bool=False # Whether the criterion should be evaluated on binarized densities. Does not have an effect on some criteria.\n",
    "                  ):\n",
    "        \"\"\"\n",
    "        Calculates the output of the criterion for all solutions.\n",
    "        \"\"\"\n",
    "        solutions, gt_solutions = self._convert_to_list(solutions, gt_solutions)\n",
    "        self._check_inputs(solutions, gt_solutions)\n",
    "        θ = self.get_θ_flat(solutions, binary=binary)\n",
    "        θ_true = self.get_θ_flat(gt_solutions, binary=binary)\n",
    "        design_space_mask = self.get_design_space_mask(solutions)\n",
    "\n",
    "        tp = self._get_number_of_true_positives(θ, θ_true, design_space_mask)\n",
    "        tn = self._get_number_of_true_negatives(θ, θ_true, design_space_mask)\n",
    "        fp = self._get_number_of_false_positives(θ, θ_true, design_space_mask)\n",
    "        fn = self._get_number_of_false_negatives(θ, θ_true, design_space_mask)\n",
    "\n",
    "        return (tp + tn) / (tp + tn + fp + fn + self.ε)"
   ]
  },
  {
   "cell_type": "code",
   "execution_count": null,
   "id": "937c7ac3-0422-4a40-b6b2-b8187e6b9a55",
   "metadata": {},
   "outputs": [],
   "source": [
    "#export\n",
    "class BalancedVoxelAccuracy(SupervisedCriterion):\n",
    "    \"\"\"\n",
    "    The balanced voxel accuracy loss [9] is a balanced version of the voxel accuracy criterion and can also be interpreted as a rescaled version of the \"Youden index\" [10]. That makes it a better metric to use with imbalanced data. It is defined as the average of recall obtained on each class.\n",
    "    The criterion reaches its best value at 1 and its worst value at 0, i.e., higher values are better.\n",
    "    \"\"\"\n",
    "    def __init__(self, \n",
    "                 ε:float=1e-6, # A small value $>0$ that avoids division by $0$ and therefore improves numerical stability.\n",
    "                 compute_only_on_design_space:bool=True # Whether the criterion should be evaluated on voxels that have a design space information of -1, i.e., the voxels can be freely optimized. This parameter does not effect all criteria.\n",
    "                ):\n",
    "        self.ε = ε\n",
    "        super().__init__(\n",
    "            name=f'balanced_voxel_accuracy',\n",
    "            lower_is_better=False,\n",
    "            compute_only_on_design_space=compute_only_on_design_space\n",
    "        )\n",
    "\n",
    "\n",
    "    def __call__(self,\n",
    "                 solutions:list, # The solutions that should be evaluated with the criterion.\n",
    "                 gt_solutions:list=None, # Ground truth solutions that are compared element-wise with the `solutions`.\n",
    "                 binary:bool=False # Whether the criterion should be evaluated on binarized densities. Does not have an effect on some criteria.\n",
    "                  ):\n",
    "        \"\"\"\n",
    "        Calculates the output of the criterion for all solutions.\n",
    "        \"\"\"\n",
    "        solutions, gt_solutions = self._convert_to_list(solutions, gt_solutions)\n",
    "        self._check_inputs(solutions, gt_solutions)\n",
    "        θ = self.get_θ_flat(solutions, binary=binary)\n",
    "        θ_true = self.get_θ_flat(gt_solutions, binary=binary)\n",
    "        design_space_mask = self.get_design_space_mask(solutions)\n",
    "        sensitivity = self._get_sensitivity(θ, θ_true, design_space_mask, ε=self.ε)\n",
    "        specificity = self._get_specificity(θ, θ_true, design_space_mask, ε=self.ε)\n",
    "        return (sensitivity + specificity) / 2."
   ]
  },
  {
   "cell_type": "code",
   "execution_count": null,
   "id": "496af037-1f16-41e6-964b-a2bf98959e51",
   "metadata": {},
   "outputs": [],
   "source": [
    "#export\n",
    "class L2Accuracy(SupervisedCriterion):\n",
    "    \"\"\"\n",
    "    The L2 accuracy loss [8] reports the root mean squared accuracy of the predictions. The criterion reaches its best value at 1 and its worst value at 0, i.e., higher values are better.\n",
    "    \"\"\"\n",
    "    def __init__(self, \n",
    "                 ε:float=1e-6, # A small value $>0$ that avoids division by $0$ and therefore improves numerical stability.\n",
    "                 compute_only_on_design_space:bool=True # Whether the criterion should be evaluated on voxels that have a design space information of -1, i.e., the voxels can be freely optimized. This parameter does not effect all criteria.\n",
    "                ):\n",
    "        self.ε = ε\n",
    "        super().__init__(\n",
    "            name='L2_accuracy',\n",
    "            lower_is_better=False,\n",
    "            compute_only_on_design_space=compute_only_on_design_space\n",
    "        )\n",
    "\n",
    "\n",
    "    def __call__(self,\n",
    "                 solutions:list, # The solutions that should be evaluated with the criterion.\n",
    "                 gt_solutions:list=None, # Ground truth solutions that are compared element-wise with the `solutions`.\n",
    "                 binary:bool=False # Whether the criterion should be evaluated on binarized densities. Does not have an effect on some criteria.\n",
    "                  ):\n",
    "        \"\"\"\n",
    "        Calculates the output of the criterion for all solutions.\n",
    "        \"\"\"\n",
    "        solutions, gt_solutions = self._convert_to_list(solutions, gt_solutions)\n",
    "        self._check_inputs(solutions, gt_solutions)\n",
    "        θ = self.get_θ_flat(solutions, binary=binary)\n",
    "        θ_true = self.get_θ_flat(gt_solutions, binary=binary)\n",
    "        design_space_mask = self.get_design_space_mask(solutions)\n",
    "        loss = mse_loss(θ * design_space_mask, θ_true * design_space_mask, reduction='none')\n",
    "        return 1 - torch.sqrt(loss.sum(dim=1) / design_space_mask.sum(dim=1) + self.ε)"
   ]
  },
  {
   "cell_type": "markdown",
   "id": "49d23a0a-fb8f-4359-8afb-26ff9df8aa94",
   "metadata": {},
   "source": [
    "# References"
   ]
  },
  {
   "cell_type": "markdown",
   "id": "8e031f9b-45c2-4982-a1f1-a23657079ab0",
   "metadata": {},
   "source": [
    "[1] Pihur, Vasyl, Susmita Datta, and Somnath Datta. \"Weighted rank aggregation of cluster validation measures: a monte carlo cross-entropy approach.\" Bioinformatics 23.13 (2007): 1607-1615\n",
    "\n",
    "[2] Lin, Tsung-Yi, et al. \"Focal loss for dense object detection.\" Proceedings of the IEEE international conference on computer vision. 2017.\n",
    "\n",
    "[3] Sudre, Carole H., et al. \"Generalised dice overlap as a deep learning loss function for highly unbalanced segmentations.\" Deep Learning in Medical Image Analysis and Multimodal Learning for Clinical Decision Support: Third International Workshop, DLMIA 2017, and 7th International Workshop, ML-CDS 2017, Held in Conjunction with MICCAI 2017, Québec City, QC, Canada, September 14, Proceedings 3. Springer International Publishing, 2017.\n",
    "\n",
    "[4] Taha, Abdel Aziz, and Allan Hanbury. \"Metrics for evaluating 3D medical image segmentation: analysis, selection, and tool.\" BMC medical imaging 15.1 (2015): 1-28.\n",
    "\n",
    "[5] Salehi, Seyed Sadegh Mohseni, Deniz Erdogmus, and Ali Gholipour. \"Tversky loss function for image segmentation using 3D fully convolutional deep networks.\" Machine Learning in Medical Imaging: 8th International Workshop, MLMI 2017, Held in Conjunction with MICCAI 2017, Quebec City, QC, Canada, September 10, 2017, Proceedings 8. Springer International Publishing, 2017.\n",
    "\n",
    "[6] Abraham, Nabila, and Naimul Mefraz Khan. \"A novel focal tversky loss function with improved attention u-net for lesion segmentation.\" 2019 IEEE 16th international symposium on biomedical imaging (ISBI 2019). IEEE, 2019.\n",
    "\n",
    "[7] Long, Jonathan, Evan Shelhamer, and Trevor Darrell. \"Fully convolutional networks for semantic segmentation.\" Proceedings of the IEEE conference on computer vision and pattern recognition. 2015.\n",
    "\n",
    "[8] Banga, Saurabh, et al. \"3d topology optimization using convolutional neural networks.\" arXiv preprint arXiv:1808.07440 (2018).\n",
    "\n",
    "[9] Brodersen, K.H.; Ong, C.S.; Stephan, K.E.; Buhmann, J.M. (2010). The balanced accuracy and its posterior distribution. Proceedings of the 20th International Conference on Pattern Recognition, 3121-24.\n",
    "\n",
    "[10] Youden, William J. \"Index for rating diagnostic tests.\" Cancer 3.1 (1950): 32-35."
   ]
  },
  {
   "cell_type": "code",
   "execution_count": null,
   "id": "756150e8-18f6-453f-9611-229f2d45c104",
   "metadata": {},
   "outputs": [],
   "source": [
    "#hide\n",
    "import math\n",
    "from dl4to.datasets import BasicDataset\n",
    "from dl4to.problem import Problem\n",
    "from dl4to.solution import Solution"
   ]
  },
  {
   "cell_type": "code",
   "execution_count": null,
   "id": "7d65ba94-2c88-42e9-86cb-e8e010a54b63",
   "metadata": {},
   "outputs": [],
   "source": [
    "#hide\n",
    "def get_solution(problem, enforce_θ_on_Ω_design=True):\n",
    "    if problem == \"ledge\":\n",
    "        solution = BasicDataset().ledge().trivial_solution\n",
    "    elif problem == \"cantilever\":\n",
    "        solution = BasicDataset().cantilever().trivial_solution\n",
    "    elif problem == \"wheel\":\n",
    "        solution = BasicDataset().wheel().trivial_solution\n",
    "\n",
    "    enforce_θ_on_Ω_design = solution.enforce_θ_on_Ω_design = False\n",
    "    return solution"
   ]
  },
  {
   "cell_type": "code",
   "execution_count": null,
   "id": "e4e81958-7e03-44e1-a57f-85cf7cc6e588",
   "metadata": {},
   "outputs": [],
   "source": [
    "#hide\n",
    "def test_it_is_supervised(criterion):\n",
    "    assert criterion.supervised"
   ]
  },
  {
   "cell_type": "code",
   "execution_count": null,
   "id": "a6008533-e878-4248-a51c-d7a99012dcc8",
   "metadata": {},
   "outputs": [
    {
     "name": "stdout",
     "output_type": "stream",
     "text": [
      "CPU times: user 36 µs, sys: 25 µs, total: 61 µs\n",
      "Wall time: 65.3 µs\n"
     ]
    }
   ],
   "source": [
    "%%time\n",
    "#hide\n",
    "test_it_is_supervised(WeightedBCE())"
   ]
  },
  {
   "cell_type": "code",
   "execution_count": null,
   "id": "9ae9d86f-65d0-43a4-bf1d-6e5d19c9ce04",
   "metadata": {},
   "outputs": [
    {
     "name": "stdout",
     "output_type": "stream",
     "text": [
      "CPU times: user 5.51 ms, sys: 9.03 ms, total: 14.5 ms\n",
      "Wall time: 33.3 ms\n"
     ]
    }
   ],
   "source": [
    "%%time\n",
    "#hide\n",
    "\n",
    "def test_that_we_can_apply_it_and_some_basic_properties_hold(weight=.5, ε=1e-9):\n",
    "    criterion = WeightedBCE(weight=weight)\n",
    "    torch_criterion = torch.nn.BCELoss(weight=torch.tensor([weight]))\n",
    "\n",
    "    ledge = BasicDataset().ledge()\n",
    "    ledge._Ω_design = -1 * torch.ones_like(ledge.Ω_design)\n",
    "\n",
    "    θ_ones  = torch.ones(1, *ledge.shape)\n",
    "    θ_zeros = torch.zeros(1, *ledge.shape)\n",
    "    θ_rand  = torch.zeros(1, *ledge.shape)\n",
    "    θ_rand[.5 <= torch.rand(1, *ledge.shape)] = 1.\n",
    "\n",
    "    ones  = Solution(ledge, θ_ones)\n",
    "    zeros = Solution(ledge, θ_zeros)\n",
    "    rand  = Solution(ledge, θ_rand)\n",
    "\n",
    "    a = criterion([ones], [ones])\n",
    "    b = torch_criterion(θ_ones, θ_ones)\n",
    "    assert torch.allclose(a, b), f\"{a}, {b}\"\n",
    "\n",
    "    a = criterion([zeros], [zeros])\n",
    "    b = torch_criterion(θ_zeros, θ_zeros)\n",
    "    assert torch.allclose(a, b), f\"{a}, {b}\"\n",
    "\n",
    "    a = criterion([rand], [rand])\n",
    "    b = torch_criterion(θ_rand, θ_rand)\n",
    "    assert torch.allclose(a, b), f\"{a}, {b}\"\n",
    "\n",
    "    a = criterion([ones], [zeros])\n",
    "    b = torch_criterion(θ_ones, θ_zeros)\n",
    "    assert torch.allclose(a, b), f\"{a}, {b}\"\n",
    "\n",
    "    a = criterion([ones], [rand])\n",
    "    b = torch_criterion(θ_ones, θ_rand)\n",
    "    assert torch.allclose(a, b), f\"{a}, {b}\"\n",
    "\n",
    "\n",
    "test_that_we_can_apply_it_and_some_basic_properties_hold()"
   ]
  },
  {
   "cell_type": "code",
   "execution_count": null,
   "id": "c5babb6a-f3b7-45f0-b5f7-3791212887eb",
   "metadata": {},
   "outputs": [
    {
     "name": "stdout",
     "output_type": "stream",
     "text": [
      "CPU times: user 4.03 ms, sys: 0 ns, total: 4.03 ms\n",
      "Wall time: 3.18 ms\n"
     ]
    }
   ],
   "source": [
    "%%time\n",
    "#hide\n",
    "\n",
    "def test_that_criterion_value_is_correct_if_both_arguments_are_the_same():\n",
    "    solution = get_solution(problem=\"ledge\", enforce_θ_on_Ω_design=False)\n",
    "    gt_solution = get_solution(problem=\"ledge\", enforce_θ_on_Ω_design=False)\n",
    "\n",
    "    criterion = WeightedBCE()\n",
    "    criterion_value = criterion([solution], [gt_solution])\n",
    "    assert criterion_value == (not criterion.lower_is_better), criterion_value\n",
    "\n",
    "\n",
    "test_that_criterion_value_is_correct_if_both_arguments_are_the_same()"
   ]
  },
  {
   "cell_type": "code",
   "execution_count": null,
   "id": "d6e6ea62-74b6-40e9-8c14-3f923bd9e38f",
   "metadata": {},
   "outputs": [
    {
     "name": "stdout",
     "output_type": "stream",
     "text": [
      "CPU times: user 2.08 ms, sys: 1.29 ms, total: 3.37 ms\n",
      "Wall time: 3.08 ms\n"
     ]
    }
   ],
   "source": [
    "%%time\n",
    "#hide\n",
    "\n",
    "def test_that_shape_is():\n",
    "    solution = get_solution(problem=\"ledge\")\n",
    "    gt_solution = get_solution(problem=\"ledge\")\n",
    "\n",
    "    criterion = WeightedBCE()\n",
    "    criterion_value = criterion([solution], [gt_solution])\n",
    "    assert criterion_value.shape == torch.Size([1]), f\"{criterion_value.shape}\"\n",
    "\n",
    "    criterion_value = criterion([solution, solution], [gt_solution, gt_solution])\n",
    "    assert criterion_value.shape == torch.Size([2]), f\"{criterion_value.shape}\"\n",
    "\n",
    "\n",
    "test_that_shape_is()"
   ]
  },
  {
   "cell_type": "code",
   "execution_count": null,
   "id": "a5216ea7-1175-4848-95f1-a1d5985901bd",
   "metadata": {},
   "outputs": [
    {
     "name": "stdout",
     "output_type": "stream",
     "text": [
      "CPU times: user 2.47 ms, sys: 0 ns, total: 2.47 ms\n",
      "Wall time: 2.27 ms\n"
     ]
    }
   ],
   "source": [
    "%%time\n",
    "#hide\n",
    "\n",
    "def test_that_criterion_value_is_correct_if_both_arguments_are_opposites():\n",
    "    solution = get_solution(problem=\"ledge\", enforce_θ_on_Ω_design=False)\n",
    "    gt_solution = get_solution(problem=\"ledge\", enforce_θ_on_Ω_design=False)\n",
    "\n",
    "    criterion = WeightedBCE()\n",
    "    shape = solution.get_θ().shape\n",
    "    solution.θ = torch.ones(*shape)\n",
    "    gt_solution.θ = torch.zeros(*shape)\n",
    "    criterion_value = criterion([solution], [gt_solution])\n",
    "    assert criterion_value == 50, criterion_value\n",
    "\n",
    "\n",
    "test_that_criterion_value_is_correct_if_both_arguments_are_opposites()"
   ]
  },
  {
   "cell_type": "code",
   "execution_count": null,
   "id": "5a04999f-20ba-44d1-aefb-af40c83a83e2",
   "metadata": {},
   "outputs": [
    {
     "name": "stdout",
     "output_type": "stream",
     "text": [
      "CPU times: user 17 µs, sys: 12 µs, total: 29 µs\n",
      "Wall time: 32.4 µs\n"
     ]
    }
   ],
   "source": [
    "%%time\n",
    "#hide\n",
    "test_it_is_supervised(WeightedFocal())"
   ]
  },
  {
   "cell_type": "code",
   "execution_count": null,
   "id": "5a501356-f34d-4f69-9c33-befbc9fd5bf3",
   "metadata": {},
   "outputs": [
    {
     "name": "stdout",
     "output_type": "stream",
     "text": [
      "CPU times: user 2.39 ms, sys: 1.37 ms, total: 3.77 ms\n",
      "Wall time: 3.42 ms\n"
     ]
    }
   ],
   "source": [
    "%%time\n",
    "#hide\n",
    "\n",
    "def test_that_criterion_value_is_correct_if_both_arguments_are_the_same():\n",
    "    solution = get_solution(problem=\"ledge\", enforce_θ_on_Ω_design=False)\n",
    "    gt_solution = get_solution(problem=\"ledge\", enforce_θ_on_Ω_design=False)\n",
    "\n",
    "    criterion = WeightedFocal()\n",
    "    criterion_value = criterion([solution], [gt_solution])\n",
    "    assert criterion_value == (not criterion.lower_is_better), criterion_value\n",
    "\n",
    "\n",
    "test_that_criterion_value_is_correct_if_both_arguments_are_the_same()"
   ]
  },
  {
   "cell_type": "code",
   "execution_count": null,
   "id": "4bac6a06-1c6d-40c9-bfe3-8a31bc2c0264",
   "metadata": {},
   "outputs": [
    {
     "name": "stdout",
     "output_type": "stream",
     "text": [
      "CPU times: user 1.64 ms, sys: 1.1 ms, total: 2.74 ms\n",
      "Wall time: 2.5 ms\n"
     ]
    }
   ],
   "source": [
    "%%time\n",
    "#hide\n",
    "\n",
    "def test_that_wbce_and_focal_loss_do_the_same_for_γ_0():\n",
    "    problem = BasicDataset().ledge()\n",
    "    gt_solution = problem.trivial_solution\n",
    "    solution = problem.trivial_solution\n",
    "    gt_solution.θ = torch.rand(*solution.get_θ().shape)\n",
    "    solution.θ = torch.rand(*solution.get_θ().shape)\n",
    "    loss_focal = WeightedFocal(weight=.5, γ=0.)\n",
    "    loss_wbce = WeightedBCE(weight=.5)\n",
    "    assert loss_focal([solution], [gt_solution]) == loss_wbce([solution], [gt_solution])\n",
    "    loss_focal = WeightedFocal(weight=.9, γ=0.)\n",
    "    loss_wbce = WeightedBCE(weight=.9)\n",
    "    assert loss_focal([solution], [gt_solution]) == loss_wbce([solution], [gt_solution])\n",
    "\n",
    "\n",
    "test_that_wbce_and_focal_loss_do_the_same_for_γ_0()"
   ]
  },
  {
   "cell_type": "code",
   "execution_count": null,
   "id": "6445eb18-0eeb-4fb7-b250-c79853f73f83",
   "metadata": {},
   "outputs": [
    {
     "name": "stdout",
     "output_type": "stream",
     "text": [
      "CPU times: user 2.61 ms, sys: 0 ns, total: 2.61 ms\n",
      "Wall time: 2.39 ms\n"
     ]
    }
   ],
   "source": [
    "%%time\n",
    "#hide\n",
    "\n",
    "def test_that_criterion_value_is_correct_if_both_arguments_are_opposites():\n",
    "    solution = get_solution(problem=\"ledge\", enforce_θ_on_Ω_design=False)\n",
    "    gt_solution = get_solution(problem=\"ledge\", enforce_θ_on_Ω_design=False)\n",
    "\n",
    "    criterion = WeightedFocal(ε=0.)\n",
    "    shape = solution.get_θ().shape\n",
    "    solution.θ = torch.ones(*shape)\n",
    "    gt_solution.θ = torch.zeros(*shape)\n",
    "    criterion_value = criterion([solution], [gt_solution])\n",
    "    assert criterion_value == 50, criterion_value\n",
    "\n",
    "\n",
    "test_that_criterion_value_is_correct_if_both_arguments_are_opposites()"
   ]
  },
  {
   "cell_type": "code",
   "execution_count": null,
   "id": "fcb45980-8aea-4083-8e48-56c0fc999570",
   "metadata": {},
   "outputs": [
    {
     "name": "stdout",
     "output_type": "stream",
     "text": [
      "CPU times: user 147 ms, sys: 27.8 ms, total: 175 ms\n",
      "Wall time: 174 ms\n"
     ]
    }
   ],
   "source": [
    "%%time\n",
    "#hide\n",
    "\n",
    "def test_backprop_in_weighted_focal():\n",
    "    design_space_mask = torch.tensor([1, 1, 1, 1, 1, 1]).view(-1,1).type(torch.bool)\n",
    "    labels = torch.tensor([1, 1, 1, 0, 0, 0]).view(-1,1).type(torch.float32)\n",
    "    input = torch.tensor([[1], [0], [.5], [1], [0], [.5]], requires_grad=True)\n",
    "\n",
    "    for γ in [0, .5, 1, 1.5, 2, 3]:\n",
    "        criterion = WeightedFocal(γ=γ, ε=1e-6)\n",
    "        loss = criterion._get_loss(input, labels, design_space_mask)\n",
    "        assert not torch.any(torch.isnan(loss))\n",
    "        for i in range(6):\n",
    "            loss = criterion._get_loss(input, labels, design_space_mask)\n",
    "            input._grad = None\n",
    "            loss[i].backward()\n",
    "            if torch.isnan(input.grad).any():\n",
    "                print(f'γ: {γ}, i: {i}')\n",
    "                print(input.grad)\n",
    "\n",
    "\n",
    "test_backprop_in_weighted_focal()"
   ]
  },
  {
   "cell_type": "code",
   "execution_count": null,
   "id": "937821d0-e0fe-46f2-92c2-feb24a12680a",
   "metadata": {},
   "outputs": [
    {
     "name": "stdout",
     "output_type": "stream",
     "text": [
      "CPU times: user 22 µs, sys: 0 ns, total: 22 µs\n",
      "Wall time: 24.3 µs\n"
     ]
    }
   ],
   "source": [
    "%%time\n",
    "#hide\n",
    "test_it_is_supervised(IoU())"
   ]
  },
  {
   "cell_type": "code",
   "execution_count": null,
   "id": "05b66912-67d3-4c4d-a5cd-08044ae2b16f",
   "metadata": {},
   "outputs": [
    {
     "name": "stdout",
     "output_type": "stream",
     "text": [
      "CPU times: user 3.39 ms, sys: 0 ns, total: 3.39 ms\n",
      "Wall time: 3.08 ms\n"
     ]
    }
   ],
   "source": [
    "%%time\n",
    "#hide\n",
    "\n",
    "def test_that_criterion_value_is_correct_if_both_arguments_are_the_same():\n",
    "    solution = get_solution(problem=\"ledge\", enforce_θ_on_Ω_design=False)\n",
    "    gt_solution = get_solution(problem=\"ledge\", enforce_θ_on_Ω_design=False)\n",
    "\n",
    "    criterion = IoU()\n",
    "    criterion_value = criterion([solution], [gt_solution])\n",
    "    assert criterion_value == (not criterion.lower_is_better), criterion_value\n",
    "\n",
    "\n",
    "test_that_criterion_value_is_correct_if_both_arguments_are_the_same()"
   ]
  },
  {
   "cell_type": "code",
   "execution_count": null,
   "id": "cc20f1c7-a613-4380-95eb-a0d6675bce6c",
   "metadata": {},
   "outputs": [
    {
     "name": "stdout",
     "output_type": "stream",
     "text": [
      "CPU times: user 2.46 ms, sys: 0 ns, total: 2.46 ms\n",
      "Wall time: 2.25 ms\n"
     ]
    }
   ],
   "source": [
    "%%time\n",
    "#hide\n",
    "\n",
    "def test_that_criterion_value_is_correct_if_both_arguments_are_opposites():\n",
    "    solution = get_solution(problem=\"ledge\", enforce_θ_on_Ω_design=False)\n",
    "    gt_solution = get_solution(problem=\"ledge\", enforce_θ_on_Ω_design=False)\n",
    "\n",
    "    criterion = IoU()\n",
    "    shape = solution.get_θ().shape\n",
    "    solution.θ = torch.ones(*shape)\n",
    "    gt_solution.θ = torch.zeros(*shape)\n",
    "    criterion_value = criterion([solution], [gt_solution])\n",
    "    assert math.isclose(criterion_value, 0, abs_tol=1e-1), criterion_value\n",
    "\n",
    "\n",
    "test_that_criterion_value_is_correct_if_both_arguments_are_opposites()"
   ]
  },
  {
   "cell_type": "code",
   "execution_count": null,
   "id": "9569b523-e994-4085-81de-b8f9b59b031e",
   "metadata": {},
   "outputs": [
    {
     "name": "stdout",
     "output_type": "stream",
     "text": [
      "CPU times: user 14 µs, sys: 9 µs, total: 23 µs\n",
      "Wall time: 25 µs\n"
     ]
    }
   ],
   "source": [
    "%%time\n",
    "#hide\n",
    "test_it_is_supervised(Dice())"
   ]
  },
  {
   "cell_type": "code",
   "execution_count": null,
   "id": "c7641cae-a746-4c18-ac0e-472f6e5e194c",
   "metadata": {},
   "outputs": [
    {
     "name": "stdout",
     "output_type": "stream",
     "text": [
      "CPU times: user 3.37 ms, sys: 0 ns, total: 3.37 ms\n",
      "Wall time: 3.05 ms\n"
     ]
    }
   ],
   "source": [
    "%%time\n",
    "#hide\n",
    "\n",
    "def test_that_criterion_value_is_correct_if_both_arguments_are_the_same():\n",
    "    solution = get_solution(problem=\"ledge\", enforce_θ_on_Ω_design=False)\n",
    "    gt_solution = get_solution(problem=\"ledge\", enforce_θ_on_Ω_design=False)\n",
    "\n",
    "    criterion = Dice()\n",
    "    criterion_value = criterion([solution], [gt_solution])\n",
    "    assert criterion_value == (not criterion.lower_is_better), criterion_value\n",
    "\n",
    "\n",
    "test_that_criterion_value_is_correct_if_both_arguments_are_the_same()"
   ]
  },
  {
   "cell_type": "code",
   "execution_count": null,
   "id": "cd057960-31fc-4f60-83e5-2b8762012f59",
   "metadata": {},
   "outputs": [
    {
     "name": "stdout",
     "output_type": "stream",
     "text": [
      "CPU times: user 2.53 ms, sys: 0 ns, total: 2.53 ms\n",
      "Wall time: 2.28 ms\n"
     ]
    }
   ],
   "source": [
    "%%time\n",
    "#hide\n",
    "\n",
    "def test_that_criterion_value_is_correct_if_both_arguments_are_opposites():\n",
    "    solution = get_solution(problem=\"ledge\", enforce_θ_on_Ω_design=False)\n",
    "    gt_solution = get_solution(problem=\"ledge\", enforce_θ_on_Ω_design=False)\n",
    "\n",
    "    criterion = Dice()\n",
    "    shape = solution.get_θ().shape\n",
    "    solution.θ = torch.ones(*shape)\n",
    "    gt_solution.θ = torch.zeros(*shape)\n",
    "    criterion_value = criterion([solution], [gt_solution])\n",
    "    assert math.isclose(criterion_value, 1, abs_tol=1e-1), criterion_value\n",
    "\n",
    "\n",
    "test_that_criterion_value_is_correct_if_both_arguments_are_opposites()"
   ]
  },
  {
   "cell_type": "code",
   "execution_count": null,
   "id": "e484b231-5d1b-4985-b4c3-07a703bd883f",
   "metadata": {},
   "outputs": [
    {
     "name": "stdout",
     "output_type": "stream",
     "text": [
      "CPU times: user 29 µs, sys: 0 ns, total: 29 µs\n",
      "Wall time: 32.2 µs\n"
     ]
    }
   ],
   "source": [
    "%%time\n",
    "#hide\n",
    "test_it_is_supervised(Tversky())"
   ]
  },
  {
   "cell_type": "code",
   "execution_count": null,
   "id": "51b45090-f68a-453b-9be0-68056107bfc1",
   "metadata": {},
   "outputs": [
    {
     "name": "stdout",
     "output_type": "stream",
     "text": [
      "CPU times: user 3.03 ms, sys: 0 ns, total: 3.03 ms\n",
      "Wall time: 2.74 ms\n"
     ]
    }
   ],
   "source": [
    "%%time\n",
    "#hide\n",
    "\n",
    "def test_that_criterion_value_is_correct_if_both_arguments_are_the_same():\n",
    "    solution = get_solution(problem=\"ledge\", enforce_θ_on_Ω_design=False)\n",
    "    gt_solution = get_solution(problem=\"ledge\", enforce_θ_on_Ω_design=False)\n",
    "\n",
    "    criterion = Tversky()\n",
    "    criterion_value = criterion([solution], [gt_solution])\n",
    "    assert criterion_value == (not criterion.lower_is_better), criterion_value\n",
    "\n",
    "\n",
    "test_that_criterion_value_is_correct_if_both_arguments_are_the_same()"
   ]
  },
  {
   "cell_type": "code",
   "execution_count": null,
   "id": "082663b7-62af-4899-aee3-cc23e2834aa3",
   "metadata": {},
   "outputs": [
    {
     "name": "stdout",
     "output_type": "stream",
     "text": [
      "CPU times: user 3.1 ms, sys: 0 ns, total: 3.1 ms\n",
      "Wall time: 2.8 ms\n"
     ]
    }
   ],
   "source": [
    "%%time\n",
    "#hide\n",
    "\n",
    "def test_that_criterion_value_is_correct_if_both_arguments_are_opposites():\n",
    "    solution = get_solution(problem=\"ledge\", enforce_θ_on_Ω_design=False)\n",
    "    gt_solution = get_solution(problem=\"ledge\", enforce_θ_on_Ω_design=False)\n",
    "\n",
    "    criterion = Tversky()\n",
    "    shape = solution.get_θ().shape\n",
    "    solution.θ = torch.ones(*shape)\n",
    "    gt_solution.θ = torch.zeros(*shape)\n",
    "    criterion_value = criterion([solution], [gt_solution])\n",
    "    assert math.isclose(criterion_value, 1, abs_tol=1e-1), criterion_value\n",
    "\n",
    "\n",
    "test_that_criterion_value_is_correct_if_both_arguments_are_opposites()"
   ]
  },
  {
   "cell_type": "code",
   "execution_count": null,
   "id": "4b0a40fc-f26b-4dd9-8bbf-c974d1e611b2",
   "metadata": {},
   "outputs": [
    {
     "name": "stdout",
     "output_type": "stream",
     "text": [
      "CPU times: user 19 µs, sys: 13 µs, total: 32 µs\n",
      "Wall time: 35 µs\n"
     ]
    }
   ],
   "source": [
    "%%time\n",
    "#hide\n",
    "test_it_is_supervised(FocalTversky())"
   ]
  },
  {
   "cell_type": "code",
   "execution_count": null,
   "id": "c6d6e440-c0f2-4bdc-a0a5-70d2710d7fd1",
   "metadata": {},
   "outputs": [
    {
     "name": "stdout",
     "output_type": "stream",
     "text": [
      "CPU times: user 1.87 ms, sys: 1.2 ms, total: 3.08 ms\n",
      "Wall time: 2.79 ms\n"
     ]
    }
   ],
   "source": [
    "%%time\n",
    "#hide\n",
    "\n",
    "def test_that_criterion_value_is_correct_if_both_arguments_are_the_same():\n",
    "    solution = get_solution(problem=\"ledge\", enforce_θ_on_Ω_design=False)\n",
    "    gt_solution = get_solution(problem=\"ledge\", enforce_θ_on_Ω_design=False)\n",
    "\n",
    "    criterion = FocalTversky()\n",
    "    criterion_value = criterion([solution], [gt_solution])\n",
    "    assert criterion_value == (not criterion.lower_is_better), criterion_value\n",
    "\n",
    "\n",
    "test_that_criterion_value_is_correct_if_both_arguments_are_the_same()"
   ]
  },
  {
   "cell_type": "code",
   "execution_count": null,
   "id": "91b6d0bb-8bf1-433b-9c39-3d8451e2c8e4",
   "metadata": {},
   "outputs": [
    {
     "name": "stdout",
     "output_type": "stream",
     "text": [
      "CPU times: user 2.45 ms, sys: 163 µs, total: 2.61 ms\n",
      "Wall time: 2.37 ms\n"
     ]
    }
   ],
   "source": [
    "%%time\n",
    "#hide\n",
    "\n",
    "def test_that_criterion_value_is_correct_if_both_arguments_are_opposites():\n",
    "    solution = get_solution(problem=\"ledge\", enforce_θ_on_Ω_design=False)\n",
    "    gt_solution = get_solution(problem=\"ledge\", enforce_θ_on_Ω_design=False)\n",
    "\n",
    "    criterion = FocalTversky()\n",
    "    shape = solution.get_θ().shape\n",
    "    solution.θ = torch.ones(*shape)\n",
    "    gt_solution.θ = torch.zeros(*shape)\n",
    "    criterion_value = criterion([solution], [gt_solution])\n",
    "    assert math.isclose(criterion_value, 1, abs_tol=1e-1), criterion_value\n",
    "\n",
    "\n",
    "test_that_criterion_value_is_correct_if_both_arguments_are_opposites()"
   ]
  },
  {
   "cell_type": "code",
   "execution_count": null,
   "id": "443596f1-faf6-44da-8ad3-e135dc9bad0f",
   "metadata": {},
   "outputs": [
    {
     "name": "stdout",
     "output_type": "stream",
     "text": [
      "CPU times: user 16 µs, sys: 0 ns, total: 16 µs\n",
      "Wall time: 18.6 µs\n"
     ]
    }
   ],
   "source": [
    "%%time\n",
    "#hide\n",
    "test_it_is_supervised(VoxelAccuracy())"
   ]
  },
  {
   "cell_type": "code",
   "execution_count": null,
   "id": "99a8a941-4221-460f-ad36-ccb5125e131a",
   "metadata": {},
   "outputs": [
    {
     "name": "stdout",
     "output_type": "stream",
     "text": [
      "CPU times: user 3.55 ms, sys: 0 ns, total: 3.55 ms\n",
      "Wall time: 3.17 ms\n"
     ]
    }
   ],
   "source": [
    "%%time\n",
    "#hide\n",
    "\n",
    "def test_that_criterion_value_is_correct_if_both_arguments_are_the_same():\n",
    "    solution = get_solution(problem=\"ledge\")\n",
    "    gt_solution = get_solution(problem=\"ledge\")\n",
    "\n",
    "    criterion = VoxelAccuracy()\n",
    "\n",
    "    criterion_value = criterion([solution, solution], [gt_solution, gt_solution])\n",
    "    assert torch.allclose(criterion_value, torch.ones(2)), criterion_value\n",
    "\n",
    "\n",
    "test_that_criterion_value_is_correct_if_both_arguments_are_the_same()"
   ]
  },
  {
   "cell_type": "code",
   "execution_count": null,
   "id": "aa16f460-f18e-4882-8ef8-0f566fa61975",
   "metadata": {},
   "outputs": [
    {
     "name": "stdout",
     "output_type": "stream",
     "text": [
      "CPU times: user 2.66 ms, sys: 0 ns, total: 2.66 ms\n",
      "Wall time: 2.45 ms\n"
     ]
    }
   ],
   "source": [
    "%%time\n",
    "#hide\n",
    "\n",
    "def test_that_criterion_value_is_correct_if_both_arguments_are_opposites():\n",
    "    solution = get_solution(problem=\"ledge\", enforce_θ_on_Ω_design=False)\n",
    "    gt_solution = get_solution(problem=\"ledge\", enforce_θ_on_Ω_design=False)\n",
    "\n",
    "    criterion = VoxelAccuracy()\n",
    "\n",
    "    solution.θ = torch.ones_like(solution.get_θ())\n",
    "    gt_solution.θ = torch.zeros_like(solution.get_θ())\n",
    "\n",
    "    criterion_value = criterion([solution, solution], [gt_solution, gt_solution])\n",
    "    assert torch.allclose(criterion_value, torch.zeros(2)), criterion_value\n",
    "\n",
    "\n",
    "test_that_criterion_value_is_correct_if_both_arguments_are_opposites()"
   ]
  }
 ],
 "metadata": {
  "kernelspec": {
   "display_name": "Python 3 (ipykernel)",
   "language": "python",
   "name": "python3"
  }
 },
 "nbformat": 4,
 "nbformat_minor": 5
}
