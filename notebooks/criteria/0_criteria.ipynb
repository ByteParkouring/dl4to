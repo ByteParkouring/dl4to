{
 "cells": [
  {
   "cell_type": "code",
   "execution_count": null,
   "id": "daefce98",
   "metadata": {},
   "outputs": [],
   "source": [
    "#default_exp criteria"
   ]
  },
  {
   "cell_type": "markdown",
   "id": "8e440d4d-c81a-4193-80ba-0d0abba8a882",
   "metadata": {},
   "source": [
    "# Criteria"
   ]
  },
  {
   "cell_type": "code",
   "execution_count": null,
   "id": "4da63b0a",
   "metadata": {},
   "outputs": [],
   "source": [
    "#export\n",
    "import torch"
   ]
  },
  {
   "cell_type": "code",
   "execution_count": null,
   "id": "12417865-c8bc-4945-a10c-436ae298af77",
   "metadata": {},
   "outputs": [],
   "source": [
    "#hide\n",
    "from nbdev.showdoc import show_doc"
   ]
  },
  {
   "cell_type": "code",
   "execution_count": null,
   "id": "4de93104-99b4-4cd2-bd6f-e4ad5a84a3af",
   "metadata": {},
   "outputs": [],
   "source": [
    "#export\n",
    "class Criterion():\n",
    "    \"\"\"\n",
    "    A parent class that inherits all criteria for both classical and learned methods. Criteria can be used as objective or loss functions, as well as evaluation metrics.\n",
    "    \"\"\"\n",
    "    def __init__(\n",
    "        self,\n",
    "        name:str, # The name of this criterion which will be monitored in logging.\n",
    "        supervised:bool, # Whether the criterion is supervised or not.\n",
    "        differentiable:bool=True, # Whether the criterion is differentiable or not. Only differentiable criteria can be used as loss/objective functions.\n",
    "        lower_is_better:bool=True, # Whether lower values of the criterion correspond to better scores.\n",
    "        compute_only_on_design_space:bool=True # Whether the criterion should be evaluated on voxels that have a design space information of -1, i.e., the voxels can be freely optimized. This parameter does not effect all criteria.\n",
    "    ):\n",
    "        self._name = name\n",
    "        self._supervised = supervised\n",
    "        self._differentiable = differentiable\n",
    "        self._lower_is_better = lower_is_better\n",
    "        self.compute_only_on_design_space = compute_only_on_design_space\n",
    "\n",
    "\n",
    "    @property\n",
    "    def name(self):\n",
    "        return self._name\n",
    "\n",
    "\n",
    "    @property\n",
    "    def supervised(self):\n",
    "        return self._supervised\n",
    "\n",
    "\n",
    "    @property\n",
    "    def differentiable(self):\n",
    "        return self._differentiable\n",
    "\n",
    "\n",
    "    @property\n",
    "    def lower_is_better(self):\n",
    "        return self._lower_is_better\n",
    "\n",
    "\n",
    "    def get_θ_flat(self,\n",
    "                   solutions:list, # A list of solutions from which the densities are extracted and flattened into one output tensor.\n",
    "                   binary:bool=False # Whether the densities should be binarized.\n",
    "                  ):\n",
    "        \"\"\"\n",
    "        Returns a flattened density distribution tensor from the passed solutions. \n",
    "        \"\"\"\n",
    "        θ = torch.stack([solution.get_θ(binary=binary).flatten() for solution in solutions])\n",
    "        θ.clamp_(0,1)\n",
    "        return θ\n",
    "\n",
    "\n",
    "    def get_design_space_mask(self,\n",
    "                              solutions:list # A list of solutions from which the design space mask is extracted and combined into a single output tensor.\n",
    "                             ):\n",
    "        \"\"\"\n",
    "        Returns a flattened design space mask from the passed solutions. If `compute_only_on_design_space=False`, then a ones-vector is returned.\n",
    "        \"\"\"\n",
    "        device = solutions[0].get_θ().device\n",
    "        if self.compute_only_on_design_space:\n",
    "            return torch.stack([solution.problem.Ω_design.flatten() == -1 for solution in solutions]).to(device)\n",
    "        else:\n",
    "            shape_flat = torch.numel(solutions[0].get_θ())\n",
    "            return torch.ones(len(solutions), shape_flat, dtype=torch.bool).to(device)\n",
    "\n",
    "\n",
    "    def __call__(self,\n",
    "                 solutions:list, # The solutions that should be evaluated with the criterion.\n",
    "                 gt_solutions:list=None, # Ground truth solutions that are compared element-wise with the `solutions`. Only used if `Criterion.supervised=True`.\n",
    "                 binary:bool=False # Whether the criterion should be evaluated on binarized densities. Does not have an effect on some criteria.\n",
    "                  ):\n",
    "        \"\"\"\n",
    "        Calculates the output of the criterion for all solutions. The gt_solutions are only used if `self.criterion.supervised=True`.\n",
    "        \"\"\"\n",
    "        raise NotImplementedError(\"Must be overridden.\")\n",
    "\n",
    "\n",
    "    def __add__(self, \n",
    "                criterion:\"dl4to.criteria.Criterion\" # A second criterion that should be combined with the current one.\n",
    "               ):\n",
    "        \"\"\"\n",
    "        The summation of two criteria results in a new combined criterion. Returns a `dl4to.criteria.CombinedCriterion` object.\n",
    "        \"\"\"\n",
    "        combined_criterion = CombinedCriterion(self, criterion)\n",
    "        return combined_criterion\n",
    "\n",
    "\n",
    "    def __rmul__(self, \n",
    "                 λ:float # The multiplier which the criterion is weighted with.\n",
    "                ):\n",
    "        \"\"\"\n",
    "        The multiplication of a criterion with a scalar results in a weighted criterion. Returns a `dl4to.criteria.WeightedCriterion` object.\n",
    "        \"\"\"\n",
    "        return WeightedCriterion(self, λ)\n",
    "\n",
    "\n",
    "    def __mul__(self, \n",
    "                 λ:float # The multiplier which the criterion is weighted with.\n",
    "                ):\n",
    "        \"\"\"\n",
    "        The multiplication of a criterion with a scalar results in a weighted criterion. Returns a `dl4to.criteria.WeightedCriterion` object.\n",
    "        \"\"\"\n",
    "        return self.__rmul__(λ)"
   ]
  },
  {
   "cell_type": "code",
   "execution_count": null,
   "id": "c0a66e31-13e1-4ef2-90c1-d1c54210a970",
   "metadata": {},
   "outputs": [
    {
     "data": {
      "text/markdown": [
       "<h4 id=\"Criterion.get_θ_flat\" class=\"doc_header\"><code>Criterion.get_θ_flat</code><a href=\"__main__.py#L41\" class=\"source_link\" style=\"float:right\">[source]</a></h4>\n",
       "\n",
       "> <code>Criterion.get_θ_flat</code>(**`solutions`**:`list`, **`binary`**:`bool`=*`False`*)\n",
       "\n",
       "Returns a flattened density distribution tensor from the passed solutions. \n",
       "\n",
       "||Type|Default|Details|\n",
       "|---|---|---|---|\n",
       "|**`solutions`**|`list`||A list of solutions from which the densities are extracted and flattened into one output tensor.|\n",
       "|**`binary`**|`bool`|`False`|Whether the densities should be binarized.|\n"
      ],
      "text/plain": [
       "<IPython.core.display.Markdown object>"
      ]
     },
     "metadata": {},
     "output_type": "display_data"
    }
   ],
   "source": [
    "show_doc(Criterion.get_θ_flat)"
   ]
  },
  {
   "cell_type": "code",
   "execution_count": null,
   "id": "1e653223-d6ab-4cec-904e-a4aeebd01b78",
   "metadata": {},
   "outputs": [
    {
     "data": {
      "text/markdown": [
       "<h4 id=\"Criterion.get_design_space_mask\" class=\"doc_header\"><code>Criterion.get_design_space_mask</code><a href=\"__main__.py#L53\" class=\"source_link\" style=\"float:right\">[source]</a></h4>\n",
       "\n",
       "> <code>Criterion.get_design_space_mask</code>(**`solutions`**:`list`)\n",
       "\n",
       "Returns a flattened design space mask from the passed solutions. If `compute_only_on_design_space=False`, then a ones-vector is returned.\n",
       "\n",
       "||Type|Default|Details|\n",
       "|---|---|---|---|\n",
       "|**`solutions`**|`list`||A list of solutions from which the design space mask is extracted and combined into a single output tensor.|\n"
      ],
      "text/plain": [
       "<IPython.core.display.Markdown object>"
      ]
     },
     "metadata": {},
     "output_type": "display_data"
    }
   ],
   "source": [
    "show_doc(Criterion.get_design_space_mask)"
   ]
  },
  {
   "cell_type": "code",
   "execution_count": null,
   "id": "837bd815-8261-4969-b1a2-69f0af91dd26",
   "metadata": {},
   "outputs": [
    {
     "data": {
      "text/markdown": [
       "<h4 id=\"Criterion.__call__\" class=\"doc_header\"><code>Criterion.__call__</code><a href=\"__main__.py#L67\" class=\"source_link\" style=\"float:right\">[source]</a></h4>\n",
       "\n",
       "> <code>Criterion.__call__</code>(**`solutions`**:`list`, **`gt_solutions`**:`list`=*`None`*, **`binary`**:`bool`=*`False`*)\n",
       "\n",
       "Calculates the output of the criterion for all solutions. The gt_solutions are only used if `self.criterion.supervised=True`.\n",
       "\n",
       "||Type|Default|Details|\n",
       "|---|---|---|---|\n",
       "|**`solutions`**|`list`||The solutions that should be evaluated with the criterion.|\n",
       "|**`gt_solutions`**|`list`|`None`|Ground truth solutions that are compared element-wise with the `solutions`. Only used if [`Criterion.supervised=True`](/dl4tocriteria.html#Criterion.supervised=True).|\n",
       "|**`binary`**|`bool`|`False`|Whether the criterion should be evaluated on binarized densities. Does not have an effect on some criteria.|\n"
      ],
      "text/plain": [
       "<IPython.core.display.Markdown object>"
      ]
     },
     "metadata": {},
     "output_type": "display_data"
    }
   ],
   "source": [
    "show_doc(Criterion.__call__)"
   ]
  },
  {
   "cell_type": "code",
   "execution_count": null,
   "id": "1170a797-3db3-411e-b69c-db71838bcf65",
   "metadata": {},
   "outputs": [
    {
     "data": {
      "text/markdown": [
       "<h4 id=\"Criterion.__add__\" class=\"doc_header\"><code>Criterion.__add__</code><a href=\"__main__.py#L78\" class=\"source_link\" style=\"float:right\">[source]</a></h4>\n",
       "\n",
       "> <code>Criterion.__add__</code>(**`criterion`**:`dl4to.criteria.Criterion`)\n",
       "\n",
       "The summation of two criteria results in a new combined criterion. Returns a `dl4to.criteria.CombinedCriterion` object.\n",
       "\n",
       "||Type|Default|Details|\n",
       "|---|---|---|---|\n",
       "|**`criterion`**|`dl4to.criteria.Criterion`||A second criterion that should be combined with the current one.|\n"
      ],
      "text/plain": [
       "<IPython.core.display.Markdown object>"
      ]
     },
     "metadata": {},
     "output_type": "display_data"
    }
   ],
   "source": [
    "show_doc(Criterion.__add__)"
   ]
  },
  {
   "cell_type": "code",
   "execution_count": null,
   "id": "63c07f17-b15b-4adb-bd2a-cc2e9ce58209",
   "metadata": {},
   "outputs": [
    {
     "data": {
      "text/markdown": [
       "<h4 id=\"Criterion.__mul__\" class=\"doc_header\"><code>Criterion.__mul__</code><a href=\"__main__.py#L97\" class=\"source_link\" style=\"float:right\">[source]</a></h4>\n",
       "\n",
       "> <code>Criterion.__mul__</code>(**`λ`**:`float`)\n",
       "\n",
       "The multiplication of a criterion with a scalar results in a weighted criterion. Returns a `dl4to.criteria.WeightedCriterion` object.\n",
       "\n",
       "||Type|Default|Details|\n",
       "|---|---|---|---|\n",
       "|**`λ`**|`float`||The multiplier which the criterion is weighted with.|\n"
      ],
      "text/plain": [
       "<IPython.core.display.Markdown object>"
      ]
     },
     "metadata": {},
     "output_type": "display_data"
    }
   ],
   "source": [
    "show_doc(Criterion.__mul__)"
   ]
  },
  {
   "cell_type": "code",
   "execution_count": null,
   "id": "2c0c5c67-e596-4732-8d18-033c6ab709ed",
   "metadata": {},
   "outputs": [],
   "source": [
    "#export\n",
    "class WeightedCriterion(Criterion):\n",
    "    \"\"\"\n",
    "    A class that represents a criterion that has a weight factor in front of it. This is especially useful for constrained optimization or regularization.\n",
    "    Note that the unweighted criterion can be accessed via `self.criterion`.\n",
    "    \"\"\"\n",
    "    def __init__(self, \n",
    "                 criterion:\"dl4to.criteria.Criterion\", # The criterion object that is being weighted.\n",
    "                 λ:float # The weighting factor for the criterion.\n",
    "                ):\n",
    "        self.criterion = criterion\n",
    "        self.λ = λ\n",
    "        lower_is_better = (not self.criterion.lower_is_better) if self.λ < 0 else (self.criterion.lower_is_better)\n",
    "\n",
    "        super().__init__(\n",
    "            name=f'{self.λ}_{self.criterion.name}',\n",
    "            supervised=self.criterion.supervised,\n",
    "            differentiable=self.criterion.differentiable,\n",
    "            lower_is_better=lower_is_better,\n",
    "            compute_only_on_design_space=self.criterion.compute_only_on_design_space\n",
    "        )\n",
    "\n",
    "\n",
    "    def __call__(self,\n",
    "                 solutions:list, # The solutions that should be evaluated with the criterion.\n",
    "                 gt_solutions:list=None, # Ground truth solutions that are compared element-wise with the `solutions`. Only used if `Criterion.supervised=True`.\n",
    "                 binary:bool=False # Whether the criterion should be evaluated on binarized densities. Does not have an effect on some criteria.\n",
    "                  ):\n",
    "        \"\"\"\n",
    "        Calculates the output of the criterion for all solutions. The gt_solutions are only used if `self.criterion.supervised=True`.\n",
    "        \"\"\"\n",
    "        return self.λ * self.criterion(solutions, gt_solutions, binary)"
   ]
  },
  {
   "cell_type": "code",
   "execution_count": null,
   "id": "0c9f632d-7e55-43b9-9161-a22963c7e4e8",
   "metadata": {},
   "outputs": [],
   "source": [
    "#export\n",
    "class CombinedCriterion(Criterion):\n",
    "    \"\"\"\n",
    "    A class that represents the combination of two criteria by a plus sign \"+\" between them. Both individual criteria can be accessed via `self.criterion1` and `self.criterion2`.\n",
    "    \"\"\"\n",
    "    def __init__(self, \n",
    "                 criterion1:\"dl4to.criteria.Criterion\", # The first criterion of the summation.\n",
    "                 criterion2:\"dl4to.criteria.Criterion\" # The second criterion of the summation.\n",
    "                ):\n",
    "        self.criterion1 = criterion1\n",
    "        self.criterion2 = criterion2\n",
    "        name = f\"{self.criterion1.name}_plus_{self.criterion2.name}\"\n",
    "        supervised=self.criterion1.supervised or self.criterion2.supervised\n",
    "        differentiable = self.criterion1.differentiable and self.criterion2.differentiable\n",
    "        if self.criterion1.lower_is_better != self.criterion2.lower_is_better:\n",
    "            raise AttributeError(\"Cannot combine two criteria with different values in `lower_is_better`.\")\n",
    "        lower_is_better = self.criterion1.lower_is_better\n",
    "        compute_only_on_design_space = self.criterion1.compute_only_on_design_space and self.criterion2.compute_only_on_design_space\n",
    "        super().__init__(\n",
    "            name=name,\n",
    "            supervised=supervised,\n",
    "            differentiable=differentiable,\n",
    "            lower_is_better=lower_is_better,\n",
    "            compute_only_on_design_space=compute_only_on_design_space\n",
    "        )\n",
    "\n",
    "\n",
    "    def __call__(self,\n",
    "                 solutions:list, # The solutions that should be evaluated with the criterion.\n",
    "                 gt_solutions:list=None, # Ground truth solutions that are compared element-wise with the `solutions`. Only used if `Criterion.supervised=True`.\n",
    "                 binary:bool=False # Whether the criterion should be evaluated on binarized densities. Does not have an effect on some criteria.\n",
    "                  ):\n",
    "        \"\"\"\n",
    "        Calculates the output of the criterion for all solutions. The gt_solutions are only used if `self.criterion.supervised=True`.\n",
    "        \"\"\"\n",
    "        criterion1_vals = self.criterion1(solutions, gt_solutions, binary)\n",
    "        criterion2_vals = self.criterion2(solutions, gt_solutions, binary)\n",
    "        if criterion1_vals.device != criterion2_vals.device:\n",
    "            if criterion1_vals.device == torch.device('cpu'):\n",
    "                criterion1_vals = criterion1_vals.to(criterion2_vals.device)\n",
    "            if criterion2_vals.device == torch.device('cpu'):\n",
    "                criterion2_vals = criterion2_vals.to(criterion1_vals.device)\n",
    "        return criterion1_vals + criterion2_vals"
   ]
  }
 ],
 "metadata": {
  "kernelspec": {
   "display_name": "Python 3 (ipykernel)",
   "language": "python",
   "name": "python3"
  }
 },
 "nbformat": 4,
 "nbformat_minor": 5
}
