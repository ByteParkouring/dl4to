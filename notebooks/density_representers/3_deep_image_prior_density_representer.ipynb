{
 "cells": [
  {
   "cell_type": "code",
   "execution_count": null,
   "id": "67866f5d",
   "metadata": {},
   "outputs": [],
   "source": [
    "#default_exp density_representers"
   ]
  },
  {
   "cell_type": "code",
   "execution_count": null,
   "id": "815645a3",
   "metadata": {},
   "outputs": [],
   "source": [
    "#exporti\n",
    "import torch\n",
    "\n",
    "from dl4to.models import DeepImagePrior\n",
    "from dl4to.density_representers import DensityRepresenter"
   ]
  },
  {
   "cell_type": "markdown",
   "id": "084b6730-0564-4bfa-81e5-622860222bfd",
   "metadata": {},
   "source": [
    "# DIP density representer"
   ]
  },
  {
   "cell_type": "code",
   "execution_count": null,
   "id": "db3de3ea",
   "metadata": {},
   "outputs": [],
   "source": [
    "#export\n",
    "class DeepImagePriorDensityRepresenter(DensityRepresenter):\n",
    "    \"\"\"\n",
    "    A density representer that contains a DIP module and performs a forward pass with a noise input when being called. The idea is adapted from [1].\n",
    "    \"\"\"\n",
    "    def __init__(self, \n",
    "                 problem:\"dl4to.problem.Problem\"=None, # The problem object for which the density representer is used. The problem object is necessary to grant that boundary and design space constraints are fulfilled. However, the problem does not need to be passed during initializiaton but can also be passed later by overriding `density_representer.problem`.\n",
    "                 binarizer_strength:float=1. # The steepness of the smoothed Heaviside-function. A binarizer strength of infinity would corresponds to a non-smooth classical Heaviside step function.\n",
    "                ):\n",
    "        super().__init__(\n",
    "            problem=problem,\n",
    "            binarizer_strength=binarizer_strength\n",
    "        )\n",
    "\n",
    "\n",
    "    def _setup_for_problem(self):\n",
    "        self.dip = DeepImagePrior(self.problem.shape)\n",
    "\n",
    "\n",
    "    def _apply_density_representer(self):\n",
    "        return self.dip()"
   ]
  },
  {
   "cell_type": "markdown",
   "id": "42667e30-3a8f-4463-9746-a20d094cff87",
   "metadata": {},
   "source": [
    "# References"
   ]
  },
  {
   "cell_type": "markdown",
   "id": "d0514465-e1b9-4fc6-b93b-e88ac37591da",
   "metadata": {},
   "source": [
    "[1] Hoyer, Stephan, Jascha Sohl-Dickstein, and Sam Greydanus. \"Neural reparameterization improves structural optimization.\" arXiv preprint arXiv:1909.04240 (2019)."
   ]
  },
  {
   "cell_type": "code",
   "execution_count": null,
   "id": "2704c099",
   "metadata": {},
   "outputs": [],
   "source": [
    "#hide\n",
    "from dl4to.datasets import BasicDataset"
   ]
  },
  {
   "cell_type": "code",
   "execution_count": null,
   "id": "bc33fda9",
   "metadata": {},
   "outputs": [
    {
     "name": "stdout",
     "output_type": "stream",
     "text": [
      "CPU times: user 3.21 s, sys: 4.03 ms, total: 3.21 s\n",
      "Wall time: 416 ms\n"
     ]
    }
   ],
   "source": [
    "%%time\n",
    "#hide\n",
    "\n",
    "def test_shapes_and_properties():\n",
    "    problem = BasicDataset().ledge()\n",
    "    representer = DeepImagePriorDensityRepresenter(problem)\n",
    "\n",
    "    representer.binarizer_strength = 1.\n",
    "    θ1 = representer()\n",
    "\n",
    "    assert θ1.shape == (1, *problem.shape)\n",
    "\n",
    "    representer.binarizer_strength = 2.\n",
    "    θ2 = representer()\n",
    "\n",
    "    assert not torch.all(θ1 == θ2)\n",
    "    assert torch.all(θ2[θ1 < .5] <= θ1[θ1 < .5])\n",
    "    assert torch.all(θ2[θ1 > .5] >= θ1[θ1 > .5])\n",
    "\n",
    "    assert torch.all(0 <= θ1)\n",
    "    assert torch.all(θ1 <= 1)\n",
    "\n",
    "    assert torch.all(0 <= θ2)\n",
    "    assert torch.all(θ2 <= 1)\n",
    "\n",
    "\n",
    "test_shapes_and_properties()"
   ]
  }
 ],
 "metadata": {
  "kernelspec": {
   "display_name": "Python 3 (ipykernel)",
   "language": "python",
   "name": "python3"
  }
 },
 "nbformat": 4,
 "nbformat_minor": 5
}
