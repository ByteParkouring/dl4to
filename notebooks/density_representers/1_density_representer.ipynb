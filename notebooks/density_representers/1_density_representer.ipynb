{
 "cells": [
  {
   "cell_type": "code",
   "execution_count": null,
   "id": "6d130fbb",
   "metadata": {},
   "outputs": [],
   "source": [
    "#default_exp density_representers"
   ]
  },
  {
   "cell_type": "code",
   "execution_count": null,
   "id": "ff0112e9",
   "metadata": {},
   "outputs": [],
   "source": [
    "#exporti\n",
    "import math\n",
    "import torch"
   ]
  },
  {
   "cell_type": "code",
   "execution_count": null,
   "id": "776d99c0-56b5-412c-95c5-95779abcf67c",
   "metadata": {},
   "outputs": [],
   "source": [
    "#hide\n",
    "from nbdev.showdoc import show_doc"
   ]
  },
  {
   "cell_type": "markdown",
   "id": "267d23d5-572b-434f-9d95-52ea87a967dc",
   "metadata": {},
   "source": [
    "# Density representer"
   ]
  },
  {
   "cell_type": "code",
   "execution_count": null,
   "id": "ce5da891",
   "metadata": {},
   "outputs": [],
   "source": [
    "#export\n",
    "class DensityRepresenter(torch.nn.Module):\n",
    "    \"\"\"\n",
    "    A parent class that inherits different density representers. A density representer has a latent density distribution that is for instance used in the optimization steps of SIMP.\n",
    "    Additionally, it can be employed for neural reparamterization. Additionally, the density representer has an in-built binarizer, that can be interpreted as a smoothed Heaviside function.\n",
    "    The binarizer returns densities that have values closer to 0 and 1.\n",
    "    \"\"\"\n",
    "    def __init__(self, \n",
    "                 problem:\"dl4to.problem.Problem\"=None, # The problem object for which the density representer is used. The problem object is necessary to grant that boundary and design space constraints are fulfilled. However, the problem does not need to be passed during initializiaton but can also be passed later by overriding `density_representer.problem`.\n",
    "                 binarizer_strength:float=1. # The steepness of the smoothed Heaviside-function. A binarizer strength of infinity would corresponds to a non-smooth classical Heaviside step function.\n",
    "                ):\n",
    "        super().__init__()\n",
    "        self.binarizer_strength = binarizer_strength\n",
    "        self.binarizer_strength_init = binarizer_strength\n",
    "        self.problem = problem\n",
    "\n",
    "\n",
    "    def _setup_for_problem(self):\n",
    "        pass\n",
    "\n",
    "\n",
    "    @property\n",
    "    def problem(self):\n",
    "        return self._problem\n",
    "\n",
    "\n",
    "    @problem.setter\n",
    "    def problem(self, problem):\n",
    "        self._problem = problem\n",
    "        if self.problem is not None:\n",
    "            self._setup_for_problem()\n",
    "            self.reset_binarizer()\n",
    "\n",
    "\n",
    "    def _apply_density_representer(self):\n",
    "        raise NotImplementedError(\"Must be overridden.\")\n",
    "\n",
    "\n",
    "    def _apply_binarizer(self, θ):\n",
    "        η = .5\n",
    "        β = self.binarizer_strength\n",
    "        numerator = math.tanh(β * η) + torch.tanh(β * (θ - η))\n",
    "        divisor   = math.tanh(β * η) +  math.tanh(β * (1 - η))\n",
    "        return numerator / divisor\n",
    "\n",
    "\n",
    "    def steepen_binarizer(self, \n",
    "                          binarizer_steepening_factor:float=1.1 # The factor by which to change the current binarizer strength. A value of 1. means that the binarizer does not change.\n",
    "                         ):\n",
    "        \"\"\"\n",
    "        Increases the binarizer strength by a factor.\n",
    "        \"\"\"\n",
    "        self.binarizer_strength *= binarizer_steepening_factor\n",
    "\n",
    "\n",
    "    def reset_binarizer(self):\n",
    "        \"\"\"\n",
    "        Resets the binarizer strength to its initial value.\n",
    "        \"\"\"\n",
    "        self.binarizer_strength = self.binarizer_strength_init\n",
    "\n",
    "\n",
    "    def __call__(self):\n",
    "        \"\"\"\n",
    "        Applies the density representer to the latent density representation, followed by the binarizer step and a projection step. \n",
    "        The projection step makes sure that the problem conditions are fulfilled and that the density has no values outside of the unit interval.\n",
    "        Returns a flattened `torch.Tensor` containing the density distribution.\n",
    "        \"\"\"\n",
    "        θ = self._apply_density_representer()\n",
    "        if not (torch.all(0 <= θ) and torch.all(θ <= 1)):\n",
    "            raise ValueError(\"The function DensityRepresenter_density_representer is only allowed to produce values in [0, 1].\")\n",
    "\n",
    "        θ = self._apply_binarizer(θ)\n",
    "        θ[self.problem.Ω_design == 0] = 0.\n",
    "        θ[self.problem.Ω_design == 1] = 1.\n",
    "\n",
    "        return θ.clamp(0, 1)"
   ]
  },
  {
   "cell_type": "code",
   "execution_count": null,
   "id": "3f5fb6a4-50bf-475d-973a-eb01f2b78295",
   "metadata": {},
   "outputs": [
    {
     "data": {
      "text/markdown": [
       "<h4 id=\"DensityRepresenter.steepen_binarizer\" class=\"doc_header\"><code>DensityRepresenter.steepen_binarizer</code><a href=\"__main__.py#L47\" class=\"source_link\" style=\"float:right\">[source]</a></h4>\n",
       "\n",
       "> <code>DensityRepresenter.steepen_binarizer</code>(**`binarizer_steepening_factor`**:`float`=*`1.1`*)\n",
       "\n",
       "Increases the binarizer strength by a factor.\n",
       "\n",
       "||Type|Default|Details|\n",
       "|---|---|---|---|\n",
       "|**`binarizer_steepening_factor`**|`float`|`1.1`|The factor by which to change the current binarizer strength. A value of 1. means that the binarizer does not change.|\n"
      ],
      "text/plain": [
       "<IPython.core.display.Markdown object>"
      ]
     },
     "metadata": {},
     "output_type": "display_data"
    }
   ],
   "source": [
    "show_doc(DensityRepresenter.steepen_binarizer)"
   ]
  },
  {
   "cell_type": "code",
   "execution_count": null,
   "id": "e8c222f8-b9e3-48c4-9631-6ddcc28172c8",
   "metadata": {},
   "outputs": [
    {
     "data": {
      "text/markdown": [
       "<h4 id=\"DensityRepresenter.reset_binarizer\" class=\"doc_header\"><code>DensityRepresenter.reset_binarizer</code><a href=\"__main__.py#L56\" class=\"source_link\" style=\"float:right\">[source]</a></h4>\n",
       "\n",
       "> <code>DensityRepresenter.reset_binarizer</code>()\n",
       "\n",
       "Resets the binarizer strength to its initial value."
      ],
      "text/plain": [
       "<IPython.core.display.Markdown object>"
      ]
     },
     "metadata": {},
     "output_type": "display_data"
    }
   ],
   "source": [
    "show_doc(DensityRepresenter.reset_binarizer)"
   ]
  },
  {
   "cell_type": "code",
   "execution_count": null,
   "id": "51988236-0eb0-4a5f-a729-72516bf11556",
   "metadata": {},
   "outputs": [
    {
     "data": {
      "text/markdown": [
       "<h4 id=\"DensityRepresenter.__call__\" class=\"doc_header\"><code>DensityRepresenter.__call__</code><a href=\"__main__.py#L63\" class=\"source_link\" style=\"float:right\">[source]</a></h4>\n",
       "\n",
       "> <code>DensityRepresenter.__call__</code>()\n",
       "\n",
       "Applies the density representer to the latent density representation, followed by the binarizer step and a projection step. \n",
       "The projection step makes sure that the problem conditions are fulfilled and that the density has no values outside of the unit interval.\n",
       "Returns a flattened `torch.Tensor` containing the density distribution."
      ],
      "text/plain": [
       "<IPython.core.display.Markdown object>"
      ]
     },
     "metadata": {},
     "output_type": "display_data"
    }
   ],
   "source": [
    "show_doc(DensityRepresenter.__call__)"
   ]
  },
  {
   "cell_type": "code",
   "execution_count": null,
   "id": "e364cf99",
   "metadata": {},
   "outputs": [],
   "source": [
    "#hide\n",
    "import matplotlib.pyplot as plt\n",
    "from dl4to.datasets import BasicDataset"
   ]
  },
  {
   "cell_type": "code",
   "execution_count": null,
   "id": "7eabb473",
   "metadata": {},
   "outputs": [
    {
     "name": "stdout",
     "output_type": "stream",
     "text": [
      "CPU times: user 8.15 ms, sys: 3.5 ms, total: 11.6 ms\n",
      "Wall time: 34.5 ms\n"
     ]
    }
   ],
   "source": [
    "%%time\n",
    "#hide\n",
    "\n",
    "def test_that_we_can_apply_binarizer(verbose=True):\n",
    "    problem = BasicDataset().ledge()\n",
    "    representer = DensityRepresenter(problem)\n",
    "\n",
    "    for strength in torch.linspace(1, 19, 7):\n",
    "        representer.binarizer_strength = strength\n",
    "\n",
    "        θ = torch.linspace(0, 1, steps=50)\n",
    "        binarized_θ = representer._apply_binarizer(θ)\n",
    "\n",
    "        assert torch.all(0 <= binarized_θ)\n",
    "        assert torch.all(binarized_θ <= 1)\n",
    "\n",
    "        assert binarized_θ[0] == 0\n",
    "        assert binarized_θ[-1] == 1\n",
    "\n",
    "        assert torch.all(binarized_θ[θ < .5] <= θ[θ < .5])\n",
    "        assert torch.all(binarized_θ[θ > .5] >= θ[θ > .5])\n",
    "\n",
    "        if verbose:\n",
    "            plt.plot(θ, binarized_θ, label=strength.item())\n",
    "\n",
    "    if verbose:\n",
    "        plt.legend()\n",
    "        plt.show()\n",
    "\n",
    "\n",
    "test_that_we_can_apply_binarizer(verbose=False)"
   ]
  },
  {
   "cell_type": "code",
   "execution_count": null,
   "id": "2db2b8bc",
   "metadata": {},
   "outputs": [],
   "source": []
  }
 ],
 "metadata": {
  "kernelspec": {
   "display_name": "Python 3 (ipykernel)",
   "language": "python",
   "name": "python3"
  }
 },
 "nbformat": 4,
 "nbformat_minor": 5
}
