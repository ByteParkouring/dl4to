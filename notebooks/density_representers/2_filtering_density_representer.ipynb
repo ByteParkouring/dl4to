{
 "cells": [
  {
   "cell_type": "code",
   "execution_count": null,
   "id": "7f49e5b6",
   "metadata": {},
   "outputs": [],
   "source": [
    "#default_exp density_representers"
   ]
  },
  {
   "cell_type": "markdown",
   "id": "6a26d86f",
   "metadata": {},
   "source": [
    "# Filtering density representer"
   ]
  },
  {
   "cell_type": "code",
   "execution_count": null,
   "id": "feca2106",
   "metadata": {},
   "outputs": [],
   "source": [
    "#exporti\n",
    "import torch\n",
    "\n",
    "from dl4to.density_representers import DensityRepresenter\n",
    "from dl4to.density_filters import UniformDensityFilter, RadialDensityFilter, MaxPoolDensityFilter\n",
    "import warnings"
   ]
  },
  {
   "cell_type": "code",
   "execution_count": null,
   "id": "8682ef48",
   "metadata": {},
   "outputs": [],
   "source": [
    "#export\n",
    "\n",
    "filter_fcts = ['radial', 'uniform', 'max_pool', None]\n",
    "\n",
    "class FilteringDensityRepresenter(DensityRepresenter):\n",
    "    \"\"\"\n",
    "    A density representer that applies filtering to its latent density distribution.\n",
    "    \"\"\"\n",
    "    def __init__(self, \n",
    "                 problem:\"dl4to.problem.Problem\"=None, # The problem object for which the density representer is used. The problem object is necessary to grant that boundary and design space constraints are fulfilled. However, the problem does not need to be passed during initializiaton but can also be passed later by overriding `density_representer.problem`.\n",
    "                 filter_size:int=3, # The size of the filter kernel.\n",
    "                 filter_fct:str='radial', # The type of filtering strategy that is used. Possible options are \"radial\", \"uniform\", \"max_pool\" and None.\n",
    "                 binarizer_strength:float=1., #  The steepness of the smoothed Heaviside-function. A binarizer strength of infinity would corresponds to a non-smooth classical Heaviside step function.\n",
    "                 θ_default:float=.5 # The weighting factor for the trivial solution density that is used as the initialization of the latent density distribution.\n",
    "                ):\n",
    "        super().__init__(\n",
    "            problem=problem,\n",
    "            binarizer_strength=binarizer_strength\n",
    "        )\n",
    "        self.filter_size = filter_size\n",
    "        self.filter_fct = filter_fct\n",
    "        assert self.filter_fct in filter_fcts\n",
    "        self.θ_default = θ_default\n",
    "\n",
    "\n",
    "    def _setup_filter(self):\n",
    "        if self.filter_fct == 'radial':\n",
    "            self.filter = RadialDensityFilter(filter_size=self.filter_size, dtype=self.problem.dtype)\n",
    "        elif self.filter_fct == 'uniform':\n",
    "            self.filter = UniformDensityFilter(filter_size=self.filter_size, dtype=self.problem.dtype)\n",
    "        elif self.filter_fct == 'max_pool':\n",
    "            self.filter = MaxPoolDensityFilter(filter_size=self.filter_size, dtype=self.problem.dtype)\n",
    "        else:\n",
    "            self.filter = lambda θ: θ\n",
    "\n",
    "\n",
    "    def _setup_for_problem(self):\n",
    "        θ = torch.ones(1, *self.problem.shape, dtype=self.problem.dtype) * self.θ_default\n",
    "        self.θ = torch.nn.Parameter(θ, requires_grad=True)\n",
    "        self._setup_filter()\n",
    "\n",
    "\n",
    "    def _apply_density_representer(self):\n",
    "        self.θ.data.clamp_(0, 1)\n",
    "\n",
    "        self.θ.data[self.problem.Ω_design == 0] = 0.\n",
    "        self.θ.data[self.problem.Ω_design == 1] = 1.\n",
    "\n",
    "        θ = self.filter(self.θ.unsqueeze(0)).squeeze(0)\n",
    "\n",
    "        if θ.max().item() > 1.1 or θ.min().item() < -0.1:\n",
    "            warnings.warn(\"Density value is too large or too small\")\n",
    "\n",
    "        return θ.clamp(0, 1)"
   ]
  },
  {
   "cell_type": "code",
   "execution_count": null,
   "id": "9172b27a",
   "metadata": {},
   "outputs": [],
   "source": [
    "#hide\n",
    "from dl4to.datasets import BasicDataset"
   ]
  },
  {
   "cell_type": "code",
   "execution_count": null,
   "id": "258006cc",
   "metadata": {},
   "outputs": [
    {
     "name": "stdout",
     "output_type": "stream",
     "text": [
      "CPU times: user 411 ms, sys: 0 ns, total: 411 ms\n",
      "Wall time: 85.5 ms\n"
     ]
    }
   ],
   "source": [
    "%%time\n",
    "#hide\n",
    "\n",
    "def test_shapes():\n",
    "    problem = BasicDataset().ledge()\n",
    "    representer = FilteringDensityRepresenter(filter_size=3, filter_fct='radial')\n",
    "    representer.problem = problem\n",
    "    θ = representer()\n",
    "    assert θ.shape == (1, *problem.shape)\n",
    "\n",
    "    representer = FilteringDensityRepresenter(filter_size=3, filter_fct='uniform')\n",
    "    representer.problem = problem\n",
    "    θ = representer()\n",
    "    assert θ.shape == (1, *problem.shape)\n",
    "\n",
    "    assert torch.all(0 <= θ)\n",
    "    assert torch.all(θ <= 1)\n",
    "\n",
    "\n",
    "test_shapes()"
   ]
  },
  {
   "cell_type": "code",
   "execution_count": null,
   "id": "387cc995-c4d2-4fb0-87ef-a76e2714639f",
   "metadata": {},
   "outputs": [],
   "source": []
  }
 ],
 "metadata": {
  "kernelspec": {
   "display_name": "Python 3 (ipykernel)",
   "language": "python",
   "name": "python3"
  }
 },
 "nbformat": 4,
 "nbformat_minor": 5
}
