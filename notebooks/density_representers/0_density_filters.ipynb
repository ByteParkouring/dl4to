{
 "cells": [
  {
   "cell_type": "code",
   "execution_count": null,
   "id": "b2f56df8",
   "metadata": {},
   "outputs": [],
   "source": [
    "#default_exp density_filters"
   ]
  },
  {
   "cell_type": "code",
   "execution_count": null,
   "id": "a5cc494b",
   "metadata": {},
   "outputs": [],
   "source": [
    "#exporti\n",
    "import torch\n",
    "import warnings\n",
    "import numpy as np\n",
    "from torch.nn import Conv3d, Module"
   ]
  },
  {
   "cell_type": "code",
   "execution_count": null,
   "id": "be869951-d723-4e08-9918-5830a281206e",
   "metadata": {},
   "outputs": [],
   "source": [
    "#hide\n",
    "from nbdev.showdoc import show_doc"
   ]
  },
  {
   "cell_type": "markdown",
   "id": "cf6cdfc2-f5c4-488a-8ea1-f742f40feb48",
   "metadata": {},
   "source": [
    "# Density filters"
   ]
  },
  {
   "cell_type": "code",
   "execution_count": null,
   "id": "6abdf09b",
   "metadata": {},
   "outputs": [],
   "source": [
    "#export\n",
    "class DensityFilter(Module):\n",
    "    \"\"\"\n",
    "    A parent class that inherits several different filters for smoothing.\n",
    "    \"\"\"\n",
    "    def __init__(self, \n",
    "                 filter_size:int, # The size of the filter.\n",
    "                 dtype:torch.dtype=torch.float32 # The datatype of the filter.\n",
    "                ):\n",
    "        self._filter_size = filter_size\n",
    "        self.dtype = dtype\n",
    "        super().__init__()\n",
    "\n",
    "\n",
    "    @property\n",
    "    def filter_size(self):\n",
    "        return self._filter_size\n",
    "\n",
    "\n",
    "    def _filtering(self, θ):\n",
    "        raise NotImplementedError(\"Must be overridden.\")\n",
    "\n",
    "\n",
    "    def __call__(self,\n",
    "                 θ:torch.Tensor # The input of the filter.\n",
    "                ):\n",
    "        \"\"\"\n",
    "        Apply the filtering to the input. Returns a `torch.Tensor`.\n",
    "        \"\"\"\n",
    "        θ = self._filtering(θ)\n",
    "        assert torch.all(0 <= θ)\n",
    "        assert torch.all(θ <= 1)\n",
    "        return θ"
   ]
  },
  {
   "cell_type": "code",
   "execution_count": null,
   "id": "05e98c05-88a9-474e-b03a-1a9ef9647300",
   "metadata": {},
   "outputs": [
    {
     "data": {
      "text/markdown": [
       "<h4 id=\"DensityFilter.__call__\" class=\"doc_header\"><code>DensityFilter.__call__</code><a href=\"__main__.py#L24\" class=\"source_link\" style=\"float:right\">[source]</a></h4>\n",
       "\n",
       "> <code>DensityFilter.__call__</code>(**`θ`**:`Tensor`)\n",
       "\n",
       "Apply the filtering to the input. Returns a `torch.Tensor`.\n",
       "\n",
       "||Type|Default|Details|\n",
       "|---|---|---|---|\n",
       "|**`θ`**|`Tensor`||The input of the filter.|\n"
      ],
      "text/plain": [
       "<IPython.core.display.Markdown object>"
      ]
     },
     "metadata": {},
     "output_type": "display_data"
    }
   ],
   "source": [
    "show_doc(DensityFilter.__call__)"
   ]
  },
  {
   "cell_type": "code",
   "execution_count": null,
   "id": "37d24ad8",
   "metadata": {},
   "outputs": [],
   "source": [
    "#export\n",
    "class MaxPoolDensityFilter(DensityFilter):\n",
    "    \"\"\"\n",
    "    A filter that applies max pooling.\n",
    "    \"\"\"\n",
    "    def __init__(self, \n",
    "                 filter_size:int, # The size of the filter.\n",
    "                 dtype:torch.dtype=torch.float32 # The datatype of the filter.\n",
    "                ):\n",
    "        super().__init__(filter_size, dtype)\n",
    "\n",
    "\n",
    "    def _filtering(self, θ):\n",
    "        θ = torch.nn.functional.max_pool3d(θ, kernel_size=self._filter_size, stride=1, padding=self._filter_size//2)\n",
    "\n",
    "        if self._filter_size % 2:\n",
    "            return θ\n",
    "\n",
    "        θ = torch.nn.functional.interpolate(θ, size=θ.shape[2:], mode='nearest')\n",
    "        return θ"
   ]
  },
  {
   "cell_type": "code",
   "execution_count": null,
   "id": "36ad944b",
   "metadata": {},
   "outputs": [],
   "source": [
    "#export\n",
    "class ConvolutionDensityFilter(DensityFilter):\n",
    "    \"\"\"\n",
    "    A parent class that inherits convolutional filters.\n",
    "    \"\"\"\n",
    "    def __init__(self, \n",
    "                 filter_size:int, # The size of the filter.\n",
    "                 dtype:torch.dtype=torch.float32 # The datatype of the filter.\n",
    "                ):\n",
    "        super().__init__(filter_size, dtype)\n",
    "        self.kernel = self._get_kernel()\n",
    "        self.conv = Conv3d(\n",
    "            in_channels=1,\n",
    "            out_channels=1,\n",
    "            kernel_size=3*[filter_size],\n",
    "            padding=int((filter_size-1)/2),\n",
    "            padding_mode='replicate',\n",
    "            bias=False,\n",
    "            dtype=dtype,\n",
    "        )\n",
    "        self.conv.weight.data = self.kernel.clone()\n",
    "        self.conv.requires_grad_(False)\n",
    "\n",
    "\n",
    "    def _normalize_kernel(self, kernel):\n",
    "        assert torch.all(0 <= kernel)\n",
    "        kernel = kernel / kernel.sum()\n",
    "        assert torch.all(kernel <= 1)\n",
    "        assert torch.all(kernel >= 0)\n",
    "        return kernel\n",
    "\n",
    "\n",
    "    def _get_kernel(self):\n",
    "        raise NotImplementedError(\"Must be overridden.\")\n",
    "\n",
    "\n",
    "    def _filtering(self, θ):\n",
    "        assert torch.all(self.conv.weight.data <= 1)\n",
    "        assert torch.all(self.conv.weight.data >= 0)\n",
    "        assert torch.allclose(self.conv.weight.data, self.kernel)\n",
    "        return self.conv(θ)"
   ]
  },
  {
   "cell_type": "code",
   "execution_count": null,
   "id": "6398bb15",
   "metadata": {},
   "outputs": [],
   "source": [
    "#export\n",
    "class UniformDensityFilter(ConvolutionDensityFilter):\n",
    "    \"\"\"\n",
    "    A class that performs convolution with a uniform filter, which is also refered to as mean pooling.\n",
    "    \"\"\"\n",
    "    def __init__(self, \n",
    "                 filter_size:int, # The size of the filter.\n",
    "                 dtype:torch.dtype=torch.float32 # The datatype of the filter.\n",
    "                ):\n",
    "        if not filter_size % 2:\n",
    "            filter_size += 1\n",
    "            warnings.warn(f\"filter_size must be an even number. Automatically setting filter_size to {filter_size}.\")\n",
    "\n",
    "        super().__init__(filter_size, dtype)\n",
    "\n",
    "\n",
    "    def _get_kernel(self):\n",
    "        kernel_ = torch.ones(self.filter_size, self.filter_size, dtype=self.dtype)\n",
    "        kernel = torch.stack(self.filter_size * [kernel_])\n",
    "        return self._normalize_kernel(kernel).unsqueeze(0).unsqueeze(0)"
   ]
  },
  {
   "cell_type": "code",
   "execution_count": null,
   "id": "21765a3b",
   "metadata": {},
   "outputs": [],
   "source": [
    "#export\n",
    "class RadialDensityFilter(ConvolutionDensityFilter):\n",
    "    \"\"\"\n",
    "    A class that performs convolution with a radial filter. A radial filter is a filter that has its maximal value in the center and decays radially to the outside. \n",
    "    All values of the filter sum up to one.\n",
    "    \"\"\"\n",
    "    def __init__(self, \n",
    "                 filter_size:int, # The size of the filter.\n",
    "                 dtype:torch.dtype=torch.float32 # The datatype of the filter.\n",
    "                ):\n",
    "        super().__init__(filter_size, dtype)\n",
    "\n",
    "\n",
    "    def _get_kernel(self):\n",
    "        filter_size = self.filter_size + 2\n",
    "        r = filter_size // 2\n",
    "        kernel = torch.zeros(3 * [filter_size], dtype=self.dtype)\n",
    "        center = torch.ones(3, dtype=self.dtype) * r\n",
    "\n",
    "        for i in range(filter_size):\n",
    "            for j in range(filter_size):\n",
    "                for k in range(filter_size):\n",
    "                    position = torch.tensor([i, j, k], dtype=self.dtype)\n",
    "                    dist = torch.norm(center - position, p=1)\n",
    "                    kernel[i,j,k] = torch.relu(r - dist)\n",
    "\n",
    "        kernel = kernel[1:-1, 1:-1, 1:-1]\n",
    "        return self._normalize_kernel(kernel).unsqueeze(0).unsqueeze(0)"
   ]
  },
  {
   "cell_type": "code",
   "execution_count": null,
   "id": "21d61756",
   "metadata": {},
   "outputs": [
    {
     "name": "stdout",
     "output_type": "stream",
     "text": [
      "CPU times: user 207 ms, sys: 12.4 ms, total: 220 ms\n",
      "Wall time: 41.2 ms\n"
     ]
    }
   ],
   "source": [
    "%%time\n",
    "#hide\n",
    "\n",
    "def test_uniform_density_filter():\n",
    "    for filter_size in [3, 5, 7, 9]:\n",
    "        density_filter = UniformDensityFilter(filter_size)\n",
    "        θ = torch.rand(1, 1, 10, 10, 10)\n",
    "        θ = density_filter(θ)\n",
    "\n",
    "        assert np.allclose(θ.shape, θ.shape)\n",
    "        assert density_filter.kernel.shape == (1, 1, filter_size, filter_size, filter_size)\n",
    "        assert torch.all(density_filter.kernel == density_filter.kernel[0,0,0,0,0])\n",
    "\n",
    "\n",
    "test_uniform_density_filter()"
   ]
  },
  {
   "cell_type": "code",
   "execution_count": null,
   "id": "6afaf729",
   "metadata": {},
   "outputs": [
    {
     "name": "stdout",
     "output_type": "stream",
     "text": [
      "CPU times: user 743 ms, sys: 0 ns, total: 743 ms\n",
      "Wall time: 141 ms\n"
     ]
    }
   ],
   "source": [
    "%%time\n",
    "#hide\n",
    "\n",
    "def test_radial_density_filter():\n",
    "    for filter_size in [3, 5, 7, 9]:\n",
    "        density_filter = RadialDensityFilter(filter_size)\n",
    "        θ = torch.rand(1, 1, 10, 10, 10)\n",
    "        θ = density_filter(θ)\n",
    "\n",
    "        assert np.allclose(θ.shape, θ.shape)\n",
    "        assert density_filter.kernel.shape == (1, 1, filter_size, filter_size, filter_size)\n",
    "        assert density_filter.kernel.argmax() == int(filter_size**3 / 2)\n",
    "\n",
    "\n",
    "test_radial_density_filter()"
   ]
  },
  {
   "cell_type": "code",
   "execution_count": null,
   "id": "3e0712dd",
   "metadata": {},
   "outputs": [
    {
     "name": "stdout",
     "output_type": "stream",
     "text": [
      "CPU times: user 8.76 ms, sys: 4.17 ms, total: 12.9 ms\n",
      "Wall time: 3.49 ms\n"
     ]
    }
   ],
   "source": [
    "%%time\n",
    "#hide\n",
    "\n",
    "def test_max_pool_density_filter():\n",
    "    for filter_size in [1, 2, 3, 4, 5]:\n",
    "        density_filter = MaxPoolDensityFilter(filter_size)\n",
    "        θ = torch.rand(1, 1, 10, 10, 10)\n",
    "        θ = density_filter(θ)\n",
    "\n",
    "        assert np.allclose(θ.shape, θ.shape), f\"{filter_size}, {θ.shape}\"\n",
    "\n",
    "\n",
    "test_max_pool_density_filter()"
   ]
  }
 ],
 "metadata": {
  "kernelspec": {
   "display_name": "Python 3 (ipykernel)",
   "language": "python",
   "name": "python3"
  }
 },
 "nbformat": 4,
 "nbformat_minor": 5
}
